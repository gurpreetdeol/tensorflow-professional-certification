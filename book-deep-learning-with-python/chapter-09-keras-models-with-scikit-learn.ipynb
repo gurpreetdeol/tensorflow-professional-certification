{
 "cells": [
  {
   "cell_type": "markdown",
   "source": [
    "# Keras Models with Scikit-Learn for General Machine Learning\n",
    "\n",
    "1. Evaluate Models with Cross-Validation\n",
    "2. Grid Search Deep Learning Model Parameters"
   ],
   "metadata": {
    "collapsed": false
   },
   "id": "944048feca9a290"
  },
  {
   "cell_type": "markdown",
   "source": [
    "### 1. Evaluate Models with Cross-Validation"
   ],
   "metadata": {
    "collapsed": false
   },
   "id": "1df12de10564c4bf"
  },
  {
   "cell_type": "code",
   "outputs": [],
   "source": [
    "# MLP for Pima Indians Diabetes Dataset with 10-fold cross validation via sklearn\n",
    "\n",
    "from keras.models import Sequential\n",
    "from keras.layers import Dense\n",
    "from scikeras.wrappers import KerasClassifier\n",
    "from sklearn.model_selection import StratifiedKFold\n",
    "from sklearn.model_selection import cross_val_score\n",
    "import numpy as np\n",
    "import warnings\n",
    "warnings.filterwarnings(\"ignore\")"
   ],
   "metadata": {
    "collapsed": false,
    "ExecuteTime": {
     "end_time": "2024-03-12T00:09:23.606855500Z",
     "start_time": "2024-03-12T00:09:23.565038500Z"
    }
   },
   "id": "56d31f71ed46d183",
   "execution_count": 2
  },
  {
   "cell_type": "code",
   "outputs": [],
   "source": [
    "# Function to create model, required for KerasClassifier\n",
    "def create_model():\n",
    "    # Create model\n",
    "    model = Sequential()\n",
    "    model.add(Dense(12, input_shape=(8, ), activation='relu'))\n",
    "    model.add(Dense(8, activation='relu'))\n",
    "    model.add(Dense(1, activation='sigmoid'))\n",
    "    # Compile model\n",
    "    model.compile(loss='binary_crossentropy', optimizer='adam', metrics=['accuracy'])\n",
    "    return model"
   ],
   "metadata": {
    "collapsed": false,
    "ExecuteTime": {
     "end_time": "2024-03-12T00:10:52.389967Z",
     "start_time": "2024-03-12T00:10:52.371694800Z"
    }
   },
   "id": "f75937c5517edbf0",
   "execution_count": 3
  },
  {
   "cell_type": "code",
   "outputs": [
    {
     "name": "stdout",
     "output_type": "stream",
     "text": [
      "0.7173957621326041\n"
     ]
    }
   ],
   "source": [
    "# Fix random seed for reproducibility\n",
    "seed = 7\n",
    "np.random.seed(seed)\n",
    "# Load Pima Indians Diabetes dataset\n",
    "dataset = np.loadtxt('pima-indians-diabetes.csv', delimiter=\",\")\n",
    "# Split dataset into inputs (X) and output (y) variables\n",
    "X = dataset[:,0:8]\n",
    "y=dataset[:,8]\n",
    "# Create model\n",
    "model = KerasClassifier(build_fn=create_model, epochs=150, batch_size=10, verbose=0)\n",
    "# Evaluate using 10-fold cross validation\n",
    "cv = StratifiedKFold(n_splits=10, shuffle=True, random_state=seed)\n",
    "results = cross_val_score(model, X, y, cv=cv)"
   ],
   "metadata": {
    "collapsed": false,
    "ExecuteTime": {
     "end_time": "2024-03-12T00:19:02.351117300Z",
     "start_time": "2024-03-12T00:16:44.035023200Z"
    }
   },
   "id": "7abcb75182dbe47d",
   "execution_count": 5
  },
  {
   "cell_type": "code",
   "outputs": [],
   "source": [
    "print(results.mean())"
   ],
   "metadata": {
    "collapsed": false
   },
   "id": "c4fdbc41224cc273"
  },
  {
   "cell_type": "code",
   "outputs": [],
   "source": [],
   "metadata": {
    "collapsed": false
   },
   "id": "8f10b57c9bd66f32"
  },
  {
   "cell_type": "markdown",
   "source": [
    "### 2. Grid Search Deep Learning Model Parameters\n",
    "\n",
    "- Optimizers for searching di↵erent weight values.\n",
    "- Initializers for preparing the network weights using di↵erent schemes.\n",
    "- Number of epochs for training the model for di↵erent number of exposures to the training\n",
    "dataset.\n",
    "- Batches for varying the number of samples before weight updates.\n",
    "\n",
    "\n",
    "The options are specified into a dictionary and passed to the configuration of the GridSearchCV\n",
    "scikit-learn class."
   ],
   "metadata": {
    "collapsed": false
   },
   "id": "57ff30ed8dad3aef"
  },
  {
   "cell_type": "code",
   "outputs": [],
   "source": [
    "# MLP for Pima Indians Diabetes Dataset with GridSearch via sklearn\n",
    "from keras.models import Sequential\n",
    "from keras.layers import Dense\n",
    "from scikeras.wrappers import KerasClassifier\n",
    "from sklearn.model_selection import GridSearchCV\n",
    "import numpy as np\n",
    "import warnings\n",
    "warnings.filterwarnings(\"ignore\")"
   ],
   "metadata": {
    "collapsed": false,
    "ExecuteTime": {
     "end_time": "2024-03-12T00:22:52.391646800Z",
     "start_time": "2024-03-12T00:22:52.373421100Z"
    }
   },
   "id": "f40cfa043f1b283d",
   "execution_count": 6
  },
  {
   "cell_type": "code",
   "outputs": [],
   "source": [
    "# Function to create model, required for KerasClassifier\n",
    "def create_model(optimizer='rmsprop', init='glorot_uniform'):\n",
    "    # Create model\n",
    "    model = Sequential()\n",
    "    model.add(Dense(12, input_shape=(8, ), activation='relu'))\n",
    "    model.add(Dense(8, activation='relu'))\n",
    "    model.add(Dense(1, activation='sigmoid'))\n",
    "    # Compile model\n",
    "    model.compile(loss='binary_crossentropy', optimizer=optimizer, metrics=['accuracy'])\n",
    "    return model"
   ],
   "metadata": {
    "collapsed": false,
    "ExecuteTime": {
     "end_time": "2024-03-12T01:12:36.226643400Z",
     "start_time": "2024-03-12T01:12:35.898632900Z"
    }
   },
   "id": "3e3010d6ddbc7e6f",
   "execution_count": 7
  },
  {
   "cell_type": "code",
   "outputs": [],
   "source": [
    "# Fix random seed for reproducibility\n",
    "seed = 7\n",
    "np.random.seed(seed)\n",
    "# Load pima indians dataset\n",
    "dataset = np.loadtxt('pima-indians-diabetes.csv', delimiter=\",\")\n",
    "# Split dataset into features (X) and labels (y) sets\n",
    "X = dataset[:,0:8]\n",
    "y = dataset[:,8]"
   ],
   "metadata": {
    "collapsed": false,
    "ExecuteTime": {
     "end_time": "2024-03-12T01:15:17.712939700Z",
     "start_time": "2024-03-12T01:15:16.169634200Z"
    }
   },
   "id": "93db7290b3069bc4",
   "execution_count": 8
  },
  {
   "cell_type": "code",
   "outputs": [],
   "source": [
    "# Create model\n",
    "model = KerasClassifier(build_fn=create_model, verbose=0)\n",
    "# Grid search epochs, batch size and optimizer\n",
    "optimizers = ['rmsprop', 'adam']\n",
    "epochs = [50, 100, 150]\n",
    "batches = [5, 10, 20]\n",
    "param_grid = dict(optimizer=optimizers, epochs=epochs, batch_size=batches)\n",
    "grid = GridSearchCV(estimator=model,param_grid=param_grid)\n",
    "grid_result = grid.fit(X, y)"
   ],
   "metadata": {
    "collapsed": false,
    "ExecuteTime": {
     "end_time": "2024-03-12T01:35:19.408914300Z",
     "start_time": "2024-03-12T01:19:05.076236400Z"
    }
   },
   "id": "fd80df39b289f494",
   "execution_count": 11
  },
  {
   "cell_type": "code",
   "outputs": [
    {
     "name": "stdout",
     "output_type": "stream",
     "text": [
      "Best: 0.7370172311348782 using {'batch_size': 10, 'epochs': 150, 'optimizer': 'rmsprop'}\n",
      "0.6822595704948646 (0.05200029772310815) with: {'batch_size': 5, 'epochs': 50, 'optimizer': 'rmsprop'}\n",
      "0.7162125456243104 (0.033996784401070824) with: {'batch_size': 5, 'epochs': 50, 'optimizer': 'adam'}\n",
      "0.7240811476105593 (0.04490834026550143) with: {'batch_size': 5, 'epochs': 100, 'optimizer': 'rmsprop'}\n",
      "0.7253034547152194 (0.0272651137374203) with: {'batch_size': 5, 'epochs': 100, 'optimizer': 'adam'}\n",
      "0.705704099821747 (0.047242673372194406) with: {'batch_size': 5, 'epochs': 150, 'optimizer': 'rmsprop'}\n",
      "0.7070791953144895 (0.029189358599682986) with: {'batch_size': 5, 'epochs': 150, 'optimizer': 'adam'}\n",
      "0.6602410661234192 (0.062461228515694134) with: {'batch_size': 10, 'epochs': 50, 'optimizer': 'rmsprop'}\n",
      "0.6861981156098802 (0.049999505552491504) with: {'batch_size': 10, 'epochs': 50, 'optimizer': 'adam'}\n",
      "0.7019438078261608 (0.04225194532285681) with: {'batch_size': 10, 'epochs': 100, 'optimizer': 'rmsprop'}\n",
      "0.6835158305746541 (0.04642428419032388) with: {'batch_size': 10, 'epochs': 100, 'optimizer': 'adam'}\n",
      "0.7370172311348782 (0.016167299254229512) with: {'batch_size': 10, 'epochs': 150, 'optimizer': 'rmsprop'}\n",
      "0.7096765979118921 (0.016545514186274812) with: {'batch_size': 10, 'epochs': 150, 'optimizer': 'adam'}\n",
      "0.6472625413801885 (0.08454319101330579) with: {'batch_size': 20, 'epochs': 50, 'optimizer': 'rmsprop'}\n",
      "0.6783210253798488 (0.03537125228850095) with: {'batch_size': 20, 'epochs': 50, 'optimizer': 'adam'}\n",
      "0.727900857312622 (0.020226282722954996) with: {'batch_size': 20, 'epochs': 100, 'optimizer': 'rmsprop'}\n",
      "0.6992190815720228 (0.01854299547552754) with: {'batch_size': 20, 'epochs': 100, 'optimizer': 'adam'}\n",
      "0.7083948731007554 (0.021124941810467673) with: {'batch_size': 20, 'epochs': 150, 'optimizer': 'rmsprop'}\n",
      "0.6886512180629827 (0.1017613097883038) with: {'batch_size': 20, 'epochs': 150, 'optimizer': 'adam'}\n"
     ]
    }
   ],
   "source": [
    "# Summarize results\n",
    "print(f\"Best: {grid_result.best_score_} using {grid_result.best_params_}\")\n",
    "means = grid_result.cv_results_['mean_test_score']\n",
    "stds = grid_result.cv_results_['std_test_score']\n",
    "params = grid_result.cv_results_['params']\n",
    "for mean, std, param in zip(means, stds, params):\n",
    "    print(f\"{mean} ({std}) with: {param}\")"
   ],
   "metadata": {
    "collapsed": false,
    "ExecuteTime": {
     "end_time": "2024-03-12T02:13:27.980504300Z",
     "start_time": "2024-03-12T02:13:27.947642900Z"
    }
   },
   "id": "b6d6dfd8bb8f2614",
   "execution_count": 13
  },
  {
   "cell_type": "code",
   "outputs": [],
   "source": [
    "# Best: 0.7370172311348782 using {'batch_size': 10, 'epochs': 150, 'optimizer': 'rmsprop'}"
   ],
   "metadata": {
    "collapsed": false,
    "ExecuteTime": {
     "end_time": "2024-03-12T02:22:02.841404500Z",
     "start_time": "2024-03-12T02:22:02.816904600Z"
    }
   },
   "id": "668a6f3b0776e326",
   "execution_count": 14
  },
  {
   "cell_type": "code",
   "outputs": [],
   "source": [],
   "metadata": {
    "collapsed": false
   },
   "id": "2e862c1509735cf9"
  },
  {
   "cell_type": "code",
   "outputs": [],
   "source": [],
   "metadata": {
    "collapsed": false
   },
   "id": "771bc2d925277a12"
  },
  {
   "cell_type": "code",
   "outputs": [],
   "source": [],
   "metadata": {
    "collapsed": false
   },
   "id": "24c6f595a485b0d8"
  },
  {
   "cell_type": "code",
   "outputs": [],
   "source": [],
   "metadata": {
    "collapsed": false
   },
   "id": "503d53fb90a348aa"
  }
 ],
 "metadata": {
  "kernelspec": {
   "display_name": "Python 3",
   "language": "python",
   "name": "python3"
  },
  "language_info": {
   "codemirror_mode": {
    "name": "ipython",
    "version": 2
   },
   "file_extension": ".py",
   "mimetype": "text/x-python",
   "name": "python",
   "nbconvert_exporter": "python",
   "pygments_lexer": "ipython2",
   "version": "2.7.6"
  }
 },
 "nbformat": 4,
 "nbformat_minor": 5
}
