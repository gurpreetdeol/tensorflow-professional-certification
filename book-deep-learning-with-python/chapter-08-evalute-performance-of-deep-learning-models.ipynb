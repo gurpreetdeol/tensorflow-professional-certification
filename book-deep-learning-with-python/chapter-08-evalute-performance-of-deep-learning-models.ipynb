{
 "cells": [
  {
   "cell_type": "markdown",
   "source": [
    "# Evaluate the Performance of Deep Learning Models\n",
    "\n",
    "1. Data Splitting.\n",
    "2. Define Model.\n",
    "3. Compile Model.\n",
    "4. Use an automatic verification dataset.\n",
    "5. Fit Model.\n",
    "6. Evaluate Model.\n",
    "7. Use a manual verification dataset.\n",
    "8. Fit Model.\n",
    "9. Evaluate Model.\n",
    "10. Manual `k`-Fold Cross-Validation.\n",
    "11. Define Model.\n",
    "12. Compile Model.\n",
    "13. Fit Model.\n",
    "14. Evaluate Model."
   ],
   "metadata": {
    "collapsed": false
   },
   "id": "bfe02ea2325de5a0"
  },
  {
   "cell_type": "markdown",
   "source": [
    "## Pima Indians Onset of Diabetes Dataset\n",
    "\n",
    "**Features:**\n",
    "\n",
    "- Number of times pregnant\n",
    "- Plasma glucose concentration an 2 hours in an oral glucose tolerance test.\n",
    "- Diastolic blood pressure (mm Hg).\n",
    "- Triceps skin fold thickness (mm).\n",
    "- 2-Hour serum insulin (mu U/ml).\n",
    "- Body mass index.\n",
    "- Diabetes pedigree function.\n",
    "- Age (years).\n",
    "- Class, onset of diabetes within five years."
   ],
   "metadata": {
    "collapsed": false
   },
   "id": "766736d8fbb7a782"
  },
  {
   "cell_type": "markdown",
   "source": [
    "#### 1. Load Model"
   ],
   "metadata": {
    "collapsed": false
   },
   "id": "4558527f1ac29783"
  },
  {
   "cell_type": "code",
   "outputs": [],
   "source": [
    "from keras.models import Sequential\n",
    "from keras.layers import Dense\n",
    "import numpy as np\n",
    "import warnings\n",
    "warnings.filterwarnings(\"ignore\")\n",
    "\n",
    "# Fix random seed for reproducibility\n",
    "seed=7\n",
    "np.random.seed(seed)"
   ],
   "metadata": {
    "collapsed": false,
    "ExecuteTime": {
     "end_time": "2024-03-11T23:52:08.945080600Z",
     "start_time": "2024-03-11T23:52:08.919087800Z"
    }
   },
   "id": "d64c445c2f2da204",
   "execution_count": 20
  },
  {
   "cell_type": "code",
   "outputs": [],
   "source": [
    "# Load pima indians dataset\n",
    "dataset = np.loadtxt('pima-indians-diabetes.csv', delimiter=\",\")"
   ],
   "metadata": {
    "collapsed": false,
    "ExecuteTime": {
     "end_time": "2024-03-11T22:54:20.365205500Z",
     "start_time": "2024-03-11T22:54:20.350205700Z"
    }
   },
   "id": "c912e80912174c35",
   "execution_count": 2
  },
  {
   "cell_type": "code",
   "outputs": [
    {
     "data": {
      "text/plain": "array([[  6.   , 148.   ,  72.   , ...,   0.627,  50.   ,   1.   ],\n       [  1.   ,  85.   ,  66.   , ...,   0.351,  31.   ,   0.   ],\n       [  8.   , 183.   ,  64.   , ...,   0.672,  32.   ,   1.   ],\n       ...,\n       [  5.   , 121.   ,  72.   , ...,   0.245,  30.   ,   0.   ],\n       [  1.   , 126.   ,  60.   , ...,   0.349,  47.   ,   1.   ],\n       [  1.   ,  93.   ,  70.   , ...,   0.315,  23.   ,   0.   ]])"
     },
     "execution_count": 3,
     "metadata": {},
     "output_type": "execute_result"
    }
   ],
   "source": [
    "dataset"
   ],
   "metadata": {
    "collapsed": false,
    "ExecuteTime": {
     "end_time": "2024-03-11T22:54:20.400213Z",
     "start_time": "2024-03-11T22:54:20.366215200Z"
    }
   },
   "id": "b4e09521d15dc1c0",
   "execution_count": 3
  },
  {
   "cell_type": "code",
   "outputs": [],
   "source": [
    "# Split into input (X) and output (y) variables\n",
    "X = dataset[:, 0:8]\n",
    "y=dataset[:,8]"
   ],
   "metadata": {
    "collapsed": false,
    "ExecuteTime": {
     "end_time": "2024-03-11T22:54:20.401206900Z",
     "start_time": "2024-03-11T22:54:20.380203200Z"
    }
   },
   "id": "73838dd1e3573ac5",
   "execution_count": 4
  },
  {
   "cell_type": "markdown",
   "source": [
    "#### 2. Define Model"
   ],
   "metadata": {
    "collapsed": false
   },
   "id": "38d342da9aa9bed3"
  },
  {
   "cell_type": "code",
   "outputs": [],
   "source": [
    "# Create Model\n",
    "model = Sequential()\n",
    "model.add(Dense(12, input_shape=(8,), activation='relu'))\n",
    "model.add(Dense(8, activation='relu'))\n",
    "model.add(Dense(1, activation='sigmoid'))"
   ],
   "metadata": {
    "collapsed": false,
    "ExecuteTime": {
     "end_time": "2024-03-11T22:54:20.600204600Z",
     "start_time": "2024-03-11T22:54:20.401206900Z"
    }
   },
   "id": "a3c4da5917e176b7",
   "execution_count": 5
  },
  {
   "cell_type": "markdown",
   "source": [
    "### 3. Compile Model"
   ],
   "metadata": {
    "collapsed": false
   },
   "id": "11711bf087792d99"
  },
  {
   "cell_type": "code",
   "outputs": [],
   "source": [
    "# Compile Model\n",
    "model.compile(loss='binary_crossentropy', optimizer='adam', metrics=['accuracy'])"
   ],
   "metadata": {
    "collapsed": false,
    "ExecuteTime": {
     "end_time": "2024-03-11T22:54:20.643201500Z",
     "start_time": "2024-03-11T22:54:20.602227900Z"
    }
   },
   "id": "172c9fcbb86f21c3",
   "execution_count": 6
  },
  {
   "cell_type": "markdown",
   "source": [
    "## Use an Automatic  Verification dataset"
   ],
   "metadata": {
    "collapsed": false
   },
   "id": "c182ac637a0ef37c"
  },
  {
   "cell_type": "markdown",
   "source": [
    "### 4. Fit Model & Validation Splitting while fitting the model"
   ],
   "metadata": {
    "collapsed": false
   },
   "id": "76f9426e77a12596"
  },
  {
   "cell_type": "code",
   "outputs": [
    {
     "name": "stdout",
     "output_type": "stream",
     "text": [
      "Epoch 1/150\n",
      "52/52 [==============================] - 1s 6ms/step - loss: 1.8728 - accuracy: 0.5058 - val_loss: 1.2147 - val_accuracy: 0.6181\n",
      "Epoch 2/150\n",
      "52/52 [==============================] - 0s 3ms/step - loss: 1.1779 - accuracy: 0.5370 - val_loss: 1.0047 - val_accuracy: 0.6102\n",
      "Epoch 3/150\n",
      "52/52 [==============================] - 0s 3ms/step - loss: 0.9786 - accuracy: 0.5798 - val_loss: 0.8864 - val_accuracy: 0.6535\n",
      "Epoch 4/150\n",
      "52/52 [==============================] - 0s 3ms/step - loss: 0.8361 - accuracy: 0.6128 - val_loss: 0.7466 - val_accuracy: 0.6811\n",
      "Epoch 5/150\n",
      "52/52 [==============================] - 0s 3ms/step - loss: 0.7542 - accuracy: 0.6420 - val_loss: 0.6942 - val_accuracy: 0.6969\n",
      "Epoch 6/150\n",
      "52/52 [==============================] - 0s 3ms/step - loss: 0.7127 - accuracy: 0.6440 - val_loss: 0.6736 - val_accuracy: 0.6654\n",
      "Epoch 7/150\n",
      "52/52 [==============================] - 0s 3ms/step - loss: 0.6712 - accuracy: 0.6459 - val_loss: 0.6499 - val_accuracy: 0.6811\n",
      "Epoch 8/150\n",
      "52/52 [==============================] - 0s 4ms/step - loss: 0.6471 - accuracy: 0.6654 - val_loss: 0.6460 - val_accuracy: 0.6732\n",
      "Epoch 9/150\n",
      "52/52 [==============================] - 0s 4ms/step - loss: 0.6375 - accuracy: 0.6693 - val_loss: 0.6271 - val_accuracy: 0.6850\n",
      "Epoch 10/150\n",
      "52/52 [==============================] - 0s 4ms/step - loss: 0.6492 - accuracy: 0.6673 - val_loss: 0.6214 - val_accuracy: 0.6850\n",
      "Epoch 11/150\n",
      "52/52 [==============================] - 0s 3ms/step - loss: 0.6433 - accuracy: 0.6654 - val_loss: 0.6188 - val_accuracy: 0.6850\n",
      "Epoch 12/150\n",
      "52/52 [==============================] - 0s 3ms/step - loss: 0.6351 - accuracy: 0.6712 - val_loss: 0.6160 - val_accuracy: 0.6850\n",
      "Epoch 13/150\n",
      "52/52 [==============================] - 0s 3ms/step - loss: 0.6292 - accuracy: 0.6712 - val_loss: 0.6227 - val_accuracy: 0.6850\n",
      "Epoch 14/150\n",
      "52/52 [==============================] - 0s 3ms/step - loss: 0.6296 - accuracy: 0.6732 - val_loss: 0.6124 - val_accuracy: 0.6969\n",
      "Epoch 15/150\n",
      "52/52 [==============================] - 0s 3ms/step - loss: 0.6287 - accuracy: 0.6712 - val_loss: 0.6196 - val_accuracy: 0.6772\n",
      "Epoch 16/150\n",
      "52/52 [==============================] - 0s 3ms/step - loss: 0.6234 - accuracy: 0.6751 - val_loss: 0.6088 - val_accuracy: 0.6890\n",
      "Epoch 17/150\n",
      "52/52 [==============================] - 0s 4ms/step - loss: 0.6209 - accuracy: 0.6732 - val_loss: 0.6200 - val_accuracy: 0.6772\n",
      "Epoch 18/150\n",
      "52/52 [==============================] - 0s 3ms/step - loss: 0.6312 - accuracy: 0.6809 - val_loss: 0.6322 - val_accuracy: 0.6614\n",
      "Epoch 19/150\n",
      "52/52 [==============================] - 0s 3ms/step - loss: 0.6209 - accuracy: 0.6829 - val_loss: 0.6091 - val_accuracy: 0.6772\n",
      "Epoch 20/150\n",
      "52/52 [==============================] - 0s 4ms/step - loss: 0.6167 - accuracy: 0.6673 - val_loss: 0.6109 - val_accuracy: 0.6811\n",
      "Epoch 21/150\n",
      "52/52 [==============================] - 0s 3ms/step - loss: 0.6156 - accuracy: 0.6790 - val_loss: 0.5968 - val_accuracy: 0.7087\n",
      "Epoch 22/150\n",
      "52/52 [==============================] - 0s 3ms/step - loss: 0.6181 - accuracy: 0.6595 - val_loss: 0.5960 - val_accuracy: 0.7087\n",
      "Epoch 23/150\n",
      "52/52 [==============================] - 0s 3ms/step - loss: 0.6114 - accuracy: 0.6615 - val_loss: 0.6043 - val_accuracy: 0.6850\n",
      "Epoch 24/150\n",
      "52/52 [==============================] - 0s 3ms/step - loss: 0.6094 - accuracy: 0.6770 - val_loss: 0.6230 - val_accuracy: 0.6575\n",
      "Epoch 25/150\n",
      "52/52 [==============================] - 0s 3ms/step - loss: 0.6174 - accuracy: 0.6634 - val_loss: 0.5950 - val_accuracy: 0.6929\n",
      "Epoch 26/150\n",
      "52/52 [==============================] - 0s 3ms/step - loss: 0.6123 - accuracy: 0.6751 - val_loss: 0.5924 - val_accuracy: 0.6969\n",
      "Epoch 27/150\n",
      "52/52 [==============================] - 0s 3ms/step - loss: 0.6170 - accuracy: 0.6576 - val_loss: 0.5958 - val_accuracy: 0.6850\n",
      "Epoch 28/150\n",
      "52/52 [==============================] - 0s 3ms/step - loss: 0.6097 - accuracy: 0.6868 - val_loss: 0.5942 - val_accuracy: 0.6772\n",
      "Epoch 29/150\n",
      "52/52 [==============================] - 0s 3ms/step - loss: 0.6094 - accuracy: 0.6732 - val_loss: 0.6130 - val_accuracy: 0.6654\n",
      "Epoch 30/150\n",
      "52/52 [==============================] - 0s 3ms/step - loss: 0.6117 - accuracy: 0.6751 - val_loss: 0.5889 - val_accuracy: 0.7008\n",
      "Epoch 31/150\n",
      "52/52 [==============================] - 0s 3ms/step - loss: 0.6063 - accuracy: 0.6809 - val_loss: 0.5874 - val_accuracy: 0.6929\n",
      "Epoch 32/150\n",
      "52/52 [==============================] - 0s 3ms/step - loss: 0.6069 - accuracy: 0.6829 - val_loss: 0.5915 - val_accuracy: 0.6969\n",
      "Epoch 33/150\n",
      "52/52 [==============================] - 0s 3ms/step - loss: 0.6070 - accuracy: 0.6829 - val_loss: 0.5872 - val_accuracy: 0.6929\n",
      "Epoch 34/150\n",
      "52/52 [==============================] - 0s 3ms/step - loss: 0.6057 - accuracy: 0.6790 - val_loss: 0.5890 - val_accuracy: 0.6929\n",
      "Epoch 35/150\n",
      "52/52 [==============================] - 0s 3ms/step - loss: 0.6005 - accuracy: 0.6790 - val_loss: 0.5894 - val_accuracy: 0.6772\n",
      "Epoch 36/150\n",
      "52/52 [==============================] - 0s 3ms/step - loss: 0.6065 - accuracy: 0.6809 - val_loss: 0.5898 - val_accuracy: 0.6850\n",
      "Epoch 37/150\n",
      "52/52 [==============================] - 0s 3ms/step - loss: 0.6116 - accuracy: 0.6809 - val_loss: 0.5998 - val_accuracy: 0.6654\n",
      "Epoch 38/150\n",
      "52/52 [==============================] - 0s 3ms/step - loss: 0.6027 - accuracy: 0.6809 - val_loss: 0.5942 - val_accuracy: 0.6772\n",
      "Epoch 39/150\n",
      "52/52 [==============================] - 0s 4ms/step - loss: 0.6032 - accuracy: 0.6732 - val_loss: 0.5845 - val_accuracy: 0.6850\n",
      "Epoch 40/150\n",
      "52/52 [==============================] - 0s 3ms/step - loss: 0.6000 - accuracy: 0.6868 - val_loss: 0.5946 - val_accuracy: 0.6890\n",
      "Epoch 41/150\n",
      "52/52 [==============================] - 0s 3ms/step - loss: 0.6036 - accuracy: 0.6887 - val_loss: 0.5910 - val_accuracy: 0.6890\n",
      "Epoch 42/150\n",
      "52/52 [==============================] - 0s 3ms/step - loss: 0.6029 - accuracy: 0.6907 - val_loss: 0.5897 - val_accuracy: 0.6811\n",
      "Epoch 43/150\n",
      "52/52 [==============================] - 0s 3ms/step - loss: 0.5966 - accuracy: 0.6790 - val_loss: 0.6161 - val_accuracy: 0.6693\n",
      "Epoch 44/150\n",
      "52/52 [==============================] - 0s 3ms/step - loss: 0.6085 - accuracy: 0.6732 - val_loss: 0.5920 - val_accuracy: 0.6890\n",
      "Epoch 45/150\n",
      "52/52 [==============================] - 0s 3ms/step - loss: 0.5999 - accuracy: 0.6848 - val_loss: 0.6132 - val_accuracy: 0.6535\n",
      "Epoch 46/150\n",
      "52/52 [==============================] - 0s 3ms/step - loss: 0.5942 - accuracy: 0.6868 - val_loss: 0.5812 - val_accuracy: 0.6929\n",
      "Epoch 47/150\n",
      "52/52 [==============================] - 0s 3ms/step - loss: 0.5987 - accuracy: 0.6829 - val_loss: 0.5932 - val_accuracy: 0.6772\n",
      "Epoch 48/150\n",
      "52/52 [==============================] - 0s 3ms/step - loss: 0.5957 - accuracy: 0.6848 - val_loss: 0.6002 - val_accuracy: 0.6693\n",
      "Epoch 49/150\n",
      "52/52 [==============================] - 0s 3ms/step - loss: 0.5924 - accuracy: 0.6887 - val_loss: 0.5901 - val_accuracy: 0.6929\n",
      "Epoch 50/150\n",
      "52/52 [==============================] - 0s 6ms/step - loss: 0.6015 - accuracy: 0.6848 - val_loss: 0.5850 - val_accuracy: 0.6969\n",
      "Epoch 51/150\n",
      "52/52 [==============================] - 0s 3ms/step - loss: 0.5971 - accuracy: 0.6907 - val_loss: 0.5784 - val_accuracy: 0.6969\n",
      "Epoch 52/150\n",
      "52/52 [==============================] - 0s 3ms/step - loss: 0.5957 - accuracy: 0.6887 - val_loss: 0.5836 - val_accuracy: 0.6811\n",
      "Epoch 53/150\n",
      "52/52 [==============================] - 0s 3ms/step - loss: 0.5924 - accuracy: 0.6887 - val_loss: 0.5923 - val_accuracy: 0.6811\n",
      "Epoch 54/150\n",
      "52/52 [==============================] - 0s 3ms/step - loss: 0.5970 - accuracy: 0.6887 - val_loss: 0.5795 - val_accuracy: 0.6890\n",
      "Epoch 55/150\n",
      "52/52 [==============================] - 0s 3ms/step - loss: 0.5943 - accuracy: 0.6829 - val_loss: 0.5744 - val_accuracy: 0.6929\n",
      "Epoch 56/150\n",
      "52/52 [==============================] - 0s 3ms/step - loss: 0.5937 - accuracy: 0.6829 - val_loss: 0.5935 - val_accuracy: 0.6732\n",
      "Epoch 57/150\n",
      "52/52 [==============================] - 0s 3ms/step - loss: 0.5917 - accuracy: 0.6926 - val_loss: 0.6074 - val_accuracy: 0.6693\n",
      "Epoch 58/150\n",
      "52/52 [==============================] - 0s 3ms/step - loss: 0.5955 - accuracy: 0.6926 - val_loss: 0.5797 - val_accuracy: 0.6890\n",
      "Epoch 59/150\n",
      "52/52 [==============================] - 0s 3ms/step - loss: 0.5926 - accuracy: 0.6868 - val_loss: 0.5775 - val_accuracy: 0.7008\n",
      "Epoch 60/150\n",
      "52/52 [==============================] - 0s 3ms/step - loss: 0.5963 - accuracy: 0.6907 - val_loss: 0.5762 - val_accuracy: 0.6929\n",
      "Epoch 61/150\n",
      "52/52 [==============================] - 0s 3ms/step - loss: 0.5900 - accuracy: 0.7004 - val_loss: 0.5937 - val_accuracy: 0.6890\n",
      "Epoch 62/150\n",
      "52/52 [==============================] - 0s 3ms/step - loss: 0.5901 - accuracy: 0.6848 - val_loss: 0.6028 - val_accuracy: 0.6811\n",
      "Epoch 63/150\n",
      "52/52 [==============================] - 0s 3ms/step - loss: 0.5949 - accuracy: 0.6887 - val_loss: 0.5834 - val_accuracy: 0.7008\n",
      "Epoch 64/150\n",
      "52/52 [==============================] - 0s 3ms/step - loss: 0.5879 - accuracy: 0.6868 - val_loss: 0.5777 - val_accuracy: 0.7087\n",
      "Epoch 65/150\n",
      "52/52 [==============================] - 0s 4ms/step - loss: 0.5929 - accuracy: 0.6868 - val_loss: 0.5805 - val_accuracy: 0.6969\n",
      "Epoch 66/150\n",
      "52/52 [==============================] - 0s 3ms/step - loss: 0.5963 - accuracy: 0.6848 - val_loss: 0.5860 - val_accuracy: 0.6929\n",
      "Epoch 67/150\n",
      "52/52 [==============================] - 0s 3ms/step - loss: 0.5969 - accuracy: 0.6868 - val_loss: 0.5776 - val_accuracy: 0.7087\n",
      "Epoch 68/150\n",
      "52/52 [==============================] - 0s 3ms/step - loss: 0.5981 - accuracy: 0.6887 - val_loss: 0.5903 - val_accuracy: 0.6969\n",
      "Epoch 69/150\n",
      "52/52 [==============================] - 0s 3ms/step - loss: 0.5998 - accuracy: 0.6965 - val_loss: 0.5850 - val_accuracy: 0.6850\n",
      "Epoch 70/150\n",
      "52/52 [==============================] - 0s 3ms/step - loss: 0.5891 - accuracy: 0.7023 - val_loss: 0.6088 - val_accuracy: 0.6693\n",
      "Epoch 71/150\n",
      "52/52 [==============================] - 0s 3ms/step - loss: 0.5879 - accuracy: 0.6946 - val_loss: 0.6042 - val_accuracy: 0.6772\n",
      "Epoch 72/150\n",
      "52/52 [==============================] - 0s 3ms/step - loss: 0.5976 - accuracy: 0.6829 - val_loss: 0.5787 - val_accuracy: 0.6929\n",
      "Epoch 73/150\n",
      "52/52 [==============================] - 0s 3ms/step - loss: 0.5971 - accuracy: 0.6965 - val_loss: 0.6078 - val_accuracy: 0.6693\n",
      "Epoch 74/150\n",
      "52/52 [==============================] - 0s 3ms/step - loss: 0.5911 - accuracy: 0.6946 - val_loss: 0.5697 - val_accuracy: 0.6969\n",
      "Epoch 75/150\n",
      "52/52 [==============================] - 0s 3ms/step - loss: 0.5894 - accuracy: 0.6848 - val_loss: 0.5957 - val_accuracy: 0.6890\n",
      "Epoch 76/150\n",
      "52/52 [==============================] - 0s 3ms/step - loss: 0.5911 - accuracy: 0.6926 - val_loss: 0.5728 - val_accuracy: 0.6969\n",
      "Epoch 77/150\n",
      "52/52 [==============================] - 0s 3ms/step - loss: 0.5996 - accuracy: 0.6907 - val_loss: 0.5890 - val_accuracy: 0.6850\n",
      "Epoch 78/150\n",
      "52/52 [==============================] - 0s 3ms/step - loss: 0.5891 - accuracy: 0.7062 - val_loss: 0.6132 - val_accuracy: 0.6575\n",
      "Epoch 79/150\n",
      "52/52 [==============================] - 0s 3ms/step - loss: 0.5868 - accuracy: 0.7043 - val_loss: 0.5711 - val_accuracy: 0.6969\n",
      "Epoch 80/150\n",
      "52/52 [==============================] - 0s 3ms/step - loss: 0.5890 - accuracy: 0.7043 - val_loss: 0.5788 - val_accuracy: 0.6929\n",
      "Epoch 81/150\n",
      "52/52 [==============================] - 0s 3ms/step - loss: 0.5902 - accuracy: 0.6926 - val_loss: 0.5836 - val_accuracy: 0.7008\n",
      "Epoch 82/150\n",
      "52/52 [==============================] - 0s 4ms/step - loss: 0.5928 - accuracy: 0.6946 - val_loss: 0.5736 - val_accuracy: 0.7008\n",
      "Epoch 83/150\n",
      "52/52 [==============================] - 0s 4ms/step - loss: 0.5902 - accuracy: 0.6984 - val_loss: 0.5797 - val_accuracy: 0.7008\n",
      "Epoch 84/150\n",
      "52/52 [==============================] - 0s 3ms/step - loss: 0.5927 - accuracy: 0.7043 - val_loss: 0.5812 - val_accuracy: 0.6890\n",
      "Epoch 85/150\n",
      "52/52 [==============================] - 0s 3ms/step - loss: 0.5856 - accuracy: 0.6984 - val_loss: 0.5840 - val_accuracy: 0.6969\n",
      "Epoch 86/150\n",
      "52/52 [==============================] - 0s 4ms/step - loss: 0.5884 - accuracy: 0.6946 - val_loss: 0.5697 - val_accuracy: 0.7047\n",
      "Epoch 87/150\n",
      "52/52 [==============================] - 0s 3ms/step - loss: 0.5886 - accuracy: 0.6946 - val_loss: 0.5814 - val_accuracy: 0.6890\n",
      "Epoch 88/150\n",
      "52/52 [==============================] - 0s 4ms/step - loss: 0.5807 - accuracy: 0.7004 - val_loss: 0.6234 - val_accuracy: 0.6575\n",
      "Epoch 89/150\n",
      "52/52 [==============================] - 0s 4ms/step - loss: 0.6011 - accuracy: 0.6829 - val_loss: 0.5716 - val_accuracy: 0.6969\n",
      "Epoch 90/150\n",
      "52/52 [==============================] - 0s 3ms/step - loss: 0.5888 - accuracy: 0.6926 - val_loss: 0.6211 - val_accuracy: 0.6614\n",
      "Epoch 91/150\n",
      "52/52 [==============================] - 0s 3ms/step - loss: 0.5918 - accuracy: 0.6907 - val_loss: 0.6052 - val_accuracy: 0.6693\n",
      "Epoch 92/150\n",
      "52/52 [==============================] - 0s 3ms/step - loss: 0.5980 - accuracy: 0.6868 - val_loss: 0.5705 - val_accuracy: 0.6929\n",
      "Epoch 93/150\n",
      "52/52 [==============================] - 0s 3ms/step - loss: 0.5897 - accuracy: 0.6868 - val_loss: 0.5754 - val_accuracy: 0.6929\n",
      "Epoch 94/150\n",
      "52/52 [==============================] - 0s 3ms/step - loss: 0.5874 - accuracy: 0.6946 - val_loss: 0.5878 - val_accuracy: 0.6850\n",
      "Epoch 95/150\n",
      "52/52 [==============================] - 0s 3ms/step - loss: 0.5870 - accuracy: 0.6965 - val_loss: 0.5919 - val_accuracy: 0.6929\n",
      "Epoch 96/150\n",
      "52/52 [==============================] - 0s 3ms/step - loss: 0.5892 - accuracy: 0.6965 - val_loss: 0.5869 - val_accuracy: 0.6850\n",
      "Epoch 97/150\n",
      "52/52 [==============================] - 0s 3ms/step - loss: 0.5878 - accuracy: 0.6984 - val_loss: 0.5772 - val_accuracy: 0.6929\n",
      "Epoch 98/150\n",
      "52/52 [==============================] - 0s 3ms/step - loss: 0.5886 - accuracy: 0.6965 - val_loss: 0.6035 - val_accuracy: 0.6772\n",
      "Epoch 99/150\n",
      "52/52 [==============================] - 0s 3ms/step - loss: 0.5859 - accuracy: 0.6887 - val_loss: 0.5725 - val_accuracy: 0.7047\n",
      "Epoch 100/150\n",
      "52/52 [==============================] - 0s 3ms/step - loss: 0.5872 - accuracy: 0.6907 - val_loss: 0.5754 - val_accuracy: 0.6969\n",
      "Epoch 101/150\n",
      "52/52 [==============================] - 0s 3ms/step - loss: 0.5898 - accuracy: 0.6907 - val_loss: 0.5775 - val_accuracy: 0.6929\n",
      "Epoch 102/150\n",
      "52/52 [==============================] - 0s 3ms/step - loss: 0.5855 - accuracy: 0.6868 - val_loss: 0.5855 - val_accuracy: 0.7087\n",
      "Epoch 103/150\n",
      "52/52 [==============================] - 0s 3ms/step - loss: 0.6001 - accuracy: 0.6829 - val_loss: 0.5945 - val_accuracy: 0.6772\n",
      "Epoch 104/150\n",
      "52/52 [==============================] - 0s 3ms/step - loss: 0.5885 - accuracy: 0.6984 - val_loss: 0.5679 - val_accuracy: 0.6969\n",
      "Epoch 105/150\n",
      "52/52 [==============================] - 0s 3ms/step - loss: 0.5956 - accuracy: 0.6887 - val_loss: 0.5866 - val_accuracy: 0.6969\n",
      "Epoch 106/150\n",
      "52/52 [==============================] - 0s 3ms/step - loss: 0.5879 - accuracy: 0.7004 - val_loss: 0.5816 - val_accuracy: 0.6890\n",
      "Epoch 107/150\n",
      "52/52 [==============================] - 0s 3ms/step - loss: 0.5856 - accuracy: 0.6926 - val_loss: 0.5785 - val_accuracy: 0.6929\n",
      "Epoch 108/150\n",
      "52/52 [==============================] - 0s 3ms/step - loss: 0.5890 - accuracy: 0.7023 - val_loss: 0.5788 - val_accuracy: 0.7087\n",
      "Epoch 109/150\n",
      "52/52 [==============================] - 0s 3ms/step - loss: 0.5883 - accuracy: 0.6848 - val_loss: 0.5761 - val_accuracy: 0.6929\n",
      "Epoch 110/150\n",
      "52/52 [==============================] - 0s 4ms/step - loss: 0.5870 - accuracy: 0.7043 - val_loss: 0.5730 - val_accuracy: 0.6969\n",
      "Epoch 111/150\n",
      "52/52 [==============================] - 0s 3ms/step - loss: 0.5837 - accuracy: 0.7023 - val_loss: 0.5843 - val_accuracy: 0.6850\n",
      "Epoch 112/150\n",
      "52/52 [==============================] - 0s 3ms/step - loss: 0.5890 - accuracy: 0.7023 - val_loss: 0.6157 - val_accuracy: 0.6535\n",
      "Epoch 113/150\n",
      "52/52 [==============================] - 0s 3ms/step - loss: 0.5808 - accuracy: 0.7023 - val_loss: 0.5699 - val_accuracy: 0.7008\n",
      "Epoch 114/150\n",
      "52/52 [==============================] - 0s 3ms/step - loss: 0.5896 - accuracy: 0.6887 - val_loss: 0.5843 - val_accuracy: 0.6929\n",
      "Epoch 115/150\n",
      "52/52 [==============================] - 0s 3ms/step - loss: 0.5899 - accuracy: 0.6907 - val_loss: 0.5747 - val_accuracy: 0.7008\n",
      "Epoch 116/150\n",
      "52/52 [==============================] - 0s 4ms/step - loss: 0.5903 - accuracy: 0.6907 - val_loss: 0.6088 - val_accuracy: 0.6732\n",
      "Epoch 117/150\n",
      "52/52 [==============================] - 0s 3ms/step - loss: 0.5895 - accuracy: 0.6926 - val_loss: 0.5727 - val_accuracy: 0.6969\n",
      "Epoch 118/150\n",
      "52/52 [==============================] - 0s 3ms/step - loss: 0.5872 - accuracy: 0.6848 - val_loss: 0.5843 - val_accuracy: 0.6929\n",
      "Epoch 119/150\n",
      "52/52 [==============================] - 0s 3ms/step - loss: 0.5831 - accuracy: 0.6984 - val_loss: 0.5695 - val_accuracy: 0.7008\n",
      "Epoch 120/150\n",
      "52/52 [==============================] - 0s 3ms/step - loss: 0.5767 - accuracy: 0.6984 - val_loss: 0.5630 - val_accuracy: 0.7047\n",
      "Epoch 121/150\n",
      "52/52 [==============================] - 0s 3ms/step - loss: 0.5784 - accuracy: 0.6868 - val_loss: 0.5649 - val_accuracy: 0.7008\n",
      "Epoch 122/150\n",
      "52/52 [==============================] - 0s 4ms/step - loss: 0.5756 - accuracy: 0.6926 - val_loss: 0.5667 - val_accuracy: 0.7008\n",
      "Epoch 123/150\n",
      "52/52 [==============================] - 0s 3ms/step - loss: 0.5757 - accuracy: 0.6946 - val_loss: 0.5745 - val_accuracy: 0.6929\n",
      "Epoch 124/150\n",
      "52/52 [==============================] - 0s 3ms/step - loss: 0.5764 - accuracy: 0.7004 - val_loss: 0.5715 - val_accuracy: 0.6929\n",
      "Epoch 125/150\n",
      "52/52 [==============================] - 0s 4ms/step - loss: 0.5824 - accuracy: 0.6907 - val_loss: 0.5766 - val_accuracy: 0.6969\n",
      "Epoch 126/150\n",
      "52/52 [==============================] - 0s 3ms/step - loss: 0.5782 - accuracy: 0.6946 - val_loss: 0.5736 - val_accuracy: 0.7047\n",
      "Epoch 127/150\n",
      "52/52 [==============================] - 0s 3ms/step - loss: 0.5806 - accuracy: 0.6946 - val_loss: 0.5594 - val_accuracy: 0.7047\n",
      "Epoch 128/150\n",
      "52/52 [==============================] - 0s 4ms/step - loss: 0.5788 - accuracy: 0.6907 - val_loss: 0.5702 - val_accuracy: 0.7008\n",
      "Epoch 129/150\n",
      "52/52 [==============================] - 0s 3ms/step - loss: 0.5799 - accuracy: 0.6984 - val_loss: 0.5696 - val_accuracy: 0.6969\n",
      "Epoch 130/150\n",
      "52/52 [==============================] - 0s 3ms/step - loss: 0.5745 - accuracy: 0.7023 - val_loss: 0.5597 - val_accuracy: 0.7008\n",
      "Epoch 131/150\n",
      "52/52 [==============================] - 0s 4ms/step - loss: 0.5745 - accuracy: 0.7004 - val_loss: 0.5768 - val_accuracy: 0.6929\n",
      "Epoch 132/150\n",
      "52/52 [==============================] - 0s 3ms/step - loss: 0.5788 - accuracy: 0.6868 - val_loss: 0.5569 - val_accuracy: 0.7087\n",
      "Epoch 133/150\n",
      "52/52 [==============================] - 0s 3ms/step - loss: 0.5807 - accuracy: 0.6868 - val_loss: 0.5808 - val_accuracy: 0.6772\n",
      "Epoch 134/150\n",
      "52/52 [==============================] - 0s 3ms/step - loss: 0.5795 - accuracy: 0.6984 - val_loss: 0.5603 - val_accuracy: 0.7047\n",
      "Epoch 135/150\n",
      "52/52 [==============================] - 0s 3ms/step - loss: 0.5794 - accuracy: 0.6887 - val_loss: 0.5711 - val_accuracy: 0.6890\n",
      "Epoch 136/150\n",
      "52/52 [==============================] - 0s 4ms/step - loss: 0.5887 - accuracy: 0.6926 - val_loss: 0.5573 - val_accuracy: 0.7047\n",
      "Epoch 137/150\n",
      "52/52 [==============================] - 0s 4ms/step - loss: 0.5854 - accuracy: 0.6868 - val_loss: 0.5628 - val_accuracy: 0.7047\n",
      "Epoch 138/150\n",
      "52/52 [==============================] - 0s 3ms/step - loss: 0.5785 - accuracy: 0.6887 - val_loss: 0.5591 - val_accuracy: 0.6969\n",
      "Epoch 139/150\n",
      "52/52 [==============================] - 0s 4ms/step - loss: 0.5754 - accuracy: 0.6887 - val_loss: 0.5646 - val_accuracy: 0.7047\n",
      "Epoch 140/150\n",
      "52/52 [==============================] - 0s 3ms/step - loss: 0.5755 - accuracy: 0.6946 - val_loss: 0.5608 - val_accuracy: 0.7008\n",
      "Epoch 141/150\n",
      "52/52 [==============================] - 0s 4ms/step - loss: 0.5740 - accuracy: 0.6907 - val_loss: 0.6123 - val_accuracy: 0.6535\n",
      "Epoch 142/150\n",
      "52/52 [==============================] - 0s 3ms/step - loss: 0.5763 - accuracy: 0.6868 - val_loss: 0.5620 - val_accuracy: 0.6969\n",
      "Epoch 143/150\n",
      "52/52 [==============================] - 0s 3ms/step - loss: 0.5714 - accuracy: 0.7023 - val_loss: 0.5655 - val_accuracy: 0.6929\n",
      "Epoch 144/150\n",
      "52/52 [==============================] - 0s 4ms/step - loss: 0.5765 - accuracy: 0.6887 - val_loss: 0.5603 - val_accuracy: 0.6969\n",
      "Epoch 145/150\n",
      "52/52 [==============================] - 0s 3ms/step - loss: 0.5767 - accuracy: 0.6984 - val_loss: 0.5702 - val_accuracy: 0.7047\n",
      "Epoch 146/150\n",
      "52/52 [==============================] - 0s 3ms/step - loss: 0.5721 - accuracy: 0.7004 - val_loss: 0.6239 - val_accuracy: 0.6417\n",
      "Epoch 147/150\n",
      "52/52 [==============================] - 0s 4ms/step - loss: 0.5819 - accuracy: 0.6907 - val_loss: 0.5600 - val_accuracy: 0.7008\n",
      "Epoch 148/150\n",
      "52/52 [==============================] - 0s 3ms/step - loss: 0.5733 - accuracy: 0.7004 - val_loss: 0.5711 - val_accuracy: 0.6969\n",
      "Epoch 149/150\n",
      "52/52 [==============================] - 0s 3ms/step - loss: 0.5752 - accuracy: 0.6926 - val_loss: 0.5575 - val_accuracy: 0.6929\n",
      "Epoch 150/150\n",
      "52/52 [==============================] - 0s 3ms/step - loss: 0.5705 - accuracy: 0.6965 - val_loss: 0.5741 - val_accuracy: 0.6811\n"
     ]
    },
    {
     "data": {
      "text/plain": "<keras.src.callbacks.History at 0x23dd37da730>"
     },
     "execution_count": 7,
     "metadata": {},
     "output_type": "execute_result"
    }
   ],
   "source": [
    "# Fit the Model\n",
    "model.fit(X, y, validation_split=0.33, epochs=150, batch_size=10)"
   ],
   "metadata": {
    "collapsed": false,
    "ExecuteTime": {
     "end_time": "2024-03-11T22:55:14.869872700Z",
     "start_time": "2024-03-11T22:54:48.294201800Z"
    }
   },
   "id": "4c29c42e74ccca4c",
   "execution_count": 7
  },
  {
   "cell_type": "markdown",
   "source": [
    "### 5. Evaluate Mode"
   ],
   "metadata": {
    "collapsed": false
   },
   "id": "f3ad89307cb360e8"
  },
  {
   "cell_type": "code",
   "outputs": [
    {
     "name": "stdout",
     "output_type": "stream",
     "text": [
      "24/24 [==============================] - 0s 2ms/step - loss: 0.5725 - accuracy: 0.6940\n",
      "Accuracy: 69.40\n"
     ]
    }
   ],
   "source": [
    "# Evaluate the Model\n",
    "scores = model.evaluate(X, y)\n",
    "print(f\"{str(model.metrics_names[1]).capitalize()}: {scores[1]*100:.2f}\")"
   ],
   "metadata": {
    "collapsed": false,
    "ExecuteTime": {
     "end_time": "2024-03-11T22:55:24.264103800Z",
     "start_time": "2024-03-11T22:55:24.124079500Z"
    }
   },
   "id": "fe195c215620edac",
   "execution_count": 8
  },
  {
   "cell_type": "code",
   "outputs": [],
   "source": [],
   "metadata": {
    "collapsed": false
   },
   "id": "7e84eb841315f254"
  },
  {
   "cell_type": "markdown",
   "source": [
    "## Use a manual verification dataset"
   ],
   "metadata": {
    "collapsed": false
   },
   "id": "d15071450c057885"
  },
  {
   "cell_type": "code",
   "outputs": [],
   "source": [
    "from sklearn.model_selection import train_test_split\n",
    "X_train, X_test, y_train, y_test = train_test_split(X, y, test_size=0.33, random_state=seed)"
   ],
   "metadata": {
    "collapsed": false,
    "ExecuteTime": {
     "end_time": "2024-03-11T22:57:56.353960Z",
     "start_time": "2024-03-11T22:57:56.330962400Z"
    }
   },
   "id": "167c557b55105e1e",
   "execution_count": 10
  },
  {
   "cell_type": "markdown",
   "source": [
    "#### 2. Define Model"
   ],
   "metadata": {
    "collapsed": false
   },
   "id": "6e7dc864e0025bf5"
  },
  {
   "cell_type": "code",
   "outputs": [],
   "source": [
    "# Create Model\n",
    "model = Sequential()\n",
    "model.add(Dense(12, input_shape=(8,), activation='relu'))\n",
    "model.add(Dense(8, activation='relu'))\n",
    "model.add(Dense(1, activation='sigmoid'))"
   ],
   "metadata": {
    "collapsed": false,
    "ExecuteTime": {
     "end_time": "2024-03-11T22:58:38.450300900Z",
     "start_time": "2024-03-11T22:58:38.389935900Z"
    }
   },
   "id": "3e6f66261e317959",
   "execution_count": 11
  },
  {
   "cell_type": "markdown",
   "source": [
    "### 3. Compile Model"
   ],
   "metadata": {
    "collapsed": false
   },
   "id": "978bd2a9f41b63d4"
  },
  {
   "cell_type": "code",
   "outputs": [],
   "source": [
    "# Compile Model\n",
    "model.compile(loss='binary_crossentropy', optimizer='adam', metrics=['accuracy'])"
   ],
   "metadata": {
    "collapsed": false,
    "ExecuteTime": {
     "end_time": "2024-03-11T22:58:42.395555Z",
     "start_time": "2024-03-11T22:58:42.361533Z"
    }
   },
   "id": "4c516a40dce044fb",
   "execution_count": 12
  },
  {
   "cell_type": "markdown",
   "source": [
    "### 4. Fit Model & Validation Splitting while fitting the model"
   ],
   "metadata": {
    "collapsed": false
   },
   "id": "aa7acc8c0f389d14"
  },
  {
   "cell_type": "code",
   "outputs": [
    {
     "name": "stdout",
     "output_type": "stream",
     "text": [
      "Epoch 1/150\n",
      "52/52 [==============================] - 1s 5ms/step - loss: 8.8528 - accuracy: 0.5195 - val_loss: 4.5735 - val_accuracy: 0.4370\n",
      "Epoch 2/150\n",
      "52/52 [==============================] - 0s 3ms/step - loss: 2.6002 - accuracy: 0.5117 - val_loss: 1.9791 - val_accuracy: 0.5512\n",
      "Epoch 3/150\n",
      "52/52 [==============================] - 0s 6ms/step - loss: 1.5298 - accuracy: 0.5856 - val_loss: 1.5617 - val_accuracy: 0.5512\n",
      "Epoch 4/150\n",
      "52/52 [==============================] - 0s 3ms/step - loss: 1.4003 - accuracy: 0.5992 - val_loss: 1.5301 - val_accuracy: 0.6063\n",
      "Epoch 5/150\n",
      "52/52 [==============================] - 0s 3ms/step - loss: 1.2957 - accuracy: 0.5798 - val_loss: 1.3798 - val_accuracy: 0.6299\n",
      "Epoch 6/150\n",
      "52/52 [==============================] - 0s 3ms/step - loss: 1.1879 - accuracy: 0.6187 - val_loss: 1.0726 - val_accuracy: 0.6260\n",
      "Epoch 7/150\n",
      "52/52 [==============================] - 0s 3ms/step - loss: 0.9806 - accuracy: 0.6479 - val_loss: 1.0260 - val_accuracy: 0.6181\n",
      "Epoch 8/150\n",
      "52/52 [==============================] - 0s 3ms/step - loss: 0.9480 - accuracy: 0.6459 - val_loss: 1.0200 - val_accuracy: 0.5591\n",
      "Epoch 9/150\n",
      "52/52 [==============================] - 0s 3ms/step - loss: 0.9040 - accuracy: 0.6751 - val_loss: 0.9872 - val_accuracy: 0.6339\n",
      "Epoch 10/150\n",
      "52/52 [==============================] - 0s 3ms/step - loss: 0.8545 - accuracy: 0.6498 - val_loss: 1.0157 - val_accuracy: 0.5669\n",
      "Epoch 11/150\n",
      "52/52 [==============================] - 0s 3ms/step - loss: 0.8560 - accuracy: 0.6498 - val_loss: 1.0421 - val_accuracy: 0.6575\n",
      "Epoch 12/150\n",
      "52/52 [==============================] - 0s 3ms/step - loss: 0.8252 - accuracy: 0.6479 - val_loss: 0.8728 - val_accuracy: 0.6378\n",
      "Epoch 13/150\n",
      "52/52 [==============================] - 0s 3ms/step - loss: 0.8185 - accuracy: 0.6732 - val_loss: 1.0378 - val_accuracy: 0.6614\n",
      "Epoch 14/150\n",
      "52/52 [==============================] - 0s 3ms/step - loss: 0.8588 - accuracy: 0.6537 - val_loss: 0.9048 - val_accuracy: 0.6299\n",
      "Epoch 15/150\n",
      "52/52 [==============================] - 0s 3ms/step - loss: 0.7522 - accuracy: 0.6673 - val_loss: 0.9312 - val_accuracy: 0.6575\n",
      "Epoch 16/150\n",
      "52/52 [==============================] - 0s 3ms/step - loss: 0.7492 - accuracy: 0.6654 - val_loss: 0.8603 - val_accuracy: 0.6457\n",
      "Epoch 17/150\n",
      "52/52 [==============================] - 0s 3ms/step - loss: 0.7419 - accuracy: 0.6790 - val_loss: 0.8451 - val_accuracy: 0.6496\n",
      "Epoch 18/150\n",
      "52/52 [==============================] - 0s 3ms/step - loss: 0.6842 - accuracy: 0.7082 - val_loss: 0.8320 - val_accuracy: 0.6339\n",
      "Epoch 19/150\n",
      "52/52 [==============================] - 0s 3ms/step - loss: 0.7046 - accuracy: 0.6829 - val_loss: 0.8637 - val_accuracy: 0.5945\n",
      "Epoch 20/150\n",
      "52/52 [==============================] - 0s 3ms/step - loss: 0.6935 - accuracy: 0.6868 - val_loss: 0.8566 - val_accuracy: 0.6457\n",
      "Epoch 21/150\n",
      "52/52 [==============================] - 0s 3ms/step - loss: 0.7482 - accuracy: 0.6848 - val_loss: 0.7921 - val_accuracy: 0.6260\n",
      "Epoch 22/150\n",
      "52/52 [==============================] - 0s 4ms/step - loss: 0.6598 - accuracy: 0.7121 - val_loss: 0.7957 - val_accuracy: 0.6417\n",
      "Epoch 23/150\n",
      "52/52 [==============================] - 0s 4ms/step - loss: 0.6853 - accuracy: 0.6984 - val_loss: 0.9756 - val_accuracy: 0.6220\n",
      "Epoch 24/150\n",
      "52/52 [==============================] - 0s 3ms/step - loss: 0.7325 - accuracy: 0.7101 - val_loss: 0.8320 - val_accuracy: 0.5984\n",
      "Epoch 25/150\n",
      "52/52 [==============================] - 0s 3ms/step - loss: 0.6593 - accuracy: 0.6946 - val_loss: 0.7791 - val_accuracy: 0.6535\n",
      "Epoch 26/150\n",
      "52/52 [==============================] - 0s 5ms/step - loss: 0.6560 - accuracy: 0.7354 - val_loss: 0.7737 - val_accuracy: 0.6339\n",
      "Epoch 27/150\n",
      "52/52 [==============================] - 0s 4ms/step - loss: 0.6688 - accuracy: 0.6770 - val_loss: 0.8505 - val_accuracy: 0.6417\n",
      "Epoch 28/150\n",
      "52/52 [==============================] - 0s 3ms/step - loss: 0.6602 - accuracy: 0.6926 - val_loss: 0.7236 - val_accuracy: 0.6890\n",
      "Epoch 29/150\n",
      "52/52 [==============================] - 0s 3ms/step - loss: 0.6443 - accuracy: 0.6965 - val_loss: 0.7511 - val_accuracy: 0.6496\n",
      "Epoch 30/150\n",
      "52/52 [==============================] - 0s 3ms/step - loss: 0.6969 - accuracy: 0.7121 - val_loss: 0.7246 - val_accuracy: 0.6535\n",
      "Epoch 31/150\n",
      "52/52 [==============================] - 0s 3ms/step - loss: 0.6398 - accuracy: 0.7023 - val_loss: 0.7178 - val_accuracy: 0.6614\n",
      "Epoch 32/150\n",
      "52/52 [==============================] - 0s 3ms/step - loss: 0.6156 - accuracy: 0.7296 - val_loss: 0.7496 - val_accuracy: 0.6457\n",
      "Epoch 33/150\n",
      "52/52 [==============================] - 0s 3ms/step - loss: 0.6326 - accuracy: 0.7023 - val_loss: 0.7181 - val_accuracy: 0.6732\n",
      "Epoch 34/150\n",
      "52/52 [==============================] - 0s 3ms/step - loss: 0.6766 - accuracy: 0.7140 - val_loss: 0.7071 - val_accuracy: 0.6732\n",
      "Epoch 35/150\n",
      "52/52 [==============================] - 0s 3ms/step - loss: 0.6169 - accuracy: 0.7004 - val_loss: 0.7511 - val_accuracy: 0.6732\n",
      "Epoch 36/150\n",
      "52/52 [==============================] - 0s 3ms/step - loss: 0.6168 - accuracy: 0.7023 - val_loss: 0.9261 - val_accuracy: 0.6496\n",
      "Epoch 37/150\n",
      "52/52 [==============================] - 0s 3ms/step - loss: 0.6928 - accuracy: 0.6984 - val_loss: 0.7061 - val_accuracy: 0.6693\n",
      "Epoch 38/150\n",
      "52/52 [==============================] - 0s 4ms/step - loss: 0.6320 - accuracy: 0.7043 - val_loss: 0.7391 - val_accuracy: 0.6850\n",
      "Epoch 39/150\n",
      "52/52 [==============================] - 0s 3ms/step - loss: 0.6200 - accuracy: 0.7257 - val_loss: 0.6846 - val_accuracy: 0.6890\n",
      "Epoch 40/150\n",
      "52/52 [==============================] - 0s 3ms/step - loss: 0.6229 - accuracy: 0.6907 - val_loss: 0.6867 - val_accuracy: 0.6614\n",
      "Epoch 41/150\n",
      "52/52 [==============================] - 0s 4ms/step - loss: 0.6030 - accuracy: 0.7179 - val_loss: 0.7162 - val_accuracy: 0.6654\n",
      "Epoch 42/150\n",
      "52/52 [==============================] - 0s 3ms/step - loss: 0.5879 - accuracy: 0.7257 - val_loss: 0.7241 - val_accuracy: 0.6811\n",
      "Epoch 43/150\n",
      "52/52 [==============================] - 0s 3ms/step - loss: 0.6160 - accuracy: 0.7043 - val_loss: 0.6868 - val_accuracy: 0.6693\n",
      "Epoch 44/150\n",
      "52/52 [==============================] - 0s 4ms/step - loss: 0.5698 - accuracy: 0.7393 - val_loss: 0.6737 - val_accuracy: 0.6811\n",
      "Epoch 45/150\n",
      "52/52 [==============================] - 0s 3ms/step - loss: 0.6187 - accuracy: 0.7237 - val_loss: 0.6782 - val_accuracy: 0.6850\n",
      "Epoch 46/150\n",
      "52/52 [==============================] - 0s 4ms/step - loss: 0.6026 - accuracy: 0.6984 - val_loss: 0.6846 - val_accuracy: 0.6732\n",
      "Epoch 47/150\n",
      "52/52 [==============================] - 0s 3ms/step - loss: 0.5717 - accuracy: 0.7237 - val_loss: 0.6936 - val_accuracy: 0.6535\n",
      "Epoch 48/150\n",
      "52/52 [==============================] - 0s 4ms/step - loss: 0.5849 - accuracy: 0.7237 - val_loss: 0.6775 - val_accuracy: 0.6811\n",
      "Epoch 49/150\n",
      "52/52 [==============================] - 0s 4ms/step - loss: 0.5629 - accuracy: 0.7276 - val_loss: 0.7112 - val_accuracy: 0.6732\n",
      "Epoch 50/150\n",
      "52/52 [==============================] - 0s 4ms/step - loss: 0.5766 - accuracy: 0.7218 - val_loss: 0.6623 - val_accuracy: 0.6772\n",
      "Epoch 51/150\n",
      "52/52 [==============================] - 0s 3ms/step - loss: 0.5706 - accuracy: 0.7374 - val_loss: 0.6609 - val_accuracy: 0.6890\n",
      "Epoch 52/150\n",
      "52/52 [==============================] - 0s 4ms/step - loss: 0.5926 - accuracy: 0.7179 - val_loss: 0.7109 - val_accuracy: 0.6811\n",
      "Epoch 53/150\n",
      "52/52 [==============================] - 0s 4ms/step - loss: 0.5618 - accuracy: 0.7335 - val_loss: 0.6766 - val_accuracy: 0.6890\n",
      "Epoch 54/150\n",
      "52/52 [==============================] - 0s 4ms/step - loss: 0.5684 - accuracy: 0.7549 - val_loss: 0.7248 - val_accuracy: 0.6339\n",
      "Epoch 55/150\n",
      "52/52 [==============================] - 0s 4ms/step - loss: 0.5735 - accuracy: 0.7354 - val_loss: 0.6578 - val_accuracy: 0.6732\n",
      "Epoch 56/150\n",
      "52/52 [==============================] - 0s 3ms/step - loss: 0.5550 - accuracy: 0.7490 - val_loss: 0.6577 - val_accuracy: 0.6969\n",
      "Epoch 57/150\n",
      "52/52 [==============================] - 0s 4ms/step - loss: 0.6134 - accuracy: 0.7198 - val_loss: 0.6590 - val_accuracy: 0.6969\n",
      "Epoch 58/150\n",
      "52/52 [==============================] - 0s 4ms/step - loss: 0.6017 - accuracy: 0.7335 - val_loss: 0.6900 - val_accuracy: 0.6614\n",
      "Epoch 59/150\n",
      "52/52 [==============================] - 0s 3ms/step - loss: 0.5512 - accuracy: 0.7237 - val_loss: 0.6493 - val_accuracy: 0.6654\n",
      "Epoch 60/150\n",
      "52/52 [==============================] - 0s 4ms/step - loss: 0.5423 - accuracy: 0.7568 - val_loss: 0.6717 - val_accuracy: 0.6732\n",
      "Epoch 61/150\n",
      "52/52 [==============================] - 0s 3ms/step - loss: 0.5734 - accuracy: 0.7198 - val_loss: 0.6636 - val_accuracy: 0.6811\n",
      "Epoch 62/150\n",
      "52/52 [==============================] - 0s 3ms/step - loss: 0.5601 - accuracy: 0.7412 - val_loss: 0.6658 - val_accuracy: 0.6811\n",
      "Epoch 63/150\n",
      "52/52 [==============================] - 0s 3ms/step - loss: 0.5931 - accuracy: 0.7198 - val_loss: 0.8736 - val_accuracy: 0.6575\n",
      "Epoch 64/150\n",
      "52/52 [==============================] - 0s 4ms/step - loss: 0.6043 - accuracy: 0.7121 - val_loss: 0.7436 - val_accuracy: 0.6654\n",
      "Epoch 65/150\n",
      "52/52 [==============================] - 0s 3ms/step - loss: 0.5612 - accuracy: 0.7549 - val_loss: 0.6817 - val_accuracy: 0.6890\n",
      "Epoch 66/150\n",
      "52/52 [==============================] - 0s 4ms/step - loss: 0.5601 - accuracy: 0.7354 - val_loss: 0.6848 - val_accuracy: 0.6811\n",
      "Epoch 67/150\n",
      "52/52 [==============================] - 0s 3ms/step - loss: 0.5667 - accuracy: 0.7607 - val_loss: 0.6453 - val_accuracy: 0.6693\n",
      "Epoch 68/150\n",
      "52/52 [==============================] - 0s 4ms/step - loss: 0.5257 - accuracy: 0.7451 - val_loss: 0.6369 - val_accuracy: 0.6772\n",
      "Epoch 69/150\n",
      "52/52 [==============================] - 0s 4ms/step - loss: 0.5492 - accuracy: 0.7451 - val_loss: 0.6461 - val_accuracy: 0.6890\n",
      "Epoch 70/150\n",
      "52/52 [==============================] - 0s 4ms/step - loss: 0.5776 - accuracy: 0.7335 - val_loss: 0.6469 - val_accuracy: 0.7047\n",
      "Epoch 71/150\n",
      "52/52 [==============================] - 0s 3ms/step - loss: 0.5419 - accuracy: 0.7354 - val_loss: 0.6427 - val_accuracy: 0.6890\n",
      "Epoch 72/150\n",
      "52/52 [==============================] - 0s 4ms/step - loss: 0.5594 - accuracy: 0.7335 - val_loss: 0.6639 - val_accuracy: 0.6417\n",
      "Epoch 73/150\n",
      "52/52 [==============================] - 0s 3ms/step - loss: 0.5661 - accuracy: 0.7257 - val_loss: 0.6377 - val_accuracy: 0.6890\n",
      "Epoch 74/150\n",
      "52/52 [==============================] - 0s 3ms/step - loss: 0.5646 - accuracy: 0.7374 - val_loss: 0.6889 - val_accuracy: 0.6732\n",
      "Epoch 75/150\n",
      "52/52 [==============================] - 0s 4ms/step - loss: 0.5259 - accuracy: 0.7568 - val_loss: 0.6440 - val_accuracy: 0.6614\n",
      "Epoch 76/150\n",
      "52/52 [==============================] - 0s 4ms/step - loss: 0.5382 - accuracy: 0.7471 - val_loss: 0.6357 - val_accuracy: 0.7087\n",
      "Epoch 77/150\n",
      "52/52 [==============================] - 0s 3ms/step - loss: 0.5851 - accuracy: 0.7198 - val_loss: 0.6943 - val_accuracy: 0.6772\n",
      "Epoch 78/150\n",
      "52/52 [==============================] - 0s 3ms/step - loss: 0.5239 - accuracy: 0.7471 - val_loss: 0.6891 - val_accuracy: 0.6811\n",
      "Epoch 79/150\n",
      "52/52 [==============================] - 0s 4ms/step - loss: 0.5459 - accuracy: 0.7315 - val_loss: 0.6956 - val_accuracy: 0.6929\n",
      "Epoch 80/150\n",
      "52/52 [==============================] - 0s 4ms/step - loss: 0.5393 - accuracy: 0.7276 - val_loss: 0.6969 - val_accuracy: 0.6614\n",
      "Epoch 81/150\n",
      "52/52 [==============================] - 0s 4ms/step - loss: 0.5948 - accuracy: 0.7082 - val_loss: 0.6304 - val_accuracy: 0.6969\n",
      "Epoch 82/150\n",
      "52/52 [==============================] - 0s 3ms/step - loss: 0.5663 - accuracy: 0.7257 - val_loss: 0.7907 - val_accuracy: 0.5984\n",
      "Epoch 83/150\n",
      "52/52 [==============================] - 0s 4ms/step - loss: 0.5422 - accuracy: 0.7335 - val_loss: 0.6324 - val_accuracy: 0.6772\n",
      "Epoch 84/150\n",
      "52/52 [==============================] - 0s 4ms/step - loss: 0.5414 - accuracy: 0.7354 - val_loss: 0.6548 - val_accuracy: 0.6890\n",
      "Epoch 85/150\n",
      "52/52 [==============================] - 0s 3ms/step - loss: 0.5353 - accuracy: 0.7626 - val_loss: 0.7566 - val_accuracy: 0.6732\n",
      "Epoch 86/150\n",
      "52/52 [==============================] - 0s 4ms/step - loss: 0.5320 - accuracy: 0.7471 - val_loss: 0.6585 - val_accuracy: 0.6969\n",
      "Epoch 87/150\n",
      "52/52 [==============================] - 0s 4ms/step - loss: 0.5383 - accuracy: 0.7198 - val_loss: 0.6300 - val_accuracy: 0.6969\n",
      "Epoch 88/150\n",
      "52/52 [==============================] - 0s 4ms/step - loss: 0.5267 - accuracy: 0.7393 - val_loss: 0.6232 - val_accuracy: 0.6850\n",
      "Epoch 89/150\n",
      "52/52 [==============================] - 0s 3ms/step - loss: 0.5380 - accuracy: 0.7296 - val_loss: 0.6445 - val_accuracy: 0.6811\n",
      "Epoch 90/150\n",
      "52/52 [==============================] - 0s 3ms/step - loss: 0.5362 - accuracy: 0.7451 - val_loss: 0.6305 - val_accuracy: 0.7165\n",
      "Epoch 91/150\n",
      "52/52 [==============================] - 0s 3ms/step - loss: 0.5288 - accuracy: 0.7432 - val_loss: 0.6848 - val_accuracy: 0.7008\n",
      "Epoch 92/150\n",
      "52/52 [==============================] - 0s 3ms/step - loss: 0.5604 - accuracy: 0.7374 - val_loss: 0.6236 - val_accuracy: 0.7087\n",
      "Epoch 93/150\n",
      "52/52 [==============================] - 0s 3ms/step - loss: 0.5388 - accuracy: 0.7568 - val_loss: 0.6159 - val_accuracy: 0.6890\n",
      "Epoch 94/150\n",
      "52/52 [==============================] - 0s 3ms/step - loss: 0.5385 - accuracy: 0.7354 - val_loss: 0.6717 - val_accuracy: 0.6850\n",
      "Epoch 95/150\n",
      "52/52 [==============================] - 0s 3ms/step - loss: 0.5172 - accuracy: 0.7626 - val_loss: 0.6161 - val_accuracy: 0.6969\n",
      "Epoch 96/150\n",
      "52/52 [==============================] - 0s 3ms/step - loss: 0.5134 - accuracy: 0.7665 - val_loss: 0.6101 - val_accuracy: 0.6890\n",
      "Epoch 97/150\n",
      "52/52 [==============================] - 0s 3ms/step - loss: 0.5465 - accuracy: 0.7237 - val_loss: 0.6247 - val_accuracy: 0.7008\n",
      "Epoch 98/150\n",
      "52/52 [==============================] - 0s 3ms/step - loss: 0.5287 - accuracy: 0.7529 - val_loss: 0.6274 - val_accuracy: 0.6969\n",
      "Epoch 99/150\n",
      "52/52 [==============================] - 0s 4ms/step - loss: 0.5088 - accuracy: 0.7665 - val_loss: 0.6302 - val_accuracy: 0.6929\n",
      "Epoch 100/150\n",
      "52/52 [==============================] - 0s 4ms/step - loss: 0.5164 - accuracy: 0.7432 - val_loss: 0.6162 - val_accuracy: 0.7126\n",
      "Epoch 101/150\n",
      "52/52 [==============================] - 0s 3ms/step - loss: 0.5135 - accuracy: 0.7451 - val_loss: 0.6436 - val_accuracy: 0.6969\n",
      "Epoch 102/150\n",
      "52/52 [==============================] - 0s 3ms/step - loss: 0.5120 - accuracy: 0.7451 - val_loss: 0.6189 - val_accuracy: 0.6890\n",
      "Epoch 103/150\n",
      "52/52 [==============================] - 0s 4ms/step - loss: 0.5171 - accuracy: 0.7510 - val_loss: 0.6183 - val_accuracy: 0.7283\n",
      "Epoch 104/150\n",
      "52/52 [==============================] - 0s 3ms/step - loss: 0.5935 - accuracy: 0.7160 - val_loss: 0.6971 - val_accuracy: 0.6850\n",
      "Epoch 105/150\n",
      "52/52 [==============================] - 0s 3ms/step - loss: 0.5267 - accuracy: 0.7529 - val_loss: 0.7110 - val_accuracy: 0.6535\n",
      "Epoch 106/150\n",
      "52/52 [==============================] - 0s 4ms/step - loss: 0.5217 - accuracy: 0.7296 - val_loss: 0.6256 - val_accuracy: 0.7008\n",
      "Epoch 107/150\n",
      "52/52 [==============================] - 0s 3ms/step - loss: 0.5333 - accuracy: 0.7432 - val_loss: 0.6150 - val_accuracy: 0.7126\n",
      "Epoch 108/150\n",
      "52/52 [==============================] - 0s 3ms/step - loss: 0.5377 - accuracy: 0.7529 - val_loss: 0.6630 - val_accuracy: 0.6969\n",
      "Epoch 109/150\n",
      "52/52 [==============================] - 0s 4ms/step - loss: 0.5255 - accuracy: 0.7451 - val_loss: 0.6013 - val_accuracy: 0.7205\n",
      "Epoch 110/150\n",
      "52/52 [==============================] - 0s 3ms/step - loss: 0.5064 - accuracy: 0.7685 - val_loss: 0.7216 - val_accuracy: 0.6890\n",
      "Epoch 111/150\n",
      "52/52 [==============================] - 0s 4ms/step - loss: 0.5251 - accuracy: 0.7315 - val_loss: 0.6064 - val_accuracy: 0.6929\n",
      "Epoch 112/150\n",
      "52/52 [==============================] - 0s 3ms/step - loss: 0.5579 - accuracy: 0.7257 - val_loss: 0.6632 - val_accuracy: 0.6890\n",
      "Epoch 113/150\n",
      "52/52 [==============================] - 0s 3ms/step - loss: 0.5146 - accuracy: 0.7490 - val_loss: 0.6740 - val_accuracy: 0.6772\n",
      "Epoch 114/150\n",
      "52/52 [==============================] - 0s 4ms/step - loss: 0.5154 - accuracy: 0.7529 - val_loss: 0.6260 - val_accuracy: 0.6850\n",
      "Epoch 115/150\n",
      "52/52 [==============================] - 0s 3ms/step - loss: 0.5197 - accuracy: 0.7412 - val_loss: 0.6730 - val_accuracy: 0.6575\n",
      "Epoch 116/150\n",
      "52/52 [==============================] - 0s 3ms/step - loss: 0.5050 - accuracy: 0.7626 - val_loss: 0.6675 - val_accuracy: 0.6929\n",
      "Epoch 117/150\n",
      "52/52 [==============================] - 0s 4ms/step - loss: 0.5387 - accuracy: 0.7510 - val_loss: 0.6062 - val_accuracy: 0.7165\n",
      "Epoch 118/150\n",
      "52/52 [==============================] - 0s 3ms/step - loss: 0.5166 - accuracy: 0.7451 - val_loss: 0.7153 - val_accuracy: 0.6772\n",
      "Epoch 119/150\n",
      "52/52 [==============================] - 0s 3ms/step - loss: 0.5073 - accuracy: 0.7529 - val_loss: 0.6352 - val_accuracy: 0.7008\n",
      "Epoch 120/150\n",
      "52/52 [==============================] - 0s 3ms/step - loss: 0.5413 - accuracy: 0.7451 - val_loss: 0.6008 - val_accuracy: 0.6890\n",
      "Epoch 121/150\n",
      "52/52 [==============================] - 0s 3ms/step - loss: 0.5442 - accuracy: 0.7335 - val_loss: 0.7168 - val_accuracy: 0.7008\n",
      "Epoch 122/150\n",
      "52/52 [==============================] - 0s 3ms/step - loss: 0.5245 - accuracy: 0.7568 - val_loss: 0.6117 - val_accuracy: 0.6969\n",
      "Epoch 123/150\n",
      "52/52 [==============================] - 0s 3ms/step - loss: 0.5033 - accuracy: 0.7724 - val_loss: 0.6108 - val_accuracy: 0.6969\n",
      "Epoch 124/150\n",
      "52/52 [==============================] - 0s 3ms/step - loss: 0.5124 - accuracy: 0.7626 - val_loss: 0.6350 - val_accuracy: 0.7008\n",
      "Epoch 125/150\n",
      "52/52 [==============================] - 0s 3ms/step - loss: 0.5738 - accuracy: 0.7393 - val_loss: 0.6424 - val_accuracy: 0.6929\n",
      "Epoch 126/150\n",
      "52/52 [==============================] - 0s 3ms/step - loss: 0.5626 - accuracy: 0.7315 - val_loss: 0.6596 - val_accuracy: 0.6969\n",
      "Epoch 127/150\n",
      "52/52 [==============================] - 0s 3ms/step - loss: 0.4957 - accuracy: 0.7626 - val_loss: 0.5968 - val_accuracy: 0.7244\n",
      "Epoch 128/150\n",
      "52/52 [==============================] - 0s 3ms/step - loss: 0.5012 - accuracy: 0.7685 - val_loss: 0.6004 - val_accuracy: 0.7126\n",
      "Epoch 129/150\n",
      "52/52 [==============================] - 0s 3ms/step - loss: 0.5169 - accuracy: 0.7451 - val_loss: 0.8216 - val_accuracy: 0.7008\n",
      "Epoch 130/150\n",
      "52/52 [==============================] - 0s 3ms/step - loss: 0.5391 - accuracy: 0.7490 - val_loss: 0.6732 - val_accuracy: 0.6969\n",
      "Epoch 131/150\n",
      "52/52 [==============================] - 0s 3ms/step - loss: 0.5180 - accuracy: 0.7568 - val_loss: 0.5920 - val_accuracy: 0.7047\n",
      "Epoch 132/150\n",
      "52/52 [==============================] - 0s 3ms/step - loss: 0.5116 - accuracy: 0.7412 - val_loss: 0.5884 - val_accuracy: 0.7165\n",
      "Epoch 133/150\n",
      "52/52 [==============================] - 0s 3ms/step - loss: 0.5191 - accuracy: 0.7510 - val_loss: 0.6101 - val_accuracy: 0.7087\n",
      "Epoch 134/150\n",
      "52/52 [==============================] - 0s 3ms/step - loss: 0.5408 - accuracy: 0.7374 - val_loss: 0.6100 - val_accuracy: 0.7283\n",
      "Epoch 135/150\n",
      "52/52 [==============================] - 0s 3ms/step - loss: 0.5203 - accuracy: 0.7451 - val_loss: 0.6207 - val_accuracy: 0.7126\n",
      "Epoch 136/150\n",
      "52/52 [==============================] - 0s 3ms/step - loss: 0.5027 - accuracy: 0.7607 - val_loss: 0.6199 - val_accuracy: 0.7126\n",
      "Epoch 137/150\n",
      "52/52 [==============================] - 0s 3ms/step - loss: 0.5148 - accuracy: 0.7471 - val_loss: 0.5947 - val_accuracy: 0.7008\n",
      "Epoch 138/150\n",
      "52/52 [==============================] - 0s 3ms/step - loss: 0.5104 - accuracy: 0.7315 - val_loss: 0.5915 - val_accuracy: 0.7087\n",
      "Epoch 139/150\n",
      "52/52 [==============================] - 0s 3ms/step - loss: 0.5145 - accuracy: 0.7588 - val_loss: 0.7717 - val_accuracy: 0.6732\n",
      "Epoch 140/150\n",
      "52/52 [==============================] - 0s 3ms/step - loss: 0.5877 - accuracy: 0.7296 - val_loss: 0.6393 - val_accuracy: 0.7165\n",
      "Epoch 141/150\n",
      "52/52 [==============================] - 0s 3ms/step - loss: 0.5154 - accuracy: 0.7510 - val_loss: 0.7445 - val_accuracy: 0.6693\n",
      "Epoch 142/150\n",
      "52/52 [==============================] - 0s 3ms/step - loss: 0.4927 - accuracy: 0.7607 - val_loss: 0.6145 - val_accuracy: 0.7047\n",
      "Epoch 143/150\n",
      "52/52 [==============================] - 0s 3ms/step - loss: 0.5380 - accuracy: 0.7529 - val_loss: 0.6702 - val_accuracy: 0.7087\n",
      "Epoch 144/150\n",
      "52/52 [==============================] - 0s 3ms/step - loss: 0.5525 - accuracy: 0.7296 - val_loss: 0.6101 - val_accuracy: 0.6929\n",
      "Epoch 145/150\n",
      "52/52 [==============================] - 0s 3ms/step - loss: 0.5258 - accuracy: 0.7374 - val_loss: 0.6319 - val_accuracy: 0.6969\n",
      "Epoch 146/150\n",
      "52/52 [==============================] - 0s 3ms/step - loss: 0.4960 - accuracy: 0.7412 - val_loss: 0.6935 - val_accuracy: 0.6811\n",
      "Epoch 147/150\n",
      "52/52 [==============================] - 0s 3ms/step - loss: 0.5286 - accuracy: 0.7568 - val_loss: 0.6690 - val_accuracy: 0.6850\n",
      "Epoch 148/150\n",
      "52/52 [==============================] - 0s 3ms/step - loss: 0.5164 - accuracy: 0.7840 - val_loss: 0.6329 - val_accuracy: 0.7126\n",
      "Epoch 149/150\n",
      "52/52 [==============================] - 0s 3ms/step - loss: 0.4991 - accuracy: 0.7626 - val_loss: 0.5879 - val_accuracy: 0.7244\n",
      "Epoch 150/150\n",
      "52/52 [==============================] - 0s 3ms/step - loss: 0.5049 - accuracy: 0.7529 - val_loss: 0.5880 - val_accuracy: 0.7126\n"
     ]
    },
    {
     "data": {
      "text/plain": "<keras.src.callbacks.History at 0x23dd39c0af0>"
     },
     "execution_count": 13,
     "metadata": {},
     "output_type": "execute_result"
    }
   ],
   "source": [
    "# Fit the Model\n",
    "model.fit(X_train, y_train, validation_data=(X_test, y_test), epochs=150, batch_size=10)"
   ],
   "metadata": {
    "collapsed": false,
    "ExecuteTime": {
     "end_time": "2024-03-11T23:00:24.752497800Z",
     "start_time": "2024-03-11T22:59:57.304378100Z"
    }
   },
   "id": "dd4fac9dd86753ac",
   "execution_count": 13
  },
  {
   "cell_type": "markdown",
   "source": [
    "### 5. Evaluate Mode"
   ],
   "metadata": {
    "collapsed": false
   },
   "id": "62dc9bf63eeef64b"
  },
  {
   "cell_type": "code",
   "outputs": [
    {
     "name": "stdout",
     "output_type": "stream",
     "text": [
      "8/8 [==============================] - 0s 2ms/step - loss: 0.5880 - accuracy: 0.7126\n",
      "Accuracy: 71.26\n"
     ]
    }
   ],
   "source": [
    "# Evaluate the Model\n",
    "scores = model.evaluate(X_test, y_test)\n",
    "print(f\"{str(model.metrics_names[1]).capitalize()}: {scores[1]*100:.2f}\")"
   ],
   "metadata": {
    "collapsed": false,
    "ExecuteTime": {
     "end_time": "2024-03-11T23:01:21.107873Z",
     "start_time": "2024-03-11T23:01:20.977884500Z"
    }
   },
   "id": "1b11041ddb277973",
   "execution_count": 15
  },
  {
   "cell_type": "code",
   "outputs": [],
   "source": [],
   "metadata": {
    "collapsed": false
   },
   "id": "69b787fce4d0f9e7"
  },
  {
   "cell_type": "markdown",
   "source": [
    "## Manual 'k'-Fold Cross-Validation."
   ],
   "metadata": {
    "collapsed": false
   },
   "id": "241064225191fcc3"
  },
  {
   "cell_type": "code",
   "outputs": [
    {
     "name": "stdout",
     "output_type": "stream",
     "text": [
      "WARNING:tensorflow:5 out of the last 3942 calls to <function Model.make_test_function.<locals>.test_function at 0x0000023DDB3C4AF0> triggered tf.function retracing. Tracing is expensive and the excessive number of tracings could be due to (1) creating @tf.function repeatedly in a loop, (2) passing tensors with different shapes, (3) passing Python objects instead of tensors. For (1), please define your @tf.function outside of the loop. For (2), @tf.function has reduce_retracing=True option that can avoid unnecessary retracing. For (3), please refer to https://www.tensorflow.org/guide/function#controlling_retracing and https://www.tensorflow.org/api_docs/python/tf/function for  more details.\n",
      "Accuracy: 71.43\n",
      "WARNING:tensorflow:5 out of the last 13 calls to <function Model.make_test_function.<locals>.test_function at 0x0000023DDC7E3940> triggered tf.function retracing. Tracing is expensive and the excessive number of tracings could be due to (1) creating @tf.function repeatedly in a loop, (2) passing tensors with different shapes, (3) passing Python objects instead of tensors. For (1), please define your @tf.function outside of the loop. For (2), @tf.function has reduce_retracing=True option that can avoid unnecessary retracing. For (3), please refer to https://www.tensorflow.org/guide/function#controlling_retracing and https://www.tensorflow.org/api_docs/python/tf/function for  more details.\n",
      "Accuracy: 77.92\n",
      "Accuracy: 70.13\n",
      "Accuracy: 80.52\n",
      "Accuracy: 67.53\n",
      "Accuracy: 67.53\n",
      "Accuracy: 76.62\n",
      "Accuracy: 62.34\n",
      "Accuracy: 77.63\n",
      "Accuracy: 84.21\n",
      "73.58680784702301, (6.494325059364156)\n"
     ]
    }
   ],
   "source": [
    "from sklearn.model_selection import StratifiedKFold\n",
    "\n",
    "kfold = StratifiedKFold(n_splits=10, shuffle=True, random_state=seed)\n",
    "cvscores = []\n",
    "for train, test in kfold.split(X, y):\n",
    "    # Create model\n",
    "    model = Sequential()\n",
    "    model.add(Dense(12, input_shape=(8,), activation='relu'))\n",
    "    model.add(Dense(8, activation='relu'))\n",
    "    model.add(Dense(1, activation='sigmoid'))\n",
    "    # Compile the model\n",
    "    model.compile(loss='binary_crossentropy', optimizer='adam', metrics=['accuracy'])\n",
    "    # Fit the model\n",
    "    model.fit(X[train], y[train], epochs=150, batch_size=10, verbose=0)\n",
    "    # Evaluate the model\n",
    "    scores = model.evaluate(X[test], y[test], verbose=False)\n",
    "    print(f\"{str(model.metrics_names[1]).capitalize()}: {scores[1]*100:.2f}%\")\n",
    "    cvscores.append(scores[1]*100)\n",
    "    \n",
    "print(f\"{np.mean(cvscores)}, (+/- {np.std(cvscores)})\")"
   ],
   "metadata": {
    "collapsed": false,
    "ExecuteTime": {
     "end_time": "2024-03-11T23:52:08.917045Z",
     "start_time": "2024-03-11T23:49:47.333317Z"
    }
   },
   "id": "aac3c07c52144513",
   "execution_count": 19
  },
  {
   "cell_type": "code",
   "outputs": [],
   "source": [],
   "metadata": {
    "collapsed": false
   },
   "id": "fd3364903f739d90"
  }
 ],
 "metadata": {
  "kernelspec": {
   "display_name": "Python 3",
   "language": "python",
   "name": "python3"
  },
  "language_info": {
   "codemirror_mode": {
    "name": "ipython",
    "version": 2
   },
   "file_extension": ".py",
   "mimetype": "text/x-python",
   "name": "python",
   "nbconvert_exporter": "python",
   "pygments_lexer": "ipython2",
   "version": "2.7.6"
  }
 },
 "nbformat": 4,
 "nbformat_minor": 5
}
