{
 "cells": [
  {
   "cell_type": "markdown",
   "source": [
    "# Building a neural network FROM SCRATCH (no Tensorflow/Pytorch, just numpy & math)\n",
    "\n",
    "youtube link = https://www.youtube.com/watch?v=w8yWXqWQYmU"
   ],
   "metadata": {
    "collapsed": false
   },
   "id": "bd35059dbdd5d336"
  },
  {
   "cell_type": "code",
   "outputs": [],
   "source": [
    "import numpy as np\n",
    "import pandas as pd\n",
    "from matplotlib import pyplot as plt"
   ],
   "metadata": {
    "collapsed": false,
    "ExecuteTime": {
     "end_time": "2024-03-05T23:03:50.507024300Z",
     "start_time": "2024-03-05T23:03:45.365183800Z"
    }
   },
   "id": "bbd5885a1278925d",
   "execution_count": 1
  },
  {
   "cell_type": "code",
   "outputs": [],
   "source": [
    "data = pd.read_csv(\"train.csv\")"
   ],
   "metadata": {
    "collapsed": false,
    "ExecuteTime": {
     "end_time": "2024-03-05T23:03:54.910345700Z",
     "start_time": "2024-03-05T23:03:50.513024800Z"
    }
   },
   "id": "4ba5cd842edb346f",
   "execution_count": 2
  },
  {
   "cell_type": "code",
   "outputs": [
    {
     "data": {
      "text/plain": "   label  pixel0  pixel1  pixel2  pixel3  pixel4  pixel5  pixel6  pixel7  \\\n0      1       0       0       0       0       0       0       0       0   \n1      0       0       0       0       0       0       0       0       0   \n2      1       0       0       0       0       0       0       0       0   \n3      4       0       0       0       0       0       0       0       0   \n4      0       0       0       0       0       0       0       0       0   \n\n   pixel8  ...  pixel774  pixel775  pixel776  pixel777  pixel778  pixel779  \\\n0       0  ...         0         0         0         0         0         0   \n1       0  ...         0         0         0         0         0         0   \n2       0  ...         0         0         0         0         0         0   \n3       0  ...         0         0         0         0         0         0   \n4       0  ...         0         0         0         0         0         0   \n\n   pixel780  pixel781  pixel782  pixel783  \n0         0         0         0         0  \n1         0         0         0         0  \n2         0         0         0         0  \n3         0         0         0         0  \n4         0         0         0         0  \n\n[5 rows x 785 columns]",
      "text/html": "<div>\n<style scoped>\n    .dataframe tbody tr th:only-of-type {\n        vertical-align: middle;\n    }\n\n    .dataframe tbody tr th {\n        vertical-align: top;\n    }\n\n    .dataframe thead th {\n        text-align: right;\n    }\n</style>\n<table border=\"1\" class=\"dataframe\">\n  <thead>\n    <tr style=\"text-align: right;\">\n      <th></th>\n      <th>label</th>\n      <th>pixel0</th>\n      <th>pixel1</th>\n      <th>pixel2</th>\n      <th>pixel3</th>\n      <th>pixel4</th>\n      <th>pixel5</th>\n      <th>pixel6</th>\n      <th>pixel7</th>\n      <th>pixel8</th>\n      <th>...</th>\n      <th>pixel774</th>\n      <th>pixel775</th>\n      <th>pixel776</th>\n      <th>pixel777</th>\n      <th>pixel778</th>\n      <th>pixel779</th>\n      <th>pixel780</th>\n      <th>pixel781</th>\n      <th>pixel782</th>\n      <th>pixel783</th>\n    </tr>\n  </thead>\n  <tbody>\n    <tr>\n      <th>0</th>\n      <td>1</td>\n      <td>0</td>\n      <td>0</td>\n      <td>0</td>\n      <td>0</td>\n      <td>0</td>\n      <td>0</td>\n      <td>0</td>\n      <td>0</td>\n      <td>0</td>\n      <td>...</td>\n      <td>0</td>\n      <td>0</td>\n      <td>0</td>\n      <td>0</td>\n      <td>0</td>\n      <td>0</td>\n      <td>0</td>\n      <td>0</td>\n      <td>0</td>\n      <td>0</td>\n    </tr>\n    <tr>\n      <th>1</th>\n      <td>0</td>\n      <td>0</td>\n      <td>0</td>\n      <td>0</td>\n      <td>0</td>\n      <td>0</td>\n      <td>0</td>\n      <td>0</td>\n      <td>0</td>\n      <td>0</td>\n      <td>...</td>\n      <td>0</td>\n      <td>0</td>\n      <td>0</td>\n      <td>0</td>\n      <td>0</td>\n      <td>0</td>\n      <td>0</td>\n      <td>0</td>\n      <td>0</td>\n      <td>0</td>\n    </tr>\n    <tr>\n      <th>2</th>\n      <td>1</td>\n      <td>0</td>\n      <td>0</td>\n      <td>0</td>\n      <td>0</td>\n      <td>0</td>\n      <td>0</td>\n      <td>0</td>\n      <td>0</td>\n      <td>0</td>\n      <td>...</td>\n      <td>0</td>\n      <td>0</td>\n      <td>0</td>\n      <td>0</td>\n      <td>0</td>\n      <td>0</td>\n      <td>0</td>\n      <td>0</td>\n      <td>0</td>\n      <td>0</td>\n    </tr>\n    <tr>\n      <th>3</th>\n      <td>4</td>\n      <td>0</td>\n      <td>0</td>\n      <td>0</td>\n      <td>0</td>\n      <td>0</td>\n      <td>0</td>\n      <td>0</td>\n      <td>0</td>\n      <td>0</td>\n      <td>...</td>\n      <td>0</td>\n      <td>0</td>\n      <td>0</td>\n      <td>0</td>\n      <td>0</td>\n      <td>0</td>\n      <td>0</td>\n      <td>0</td>\n      <td>0</td>\n      <td>0</td>\n    </tr>\n    <tr>\n      <th>4</th>\n      <td>0</td>\n      <td>0</td>\n      <td>0</td>\n      <td>0</td>\n      <td>0</td>\n      <td>0</td>\n      <td>0</td>\n      <td>0</td>\n      <td>0</td>\n      <td>0</td>\n      <td>...</td>\n      <td>0</td>\n      <td>0</td>\n      <td>0</td>\n      <td>0</td>\n      <td>0</td>\n      <td>0</td>\n      <td>0</td>\n      <td>0</td>\n      <td>0</td>\n      <td>0</td>\n    </tr>\n  </tbody>\n</table>\n<p>5 rows × 785 columns</p>\n</div>"
     },
     "execution_count": 3,
     "metadata": {},
     "output_type": "execute_result"
    }
   ],
   "source": [
    "data.head()"
   ],
   "metadata": {
    "collapsed": false,
    "ExecuteTime": {
     "end_time": "2024-03-05T23:03:54.989339800Z",
     "start_time": "2024-03-05T23:03:54.915345100Z"
    }
   },
   "id": "32c5eb1d6fa04ffb",
   "execution_count": 3
  },
  {
   "cell_type": "code",
   "outputs": [
    {
     "name": "stdout",
     "output_type": "stream",
     "text": [
      "<class 'pandas.core.frame.DataFrame'>\n",
      "RangeIndex: 42000 entries, 0 to 41999\n",
      "Columns: 785 entries, label to pixel783\n",
      "dtypes: int64(785)\n",
      "memory usage: 251.5 MB\n"
     ]
    }
   ],
   "source": [
    "data.info()"
   ],
   "metadata": {
    "collapsed": false,
    "ExecuteTime": {
     "end_time": "2024-03-05T23:03:55.152345400Z",
     "start_time": "2024-03-05T23:03:54.976337300Z"
    }
   },
   "id": "1f229ac07234ed8e",
   "execution_count": 4
  },
  {
   "cell_type": "code",
   "outputs": [],
   "source": [
    "data = np.array(data)\n",
    "m, n = data.shape\n",
    "np.random.shuffle(data)\n",
    "\n",
    "data_dev = data[0:1000].T\n",
    "Y_dev = data_dev[0]\n",
    "X_dev = data_dev[1:n]\n",
    "X_dev = X_dev / 255.\n",
    "\n",
    "data_train = data[1000:m].T\n",
    "Y_train = data_train[0]\n",
    "X_train = data_train[1:n]\n",
    "X_train = X_train / 255.\n",
    "_, m_train = X_train.shape"
   ],
   "metadata": {
    "collapsed": false,
    "ExecuteTime": {
     "end_time": "2024-03-05T23:03:59.035638800Z",
     "start_time": "2024-03-05T23:03:55.055342900Z"
    }
   },
   "id": "ed6f134253e6f966",
   "execution_count": 5
  },
  {
   "cell_type": "code",
   "outputs": [
    {
     "data": {
      "text/plain": "((784, 41000), (41000,), (784, 1000), (1000,))"
     },
     "execution_count": 6,
     "metadata": {},
     "output_type": "execute_result"
    }
   ],
   "source": [
    "X_train.shape, Y_train.shape, X_dev.shape, Y_dev.shape"
   ],
   "metadata": {
    "collapsed": false,
    "ExecuteTime": {
     "end_time": "2024-03-05T23:03:59.156636200Z",
     "start_time": "2024-03-05T23:03:59.042637300Z"
    }
   },
   "id": "3177a3a34fbb633b",
   "execution_count": 6
  },
  {
   "cell_type": "code",
   "outputs": [
    {
     "data": {
      "text/plain": "array([3, 7, 6, ..., 1, 6, 9], dtype=int64)"
     },
     "execution_count": 7,
     "metadata": {},
     "output_type": "execute_result"
    }
   ],
   "source": [
    "Y_train"
   ],
   "metadata": {
    "collapsed": false,
    "ExecuteTime": {
     "end_time": "2024-03-05T23:03:59.162635100Z",
     "start_time": "2024-03-05T23:03:59.072637100Z"
    }
   },
   "id": "3dedc9e3b7d1b80c",
   "execution_count": 7
  },
  {
   "cell_type": "code",
   "outputs": [],
   "source": [
    "def init_params():\n",
    "    W1 = np.random.rand(10, 784) - 0.5\n",
    "    b1 = np.random.rand(10, 1) - 0.5\n",
    "    W2 = np.random.rand(10, 10) - 0.5\n",
    "    b2 = np.random.rand(10, 1) - 0.5\n",
    "    return W1, b1, W2, b2\n",
    "\n",
    "\n",
    "def ReLU(Z):\n",
    "    return np.maximum(Z, 0)\n",
    "\n",
    "\n",
    "def softmax(Z):\n",
    "    A = np.exp(Z) / sum(np.exp(Z))\n",
    "    return A\n",
    "\n",
    "\n",
    "def forward_prop(W1, b1, W2, b2, X):\n",
    "    Z1 = W1.dot(X) + b1\n",
    "    A1 = ReLU(Z1)\n",
    "    Z2 = W2.dot(A1) + b2\n",
    "    A2 = softmax(Z2)\n",
    "    return Z1, A1, Z2, A2\n",
    "\n",
    "\n",
    "def ReLU_deriv(Z):\n",
    "    return Z > 0\n",
    "\n",
    "\n",
    "def one_hot(Y):\n",
    "    one_hot_Y = np.zeros((Y.size, Y.max() + 1))\n",
    "    one_hot_Y[np.arange(Y.size), Y] = 1\n",
    "    one_hot_Y = one_hot_Y.T\n",
    "    return one_hot_Y\n",
    "\n",
    "\n",
    "def backward_prop(Z1, A1, Z2, A2, W1, W2, X, Y):\n",
    "    one_hot_Y = one_hot(Y)\n",
    "    dZ2 = A2 - one_hot_Y\n",
    "    dW2 = 1 / m * dZ2.dot(A1.T)\n",
    "    db2 = 1 / m * np.sum(dZ2)\n",
    "    dZ1 = W2.T.dot(dZ2) * ReLU_deriv(Z1)\n",
    "    dW1 = 1 / m * dZ1.dot(X.T)\n",
    "    db1 = 1 / m * np.sum(dZ1)\n",
    "    return dW1, db1, dW2, db2\n",
    "\n",
    "\n",
    "def update_params(W1, b1, W2, b2, dW1, db1, dW2, db2, alpha):\n",
    "    W1 = W1 - alpha * dW1\n",
    "    b1 = b1 - alpha * db1\n",
    "    W2 = W2 - alpha * dW2\n",
    "    b2 = b2 - alpha * db2\n",
    "    return W1, b1, W2, b2"
   ],
   "metadata": {
    "collapsed": false,
    "ExecuteTime": {
     "end_time": "2024-03-05T23:06:32.086222400Z",
     "start_time": "2024-03-05T23:06:32.016238200Z"
    }
   },
   "id": "fa3356bb21ba7e40",
   "execution_count": 14
  },
  {
   "cell_type": "code",
   "outputs": [],
   "source": [
    "def get_predictions(A2):\n",
    "    return np.argmax(A2, 0)\n",
    "\n",
    "\n",
    "def get_accuracy(predictions, Y):\n",
    "    print(predictions, Y)\n",
    "    return np.sum(predictions == Y) / Y.size\n",
    "\n",
    "\n",
    "def gradient_descent(X, Y, iterations, alpha):\n",
    "    W1, b1, W2, b2 = init_params()\n",
    "    for i in range(iterations):\n",
    "        Z1, A1, Z2, A2 = forward_prop(W1, b1, W2, b2, X)\n",
    "        dW1, db1, dW2, db2 = backward_prop(Z1, A1, Z2, A2, W1, W2, X, Y)\n",
    "        W1, b1, W2, b2 = update_params(W1, b1, W2, b2, dW1, db1, dW2, db2, alpha)\n",
    "        if i % 10 == 0:\n",
    "            print(\"Iteration: \", i)\n",
    "            predictions = get_predictions(A2)\n",
    "            print(get_accuracy(predictions, Y))\n",
    "    return W1, b1, W2, b2"
   ],
   "metadata": {
    "collapsed": false,
    "ExecuteTime": {
     "end_time": "2024-03-05T23:07:20.497438500Z",
     "start_time": "2024-03-05T23:07:20.469439900Z"
    }
   },
   "id": "88bac37d5a8c06bc",
   "execution_count": 17
  },
  {
   "cell_type": "code",
   "outputs": [
    {
     "name": "stdout",
     "output_type": "stream",
     "text": [
      "Iteration:  0\n",
      "[2 2 2 ... 2 2 2] [3 7 6 ... 1 6 9]\n",
      "0.10829268292682927\n",
      "Iteration:  10\n",
      "[2 4 2 ... 4 2 2] [3 7 6 ... 1 6 9]\n",
      "0.12878048780487805\n",
      "Iteration:  20\n",
      "[2 7 2 ... 4 2 2] [3 7 6 ... 1 6 9]\n",
      "0.17058536585365855\n",
      "Iteration:  30\n",
      "[2 7 2 ... 4 2 7] [3 7 6 ... 1 6 9]\n",
      "0.20948780487804877\n",
      "Iteration:  40\n",
      "[3 7 2 ... 1 2 7] [3 7 6 ... 1 6 9]\n",
      "0.24792682926829268\n",
      "Iteration:  50\n",
      "[3 7 2 ... 1 2 7] [3 7 6 ... 1 6 9]\n",
      "0.3115121951219512\n",
      "Iteration:  60\n",
      "[3 7 2 ... 1 4 7] [3 7 6 ... 1 6 9]\n",
      "0.3741219512195122\n",
      "Iteration:  70\n",
      "[3 7 6 ... 1 0 7] [3 7 6 ... 1 6 9]\n",
      "0.4170731707317073\n",
      "Iteration:  80\n",
      "[3 9 6 ... 1 0 9] [3 7 6 ... 1 6 9]\n",
      "0.44782926829268294\n",
      "Iteration:  90\n",
      "[3 9 6 ... 1 0 9] [3 7 6 ... 1 6 9]\n",
      "0.4738292682926829\n"
     ]
    }
   ],
   "source": [
    "W1, b1, W2, b2 = gradient_descent(X_train, Y_train, 100, 0.1)"
   ],
   "metadata": {
    "collapsed": false,
    "ExecuteTime": {
     "end_time": "2024-03-05T23:07:38.586944500Z",
     "start_time": "2024-03-05T23:07:21.513369Z"
    }
   },
   "id": "9620a415c2821cdc",
   "execution_count": 18
  },
  {
   "cell_type": "code",
   "outputs": [
    {
     "data": {
      "text/plain": "((784, 41000), (41000,))"
     },
     "execution_count": 19,
     "metadata": {},
     "output_type": "execute_result"
    }
   ],
   "source": [
    "X_train.shape, Y_train.shape"
   ],
   "metadata": {
    "collapsed": false,
    "ExecuteTime": {
     "end_time": "2024-03-05T23:07:57.334840300Z",
     "start_time": "2024-03-05T23:07:57.304840200Z"
    }
   },
   "id": "30897dc4059f3d6e",
   "execution_count": 19
  },
  {
   "cell_type": "code",
   "outputs": [],
   "source": [
    "def make_predictions(X, W1, b1, W2, b2):\n",
    "    _, _, _, A2 = forward_prop(W1, b1, W2, b2, X)\n",
    "    predictions = get_predictions(A2)\n",
    "    return predictions\n",
    "\n",
    "\n",
    "def test_prediction(index, W1, b1, W2, b2):\n",
    "    current_image = X_train[:, index, None]\n",
    "    prediction = make_predictions(X_train[:, index, None], W1, b1, W2, b2)\n",
    "    label = Y_train[index]\n",
    "    print(\"Prediction: \", prediction)\n",
    "    print(\"Label: \", label)\n",
    "\n",
    "    current_image = current_image.reshape((28, 28)) * 255\n",
    "    plt.gray()\n",
    "    plt.imshow(current_image, interpolation='nearest')\n",
    "    plt.show()"
   ],
   "metadata": {
    "collapsed": false,
    "ExecuteTime": {
     "end_time": "2024-03-05T23:12:01.319301400Z",
     "start_time": "2024-03-05T23:12:01.234229200Z"
    }
   },
   "id": "fbcd60d3ca1f1fa1",
   "execution_count": 20
  },
  {
   "cell_type": "code",
   "outputs": [
    {
     "name": "stdout",
     "output_type": "stream",
     "text": [
      "Prediction:  [3]\n",
      "Label:  3\n"
     ]
    },
    {
     "data": {
      "text/plain": "<Figure size 640x480 with 1 Axes>",
      "image/png": "[encoded data removed]"
     },
     "metadata": {},
     "output_type": "display_data"
    },
    {
     "name": "stdout",
     "output_type": "stream",
     "text": [
      "Prediction:  [9]\n",
      "Label:  7\n"
     ]
    },
    {
     "data": {
      "text/plain": "<Figure size 640x480 with 1 Axes>",
      "image/png": "[encoded data removed]"
     },
     "metadata": {},
     "output_type": "display_data"
    },
    {
     "name": "stdout",
     "output_type": "stream",
     "text": [
      "Prediction:  [6]\n",
      "Label:  6\n"
     ]
    },
    {
     "data": {
      "text/plain": "<Figure size 640x480 with 1 Axes>",
      "image/png": "[encoded data removed]"
     },
     "metadata": {},
     "output_type": "display_data"
    },
    {
     "name": "stdout",
     "output_type": "stream",
     "text": [
      "Prediction:  [4]\n",
      "Label:  3\n"
     ]
    },
    {
     "data": {
      "text/plain": "<Figure size 640x480 with 1 Axes>",
      "image/png": "[encoded data removed]"
     },
     "metadata": {},
     "output_type": "display_data"
    }
   ],
   "source": [
    "test_prediction(0, W1, b1, W2, b2)\n",
    "test_prediction(1, W1, b1, W2, b2)\n",
    "test_prediction(2, W1, b1, W2, b2)\n",
    "test_prediction(3, W1, b1, W2, b2)"
   ],
   "metadata": {
    "collapsed": false,
    "ExecuteTime": {
     "end_time": "2024-03-05T23:12:34.625680500Z",
     "start_time": "2024-03-05T23:12:33.408645Z"
    }
   },
   "id": "eb6ed49be1942906",
   "execution_count": 21
  },
  {
   "cell_type": "code",
   "outputs": [
    {
     "name": "stdout",
     "output_type": "stream",
     "text": [
      "[9 2 3 1 6 3 7 9 9 8 8 5 9 4 9 8 4 7 1 9 3 7 7 3 7 7 8 1 0 9 5 6 9 0 0 0 8\n",
      " 8 7 1 8 6 0 8 3 8 2 0 0 1 3 4 2 2 6 9 0 3 7 8 7 8 7 1 1 3 0 1 9 0 8 3 0 4\n",
      " 4 1 0 3 5 6 6 8 8 6 1 8 6 9 3 7 2 8 6 4 9 3 9 3 2 9 9 3 2 0 6 1 6 0 8 2 6\n",
      " 0 9 6 7 9 4 7 7 1 7 8 6 4 1 3 4 0 8 9 3 1 6 3 3 8 4 3 4 0 6 3 7 8 7 6 6 9\n",
      " 4 2 6 1 1 4 0 0 7 8 1 6 0 9 1 7 0 6 0 7 0 3 0 7 0 0 7 3 6 3 0 2 1 7 3 6 7\n",
      " 9 6 6 0 4 7 6 0 9 7 0 3 6 0 3 3 3 3 3 1 6 9 2 1 2 8 2 0 7 1 9 8 0 6 2 1 2\n",
      " 8 6 7 3 3 9 9 5 0 0 1 3 1 0 9 6 7 8 0 1 1 6 1 1 1 4 0 8 3 1 7 9 0 1 3 3 9\n",
      " 0 6 8 1 9 7 3 3 1 3 9 9 6 8 7 6 0 3 1 1 6 9 0 6 8 6 3 1 0 8 6 2 7 1 2 3 7\n",
      " 6 9 1 3 1 4 3 6 2 6 2 3 6 0 9 6 1 2 7 7 3 0 0 3 7 0 6 3 4 7 1 7 6 6 8 3 7\n",
      " 1 6 6 6 0 8 7 1 4 3 7 4 4 9 3 2 0 4 0 3 9 3 1 6 3 4 5 3 9 8 3 3 6 6 6 8 1\n",
      " 5 3 6 0 3 1 8 1 3 6 0 3 0 2 6 3 3 2 6 1 7 2 7 0 8 7 2 7 3 1 6 3 6 8 1 2 6\n",
      " 8 9 1 7 8 3 7 7 0 7 1 7 8 9 9 4 3 3 1 3 1 7 0 0 3 7 9 9 3 7 0 6 3 1 7 6 1\n",
      " 3 8 9 6 6 1 6 3 9 4 3 9 3 3 2 0 8 8 0 9 3 1 7 8 3 6 1 2 3 2 7 4 9 6 3 1 1\n",
      " 9 7 4 1 3 5 4 2 9 5 0 1 6 0 1 3 1 2 0 5 1 4 9 9 5 3 4 9 1 7 7 1 1 8 1 7 6\n",
      " 0 1 1 1 1 3 0 9 7 2 1 0 6 7 8 3 8 8 0 6 3 8 0 9 1 0 8 0 7 1 6 1 2 3 9 3 1\n",
      " 1 6 7 7 5 0 1 9 0 2 4 0 7 9 2 9 8 7 9 2 1 6 3 1 7 8 6 3 1 0 1 2 6 1 8 6 0\n",
      " 9 7 3 9 3 9 0 6 8 1 0 1 6 7 6 1 1 0 2 3 6 3 9 8 0 0 7 4 1 8 8 1 6 4 1 0 3\n",
      " 2 7 8 7 3 7 7 9 4 4 0 7 7 3 1 7 9 5 4 0 9 9 1 1 3 7 5 1 7 0 9 7 7 0 3 9 0\n",
      " 3 3 0 6 3 7 2 9 6 2 7 1 0 6 2 9 7 4 3 8 8 4 1 8 2 0 6 2 3 6 3 3 0 3 2 9 3\n",
      " 6 8 1 3 1 2 2 6 3 3 7 5 7 8 6 7 8 8 8 9 3 0 6 0 1 4 4 4 2 3 3 7 3 3 3 6 8\n",
      " 6 7 3 7 9 8 6 2 1 7 3 8 4 3 0 4 7 1 7 1 1 3 5 8 7 1 2 9 1 7 1 4 1 1 6 6 3\n",
      " 4 2 1 3 0 0 3 7 2 8 3 8 4 1 0 6 9 0 0 0 3 6 9 1 7 1 3 1 3 5 5 2 6 0 5 8 6\n",
      " 8 1 4 0 1 3 1 6 9 3 0 8 8 8 2 0 9 0 1 6 8 6 2 0 5 3 2 8 8 1 2 7 3 1 1 1 3\n",
      " 3 6 7 9 7 0 0 9 1 8 7 0 0 7 9 3 3 0 2 3 1 5 8 6 6 0 6 2 0 6 1 2 3 6 2 9 3\n",
      " 1 0 4 3 8 3 3 0 8 1 2 3 2 3 0 6 7 1 9 0 8 8 3 1 1 2 5 0 3 1 7 7 8 6 1 0 0\n",
      " 7 9 8 1 1 3 6 1 2 2 9 8 9 6 1 6 1 6 7 0 1 5 4 3 2 6 6 1 7 0 8 2 1 9 1 2 5\n",
      " 9 6 1 9 0 6 6 2 6 2 0 9 9 4 5 1 6 6 3 8 5 0 8 8 1 2 3 8 7 8 7 9 9 0 2 7 8\n",
      " 1] [8 6 5 1 3 5 9 5 7 5 8 5 4 4 7 5 4 7 1 3 5 2 7 3 7 7 8 1 0 9 5 5 4 3 0 3 7\n",
      " 4 7 1 8 6 0 8 3 0 5 6 6 1 8 9 2 3 2 4 5 5 4 9 7 8 7 1 2 2 0 7 9 0 4 3 0 5\n",
      " 9 8 9 3 8 6 5 9 9 5 1 8 6 8 5 7 2 4 5 3 7 3 5 0 4 8 9 3 6 7 6 1 6 2 8 2 2\n",
      " 0 7 0 7 1 4 4 7 1 4 5 6 4 1 3 8 6 9 9 3 1 3 2 3 0 9 8 4 3 0 3 7 4 7 6 6 7\n",
      " 3 2 6 1 1 5 6 0 7 4 1 2 5 8 5 7 0 6 0 9 7 4 0 7 0 9 9 2 0 7 0 8 1 7 3 6 7\n",
      " 9 2 6 0 4 9 6 6 9 7 0 3 6 8 3 5 3 3 3 1 8 8 6 1 2 5 5 0 7 1 7 9 6 2 2 1 2\n",
      " 4 6 7 4 3 8 9 5 4 4 2 2 8 0 9 6 7 9 4 2 4 6 1 2 1 4 7 5 3 6 7 9 9 3 3 3 8\n",
      " 0 6 9 1 2 7 5 3 8 3 4 7 6 2 7 5 0 3 1 2 6 4 0 6 8 5 3 4 0 5 2 2 7 2 6 3 3\n",
      " 2 9 6 3 8 4 5 6 5 5 3 3 5 7 5 5 1 1 9 7 8 0 7 3 7 0 6 3 2 7 8 9 6 6 0 2 7\n",
      " 7 6 2 6 0 9 7 5 4 8 9 9 5 9 5 6 0 4 5 8 7 3 1 6 5 4 5 0 8 4 3 0 2 2 2 7 1\n",
      " 0 8 2 0 3 1 8 1 1 2 0 8 0 2 2 4 0 2 2 2 7 2 9 0 4 9 0 7 1 2 6 3 6 8 1 2 6\n",
      " 4 9 1 7 5 3 9 7 0 7 1 7 5 9 8 1 5 8 1 9 6 7 9 0 3 7 9 9 3 7 0 6 2 4 9 6 1\n",
      " 3 0 9 4 6 1 2 5 9 1 8 0 5 3 1 0 8 8 4 9 1 6 7 0 0 3 2 4 3 4 3 4 9 6 3 1 1\n",
      " 7 7 0 1 3 7 4 6 9 3 0 1 6 0 7 7 8 1 0 5 4 9 7 7 3 1 9 7 1 7 7 1 1 2 1 7 6\n",
      " 0 1 1 8 2 4 0 7 7 5 1 0 8 7 8 3 4 8 0 2 3 3 6 9 1 0 4 0 7 1 6 1 8 8 3 3 1\n",
      " 8 6 7 7 5 0 9 9 0 4 4 3 7 9 2 3 4 5 9 8 1 6 8 4 9 8 2 8 1 0 9 8 6 1 5 2 0\n",
      " 4 7 3 9 3 9 4 6 8 2 0 1 6 7 2 6 7 0 5 1 2 8 9 9 0 5 9 4 2 8 8 1 6 9 2 6 8\n",
      " 1 7 3 7 3 5 4 9 4 2 5 5 7 0 4 7 3 5 4 6 9 7 2 1 0 8 5 1 7 0 8 7 9 0 3 5 0\n",
      " 1 3 0 0 3 9 2 9 2 0 7 1 6 2 2 9 7 7 3 8 8 8 3 8 6 0 2 2 3 6 5 9 3 3 1 5 8\n",
      " 5 8 2 3 1 6 4 2 3 9 7 3 7 4 6 7 8 9 8 9 3 0 6 0 1 8 4 9 4 9 0 9 2 5 4 6 5\n",
      " 6 7 8 7 9 5 2 8 4 7 3 8 9 5 0 9 7 1 7 1 1 2 2 7 7 9 8 8 1 7 9 8 1 1 2 6 0\n",
      " 9 2 1 3 0 5 8 7 6 5 2 2 5 1 0 6 1 0 4 6 5 5 4 1 2 1 9 4 3 5 5 1 6 0 5 2 2\n",
      " 8 1 9 0 1 2 1 6 8 3 6 9 8 0 2 8 3 0 4 6 9 2 6 0 6 5 2 8 5 5 5 7 3 1 1 8 2\n",
      " 3 5 7 3 7 6 0 9 2 8 7 0 4 9 7 0 3 0 6 9 1 5 8 6 7 6 6 2 0 6 1 4 3 6 6 9 5\n",
      " 2 8 4 3 0 2 3 6 2 6 2 3 6 1 0 8 7 2 8 0 4 9 5 2 1 8 4 5 5 1 9 4 9 2 1 4 0\n",
      " 7 8 8 1 1 5 0 4 2 6 8 9 5 6 1 6 2 2 7 0 1 6 5 3 9 8 6 1 7 0 4 2 1 3 1 2 4\n",
      " 4 2 1 4 9 6 5 2 6 2 0 4 9 4 5 7 5 6 3 4 5 6 9 4 1 6 5 8 9 9 7 9 8 0 5 7 4\n",
      " 1]\n"
     ]
    },
    {
     "data": {
      "text/plain": "0.507"
     },
     "execution_count": 22,
     "metadata": {},
     "output_type": "execute_result"
    }
   ],
   "source": [
    "dev_predictions = make_predictions(X_dev, W1, b1, W2, b2)\n",
    "get_accuracy(dev_predictions, Y_dev)"
   ],
   "metadata": {
    "collapsed": false,
    "ExecuteTime": {
     "end_time": "2024-03-05T23:14:22.567828700Z",
     "start_time": "2024-03-05T23:14:22.460835400Z"
    }
   },
   "id": "a5c6f5c5bc7d5da9",
   "execution_count": 22
  },
  {
   "cell_type": "code",
   "outputs": [],
   "source": [],
   "metadata": {
    "collapsed": false
   },
   "id": "b2f83ab3e1c86fe5"
  }
 ],
 "metadata": {
  "kernelspec": {
   "display_name": "Python 3",
   "language": "python",
   "name": "python3"
  },
  "language_info": {
   "codemirror_mode": {
    "name": "ipython",
    "version": 2
   },
   "file_extension": ".py",
   "mimetype": "text/x-python",
   "name": "python",
   "nbconvert_exporter": "python",
   "pygments_lexer": "ipython2",
   "version": "2.7.6"
  }
 },
 "nbformat": 4,
 "nbformat_minor": 5
}
