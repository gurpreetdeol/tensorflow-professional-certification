{
 "cells": [
  {
   "cell_type": "markdown",
   "source": [
    "# Build a neural Network with TensorFlow and Keras\n",
    "\n",
    "youtube link: https://www.youtube.com/watch?v=_c_x8A3mNDk"
   ],
   "metadata": {
    "collapsed": false
   },
   "id": "79d3ed458ca4e6d2"
  },
  {
   "cell_type": "code",
   "outputs": [],
   "source": [
    "import tensorflow as tf\n",
    "from tensorflow import keras"
   ],
   "metadata": {
    "collapsed": false,
    "ExecuteTime": {
     "end_time": "2024-03-05T20:09:13.979107700Z",
     "start_time": "2024-03-05T20:08:54.867429Z"
    }
   },
   "id": "cda2f95f5ac49a1d",
   "execution_count": 2
  },
  {
   "cell_type": "code",
   "outputs": [],
   "source": [
    "fashion_mnist = keras.datasets.mnist"
   ],
   "metadata": {
    "collapsed": false,
    "ExecuteTime": {
     "end_time": "2024-03-05T20:09:14.247242900Z",
     "start_time": "2024-03-05T20:09:13.983112700Z"
    }
   },
   "id": "a7ef75ba96753486",
   "execution_count": 3
  },
  {
   "cell_type": "code",
   "outputs": [],
   "source": [
    "(X_train, y_train), (X_test, y_test) = fashion_mnist.load_data()"
   ],
   "metadata": {
    "collapsed": false,
    "ExecuteTime": {
     "end_time": "2024-03-05T20:09:28.503419700Z",
     "start_time": "2024-03-05T20:09:27.844553500Z"
    }
   },
   "id": "6422a90b2b17d89d",
   "execution_count": 4
  },
  {
   "cell_type": "code",
   "outputs": [
    {
     "data": {
      "text/plain": "((60000, 28, 28), (10000, 28, 28), (60000,), (10000,))"
     },
     "execution_count": 5,
     "metadata": {},
     "output_type": "execute_result"
    }
   ],
   "source": [
    "X_train.shape, X_test.shape, y_train.shape, y_test.shape"
   ],
   "metadata": {
    "collapsed": false,
    "ExecuteTime": {
     "end_time": "2024-03-05T20:09:45.790914900Z",
     "start_time": "2024-03-05T20:09:45.732658900Z"
    }
   },
   "id": "a5e81a093017aa03",
   "execution_count": 5
  },
  {
   "cell_type": "code",
   "outputs": [],
   "source": [
    "X_train, X_test = X_train / 255.0, X_test / 255.0"
   ],
   "metadata": {
    "collapsed": false,
    "ExecuteTime": {
     "end_time": "2024-03-05T20:11:37.522407Z",
     "start_time": "2024-03-05T20:11:37.006089700Z"
    }
   },
   "id": "5e869712b6d0ced",
   "execution_count": 6
  },
  {
   "cell_type": "code",
   "outputs": [
    {
     "data": {
      "text/plain": "((60000, 28, 28), (10000, 28, 28))"
     },
     "execution_count": 7,
     "metadata": {},
     "output_type": "execute_result"
    }
   ],
   "source": [
    "X_train.shape, X_test.shape"
   ],
   "metadata": {
    "collapsed": false,
    "ExecuteTime": {
     "end_time": "2024-03-05T20:11:50.010894300Z",
     "start_time": "2024-03-05T20:11:49.976526400Z"
    }
   },
   "id": "d850eef13d2eebca",
   "execution_count": 7
  },
  {
   "cell_type": "code",
   "outputs": [],
   "source": [
    "model = tf.keras.Sequential([\n",
    "    tf.keras.layers.Flatten(input_shape=(28, 28)),\n",
    "    tf.keras.layers.Dense(128, activation='relu'),\n",
    "    tf.keras.layers.Dropout(0.2),\n",
    "    tf.keras.layers.Dense(10, activation='softmax')\n",
    "])"
   ],
   "metadata": {
    "collapsed": false,
    "ExecuteTime": {
     "end_time": "2024-03-05T20:14:16.094796500Z",
     "start_time": "2024-03-05T20:14:15.712902300Z"
    }
   },
   "id": "62d337128113e122",
   "execution_count": 8
  },
  {
   "cell_type": "code",
   "outputs": [],
   "source": [
    "model.compile(loss='sparse_categorical_crossentropy',\n",
    "              optimizer=tf.keras.optimizers.Adam(),\n",
    "              metrics=['accuracy'])"
   ],
   "metadata": {
    "collapsed": false,
    "ExecuteTime": {
     "end_time": "2024-03-05T20:16:06.183799300Z",
     "start_time": "2024-03-05T20:16:06.138700Z"
    }
   },
   "id": "524bc672eee1f5b3",
   "execution_count": 9
  },
  {
   "cell_type": "code",
   "outputs": [
    {
     "name": "stdout",
     "output_type": "stream",
     "text": [
      "Epoch 1/10\n",
      "469/469 [==============================] - 7s 10ms/step - loss: 0.3897 - accuracy: 0.8906\n",
      "Epoch 2/10\n",
      "469/469 [==============================] - 5s 10ms/step - loss: 0.1910 - accuracy: 0.9449\n",
      "Epoch 3/10\n",
      "469/469 [==============================] - 4s 9ms/step - loss: 0.1464 - accuracy: 0.9582\n",
      "Epoch 4/10\n",
      "469/469 [==============================] - 4s 9ms/step - loss: 0.1183 - accuracy: 0.9656\n",
      "Epoch 5/10\n",
      "469/469 [==============================] - 5s 10ms/step - loss: 0.1005 - accuracy: 0.9704\n",
      "Epoch 6/10\n",
      "469/469 [==============================] - 4s 9ms/step - loss: 0.0893 - accuracy: 0.9739\n",
      "Epoch 7/10\n",
      "469/469 [==============================] - 5s 10ms/step - loss: 0.0775 - accuracy: 0.9765\n",
      "Epoch 8/10\n",
      "469/469 [==============================] - 4s 9ms/step - loss: 0.0694 - accuracy: 0.9793\n",
      "Epoch 9/10\n",
      "469/469 [==============================] - 4s 9ms/step - loss: 0.0622 - accuracy: 0.9811\n",
      "Epoch 10/10\n",
      "469/469 [==============================] - 6s 12ms/step - loss: 0.0568 - accuracy: 0.9827\n"
     ]
    },
    {
     "data": {
      "text/plain": "<keras.src.callbacks.History at 0x1430e171940>"
     },
     "execution_count": 10,
     "metadata": {},
     "output_type": "execute_result"
    }
   ],
   "source": [
    "model.fit(X_train, y_train, epochs=10, batch_size=128)"
   ],
   "metadata": {
    "collapsed": false,
    "ExecuteTime": {
     "end_time": "2024-03-05T20:17:25.475611700Z",
     "start_time": "2024-03-05T20:16:36.424613100Z"
    }
   },
   "id": "9b35109b3bc6ba52",
   "execution_count": 10
  },
  {
   "cell_type": "code",
   "outputs": [
    {
     "name": "stdout",
     "output_type": "stream",
     "text": [
      "313/313 [==============================] - 3s 6ms/step - loss: 0.0685 - accuracy: 0.9790\n"
     ]
    },
    {
     "data": {
      "text/plain": "[0.06852094829082489, 0.9789999723434448]"
     },
     "execution_count": 12,
     "metadata": {},
     "output_type": "execute_result"
    }
   ],
   "source": [
    "model.evaluate(X_test, y_test)"
   ],
   "metadata": {
    "collapsed": false,
    "ExecuteTime": {
     "end_time": "2024-03-05T20:18:44.564973700Z",
     "start_time": "2024-03-05T20:18:41.755064300Z"
    }
   },
   "id": "3fbc11f4d6b23ec9",
   "execution_count": 12
  },
  {
   "cell_type": "code",
   "outputs": [
    {
     "name": "stdout",
     "output_type": "stream",
     "text": [
      "Model: \"sequential\"\n",
      "_________________________________________________________________\n",
      " Layer (type)                Output Shape              Param #   \n",
      "=================================================================\n",
      " flatten (Flatten)           (None, 784)               0         \n",
      "                                                                 \n",
      " dense (Dense)               (None, 128)               100480    \n",
      "                                                                 \n",
      " dropout (Dropout)           (None, 128)               0         \n",
      "                                                                 \n",
      " dense_1 (Dense)             (None, 10)                1290      \n",
      "                                                                 \n",
      "=================================================================\n",
      "Total params: 101770 (397.54 KB)\n",
      "Trainable params: 101770 (397.54 KB)\n",
      "Non-trainable params: 0 (0.00 Byte)\n",
      "_________________________________________________________________\n"
     ]
    }
   ],
   "source": [
    "model.summary()"
   ],
   "metadata": {
    "collapsed": false,
    "ExecuteTime": {
     "end_time": "2024-03-05T20:19:06.725939100Z",
     "start_time": "2024-03-05T20:19:06.584372500Z"
    }
   },
   "id": "6b65303e1a92321c",
   "execution_count": 13
  },
  {
   "cell_type": "code",
   "outputs": [],
   "source": [],
   "metadata": {
    "collapsed": false
   },
   "id": "b9224348a9e9e50b"
  }
 ],
 "metadata": {
  "kernelspec": {
   "display_name": "Python 3",
   "language": "python",
   "name": "python3"
  },
  "language_info": {
   "codemirror_mode": {
    "name": "ipython",
    "version": 2
   },
   "file_extension": ".py",
   "mimetype": "text/x-python",
   "name": "python",
   "nbconvert_exporter": "python",
   "pygments_lexer": "ipython2",
   "version": "2.7.6"
  }
 },
 "nbformat": 4,
 "nbformat_minor": 5
}
