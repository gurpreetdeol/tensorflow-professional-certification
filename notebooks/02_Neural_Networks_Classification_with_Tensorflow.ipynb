{
 "cells": [
  {
   "cell_type": "markdown",
   "source": [
    "# Neural Network Classification with TensorFlow\n",
    "\n",
    "### Introduction to Neural Network Classification with TensorFlow\n",
    "\n",
    "A few types of classification problems:\n",
    "* Binary Classification\n",
    "* Multiclass Classification\n",
    "* Multilabel Classification"
   ],
   "metadata": {
    "collapsed": false
   },
   "id": "17750f389641abdc"
  },
  {
   "cell_type": "markdown",
   "source": [
    "#### Creating data to view and fit"
   ],
   "metadata": {
    "collapsed": false
   },
   "id": "e87393dd5c7c6b80"
  },
  {
   "cell_type": "code",
   "outputs": [],
   "source": [
    "from sklearn.datasets import make_circles"
   ],
   "metadata": {
    "collapsed": false,
    "ExecuteTime": {
     "end_time": "2024-03-07T23:49:46.189680100Z",
     "start_time": "2024-03-07T23:49:35.563008400Z"
    }
   },
   "id": "425864901990ac54",
   "execution_count": 1
  },
  {
   "cell_type": "code",
   "outputs": [],
   "source": [
    "# Make 1000 examples\n",
    "n_samples = 1000\n",
    "\n",
    "# Create circles\n",
    "X, y = make_circles(n_samples=n_samples,\n",
    "                    noise=0.03,\n",
    "                    random_state=42)"
   ],
   "metadata": {
    "collapsed": false,
    "ExecuteTime": {
     "end_time": "2024-03-07T23:49:46.438750400Z",
     "start_time": "2024-03-07T23:49:46.169495500Z"
    }
   },
   "id": "2edb805af687d346",
   "execution_count": 2
  },
  {
   "cell_type": "code",
   "outputs": [
    {
     "data": {
      "text/plain": "array([[ 0.75424625,  0.23148074],\n       [-0.75615888,  0.15325888],\n       [-0.81539193,  0.17328203],\n       [-0.39373073,  0.69288277],\n       [ 0.44220765, -0.89672343],\n       [-0.47964637,  0.67643477],\n       [-0.01364836,  0.80334872],\n       [ 0.77151327,  0.14775959],\n       [-0.16932234, -0.79345575],\n       [-0.1214858 ,  1.02150905]])"
     },
     "execution_count": 3,
     "metadata": {},
     "output_type": "execute_result"
    }
   ],
   "source": [
    "# Check out features\n",
    "X[:10]"
   ],
   "metadata": {
    "collapsed": false,
    "ExecuteTime": {
     "end_time": "2024-03-07T23:49:46.504518200Z",
     "start_time": "2024-03-07T23:49:46.212399500Z"
    }
   },
   "id": "e003ce3c92abf2d0",
   "execution_count": 3
  },
  {
   "cell_type": "code",
   "outputs": [
    {
     "data": {
      "text/plain": "array([1, 1, 1, 1, 0, 1, 1, 1, 1, 0], dtype=int64)"
     },
     "execution_count": 4,
     "metadata": {},
     "output_type": "execute_result"
    }
   ],
   "source": [
    "# Check the labels\n",
    "y[:10]"
   ],
   "metadata": {
    "collapsed": false,
    "ExecuteTime": {
     "end_time": "2024-03-07T23:49:46.595610700Z",
     "start_time": "2024-03-07T23:49:46.272844600Z"
    }
   },
   "id": "29edad05aef7fa40",
   "execution_count": 4
  },
  {
   "cell_type": "code",
   "outputs": [],
   "source": [
    "import pandas as pd\n",
    "\n",
    "circles = pd.DataFrame({\"X0\": X[:, 0], \"X1\": X[:, 1], \"label\": y})"
   ],
   "metadata": {
    "collapsed": false,
    "ExecuteTime": {
     "end_time": "2024-03-07T23:49:56.804964500Z",
     "start_time": "2024-03-07T23:49:46.331939400Z"
    }
   },
   "id": "e69ccac9f5654f26",
   "execution_count": 5
  },
  {
   "cell_type": "code",
   "outputs": [
    {
     "data": {
      "text/plain": "           X0        X1  label\n0    0.754246  0.231481      1\n1   -0.756159  0.153259      1\n2   -0.815392  0.173282      1\n3   -0.393731  0.692883      1\n4    0.442208 -0.896723      0\n..        ...       ...    ...\n995  0.244054  0.944125      0\n996 -0.978655 -0.272373      0\n997 -0.136900 -0.810012      1\n998  0.670362 -0.767502      0\n999  0.281057  0.963824      0\n\n[1000 rows x 3 columns]",
      "text/html": "<div>\n<style scoped>\n    .dataframe tbody tr th:only-of-type {\n        vertical-align: middle;\n    }\n\n    .dataframe tbody tr th {\n        vertical-align: top;\n    }\n\n    .dataframe thead th {\n        text-align: right;\n    }\n</style>\n<table border=\"1\" class=\"dataframe\">\n  <thead>\n    <tr style=\"text-align: right;\">\n      <th></th>\n      <th>X0</th>\n      <th>X1</th>\n      <th>label</th>\n    </tr>\n  </thead>\n  <tbody>\n    <tr>\n      <th>0</th>\n      <td>0.754246</td>\n      <td>0.231481</td>\n      <td>1</td>\n    </tr>\n    <tr>\n      <th>1</th>\n      <td>-0.756159</td>\n      <td>0.153259</td>\n      <td>1</td>\n    </tr>\n    <tr>\n      <th>2</th>\n      <td>-0.815392</td>\n      <td>0.173282</td>\n      <td>1</td>\n    </tr>\n    <tr>\n      <th>3</th>\n      <td>-0.393731</td>\n      <td>0.692883</td>\n      <td>1</td>\n    </tr>\n    <tr>\n      <th>4</th>\n      <td>0.442208</td>\n      <td>-0.896723</td>\n      <td>0</td>\n    </tr>\n    <tr>\n      <th>...</th>\n      <td>...</td>\n      <td>...</td>\n      <td>...</td>\n    </tr>\n    <tr>\n      <th>995</th>\n      <td>0.244054</td>\n      <td>0.944125</td>\n      <td>0</td>\n    </tr>\n    <tr>\n      <th>996</th>\n      <td>-0.978655</td>\n      <td>-0.272373</td>\n      <td>0</td>\n    </tr>\n    <tr>\n      <th>997</th>\n      <td>-0.136900</td>\n      <td>-0.810012</td>\n      <td>1</td>\n    </tr>\n    <tr>\n      <th>998</th>\n      <td>0.670362</td>\n      <td>-0.767502</td>\n      <td>0</td>\n    </tr>\n    <tr>\n      <th>999</th>\n      <td>0.281057</td>\n      <td>0.963824</td>\n      <td>0</td>\n    </tr>\n  </tbody>\n</table>\n<p>1000 rows × 3 columns</p>\n</div>"
     },
     "execution_count": 6,
     "metadata": {},
     "output_type": "execute_result"
    }
   ],
   "source": [
    "circles"
   ],
   "metadata": {
    "collapsed": false,
    "ExecuteTime": {
     "end_time": "2024-03-07T23:49:57.167160900Z",
     "start_time": "2024-03-07T23:49:56.807590500Z"
    }
   },
   "id": "8df8708676139ed3",
   "execution_count": 6
  },
  {
   "cell_type": "code",
   "outputs": [
    {
     "data": {
      "text/plain": "label\n1    500\n0    500\nName: count, dtype: int64"
     },
     "execution_count": 7,
     "metadata": {},
     "output_type": "execute_result"
    }
   ],
   "source": [
    "circles['label'].value_counts()"
   ],
   "metadata": {
    "collapsed": false,
    "ExecuteTime": {
     "end_time": "2024-03-07T23:49:57.278366500Z",
     "start_time": "2024-03-07T23:49:56.910872100Z"
    }
   },
   "id": "d1a52713f71e5751",
   "execution_count": 7
  },
  {
   "cell_type": "code",
   "outputs": [
    {
     "data": {
      "text/plain": "<Figure size 640x480 with 1 Axes>",
      "image/png": "[encoded data removed]"
     },
     "metadata": {},
     "output_type": "display_data"
    }
   ],
   "source": [
    "# Visualize with plot\n",
    "import matplotlib.pyplot as plt\n",
    "\n",
    "plt.scatter(X[:, 0], X[:, 1], c=y, cmap=plt.cm.RdYlBu)\n",
    "plt.show()"
   ],
   "metadata": {
    "collapsed": false,
    "ExecuteTime": {
     "end_time": "2024-03-07T23:50:04.382604800Z",
     "start_time": "2024-03-07T23:49:57.008345100Z"
    }
   },
   "id": "1e277fd955eae48",
   "execution_count": 8
  },
  {
   "cell_type": "markdown",
   "source": [
    "### Input and output shapes"
   ],
   "metadata": {
    "collapsed": false
   },
   "id": "6956c2680aee2ff1"
  },
  {
   "cell_type": "code",
   "outputs": [
    {
     "data": {
      "text/plain": "((1000, 2), (1000,))"
     },
     "execution_count": 9,
     "metadata": {},
     "output_type": "execute_result"
    }
   ],
   "source": [
    "# Check the shapes of the our features and labels\n",
    "X.shape, y.shape"
   ],
   "metadata": {
    "collapsed": false,
    "ExecuteTime": {
     "end_time": "2024-03-07T23:50:04.950245800Z",
     "start_time": "2024-03-07T23:50:04.385603200Z"
    }
   },
   "id": "51b4ba5edebcc621",
   "execution_count": 9
  },
  {
   "cell_type": "code",
   "outputs": [
    {
     "data": {
      "text/plain": "(1000, 1000)"
     },
     "execution_count": 10,
     "metadata": {},
     "output_type": "execute_result"
    }
   ],
   "source": [
    "len(X), len(y)"
   ],
   "metadata": {
    "collapsed": false,
    "ExecuteTime": {
     "end_time": "2024-03-07T23:50:05.065020900Z",
     "start_time": "2024-03-07T23:50:04.430827100Z"
    }
   },
   "id": "123ebe5e814ad97f",
   "execution_count": 10
  },
  {
   "cell_type": "code",
   "outputs": [
    {
     "data": {
      "text/plain": "(array([0.75424625, 0.23148074]), 1)"
     },
     "execution_count": 11,
     "metadata": {},
     "output_type": "execute_result"
    }
   ],
   "source": [
    "# View the first example of the features and labels\n",
    "X[0], y[0]"
   ],
   "metadata": {
    "collapsed": false,
    "ExecuteTime": {
     "end_time": "2024-03-07T23:50:05.205733Z",
     "start_time": "2024-03-07T23:50:04.471704500Z"
    }
   },
   "id": "9c1764f96e8affb1",
   "execution_count": 11
  },
  {
   "cell_type": "code",
   "outputs": [],
   "source": [
    "# X, y = X/255.,y/255."
   ],
   "metadata": {
    "collapsed": false,
    "ExecuteTime": {
     "end_time": "2024-03-07T23:50:05.327385200Z",
     "start_time": "2024-03-07T23:50:04.527169Z"
    }
   },
   "id": "69f7ad5846441829",
   "execution_count": 12
  },
  {
   "cell_type": "markdown",
   "source": [
    "### Steps in modeling\n",
    "\n",
    "1. Create or import a model\n",
    "2. Compile a model\n",
    "3. Fit the model\n",
    "4. Evaluate the model\n",
    "5. Tweak\n",
    "6. Evaluate"
   ],
   "metadata": {
    "collapsed": false
   },
   "id": "b030fc2b5eb60032"
  },
  {
   "cell_type": "code",
   "outputs": [
    {
     "data": {
      "text/plain": "'2.13.0'"
     },
     "execution_count": 13,
     "metadata": {},
     "output_type": "execute_result"
    }
   ],
   "source": [
    "# Import TensorFlow Libraries\n",
    "import tensorflow as tf\n",
    "\n",
    "tf.__version__"
   ],
   "metadata": {
    "collapsed": false,
    "ExecuteTime": {
     "end_time": "2024-03-07T23:50:23.883218Z",
     "start_time": "2024-03-07T23:50:04.553883300Z"
    }
   },
   "id": "3a9fb582d06d455d",
   "execution_count": 13
  },
  {
   "cell_type": "markdown",
   "source": [
    "### Model 1"
   ],
   "metadata": {
    "collapsed": false
   },
   "id": "a636e8bc6ed18c3c"
  },
  {
   "cell_type": "code",
   "outputs": [
    {
     "name": "stdout",
     "output_type": "stream",
     "text": [
      "Epoch 1/5\n",
      "32/32 [==============================] - 1s 5ms/step - loss: 5.4138 - accuracy: 0.4790\n",
      "Epoch 2/5\n",
      "32/32 [==============================] - 0s 4ms/step - loss: 4.5999 - accuracy: 0.4740\n",
      "Epoch 3/5\n",
      "32/32 [==============================] - 0s 5ms/step - loss: 2.8629 - accuracy: 0.4900\n",
      "Epoch 4/5\n",
      "32/32 [==============================] - 0s 5ms/step - loss: 0.7492 - accuracy: 0.5010\n",
      "Epoch 5/5\n",
      "32/32 [==============================] - 0s 5ms/step - loss: 0.7089 - accuracy: 0.5030\n"
     ]
    },
    {
     "data": {
      "text/plain": "<keras.src.callbacks.History at 0x1ed581202b0>"
     },
     "execution_count": 14,
     "metadata": {},
     "output_type": "execute_result"
    }
   ],
   "source": [
    "# Set random seed\n",
    "tf.random.set_seed(42)\n",
    "\n",
    "# Create a model using the Sequential API\n",
    "model_1 = tf.keras.Sequential([\n",
    "    # tf.keras.layers.Input(shape=(224, 224, 1)),\n",
    "    # tf.keras.layers.Dense(100, activation=\"relu\"),\n",
    "    # tf.keras.layers.Dense(3, activation=\"softmax\")\n",
    "    tf.keras.layers.Dense(1)\n",
    "])\n",
    "\n",
    "model_1.compile(loss=tf.keras.losses.BinaryCrossentropy(),\n",
    "                optimizer=tf.keras.optimizers.SGD(),\n",
    "                metrics=[\"accuracy\"])\n",
    "\n",
    "model_1.fit(X, y, epochs=5)"
   ],
   "metadata": {
    "collapsed": false,
    "ExecuteTime": {
     "end_time": "2024-03-07T23:50:27.158789800Z",
     "start_time": "2024-03-07T23:50:23.875682500Z"
    }
   },
   "id": "5996b3940eaf2948",
   "execution_count": 14
  },
  {
   "cell_type": "markdown",
   "source": [
    "### Model 2"
   ],
   "metadata": {
    "collapsed": false
   },
   "id": "60c0247fb6255daf"
  },
  {
   "cell_type": "code",
   "outputs": [
    {
     "name": "stdout",
     "output_type": "stream",
     "text": [
      "Epoch 1/10\n",
      "32/32 [==============================] - 0s 6ms/step - loss: 0.7001 - accuracy: 0.5000\n",
      "Epoch 2/10\n",
      "32/32 [==============================] - 0s 6ms/step - loss: 0.6961 - accuracy: 0.5020\n",
      "Epoch 3/10\n",
      "32/32 [==============================] - 0s 5ms/step - loss: 0.6956 - accuracy: 0.4790\n",
      "Epoch 4/10\n",
      "32/32 [==============================] - 0s 6ms/step - loss: 0.6944 - accuracy: 0.5000\n",
      "Epoch 5/10\n",
      "32/32 [==============================] - 0s 5ms/step - loss: 0.6940 - accuracy: 0.5030\n",
      "Epoch 6/10\n",
      "32/32 [==============================] - 0s 5ms/step - loss: 0.6937 - accuracy: 0.4990\n",
      "Epoch 7/10\n",
      "32/32 [==============================] - 0s 6ms/step - loss: 0.6943 - accuracy: 0.5040\n",
      "Epoch 8/10\n",
      "32/32 [==============================] - 0s 7ms/step - loss: 0.6941 - accuracy: 0.4890\n",
      "Epoch 9/10\n",
      "32/32 [==============================] - 0s 6ms/step - loss: 0.6940 - accuracy: 0.4860\n",
      "Epoch 10/10\n",
      "32/32 [==============================] - 0s 6ms/step - loss: 0.6938 - accuracy: 0.4800\n"
     ]
    },
    {
     "data": {
      "text/plain": "<keras.src.callbacks.History at 0x1ed5836e880>"
     },
     "execution_count": 15,
     "metadata": {},
     "output_type": "execute_result"
    }
   ],
   "source": [
    "# Let's try to improve our model\n",
    "model_1.fit(X, y, epochs=10)"
   ],
   "metadata": {
    "collapsed": false,
    "ExecuteTime": {
     "end_time": "2024-03-07T23:50:29.629422300Z",
     "start_time": "2024-03-07T23:50:26.879068800Z"
    }
   },
   "id": "6acbcab2d53ef51c",
   "execution_count": 15
  },
  {
   "cell_type": "code",
   "outputs": [
    {
     "name": "stdout",
     "output_type": "stream",
     "text": [
      "32/32 [==============================] - 1s 5ms/step - loss: 0.6933 - accuracy: 0.5020\n"
     ]
    },
    {
     "data": {
      "text/plain": "[0.6933045387268066, 0.5019999742507935]"
     },
     "execution_count": 16,
     "metadata": {},
     "output_type": "execute_result"
    }
   ],
   "source": [
    "model_1.evaluate(X, y)"
   ],
   "metadata": {
    "collapsed": false,
    "ExecuteTime": {
     "end_time": "2024-03-07T23:50:30.356262600Z",
     "start_time": "2024-03-07T23:50:29.168615800Z"
    }
   },
   "id": "e1908d795eacd886",
   "execution_count": 16
  },
  {
   "cell_type": "markdown",
   "source": [
    "### Model 2"
   ],
   "metadata": {
    "collapsed": false
   },
   "id": "472f82b422901b15"
  },
  {
   "cell_type": "code",
   "outputs": [
    {
     "name": "stdout",
     "output_type": "stream",
     "text": [
      "Epoch 1/100\n",
      "32/32 [==============================] - 2s 9ms/step - loss: 2.2005 - accuracy: 0.4680\n",
      "Epoch 2/100\n",
      "32/32 [==============================] - 0s 8ms/step - loss: 0.7182 - accuracy: 0.4880\n",
      "Epoch 3/100\n",
      "32/32 [==============================] - 0s 14ms/step - loss: 0.6983 - accuracy: 0.4690\n",
      "Epoch 4/100\n",
      "32/32 [==============================] - 0s 8ms/step - loss: 0.6947 - accuracy: 0.4680\n",
      "Epoch 5/100\n",
      "32/32 [==============================] - 0s 7ms/step - loss: 0.6942 - accuracy: 0.4730\n",
      "Epoch 6/100\n",
      "32/32 [==============================] - 0s 7ms/step - loss: 0.6934 - accuracy: 0.5120\n",
      "Epoch 7/100\n",
      "32/32 [==============================] - 0s 8ms/step - loss: 0.6941 - accuracy: 0.4990\n",
      "Epoch 8/100\n",
      "32/32 [==============================] - 0s 7ms/step - loss: 0.6940 - accuracy: 0.5100\n",
      "Epoch 9/100\n",
      "32/32 [==============================] - 0s 7ms/step - loss: 0.6940 - accuracy: 0.4880\n",
      "Epoch 10/100\n",
      "32/32 [==============================] - 0s 6ms/step - loss: 0.6936 - accuracy: 0.4990\n",
      "Epoch 11/100\n",
      "32/32 [==============================] - 0s 6ms/step - loss: 0.6943 - accuracy: 0.4790\n",
      "Epoch 12/100\n",
      "32/32 [==============================] - 0s 7ms/step - loss: 0.6944 - accuracy: 0.4930\n",
      "Epoch 13/100\n",
      "32/32 [==============================] - 0s 6ms/step - loss: 0.6941 - accuracy: 0.4830\n",
      "Epoch 14/100\n",
      "32/32 [==============================] - 0s 8ms/step - loss: 0.6944 - accuracy: 0.4800\n",
      "Epoch 15/100\n",
      "32/32 [==============================] - 0s 7ms/step - loss: 0.6940 - accuracy: 0.4700\n",
      "Epoch 16/100\n",
      "32/32 [==============================] - 0s 7ms/step - loss: 0.6944 - accuracy: 0.4480\n",
      "Epoch 17/100\n",
      "32/32 [==============================] - 0s 6ms/step - loss: 0.6939 - accuracy: 0.4890\n",
      "Epoch 18/100\n",
      "32/32 [==============================] - 0s 7ms/step - loss: 0.6940 - accuracy: 0.4900\n",
      "Epoch 19/100\n",
      "32/32 [==============================] - 0s 7ms/step - loss: 0.6940 - accuracy: 0.4820\n",
      "Epoch 20/100\n",
      "32/32 [==============================] - 0s 8ms/step - loss: 0.6941 - accuracy: 0.4770\n",
      "Epoch 21/100\n",
      "32/32 [==============================] - 0s 7ms/step - loss: 0.6937 - accuracy: 0.5030\n",
      "Epoch 22/100\n",
      "32/32 [==============================] - 0s 6ms/step - loss: 0.6941 - accuracy: 0.4790\n",
      "Epoch 23/100\n",
      "32/32 [==============================] - 0s 5ms/step - loss: 0.6939 - accuracy: 0.4850\n",
      "Epoch 24/100\n",
      "32/32 [==============================] - 0s 6ms/step - loss: 0.6941 - accuracy: 0.4840\n",
      "Epoch 25/100\n",
      "32/32 [==============================] - 0s 5ms/step - loss: 0.6938 - accuracy: 0.4860\n",
      "Epoch 26/100\n",
      "32/32 [==============================] - 0s 5ms/step - loss: 0.6943 - accuracy: 0.4750\n",
      "Epoch 27/100\n",
      "32/32 [==============================] - 0s 6ms/step - loss: 0.6937 - accuracy: 0.5100\n",
      "Epoch 28/100\n",
      "32/32 [==============================] - 0s 5ms/step - loss: 0.6944 - accuracy: 0.4660\n",
      "Epoch 29/100\n",
      "32/32 [==============================] - 0s 5ms/step - loss: 0.6942 - accuracy: 0.4740\n",
      "Epoch 30/100\n",
      "32/32 [==============================] - 0s 5ms/step - loss: 0.6941 - accuracy: 0.4840\n",
      "Epoch 31/100\n",
      "32/32 [==============================] - 0s 5ms/step - loss: 0.6940 - accuracy: 0.5050\n",
      "Epoch 32/100\n",
      "32/32 [==============================] - 0s 6ms/step - loss: 0.6940 - accuracy: 0.4600\n",
      "Epoch 33/100\n",
      "32/32 [==============================] - 0s 6ms/step - loss: 0.6940 - accuracy: 0.4750\n",
      "Epoch 34/100\n",
      "32/32 [==============================] - 0s 7ms/step - loss: 0.6946 - accuracy: 0.4790\n",
      "Epoch 35/100\n",
      "32/32 [==============================] - 0s 6ms/step - loss: 0.6942 - accuracy: 0.4920\n",
      "Epoch 36/100\n",
      "32/32 [==============================] - 0s 5ms/step - loss: 0.6944 - accuracy: 0.4830\n",
      "Epoch 37/100\n",
      "32/32 [==============================] - 0s 5ms/step - loss: 0.6939 - accuracy: 0.4880\n",
      "Epoch 38/100\n",
      "32/32 [==============================] - 0s 5ms/step - loss: 0.6939 - accuracy: 0.4920\n",
      "Epoch 39/100\n",
      "32/32 [==============================] - 0s 6ms/step - loss: 0.6941 - accuracy: 0.4660\n",
      "Epoch 40/100\n",
      "32/32 [==============================] - 0s 5ms/step - loss: 0.6948 - accuracy: 0.4860\n",
      "Epoch 41/100\n",
      "32/32 [==============================] - 0s 6ms/step - loss: 0.6937 - accuracy: 0.5120\n",
      "Epoch 42/100\n",
      "32/32 [==============================] - 0s 6ms/step - loss: 0.6942 - accuracy: 0.4830\n",
      "Epoch 43/100\n",
      "32/32 [==============================] - 0s 6ms/step - loss: 0.6942 - accuracy: 0.4840\n",
      "Epoch 44/100\n",
      "32/32 [==============================] - 0s 6ms/step - loss: 0.6933 - accuracy: 0.5110\n",
      "Epoch 45/100\n",
      "32/32 [==============================] - 0s 6ms/step - loss: 0.6943 - accuracy: 0.4960\n",
      "Epoch 46/100\n",
      "32/32 [==============================] - 0s 6ms/step - loss: 0.6941 - accuracy: 0.4830\n",
      "Epoch 47/100\n",
      "32/32 [==============================] - 0s 7ms/step - loss: 0.6938 - accuracy: 0.5010\n",
      "Epoch 48/100\n",
      "32/32 [==============================] - 0s 7ms/step - loss: 0.6939 - accuracy: 0.4930\n",
      "Epoch 49/100\n",
      "32/32 [==============================] - 0s 8ms/step - loss: 0.6941 - accuracy: 0.4600\n",
      "Epoch 50/100\n",
      "32/32 [==============================] - 0s 10ms/step - loss: 0.6941 - accuracy: 0.5010\n",
      "Epoch 51/100\n",
      "32/32 [==============================] - 0s 12ms/step - loss: 0.6940 - accuracy: 0.4860\n",
      "Epoch 52/100\n",
      "32/32 [==============================] - 0s 9ms/step - loss: 0.6941 - accuracy: 0.4920\n",
      "Epoch 53/100\n",
      "32/32 [==============================] - 0s 8ms/step - loss: 0.6937 - accuracy: 0.4760\n",
      "Epoch 54/100\n",
      "32/32 [==============================] - 0s 15ms/step - loss: 0.6942 - accuracy: 0.4820\n",
      "Epoch 55/100\n",
      "32/32 [==============================] - 0s 8ms/step - loss: 0.6942 - accuracy: 0.5010\n",
      "Epoch 56/100\n",
      "32/32 [==============================] - 0s 6ms/step - loss: 0.6939 - accuracy: 0.4990\n",
      "Epoch 57/100\n",
      "32/32 [==============================] - 0s 6ms/step - loss: 0.6941 - accuracy: 0.4680\n",
      "Epoch 58/100\n",
      "32/32 [==============================] - 0s 6ms/step - loss: 0.6941 - accuracy: 0.4870\n",
      "Epoch 59/100\n",
      "32/32 [==============================] - 0s 7ms/step - loss: 0.6938 - accuracy: 0.5050\n",
      "Epoch 60/100\n",
      "32/32 [==============================] - 0s 7ms/step - loss: 0.6943 - accuracy: 0.5010\n",
      "Epoch 61/100\n",
      "32/32 [==============================] - 0s 6ms/step - loss: 0.6944 - accuracy: 0.4860\n",
      "Epoch 62/100\n",
      "32/32 [==============================] - 0s 6ms/step - loss: 0.6942 - accuracy: 0.4890\n",
      "Epoch 63/100\n",
      "32/32 [==============================] - 0s 5ms/step - loss: 0.6940 - accuracy: 0.4760\n",
      "Epoch 64/100\n",
      "32/32 [==============================] - 0s 7ms/step - loss: 0.6941 - accuracy: 0.4940\n",
      "Epoch 65/100\n",
      "32/32 [==============================] - 0s 8ms/step - loss: 0.6941 - accuracy: 0.4900\n",
      "Epoch 66/100\n",
      "32/32 [==============================] - 0s 7ms/step - loss: 0.6939 - accuracy: 0.4970\n",
      "Epoch 67/100\n",
      "32/32 [==============================] - 0s 6ms/step - loss: 0.6945 - accuracy: 0.4770\n",
      "Epoch 68/100\n",
      "32/32 [==============================] - 0s 6ms/step - loss: 0.6938 - accuracy: 0.4790\n",
      "Epoch 69/100\n",
      "32/32 [==============================] - 0s 5ms/step - loss: 0.6941 - accuracy: 0.5030\n",
      "Epoch 70/100\n",
      "32/32 [==============================] - 0s 5ms/step - loss: 0.6944 - accuracy: 0.4590\n",
      "Epoch 71/100\n",
      "32/32 [==============================] - 0s 5ms/step - loss: 0.6939 - accuracy: 0.4990\n",
      "Epoch 72/100\n",
      "32/32 [==============================] - 0s 10ms/step - loss: 0.6943 - accuracy: 0.4950\n",
      "Epoch 73/100\n",
      "32/32 [==============================] - 0s 9ms/step - loss: 0.6941 - accuracy: 0.4890\n",
      "Epoch 74/100\n",
      "32/32 [==============================] - 0s 14ms/step - loss: 0.6940 - accuracy: 0.4980\n",
      "Epoch 75/100\n",
      "32/32 [==============================] - 0s 8ms/step - loss: 0.6939 - accuracy: 0.5060\n",
      "Epoch 76/100\n",
      "32/32 [==============================] - 0s 6ms/step - loss: 0.6939 - accuracy: 0.4990\n",
      "Epoch 77/100\n",
      "32/32 [==============================] - 0s 6ms/step - loss: 0.6942 - accuracy: 0.4780\n",
      "Epoch 78/100\n",
      "32/32 [==============================] - 0s 6ms/step - loss: 0.6941 - accuracy: 0.4670\n",
      "Epoch 79/100\n",
      "32/32 [==============================] - 0s 6ms/step - loss: 0.6939 - accuracy: 0.5010\n",
      "Epoch 80/100\n",
      "32/32 [==============================] - 0s 6ms/step - loss: 0.6942 - accuracy: 0.5090\n",
      "Epoch 81/100\n",
      "32/32 [==============================] - 0s 6ms/step - loss: 0.6941 - accuracy: 0.5000\n",
      "Epoch 82/100\n",
      "32/32 [==============================] - 0s 7ms/step - loss: 0.6940 - accuracy: 0.4830\n",
      "Epoch 83/100\n",
      "32/32 [==============================] - 0s 7ms/step - loss: 0.6941 - accuracy: 0.5060\n",
      "Epoch 84/100\n",
      "32/32 [==============================] - 0s 8ms/step - loss: 0.6942 - accuracy: 0.5000\n",
      "Epoch 85/100\n",
      "32/32 [==============================] - 0s 8ms/step - loss: 0.6938 - accuracy: 0.4930\n",
      "Epoch 86/100\n",
      "32/32 [==============================] - 0s 7ms/step - loss: 0.6938 - accuracy: 0.4950\n",
      "Epoch 87/100\n",
      "32/32 [==============================] - 0s 7ms/step - loss: 0.6941 - accuracy: 0.4620\n",
      "Epoch 88/100\n",
      "32/32 [==============================] - 0s 7ms/step - loss: 0.6943 - accuracy: 0.4640\n",
      "Epoch 89/100\n",
      "32/32 [==============================] - 0s 6ms/step - loss: 0.6944 - accuracy: 0.5220\n",
      "Epoch 90/100\n",
      "32/32 [==============================] - 0s 8ms/step - loss: 0.6940 - accuracy: 0.4890\n",
      "Epoch 91/100\n",
      "32/32 [==============================] - 0s 6ms/step - loss: 0.6943 - accuracy: 0.4920\n",
      "Epoch 92/100\n",
      "32/32 [==============================] - 0s 6ms/step - loss: 0.6941 - accuracy: 0.5040\n",
      "Epoch 93/100\n",
      "32/32 [==============================] - 0s 7ms/step - loss: 0.6940 - accuracy: 0.4870\n",
      "Epoch 94/100\n",
      "32/32 [==============================] - 0s 8ms/step - loss: 0.6945 - accuracy: 0.4790\n",
      "Epoch 95/100\n",
      "32/32 [==============================] - 0s 7ms/step - loss: 0.6938 - accuracy: 0.4740\n",
      "Epoch 96/100\n",
      "32/32 [==============================] - 0s 6ms/step - loss: 0.6942 - accuracy: 0.4650\n",
      "Epoch 97/100\n",
      "32/32 [==============================] - 0s 7ms/step - loss: 0.6941 - accuracy: 0.4670\n",
      "Epoch 98/100\n",
      "32/32 [==============================] - 0s 6ms/step - loss: 0.6942 - accuracy: 0.4720\n",
      "Epoch 99/100\n",
      "32/32 [==============================] - 0s 5ms/step - loss: 0.6945 - accuracy: 0.4980\n",
      "Epoch 100/100\n",
      "32/32 [==============================] - 0s 5ms/step - loss: 0.6941 - accuracy: 0.4970\n"
     ]
    },
    {
     "data": {
      "text/plain": "<keras.src.callbacks.History at 0x1ed593c9dc0>"
     },
     "execution_count": 17,
     "metadata": {},
     "output_type": "execute_result"
    }
   ],
   "source": [
    "# Let's try to improve our model\n",
    "\n",
    "# Set random seed\n",
    "tf.random.set_seed(42)\n",
    "\n",
    "# Create a model using the Sequential API\n",
    "model_2 = tf.keras.Sequential([\n",
    "    # tf.keras.layers.Input(shape=(224, 224, 1)),\n",
    "    # tf.keras.layers.Dense(100, activation=\"relu\"),\n",
    "    # tf.keras.layers.Dense(3, activation=\"softmax\")\n",
    "    tf.keras.layers.Dense(1),\n",
    "    tf.keras.layers.Dense(1)\n",
    "])\n",
    "\n",
    "model_2.compile(loss=tf.keras.losses.BinaryCrossentropy(),\n",
    "                optimizer=tf.keras.optimizers.SGD(),\n",
    "                metrics=[\"accuracy\"])\n",
    "\n",
    "model_2.fit(X, y, epochs=100, verbose=1)"
   ],
   "metadata": {
    "collapsed": false,
    "ExecuteTime": {
     "end_time": "2024-03-07T23:50:57.391978600Z",
     "start_time": "2024-03-07T23:50:30.197163600Z"
    }
   },
   "id": "c84eca7f79950338",
   "execution_count": 17
  },
  {
   "cell_type": "code",
   "outputs": [
    {
     "name": "stdout",
     "output_type": "stream",
     "text": [
      "32/32 [==============================] - 1s 5ms/step - loss: 0.6932 - accuracy: 0.5000\n"
     ]
    },
    {
     "data": {
      "text/plain": "[0.6932278871536255, 0.5]"
     },
     "execution_count": 18,
     "metadata": {},
     "output_type": "execute_result"
    }
   ],
   "source": [
    "# Evaluate the model\n",
    "model_2.evaluate(X, y)"
   ],
   "metadata": {
    "collapsed": false,
    "ExecuteTime": {
     "end_time": "2024-03-07T23:50:59.228844900Z",
     "start_time": "2024-03-07T23:50:56.124049600Z"
    }
   },
   "id": "51e0bd20b3d812de",
   "execution_count": 18
  },
  {
   "cell_type": "markdown",
   "source": [
    "### Improve our model ahead\n",
    "\n",
    "Let's look into bag of tricks to see how to improve our model\n",
    "\n",
    "1. Create a model - We might add more layers or increase the number of hidden units within a layer.\n",
    "2. Compile the model - Here we might to choose a different optimization function such as Adam instead of SGD.\n",
    "    - Loss - How wrong your model's predictions are compared to the truth labels (you want to minimize this).\n",
    "    - Optimizer - How your model should update its internal patterns to better it's predictions.\n",
    "    - Metrics - Human interpretable values for how well your model is doing.  \n",
    "3. Fit the model - Perhaps we might fit our model for more epochs (leave it training for longer). \n",
    "    - Epochs - How many times the model will go through all of the training examples.\n",
    "4. Evaluate the model on the test data (how reliable are our model's predictions?)"
   ],
   "metadata": {
    "collapsed": false
   },
   "id": "ad920053249ce045"
  },
  {
   "cell_type": "code",
   "outputs": [],
   "source": [],
   "metadata": {
    "collapsed": false,
    "ExecuteTime": {
     "end_time": "2024-03-07T23:50:59.232835700Z",
     "start_time": "2024-03-07T23:50:56.985229100Z"
    }
   },
   "id": "11e6978db4a4f2ed",
   "execution_count": 18
  },
  {
   "cell_type": "code",
   "outputs": [
    {
     "data": {
      "text/plain": "<keras.src.callbacks.History at 0x1ed594fa490>"
     },
     "execution_count": 19,
     "metadata": {},
     "output_type": "execute_result"
    }
   ],
   "source": [
    "# Set random seed\n",
    "tf.random.set_seed(42)\n",
    "\n",
    "# 1. Create a model using the Sequential API\n",
    "model_3 = tf.keras.Sequential([\n",
    "    # tf.keras.layers.Input(shape=(224, 224, 1)),\n",
    "    # tf.keras.layers.Dense(100, activation=\"relu\"),\n",
    "    # tf.keras.layers.Dense(3, activation=\"softmax\"),\n",
    "    tf.keras.layers.Dense(100),  # Add 100 dense neurons\n",
    "    tf.keras.layers.Dense(10),  # Add another layer with 10 neurons\n",
    "    tf.keras.layers.Dense(1)\n",
    "])\n",
    "\n",
    "# 2. Compile the model\n",
    "model_3.compile(loss=tf.keras.losses.BinaryCrossentropy(),\n",
    "                optimizer=tf.keras.optimizers.Adam(),\n",
    "                metrics=[\"accuracy\"])\n",
    "\n",
    "# 3. Fit the model\n",
    "model_3.fit(X, y, epochs=100, verbose=1)"
   ],
   "metadata": {
    "collapsed": false,
    "ExecuteTime": {
     "end_time": "2024-03-07T23:51:14.621676400Z",
     "start_time": "2024-03-07T23:50:57.015617100Z"
    }
   },
   "id": "4e94c7cdaf0f4b32",
   "execution_count": 19
  },
  {
   "cell_type": "code",
   "outputs": [
    {
     "name": "stdout",
     "output_type": "stream",
     "text": [
      "32/32 [==============================] - 1s 6ms/step - loss: 0.7028 - accuracy: 0.5070\n"
     ]
    },
    {
     "data": {
      "text/plain": "[0.7027588486671448, 0.5070000290870667]"
     },
     "execution_count": 20,
     "metadata": {},
     "output_type": "execute_result"
    }
   ],
   "source": [
    "# Evaluate the model\n",
    "model_3.evaluate(X, y)"
   ],
   "metadata": {
    "collapsed": false,
    "ExecuteTime": {
     "end_time": "2024-03-07T23:51:15.598676400Z",
     "start_time": "2024-03-07T23:51:14.501727700Z"
    }
   },
   "id": "9e931a2e49e98203",
   "execution_count": 20
  },
  {
   "cell_type": "markdown",
   "source": [
    "### To visualize our model's predictions, let's create a function `plot_decision_boundary()`, this function will:\n",
    "\n",
    "* Take in trainined model, features (X) and label (y)    \n",
    "* Create a meshgrid to the different X values\n",
    "* Make predictions across meshgrid\n",
    "* Plot the predictions as well as a line between zones (where each unique class falls)"
   ],
   "metadata": {
    "collapsed": false
   },
   "id": "41f6e44762b73985"
  },
  {
   "cell_type": "code",
   "outputs": [],
   "source": [
    "import numpy as np\n",
    "import matplotlib as mpl\n",
    "import matplotlib.colors as mcolors"
   ],
   "metadata": {
    "collapsed": false,
    "ExecuteTime": {
     "end_time": "2024-03-07T23:51:15.668053100Z",
     "start_time": "2024-03-07T23:51:15.471204900Z"
    }
   },
   "id": "fafe47e0bc51b63f",
   "execution_count": 21
  },
  {
   "cell_type": "code",
   "outputs": [],
   "source": [
    "def plot_decision_boundary(model, X, y):\n",
    "    \"\"\"\n",
    "    Plots the decision boundary created by a model prediction on X.\n",
    "    \n",
    "    \"\"\"\n",
    "    # Define the axis boundaries of the plot and create a meshgrid\n",
    "    x_min, x_max = X[:, 0].min() - 0.1, X[:, 0].max() + 0.1\n",
    "    y_min, y_max = X[:, 1].min() - 0.1, X[:, 1].max() + 0.1\n",
    "    xx, yy = np.meshgrid(np.linspace(x_min, x_max, 100),\n",
    "                         np.linspace(y_min, y_max, 100))\n",
    "\n",
    "    # Create X value (we're going to make predictions on these)\n",
    "    x_in = np.c_[xx.ravel(), yy.ravel()]  # Stack 2-D arrays together\n",
    "\n",
    "    # Make predictions\n",
    "    y_pred = model.predict(x_in)\n",
    "\n",
    "    # Check for multi-class \n",
    "    if len(y_pred[0]) > 1:\n",
    "        print(\"Doing multiclass classification\")\n",
    "        # We have to reshape our prediction to get them ready for plotting\n",
    "        y_pred = np.argmax(y_pred, axis=1).reshape(xx.shape)\n",
    "    else:\n",
    "        print(\"Doing binary classification\")\n",
    "        y_pred = np.round(y_pred).reshape(xx.shape)\n",
    "\n",
    "    cmap = mpl.colormaps['RdYlBu'] # viridis'] # plt.cm.get_cmap(\"Spectral\")\n",
    "    # Plot the decision boundary\n",
    "    plt.contourf(xx, yy, y_pred, cmap=mpl.colormaps.get_cmap(cmap), alpha=0.7)\n",
    "    plt.scatter(X[:, 0], X[:, 1], c=y, s=40, cmap=mpl.colormaps.get_cmap(cmap))\n",
    "    plt.xlim(xx.min(), xx.max())\n",
    "    plt.ylim(yy.min(), yy.max())"
   ],
   "metadata": {
    "collapsed": false,
    "ExecuteTime": {
     "end_time": "2024-03-07T23:51:15.860297400Z",
     "start_time": "2024-03-07T23:51:15.521901600Z"
    }
   },
   "id": "9b37fdc21cf8ef51",
   "execution_count": 22
  },
  {
   "cell_type": "code",
   "outputs": [
    {
     "name": "stdout",
     "output_type": "stream",
     "text": [
      "313/313 [==============================] - 2s 4ms/step\n",
      "Doing binary classification\n"
     ]
    },
    {
     "data": {
      "text/plain": "<Figure size 640x480 with 1 Axes>",
      "image/png": "[encoded data removed]"
     },
     "metadata": {},
     "output_type": "display_data"
    }
   ],
   "source": [
    "# Check out the predictions our model is making\n",
    "plot_decision_boundary(model=model_3,\n",
    "                       X=X,\n",
    "                       y=y)"
   ],
   "metadata": {
    "collapsed": false,
    "ExecuteTime": {
     "end_time": "2024-03-07T23:51:20.531295700Z",
     "start_time": "2024-03-07T23:51:15.564882Z"
    }
   },
   "id": "7e51df3ce000203a",
   "execution_count": 23
  },
  {
   "cell_type": "code",
   "outputs": [
    {
     "data": {
      "text/plain": "(-1.1595024599098636,\n 1.1337117525463374,\n -1.1677683182718437,\n 1.1360036756154805)"
     },
     "execution_count": 24,
     "metadata": {},
     "output_type": "execute_result"
    }
   ],
   "source": [
    "x_min, x_max = X[:, 0].min() - 0.1, X[:, 0].max() + 0.1\n",
    "y_min, y_max = X[:, 1].min() - 0.1, X[:, 1].max() + 0.1\n",
    "\n",
    "x_min, x_max, y_min, y_max"
   ],
   "metadata": {
    "collapsed": false,
    "ExecuteTime": {
     "end_time": "2024-03-07T23:51:21.210590600Z",
     "start_time": "2024-03-07T23:51:20.535285300Z"
    }
   },
   "id": "8a7642fa5a514d5e",
   "execution_count": 24
  },
  {
   "cell_type": "code",
   "outputs": [
    {
     "data": {
      "text/plain": "(array([[-1.15950246, -1.13633868, -1.1131749 , ...,  1.08738419,\n          1.11054797,  1.13371175],\n        [-1.15950246, -1.13633868, -1.1131749 , ...,  1.08738419,\n          1.11054797,  1.13371175],\n        [-1.15950246, -1.13633868, -1.1131749 , ...,  1.08738419,\n          1.11054797,  1.13371175],\n        ...,\n        [-1.15950246, -1.13633868, -1.1131749 , ...,  1.08738419,\n          1.11054797,  1.13371175],\n        [-1.15950246, -1.13633868, -1.1131749 , ...,  1.08738419,\n          1.11054797,  1.13371175],\n        [-1.15950246, -1.13633868, -1.1131749 , ...,  1.08738419,\n          1.11054797,  1.13371175]]),\n array([[-1.16776832, -1.16776832, -1.16776832, ..., -1.16776832,\n         -1.16776832, -1.16776832],\n        [-1.14449789, -1.14449789, -1.14449789, ..., -1.14449789,\n         -1.14449789, -1.14449789],\n        [-1.12122747, -1.12122747, -1.12122747, ..., -1.12122747,\n         -1.12122747, -1.12122747],\n        ...,\n        [ 1.08946283,  1.08946283,  1.08946283, ...,  1.08946283,\n          1.08946283,  1.08946283],\n        [ 1.11273325,  1.11273325,  1.11273325, ...,  1.11273325,\n          1.11273325,  1.11273325],\n        [ 1.13600368,  1.13600368,  1.13600368, ...,  1.13600368,\n          1.13600368,  1.13600368]]))"
     },
     "execution_count": 25,
     "metadata": {},
     "output_type": "execute_result"
    }
   ],
   "source": [
    "xx, yy = np.meshgrid(np.linspace(x_min, x_max, 100),\n",
    "                     np.linspace(y_min, y_max, 100))\n",
    "\n",
    "xx, yy"
   ],
   "metadata": {
    "collapsed": false,
    "ExecuteTime": {
     "end_time": "2024-03-07T23:51:21.316786500Z",
     "start_time": "2024-03-07T23:51:20.586897600Z"
    }
   },
   "id": "e2f7da5afc69f4e2",
   "execution_count": 25
  },
  {
   "cell_type": "code",
   "outputs": [],
   "source": [],
   "metadata": {
    "collapsed": false
   },
   "id": "a0cf49b144bdaf4"
  },
  {
   "cell_type": "code",
   "outputs": [],
   "source": [
    "# Let's see if our model can be used for a regression problem.\n",
    "tf.random.set_seed(42)\n",
    "\n",
    "# Create some regression data\n",
    "X_regression = tf.range(0, 1000, 5)\n",
    "y_regression = tf.range(100, 1100, 5) # y = X + 100\n",
    "\n",
    "#Split our regressiion data into training and test set\n",
    "X_reg_train = X_regression[:150]\n",
    "X_reg_test = X_regression[150:]\n",
    "y_reg_train = y_regression[:150]\n",
    "y_reg_test = y_regression[150:]\n",
    "\n",
    "# model_3.fit(X_reg_train, y_reg_train, epochs=100)"
   ],
   "metadata": {
    "collapsed": false
   },
   "id": "4693d7ee2aae068d",
   "execution_count": null
  },
  {
   "cell_type": "code",
   "outputs": [],
   "source": [
    "# Set random seed\n",
    "tf.random.set_seed(42)\n",
    "\n",
    "# 1. Create a model using the Sequential API\n",
    "model_3 = tf.keras.Sequential([\n",
    "    # tf.keras.layers.Input(shape=(224, 224, 1)),\n",
    "    # tf.keras.layers.Dense(100, activation=\"relu\"),\n",
    "    # tf.keras.layers.Dense(3, activation=\"softmax\"),\n",
    "    tf.keras.layers.Dense(100),  # Add 100 dense neurons\n",
    "    tf.keras.layers.Dense(10),  # Add another layer with 10 neurons\n",
    "    tf.keras.layers.Dense(1)\n",
    "])\n",
    "\n",
    "# 2. Compile the model\n",
    "model_3.compile(loss=tf.keras.losses.mae,\n",
    "                optimizer=tf.keras.optimizers.Adam(),\n",
    "                metrics=[\"mae\"])\n",
    "\n",
    "# 3. Fit the model\n",
    "model_3.fit(X_reg_train, y_reg_train, epochs=100)"
   ],
   "metadata": {
    "collapsed": false
   },
   "id": "ff5c6a9df7e9cba9",
   "execution_count": null
  }
 ],
 "metadata": {
  "kernelspec": {
   "display_name": "Python 3",
   "language": "python",
   "name": "python3"
  },
  "language_info": {
   "codemirror_mode": {
    "name": "ipython",
    "version": 2
   },
   "file_extension": ".py",
   "mimetype": "text/x-python",
   "name": "python",
   "nbconvert_exporter": "python",
   "pygments_lexer": "ipython2",
   "version": "2.7.6"
  }
 },
 "nbformat": 4,
 "nbformat_minor": 5
}
