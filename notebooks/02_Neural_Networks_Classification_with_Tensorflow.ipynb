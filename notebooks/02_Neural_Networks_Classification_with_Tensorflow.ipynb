{
 "cells": [
  {
   "cell_type": "markdown",
   "source": [
    "# Neural Network Classification with TensorFlow\n",
    "\n",
    "### Introduction to Neural Network Classification with TensorFlow\n",
    "\n",
    "A few types of classification problems:\n",
    "* Binary Classification\n",
    "* Multiclass Classification\n",
    "* Multilabel Classification"
   ],
   "metadata": {
    "collapsed": false
   },
   "id": "17750f389641abdc"
  },
  {
   "cell_type": "markdown",
   "source": [
    "#### Creating data to view and fit"
   ],
   "metadata": {
    "collapsed": false
   },
   "id": "e87393dd5c7c6b80"
  },
  {
   "cell_type": "code",
   "outputs": [],
   "source": [],
   "metadata": {
    "collapsed": false
   },
   "id": "9c2ea5a1becd5945"
  },
  {
   "cell_type": "code",
   "outputs": [
    {
     "name": "stdout",
     "output_type": "stream",
     "text": [
      "2.13.0\n"
     ]
    }
   ],
   "source": [
    "import tensorflow as tf\n",
    "\n",
    "print(tf.__version__)"
   ],
   "metadata": {
    "collapsed": false,
    "ExecuteTime": {
     "end_time": "2024-03-10T02:03:35.977804900Z",
     "start_time": "2024-03-10T02:03:23.431386500Z"
    }
   },
   "id": "a87b41824d9b708a",
   "execution_count": 1
  },
  {
   "cell_type": "code",
   "outputs": [],
   "source": [
    "from sklearn.datasets import make_circles\n",
    "\n",
    "# Make circles\n",
    "n_samples = 1000\n",
    "\n",
    "# Create circles\n",
    "X, y = make_circles(n_samples,\n",
    "                    noise=0.03,\n",
    "                    random_state=42)"
   ],
   "metadata": {
    "collapsed": false,
    "ExecuteTime": {
     "end_time": "2024-03-10T02:03:37.413799400Z",
     "start_time": "2024-03-10T02:03:35.921794Z"
    }
   },
   "id": "9f99f25f71bb7db0",
   "execution_count": 2
  },
  {
   "cell_type": "code",
   "outputs": [
    {
     "data": {
      "text/plain": "array([[ 0.75424625,  0.23148074],\n       [-0.75615888,  0.15325888],\n       [-0.81539193,  0.17328203],\n       [-0.39373073,  0.69288277],\n       [ 0.44220765, -0.89672343],\n       [-0.47964637,  0.67643477],\n       [-0.01364836,  0.80334872],\n       [ 0.77151327,  0.14775959],\n       [-0.16932234, -0.79345575],\n       [-0.1214858 ,  1.02150905]])"
     },
     "execution_count": 3,
     "metadata": {},
     "output_type": "execute_result"
    }
   ],
   "source": [
    "X[:10]"
   ],
   "metadata": {
    "collapsed": false,
    "ExecuteTime": {
     "end_time": "2024-03-10T02:04:01.821697700Z",
     "start_time": "2024-03-10T02:04:01.754185Z"
    }
   },
   "id": "9135f53b470c4df2",
   "execution_count": 3
  },
  {
   "cell_type": "code",
   "outputs": [
    {
     "data": {
      "text/plain": "array([1, 1, 1, 1, 0, 1, 1, 1, 1, 0], dtype=int64)"
     },
     "execution_count": 4,
     "metadata": {},
     "output_type": "execute_result"
    }
   ],
   "source": [
    "y[:10]"
   ],
   "metadata": {
    "collapsed": false,
    "ExecuteTime": {
     "end_time": "2024-03-10T02:04:02.589566Z",
     "start_time": "2024-03-10T02:04:02.487064600Z"
    }
   },
   "id": "49527a1fb80d0506",
   "execution_count": 4
  },
  {
   "cell_type": "code",
   "outputs": [
    {
     "data": {
      "text/plain": "         X0        X1  label\n0  0.754246  0.231481      1\n1 -0.756159  0.153259      1\n2 -0.815392  0.173282      1\n3 -0.393731  0.692883      1\n4  0.442208 -0.896723      0",
      "text/html": "<div>\n<style scoped>\n    .dataframe tbody tr th:only-of-type {\n        vertical-align: middle;\n    }\n\n    .dataframe tbody tr th {\n        vertical-align: top;\n    }\n\n    .dataframe thead th {\n        text-align: right;\n    }\n</style>\n<table border=\"1\" class=\"dataframe\">\n  <thead>\n    <tr style=\"text-align: right;\">\n      <th></th>\n      <th>X0</th>\n      <th>X1</th>\n      <th>label</th>\n    </tr>\n  </thead>\n  <tbody>\n    <tr>\n      <th>0</th>\n      <td>0.754246</td>\n      <td>0.231481</td>\n      <td>1</td>\n    </tr>\n    <tr>\n      <th>1</th>\n      <td>-0.756159</td>\n      <td>0.153259</td>\n      <td>1</td>\n    </tr>\n    <tr>\n      <th>2</th>\n      <td>-0.815392</td>\n      <td>0.173282</td>\n      <td>1</td>\n    </tr>\n    <tr>\n      <th>3</th>\n      <td>-0.393731</td>\n      <td>0.692883</td>\n      <td>1</td>\n    </tr>\n    <tr>\n      <th>4</th>\n      <td>0.442208</td>\n      <td>-0.896723</td>\n      <td>0</td>\n    </tr>\n  </tbody>\n</table>\n</div>"
     },
     "execution_count": 5,
     "metadata": {},
     "output_type": "execute_result"
    }
   ],
   "source": [
    "import pandas as pd\n",
    "\n",
    "circles = pd.DataFrame({'X0': X[:, 0], \"X1\": X[:, 1], \"label\": y})\n",
    "circles.head()"
   ],
   "metadata": {
    "collapsed": false,
    "ExecuteTime": {
     "end_time": "2024-03-10T02:04:03.550741800Z",
     "start_time": "2024-03-10T02:04:03.319311400Z"
    }
   },
   "id": "b487f0a3bbbb1ca7",
   "execution_count": 5
  },
  {
   "cell_type": "code",
   "outputs": [
    {
     "data": {
      "text/plain": "label\n1    500\n0    500\nName: count, dtype: int64"
     },
     "execution_count": 6,
     "metadata": {},
     "output_type": "execute_result"
    }
   ],
   "source": [
    "circles.label.value_counts()"
   ],
   "metadata": {
    "collapsed": false,
    "ExecuteTime": {
     "end_time": "2024-03-10T02:04:04.463052700Z",
     "start_time": "2024-03-10T02:04:04.098731200Z"
    }
   },
   "id": "ca18da0ae87011e0",
   "execution_count": 6
  },
  {
   "cell_type": "code",
   "outputs": [
    {
     "data": {
      "text/plain": "<Figure size 640x480 with 1 Axes>",
      "image/png": "[encoded data removed]"
     },
     "metadata": {},
     "output_type": "display_data"
    }
   ],
   "source": [
    "import matplotlib.pyplot as plt\n",
    "import warnings\n",
    "\n",
    "warnings.filterwarnings(\"ignore\")\n",
    "plt.scatter(X[:, 0], X[:, 1], c=y, cmap=plt.cm.get_cmap('RdYlBu'))\n",
    "plt.show()"
   ],
   "metadata": {
    "collapsed": false,
    "ExecuteTime": {
     "end_time": "2024-03-10T02:04:06.416951300Z",
     "start_time": "2024-03-10T02:04:04.964751400Z"
    }
   },
   "id": "2aeedb96c73ccafb",
   "execution_count": 7
  },
  {
   "cell_type": "code",
   "outputs": [
    {
     "data": {
      "text/plain": "((1000, 2), (1000,))"
     },
     "execution_count": 8,
     "metadata": {},
     "output_type": "execute_result"
    }
   ],
   "source": [
    "X.shape, y.shape"
   ],
   "metadata": {
    "collapsed": false,
    "ExecuteTime": {
     "end_time": "2024-03-10T02:04:06.663661300Z",
     "start_time": "2024-03-10T02:04:06.311700400Z"
    }
   },
   "id": "1ac15c1736a3cb69",
   "execution_count": 8
  },
  {
   "cell_type": "code",
   "outputs": [
    {
     "data": {
      "text/plain": "(1000, 1000)"
     },
     "execution_count": 9,
     "metadata": {},
     "output_type": "execute_result"
    }
   ],
   "source": [
    "len(X), len(y)"
   ],
   "metadata": {
    "collapsed": false,
    "ExecuteTime": {
     "end_time": "2024-03-10T02:04:06.749252600Z",
     "start_time": "2024-03-10T02:04:06.323238300Z"
    }
   },
   "id": "30d9747f80469129",
   "execution_count": 9
  },
  {
   "cell_type": "code",
   "outputs": [
    {
     "data": {
      "text/plain": "(array([0.75424625, 0.23148074]), 1)"
     },
     "execution_count": 10,
     "metadata": {},
     "output_type": "execute_result"
    }
   ],
   "source": [
    "X[0], y[0]"
   ],
   "metadata": {
    "collapsed": false,
    "ExecuteTime": {
     "end_time": "2024-03-10T02:04:07.498564400Z",
     "start_time": "2024-03-10T02:04:07.178334600Z"
    }
   },
   "id": "b8709ecd91926f67",
   "execution_count": 10
  },
  {
   "cell_type": "markdown",
   "source": [
    "### Model 1"
   ],
   "metadata": {
    "collapsed": false
   },
   "id": "8b64f1122f1d1d92"
  },
  {
   "cell_type": "code",
   "outputs": [
    {
     "name": "stdout",
     "output_type": "stream",
     "text": [
      "Epoch 1/5\n",
      "32/32 [==============================] - 1s 3ms/step - loss: 6.2806 - accuracy: 0.4860\n",
      "Epoch 2/5\n",
      "32/32 [==============================] - 0s 2ms/step - loss: 5.2757 - accuracy: 0.5220\n",
      "Epoch 3/5\n",
      "32/32 [==============================] - 0s 3ms/step - loss: 4.8722 - accuracy: 0.5210\n",
      "Epoch 4/5\n",
      "32/32 [==============================] - 0s 2ms/step - loss: 4.6929 - accuracy: 0.5330\n",
      "Epoch 5/5\n",
      "32/32 [==============================] - 0s 3ms/step - loss: 4.6374 - accuracy: 0.5300\n"
     ]
    },
    {
     "data": {
      "text/plain": "<keras.src.callbacks.History at 0x1ac3989dd30>"
     },
     "execution_count": 11,
     "metadata": {},
     "output_type": "execute_result"
    }
   ],
   "source": [
    "tf.random.set_seed(42)\n",
    "\n",
    "model_1 = tf.keras.Sequential([\n",
    "    tf.keras.layers.Dense(1)\n",
    "])\n",
    "\n",
    "model_1.compile(loss=tf.keras.losses.BinaryCrossentropy(),\n",
    "                optimizer=tf.keras.optimizers.SGD(),\n",
    "                metrics=['accuracy'])\n",
    "\n",
    "model_1.fit(X, y, epochs=5)"
   ],
   "metadata": {
    "collapsed": false,
    "ExecuteTime": {
     "end_time": "2024-03-10T02:04:11.804873600Z",
     "start_time": "2024-03-10T02:04:08.456527500Z"
    }
   },
   "id": "4fdb645267c7961",
   "execution_count": 11
  },
  {
   "cell_type": "code",
   "outputs": [
    {
     "name": "stdout",
     "output_type": "stream",
     "text": [
      "32/32 [==============================] - 0s 2ms/step - loss: 7.6246 - accuracy: 0.5000\n"
     ]
    },
    {
     "data": {
      "text/plain": "[7.6246185302734375, 0.5]"
     },
     "execution_count": 12,
     "metadata": {},
     "output_type": "execute_result"
    }
   ],
   "source": [
    "model_1.fit(X, y, epochs=200, verbose=0)\n",
    "model_1.evaluate(X, y)"
   ],
   "metadata": {
    "collapsed": false,
    "ExecuteTime": {
     "end_time": "2024-03-10T02:04:27.116944500Z",
     "start_time": "2024-03-10T02:04:11.291721800Z"
    }
   },
   "id": "e23e53b433d01b60",
   "execution_count": 12
  },
  {
   "cell_type": "markdown",
   "source": [
    "### Model 2"
   ],
   "metadata": {
    "collapsed": false
   },
   "id": "4efebbc81ac5dc77"
  },
  {
   "cell_type": "code",
   "outputs": [
    {
     "data": {
      "text/plain": "<keras.src.callbacks.History at 0x1ac39a934c0>"
     },
     "execution_count": 13,
     "metadata": {},
     "output_type": "execute_result"
    }
   ],
   "source": [
    "tf.random.set_seed(42)\n",
    "\n",
    "model_2 = tf.keras.Sequential([\n",
    "    tf.keras.layers.Dense(1),\n",
    "    tf.keras.layers.Dense(1)\n",
    "])\n",
    "\n",
    "model_2.compile(loss=tf.keras.losses.BinaryCrossentropy(),\n",
    "                optimizer=tf.keras.optimizers.SGD(),\n",
    "                metrics=['accuracy'])\n",
    "\n",
    "model_2.fit(X, y, epochs=100, verbose=0)"
   ],
   "metadata": {
    "collapsed": false,
    "ExecuteTime": {
     "end_time": "2024-03-10T02:04:32.569460300Z",
     "start_time": "2024-03-10T02:04:27.081696700Z"
    }
   },
   "id": "d16199449a4f82f7",
   "execution_count": 13
  },
  {
   "cell_type": "code",
   "outputs": [
    {
     "name": "stdout",
     "output_type": "stream",
     "text": [
      "32/32 [==============================] - 0s 1ms/step - loss: 0.6933 - accuracy: 0.5000\n"
     ]
    },
    {
     "data": {
      "text/plain": "[0.693259060382843, 0.5]"
     },
     "execution_count": 14,
     "metadata": {},
     "output_type": "execute_result"
    }
   ],
   "source": [
    "model_2.evaluate(X, y)"
   ],
   "metadata": {
    "collapsed": false,
    "ExecuteTime": {
     "end_time": "2024-03-10T02:04:32.884802700Z",
     "start_time": "2024-03-10T02:04:32.553936800Z"
    }
   },
   "id": "8e558f5efb9eba9e",
   "execution_count": 14
  },
  {
   "cell_type": "markdown",
   "source": [
    "### Model 3"
   ],
   "metadata": {
    "collapsed": false
   },
   "id": "4793feaa72f4aa0"
  },
  {
   "cell_type": "code",
   "outputs": [
    {
     "name": "stdout",
     "output_type": "stream",
     "text": [
      "Epoch 1/100\n",
      "32/32 [==============================] - 1s 3ms/step - loss: 0.9401 - accuracy: 0.4700\n",
      "Epoch 2/100\n",
      "32/32 [==============================] - 0s 3ms/step - loss: 0.6971 - accuracy: 0.5030\n",
      "Epoch 3/100\n",
      "32/32 [==============================] - 0s 3ms/step - loss: 0.7015 - accuracy: 0.4730\n",
      "Epoch 4/100\n",
      "32/32 [==============================] - 0s 3ms/step - loss: 0.6975 - accuracy: 0.4930\n",
      "Epoch 5/100\n",
      "32/32 [==============================] - 0s 3ms/step - loss: 0.6962 - accuracy: 0.5010\n",
      "Epoch 6/100\n",
      "32/32 [==============================] - 0s 3ms/step - loss: 0.6960 - accuracy: 0.5260\n",
      "Epoch 7/100\n",
      "32/32 [==============================] - 0s 3ms/step - loss: 0.6989 - accuracy: 0.4970\n",
      "Epoch 8/100\n",
      "32/32 [==============================] - 0s 3ms/step - loss: 0.6968 - accuracy: 0.5100\n",
      "Epoch 9/100\n",
      "32/32 [==============================] - 0s 2ms/step - loss: 0.6988 - accuracy: 0.4820\n",
      "Epoch 10/100\n",
      "32/32 [==============================] - 0s 2ms/step - loss: 0.6964 - accuracy: 0.4650\n",
      "Epoch 11/100\n",
      "32/32 [==============================] - 0s 3ms/step - loss: 0.6991 - accuracy: 0.4760\n",
      "Epoch 12/100\n",
      "32/32 [==============================] - 0s 3ms/step - loss: 0.6992 - accuracy: 0.5030\n",
      "Epoch 13/100\n",
      "32/32 [==============================] - 0s 3ms/step - loss: 0.7003 - accuracy: 0.4720\n",
      "Epoch 14/100\n",
      "32/32 [==============================] - 0s 3ms/step - loss: 0.6994 - accuracy: 0.4930\n",
      "Epoch 15/100\n",
      "32/32 [==============================] - 0s 2ms/step - loss: 0.6978 - accuracy: 0.4770\n",
      "Epoch 16/100\n",
      "32/32 [==============================] - 0s 2ms/step - loss: 0.7005 - accuracy: 0.4730\n",
      "Epoch 17/100\n",
      "32/32 [==============================] - 0s 2ms/step - loss: 0.6965 - accuracy: 0.5060\n",
      "Epoch 18/100\n",
      "32/32 [==============================] - 0s 2ms/step - loss: 0.6969 - accuracy: 0.4950\n",
      "Epoch 19/100\n",
      "32/32 [==============================] - 0s 2ms/step - loss: 0.6973 - accuracy: 0.4880\n",
      "Epoch 20/100\n",
      "32/32 [==============================] - 0s 2ms/step - loss: 0.6973 - accuracy: 0.4860\n",
      "Epoch 21/100\n",
      "32/32 [==============================] - 0s 2ms/step - loss: 0.6959 - accuracy: 0.4950\n",
      "Epoch 22/100\n",
      "32/32 [==============================] - 0s 2ms/step - loss: 0.6983 - accuracy: 0.4510\n",
      "Epoch 23/100\n",
      "32/32 [==============================] - 0s 3ms/step - loss: 0.6972 - accuracy: 0.4750\n",
      "Epoch 24/100\n",
      "32/32 [==============================] - 0s 3ms/step - loss: 0.6978 - accuracy: 0.4960\n",
      "Epoch 25/100\n",
      "32/32 [==============================] - 0s 3ms/step - loss: 0.6947 - accuracy: 0.5060\n",
      "Epoch 26/100\n",
      "32/32 [==============================] - 0s 3ms/step - loss: 0.6992 - accuracy: 0.4760\n",
      "Epoch 27/100\n",
      "32/32 [==============================] - 0s 3ms/step - loss: 0.6954 - accuracy: 0.5170\n",
      "Epoch 28/100\n",
      "32/32 [==============================] - 0s 2ms/step - loss: 0.6996 - accuracy: 0.4530\n",
      "Epoch 29/100\n",
      "32/32 [==============================] - 0s 2ms/step - loss: 0.6968 - accuracy: 0.5010\n",
      "Epoch 30/100\n",
      "32/32 [==============================] - 0s 2ms/step - loss: 0.6975 - accuracy: 0.4920\n",
      "Epoch 31/100\n",
      "32/32 [==============================] - 0s 3ms/step - loss: 0.6975 - accuracy: 0.5080\n",
      "Epoch 32/100\n",
      "32/32 [==============================] - 0s 3ms/step - loss: 0.6970 - accuracy: 0.4820\n",
      "Epoch 33/100\n",
      "32/32 [==============================] - 0s 3ms/step - loss: 0.6980 - accuracy: 0.4880\n",
      "Epoch 34/100\n",
      "32/32 [==============================] - 0s 3ms/step - loss: 0.6989 - accuracy: 0.4890\n",
      "Epoch 35/100\n",
      "32/32 [==============================] - 0s 3ms/step - loss: 0.6969 - accuracy: 0.5120\n",
      "Epoch 36/100\n",
      "32/32 [==============================] - 0s 3ms/step - loss: 0.6995 - accuracy: 0.4560\n",
      "Epoch 37/100\n",
      "32/32 [==============================] - 0s 2ms/step - loss: 0.6975 - accuracy: 0.4750\n",
      "Epoch 38/100\n",
      "32/32 [==============================] - 0s 2ms/step - loss: 0.6963 - accuracy: 0.4940\n",
      "Epoch 39/100\n",
      "32/32 [==============================] - 0s 3ms/step - loss: 0.6981 - accuracy: 0.4560\n",
      "Epoch 40/100\n",
      "32/32 [==============================] - 0s 3ms/step - loss: 0.7013 - accuracy: 0.4640\n",
      "Epoch 41/100\n",
      "32/32 [==============================] - 0s 3ms/step - loss: 0.6967 - accuracy: 0.4910\n",
      "Epoch 42/100\n",
      "32/32 [==============================] - 0s 3ms/step - loss: 0.6960 - accuracy: 0.4850\n",
      "Epoch 43/100\n",
      "32/32 [==============================] - 0s 3ms/step - loss: 0.6983 - accuracy: 0.4940\n",
      "Epoch 44/100\n",
      "32/32 [==============================] - 0s 3ms/step - loss: 0.6943 - accuracy: 0.5200\n",
      "Epoch 45/100\n",
      "32/32 [==============================] - 0s 4ms/step - loss: 0.6990 - accuracy: 0.4940\n",
      "Epoch 46/100\n",
      "32/32 [==============================] - 0s 3ms/step - loss: 0.6981 - accuracy: 0.4630\n",
      "Epoch 47/100\n",
      "32/32 [==============================] - 0s 2ms/step - loss: 0.6948 - accuracy: 0.5160\n",
      "Epoch 48/100\n",
      "32/32 [==============================] - 0s 2ms/step - loss: 0.6953 - accuracy: 0.4910\n",
      "Epoch 49/100\n",
      "32/32 [==============================] - 0s 3ms/step - loss: 0.6978 - accuracy: 0.4680\n",
      "Epoch 50/100\n",
      "32/32 [==============================] - 0s 2ms/step - loss: 0.6975 - accuracy: 0.4960\n",
      "Epoch 51/100\n",
      "32/32 [==============================] - 0s 2ms/step - loss: 0.6982 - accuracy: 0.4920\n",
      "Epoch 52/100\n",
      "32/32 [==============================] - 0s 2ms/step - loss: 0.6970 - accuracy: 0.5050\n",
      "Epoch 53/100\n",
      "32/32 [==============================] - 0s 2ms/step - loss: 0.6951 - accuracy: 0.5000\n",
      "Epoch 54/100\n",
      "32/32 [==============================] - 0s 2ms/step - loss: 0.6992 - accuracy: 0.4790\n",
      "Epoch 55/100\n",
      "32/32 [==============================] - 0s 2ms/step - loss: 0.6968 - accuracy: 0.5060\n",
      "Epoch 56/100\n",
      "32/32 [==============================] - 0s 3ms/step - loss: 0.6963 - accuracy: 0.4860\n",
      "Epoch 57/100\n",
      "32/32 [==============================] - 0s 2ms/step - loss: 0.6992 - accuracy: 0.4850\n",
      "Epoch 58/100\n",
      "32/32 [==============================] - 0s 4ms/step - loss: 0.6968 - accuracy: 0.4890\n",
      "Epoch 59/100\n",
      "32/32 [==============================] - 0s 2ms/step - loss: 0.6954 - accuracy: 0.5270\n",
      "Epoch 60/100\n",
      "32/32 [==============================] - 0s 2ms/step - loss: 0.6978 - accuracy: 0.4910\n",
      "Epoch 61/100\n",
      "32/32 [==============================] - 0s 2ms/step - loss: 0.6981 - accuracy: 0.4830\n",
      "Epoch 62/100\n",
      "32/32 [==============================] - 0s 2ms/step - loss: 0.6974 - accuracy: 0.4900\n",
      "Epoch 63/100\n",
      "32/32 [==============================] - 0s 2ms/step - loss: 0.6970 - accuracy: 0.4790\n",
      "Epoch 64/100\n",
      "32/32 [==============================] - 0s 3ms/step - loss: 0.6972 - accuracy: 0.4940\n",
      "Epoch 65/100\n",
      "32/32 [==============================] - 0s 2ms/step - loss: 0.6983 - accuracy: 0.4840\n",
      "Epoch 66/100\n",
      "32/32 [==============================] - 0s 3ms/step - loss: 0.6966 - accuracy: 0.5000\n",
      "Epoch 67/100\n",
      "32/32 [==============================] - 0s 3ms/step - loss: 0.6993 - accuracy: 0.4620\n",
      "Epoch 68/100\n",
      "32/32 [==============================] - 0s 3ms/step - loss: 0.6961 - accuracy: 0.4820\n",
      "Epoch 69/100\n",
      "32/32 [==============================] - 0s 2ms/step - loss: 0.6992 - accuracy: 0.4800\n",
      "Epoch 70/100\n",
      "32/32 [==============================] - 0s 2ms/step - loss: 0.6980 - accuracy: 0.4820\n",
      "Epoch 71/100\n",
      "32/32 [==============================] - 0s 2ms/step - loss: 0.6972 - accuracy: 0.4850\n",
      "Epoch 72/100\n",
      "32/32 [==============================] - 0s 2ms/step - loss: 0.6972 - accuracy: 0.5170\n",
      "Epoch 73/100\n",
      "32/32 [==============================] - 0s 2ms/step - loss: 0.6970 - accuracy: 0.4990\n",
      "Epoch 74/100\n",
      "32/32 [==============================] - 0s 2ms/step - loss: 0.6968 - accuracy: 0.5120\n",
      "Epoch 75/100\n",
      "32/32 [==============================] - 0s 2ms/step - loss: 0.6965 - accuracy: 0.4940\n",
      "Epoch 76/100\n",
      "32/32 [==============================] - 0s 2ms/step - loss: 0.6969 - accuracy: 0.4790\n",
      "Epoch 77/100\n",
      "32/32 [==============================] - 0s 2ms/step - loss: 0.6978 - accuracy: 0.4900\n",
      "Epoch 78/100\n",
      "32/32 [==============================] - 0s 2ms/step - loss: 0.6970 - accuracy: 0.4800\n",
      "Epoch 79/100\n",
      "32/32 [==============================] - 0s 2ms/step - loss: 0.6960 - accuracy: 0.5100\n",
      "Epoch 80/100\n",
      "32/32 [==============================] - 0s 2ms/step - loss: 0.6981 - accuracy: 0.4840\n",
      "Epoch 81/100\n",
      "32/32 [==============================] - 0s 2ms/step - loss: 0.6970 - accuracy: 0.4920\n",
      "Epoch 82/100\n",
      "32/32 [==============================] - 0s 2ms/step - loss: 0.6962 - accuracy: 0.4890\n",
      "Epoch 83/100\n",
      "32/32 [==============================] - 0s 2ms/step - loss: 0.6967 - accuracy: 0.4900\n",
      "Epoch 84/100\n",
      "32/32 [==============================] - 0s 2ms/step - loss: 0.6986 - accuracy: 0.4790\n",
      "Epoch 85/100\n",
      "32/32 [==============================] - 0s 3ms/step - loss: 0.6963 - accuracy: 0.4820\n",
      "Epoch 86/100\n",
      "32/32 [==============================] - 0s 2ms/step - loss: 0.6958 - accuracy: 0.5000\n",
      "Epoch 87/100\n",
      "32/32 [==============================] - 0s 2ms/step - loss: 0.6980 - accuracy: 0.4770\n",
      "Epoch 88/100\n",
      "32/32 [==============================] - 0s 2ms/step - loss: 0.6984 - accuracy: 0.4650\n",
      "Epoch 89/100\n",
      "32/32 [==============================] - 0s 3ms/step - loss: 0.6985 - accuracy: 0.4830\n",
      "Epoch 90/100\n",
      "32/32 [==============================] - 0s 3ms/step - loss: 0.6965 - accuracy: 0.5030\n",
      "Epoch 91/100\n",
      "32/32 [==============================] - 0s 3ms/step - loss: 0.6983 - accuracy: 0.4900\n",
      "Epoch 92/100\n",
      "32/32 [==============================] - 0s 2ms/step - loss: 0.6970 - accuracy: 0.5160\n",
      "Epoch 93/100\n",
      "32/32 [==============================] - 0s 2ms/step - loss: 0.6959 - accuracy: 0.5130\n",
      "Epoch 94/100\n",
      "32/32 [==============================] - 0s 2ms/step - loss: 0.6997 - accuracy: 0.4960\n",
      "Epoch 95/100\n",
      "32/32 [==============================] - 0s 2ms/step - loss: 0.6964 - accuracy: 0.4980\n",
      "Epoch 96/100\n",
      "32/32 [==============================] - 0s 3ms/step - loss: 0.6981 - accuracy: 0.4880\n",
      "Epoch 97/100\n",
      "32/32 [==============================] - 0s 2ms/step - loss: 0.6973 - accuracy: 0.4780\n",
      "Epoch 98/100\n",
      "32/32 [==============================] - 0s 3ms/step - loss: 0.6972 - accuracy: 0.4750\n",
      "Epoch 99/100\n",
      "32/32 [==============================] - 0s 3ms/step - loss: 0.6983 - accuracy: 0.4890\n",
      "Epoch 100/100\n",
      "32/32 [==============================] - 0s 2ms/step - loss: 0.6972 - accuracy: 0.4610\n"
     ]
    },
    {
     "data": {
      "text/plain": "<keras.src.callbacks.History at 0x1ac3b08cc40>"
     },
     "execution_count": 15,
     "metadata": {},
     "output_type": "execute_result"
    }
   ],
   "source": [
    "tf.random.set_seed(42)\n",
    "\n",
    "model_3 = tf.keras.Sequential([\n",
    "    tf.keras.layers.Dense(100),\n",
    "    tf.keras.layers.Dense(10),\n",
    "    tf.keras.layers.Dense(1)\n",
    "])\n",
    "\n",
    "model_3.compile(loss=tf.keras.losses.BinaryCrossentropy(),\n",
    "                optimizer=tf.keras.optimizers.SGD(),\n",
    "                metrics=['accuracy'])\n",
    "\n",
    "model_3.fit(X, y, epochs=100, verbose=1)"
   ],
   "metadata": {
    "collapsed": false,
    "ExecuteTime": {
     "end_time": "2024-03-10T02:04:49.217451Z",
     "start_time": "2024-03-10T02:04:36.407213200Z"
    }
   },
   "id": "92b649924f04b227",
   "execution_count": 15
  },
  {
   "cell_type": "code",
   "outputs": [],
   "source": [
    "import numpy as np\n",
    "\n",
    "\n",
    "def plot_decision_boundary(model, X, y):\n",
    "    x_min, x_max = X[:, 0].min(), X[:, 0].max() + 0.1\n",
    "    y_min, y_max = X[:, 1].min(), X[:, 1].max() + 0.1\n",
    "\n",
    "    xx, yy = np.meshgrid(np.linspace(x_min, x_max, 100),\n",
    "                         np.linspace(y_min, y_max, 100))\n",
    "\n",
    "    x_in = np.c_[xx.ravel(), yy.ravel()]\n",
    "    y_pred = model.predict(x_in)\n",
    "\n",
    "    if model.output_shape[-1] > 1:\n",
    "        print(\"Doing multiclass classification...\")\n",
    "        y_pred = np.argmax(y_pred, axis=1).reshape(xx.shape)\n",
    "    else:\n",
    "        print(\"Doing binary classification...\")\n",
    "        y_pred = np.round(np.max(y_pred, axis=1)).reshape(xx.shape)\n",
    "\n",
    "    plt.contourf(xx, yy, y_pred, cmap=plt.cm.get_cmap(\"RdYlBu\"), alpha=0.7)\n",
    "    plt.scatter(X[:, 0], X[:, 1], c=y, s=40, cmap=plt.get_cmap(\"RdYlBu\"))\n",
    "    plt.xlim(xx.min(), xx.max())\n",
    "    plt.ylim(yy.min(), yy.max())"
   ],
   "metadata": {
    "collapsed": false,
    "ExecuteTime": {
     "end_time": "2024-03-10T02:04:49.534365700Z",
     "start_time": "2024-03-10T02:04:46.261997600Z"
    }
   },
   "id": "68b7271cec61bc03",
   "execution_count": 16
  },
  {
   "cell_type": "code",
   "outputs": [
    {
     "name": "stdout",
     "output_type": "stream",
     "text": [
      "313/313 [==============================] - 1s 2ms/step\n",
      "Doing binary classification...\n"
     ]
    },
    {
     "data": {
      "text/plain": "<Figure size 640x480 with 1 Axes>",
      "image/png": "[encoded data removed]"
     },
     "metadata": {},
     "output_type": "display_data"
    }
   ],
   "source": [
    "plot_decision_boundary(model_3, X, y)"
   ],
   "metadata": {
    "collapsed": false,
    "ExecuteTime": {
     "end_time": "2024-03-10T02:04:51.153443400Z",
     "start_time": "2024-03-10T02:04:46.283085700Z"
    }
   },
   "id": "82ab0f18cff043af",
   "execution_count": 17
  },
  {
   "cell_type": "code",
   "outputs": [
    {
     "name": "stdout",
     "output_type": "stream",
     "text": [
      "Epoch 1/100\n"
     ]
    },
    {
     "ename": "ValueError",
     "evalue": "in user code:\n\n    File \"C:\\Users\\deolg\\Projects\\tensorflow-professional-certification\\.venv\\lib\\site-packages\\keras\\src\\engine\\training.py\", line 1338, in train_function  *\n        return step_function(self, iterator)\n    File \"C:\\Users\\deolg\\Projects\\tensorflow-professional-certification\\.venv\\lib\\site-packages\\keras\\src\\engine\\training.py\", line 1322, in step_function  **\n        outputs = model.distribute_strategy.run(run_step, args=(data,))\n    File \"C:\\Users\\deolg\\Projects\\tensorflow-professional-certification\\.venv\\lib\\site-packages\\keras\\src\\engine\\training.py\", line 1303, in run_step  **\n        outputs = model.train_step(data)\n    File \"C:\\Users\\deolg\\Projects\\tensorflow-professional-certification\\.venv\\lib\\site-packages\\keras\\src\\engine\\training.py\", line 1080, in train_step\n        y_pred = self(x, training=True)\n    File \"C:\\Users\\deolg\\Projects\\tensorflow-professional-certification\\.venv\\lib\\site-packages\\keras\\src\\utils\\traceback_utils.py\", line 70, in error_handler\n        raise e.with_traceback(filtered_tb) from None\n    File \"C:\\Users\\deolg\\Projects\\tensorflow-professional-certification\\.venv\\lib\\site-packages\\keras\\src\\engine\\input_spec.py\", line 280, in assert_input_compatibility\n        raise ValueError(\n\n    ValueError: Exception encountered when calling layer 'sequential_2' (type Sequential).\n    \n    Input 0 of layer \"dense_3\" is incompatible with the layer: expected axis -1 of input shape to have value 2, but received input with shape (None, 1)\n    \n    Call arguments received by layer 'sequential_2' (type Sequential):\n      • inputs=tf.Tensor(shape=(None, 1), dtype=int32)\n      • training=True\n      • mask=None\n",
     "output_type": "error",
     "traceback": [
      "\u001B[1;31m---------------------------------------------------------------------------\u001B[0m",
      "\u001B[1;31mValueError\u001B[0m                                Traceback (most recent call last)",
      "Cell \u001B[1;32mIn[18], line 11\u001B[0m\n\u001B[0;32m      8\u001B[0m y_reg_train \u001B[38;5;241m=\u001B[39m y_regression[: \u001B[38;5;241m150\u001B[39m]\n\u001B[0;32m      9\u001B[0m y_reg_test \u001B[38;5;241m=\u001B[39m y_regression[\u001B[38;5;241m150\u001B[39m:]\n\u001B[1;32m---> 11\u001B[0m \u001B[43mmodel_3\u001B[49m\u001B[38;5;241;43m.\u001B[39;49m\u001B[43mfit\u001B[49m\u001B[43m(\u001B[49m\u001B[43mtf\u001B[49m\u001B[38;5;241;43m.\u001B[39;49m\u001B[43mexpand_dims\u001B[49m\u001B[43m(\u001B[49m\u001B[43mX_reg_train\u001B[49m\u001B[43m,\u001B[49m\u001B[43m \u001B[49m\u001B[43maxis\u001B[49m\u001B[38;5;241;43m=\u001B[39;49m\u001B[38;5;241;43m-\u001B[39;49m\u001B[38;5;241;43m1\u001B[39;49m\u001B[43m)\u001B[49m\u001B[43m,\u001B[49m\n\u001B[0;32m     12\u001B[0m \u001B[43m            \u001B[49m\u001B[43my_reg_train\u001B[49m\u001B[43m,\u001B[49m\n\u001B[0;32m     13\u001B[0m \u001B[43m            \u001B[49m\u001B[43mepochs\u001B[49m\u001B[38;5;241;43m=\u001B[39;49m\u001B[38;5;241;43m100\u001B[39;49m\u001B[43m)\u001B[49m\n",
      "File \u001B[1;32m~\\Projects\\tensorflow-professional-certification\\.venv\\lib\\site-packages\\keras\\src\\utils\\traceback_utils.py:70\u001B[0m, in \u001B[0;36mfilter_traceback.<locals>.error_handler\u001B[1;34m(*args, **kwargs)\u001B[0m\n\u001B[0;32m     67\u001B[0m     filtered_tb \u001B[38;5;241m=\u001B[39m _process_traceback_frames(e\u001B[38;5;241m.\u001B[39m__traceback__)\n\u001B[0;32m     68\u001B[0m     \u001B[38;5;66;03m# To get the full stack trace, call:\u001B[39;00m\n\u001B[0;32m     69\u001B[0m     \u001B[38;5;66;03m# `tf.debugging.disable_traceback_filtering()`\u001B[39;00m\n\u001B[1;32m---> 70\u001B[0m     \u001B[38;5;28;01mraise\u001B[39;00m e\u001B[38;5;241m.\u001B[39mwith_traceback(filtered_tb) \u001B[38;5;28;01mfrom\u001B[39;00m \u001B[38;5;28;01mNone\u001B[39;00m\n\u001B[0;32m     71\u001B[0m \u001B[38;5;28;01mfinally\u001B[39;00m:\n\u001B[0;32m     72\u001B[0m     \u001B[38;5;28;01mdel\u001B[39;00m filtered_tb\n",
      "File \u001B[1;32m~\\AppData\\Local\\Temp\\__autograph_generated_fileoon9_00f.py:15\u001B[0m, in \u001B[0;36mouter_factory.<locals>.inner_factory.<locals>.tf__train_function\u001B[1;34m(iterator)\u001B[0m\n\u001B[0;32m     13\u001B[0m \u001B[38;5;28;01mtry\u001B[39;00m:\n\u001B[0;32m     14\u001B[0m     do_return \u001B[38;5;241m=\u001B[39m \u001B[38;5;28;01mTrue\u001B[39;00m\n\u001B[1;32m---> 15\u001B[0m     retval_ \u001B[38;5;241m=\u001B[39m ag__\u001B[38;5;241m.\u001B[39mconverted_call(ag__\u001B[38;5;241m.\u001B[39mld(step_function), (ag__\u001B[38;5;241m.\u001B[39mld(\u001B[38;5;28mself\u001B[39m), ag__\u001B[38;5;241m.\u001B[39mld(iterator)), \u001B[38;5;28;01mNone\u001B[39;00m, fscope)\n\u001B[0;32m     16\u001B[0m \u001B[38;5;28;01mexcept\u001B[39;00m:\n\u001B[0;32m     17\u001B[0m     do_return \u001B[38;5;241m=\u001B[39m \u001B[38;5;28;01mFalse\u001B[39;00m\n",
      "\u001B[1;31mValueError\u001B[0m: in user code:\n\n    File \"C:\\Users\\deolg\\Projects\\tensorflow-professional-certification\\.venv\\lib\\site-packages\\keras\\src\\engine\\training.py\", line 1338, in train_function  *\n        return step_function(self, iterator)\n    File \"C:\\Users\\deolg\\Projects\\tensorflow-professional-certification\\.venv\\lib\\site-packages\\keras\\src\\engine\\training.py\", line 1322, in step_function  **\n        outputs = model.distribute_strategy.run(run_step, args=(data,))\n    File \"C:\\Users\\deolg\\Projects\\tensorflow-professional-certification\\.venv\\lib\\site-packages\\keras\\src\\engine\\training.py\", line 1303, in run_step  **\n        outputs = model.train_step(data)\n    File \"C:\\Users\\deolg\\Projects\\tensorflow-professional-certification\\.venv\\lib\\site-packages\\keras\\src\\engine\\training.py\", line 1080, in train_step\n        y_pred = self(x, training=True)\n    File \"C:\\Users\\deolg\\Projects\\tensorflow-professional-certification\\.venv\\lib\\site-packages\\keras\\src\\utils\\traceback_utils.py\", line 70, in error_handler\n        raise e.with_traceback(filtered_tb) from None\n    File \"C:\\Users\\deolg\\Projects\\tensorflow-professional-certification\\.venv\\lib\\site-packages\\keras\\src\\engine\\input_spec.py\", line 280, in assert_input_compatibility\n        raise ValueError(\n\n    ValueError: Exception encountered when calling layer 'sequential_2' (type Sequential).\n    \n    Input 0 of layer \"dense_3\" is incompatible with the layer: expected axis -1 of input shape to have value 2, but received input with shape (None, 1)\n    \n    Call arguments received by layer 'sequential_2' (type Sequential):\n      • inputs=tf.Tensor(shape=(None, 1), dtype=int32)\n      • training=True\n      • mask=None\n"
     ]
    }
   ],
   "source": [
    "# Let's see if our model can be used for a regression problem...\n",
    "tf.random.set_seed(42)\n",
    "\n",
    "X_regression = np.arange(0, 1000, 5)\n",
    "y_regression = np.arange(100, 1100, 5)\n",
    "\n",
    "X_reg_train = X_regression[:150]\n",
    "X_reg_test = X_regression[150:]\n",
    "y_reg_train = y_regression[:150]\n",
    "y_reg_test = y_regression[150:]\n",
    "\n",
    "model_3.fit(tf.expand_dims(X_reg_train, axis=-1),\n",
    "            y_reg_train,\n",
    "            epochs=100)"
   ],
   "metadata": {
    "collapsed": false,
    "ExecuteTime": {
     "end_time": "2024-03-10T02:04:52.921794600Z",
     "start_time": "2024-03-10T02:04:47.706852100Z"
    }
   },
   "id": "1bcc0eddd4f35cd4",
   "execution_count": 18
  },
  {
   "cell_type": "code",
   "outputs": [
    {
     "name": "stdout",
     "output_type": "stream",
     "text": [
      "Model: \"sequential_2\"\n",
      "_________________________________________________________________\n",
      " Layer (type)                Output Shape              Param #   \n",
      "=================================================================\n",
      " dense_3 (Dense)             (None, 100)               300       \n",
      "                                                                 \n",
      " dense_4 (Dense)             (None, 10)                1010      \n",
      "                                                                 \n",
      " dense_5 (Dense)             (None, 1)                 11        \n",
      "                                                                 \n",
      "=================================================================\n",
      "Total params: 1321 (5.16 KB)\n",
      "Trainable params: 1321 (5.16 KB)\n",
      "Non-trainable params: 0 (0.00 Byte)\n",
      "_________________________________________________________________\n"
     ]
    }
   ],
   "source": [
    "model_3.summary()"
   ],
   "metadata": {
    "collapsed": false,
    "ExecuteTime": {
     "end_time": "2024-03-10T02:05:07.705242500Z",
     "start_time": "2024-03-10T02:05:07.581053100Z"
    }
   },
   "id": "5b4ff4a84517a74f",
   "execution_count": 19
  },
  {
   "cell_type": "code",
   "outputs": [
    {
     "name": "stdout",
     "output_type": "stream",
     "text": [
      "Epoch 1/100\n",
      "5/5 [==============================] - 4s 6ms/step - loss: 211.4628 - mae: 211.4628\n",
      "Epoch 2/100\n",
      "5/5 [==============================] - 0s 5ms/step - loss: 82.2282 - mae: 82.2282\n",
      "Epoch 3/100\n",
      "5/5 [==============================] - 0s 4ms/step - loss: 60.6679 - mae: 60.6679\n",
      "Epoch 4/100\n",
      "5/5 [==============================] - 0s 3ms/step - loss: 67.5526 - mae: 67.5526\n",
      "Epoch 5/100\n",
      "5/5 [==============================] - 0s 4ms/step - loss: 45.9533 - mae: 45.9533\n",
      "Epoch 6/100\n",
      "5/5 [==============================] - 0s 3ms/step - loss: 47.3025 - mae: 47.3025\n",
      "Epoch 7/100\n",
      "5/5 [==============================] - 0s 3ms/step - loss: 43.5557 - mae: 43.5557\n",
      "Epoch 8/100\n",
      "5/5 [==============================] - 0s 4ms/step - loss: 43.8197 - mae: 43.8197\n",
      "Epoch 9/100\n",
      "5/5 [==============================] - 0s 3ms/step - loss: 42.7775 - mae: 42.7775\n",
      "Epoch 10/100\n",
      "5/5 [==============================] - 0s 3ms/step - loss: 42.2910 - mae: 42.2910\n",
      "Epoch 11/100\n",
      "5/5 [==============================] - 0s 4ms/step - loss: 41.9279 - mae: 41.9279\n",
      "Epoch 12/100\n",
      "5/5 [==============================] - 0s 3ms/step - loss: 41.8516 - mae: 41.8516\n",
      "Epoch 13/100\n",
      "5/5 [==============================] - 0s 3ms/step - loss: 41.3997 - mae: 41.3997\n",
      "Epoch 14/100\n",
      "5/5 [==============================] - 0s 3ms/step - loss: 41.2655 - mae: 41.2655\n",
      "Epoch 15/100\n",
      "5/5 [==============================] - 0s 3ms/step - loss: 41.4109 - mae: 41.4109\n",
      "Epoch 16/100\n",
      "5/5 [==============================] - 0s 3ms/step - loss: 41.4970 - mae: 41.4970\n",
      "Epoch 17/100\n",
      "5/5 [==============================] - 0s 4ms/step - loss: 41.4867 - mae: 41.4867\n",
      "Epoch 18/100\n",
      "5/5 [==============================] - 0s 3ms/step - loss: 41.3297 - mae: 41.3297\n",
      "Epoch 19/100\n",
      "5/5 [==============================] - 0s 3ms/step - loss: 41.0990 - mae: 41.0990\n",
      "Epoch 20/100\n",
      "5/5 [==============================] - 0s 2ms/step - loss: 41.1330 - mae: 41.1330\n",
      "Epoch 21/100\n",
      "5/5 [==============================] - 0s 3ms/step - loss: 41.0675 - mae: 41.0675\n",
      "Epoch 22/100\n",
      "5/5 [==============================] - 0s 4ms/step - loss: 41.2491 - mae: 41.2491\n",
      "Epoch 23/100\n",
      "5/5 [==============================] - 0s 3ms/step - loss: 41.0530 - mae: 41.0530\n",
      "Epoch 24/100\n",
      "5/5 [==============================] - 0s 3ms/step - loss: 41.0539 - mae: 41.0539\n",
      "Epoch 25/100\n",
      "5/5 [==============================] - 0s 4ms/step - loss: 40.9857 - mae: 40.9857\n",
      "Epoch 26/100\n",
      "5/5 [==============================] - 0s 3ms/step - loss: 40.7696 - mae: 40.7696\n",
      "Epoch 27/100\n",
      "5/5 [==============================] - 0s 3ms/step - loss: 41.0964 - mae: 41.0964\n",
      "Epoch 28/100\n",
      "5/5 [==============================] - 0s 3ms/step - loss: 41.0432 - mae: 41.0432\n",
      "Epoch 29/100\n",
      "5/5 [==============================] - 0s 3ms/step - loss: 40.9079 - mae: 40.9079\n",
      "Epoch 30/100\n",
      "5/5 [==============================] - 0s 3ms/step - loss: 40.7580 - mae: 40.7580\n",
      "Epoch 31/100\n",
      "5/5 [==============================] - 0s 3ms/step - loss: 41.0546 - mae: 41.0546\n",
      "Epoch 32/100\n",
      "5/5 [==============================] - 0s 4ms/step - loss: 40.9392 - mae: 40.9392\n",
      "Epoch 33/100\n",
      "5/5 [==============================] - 0s 3ms/step - loss: 40.9194 - mae: 40.9194\n",
      "Epoch 34/100\n",
      "5/5 [==============================] - 0s 3ms/step - loss: 41.0067 - mae: 41.0067\n",
      "Epoch 35/100\n",
      "5/5 [==============================] - 0s 6ms/step - loss: 40.7821 - mae: 40.7821\n",
      "Epoch 36/100\n",
      "5/5 [==============================] - 0s 3ms/step - loss: 41.1468 - mae: 41.1468\n",
      "Epoch 37/100\n",
      "5/5 [==============================] - 0s 4ms/step - loss: 40.4788 - mae: 40.4788\n",
      "Epoch 38/100\n",
      "5/5 [==============================] - 0s 4ms/step - loss: 40.5617 - mae: 40.5617\n",
      "Epoch 39/100\n",
      "5/5 [==============================] - 0s 4ms/step - loss: 40.3117 - mae: 40.3117\n",
      "Epoch 40/100\n",
      "5/5 [==============================] - 0s 3ms/step - loss: 40.3318 - mae: 40.3318\n",
      "Epoch 41/100\n",
      "5/5 [==============================] - 0s 3ms/step - loss: 40.4235 - mae: 40.4235\n",
      "Epoch 42/100\n",
      "5/5 [==============================] - 0s 4ms/step - loss: 40.2983 - mae: 40.2983\n",
      "Epoch 43/100\n",
      "5/5 [==============================] - 0s 3ms/step - loss: 40.3154 - mae: 40.3154\n",
      "Epoch 44/100\n",
      "5/5 [==============================] - 0s 5ms/step - loss: 40.0564 - mae: 40.0564\n",
      "Epoch 45/100\n",
      "5/5 [==============================] - 0s 4ms/step - loss: 40.0765 - mae: 40.0765\n",
      "Epoch 46/100\n",
      "5/5 [==============================] - 0s 3ms/step - loss: 40.4787 - mae: 40.4787\n",
      "Epoch 47/100\n",
      "5/5 [==============================] - 0s 4ms/step - loss: 39.9232 - mae: 39.9232\n",
      "Epoch 48/100\n",
      "5/5 [==============================] - 0s 4ms/step - loss: 40.0245 - mae: 40.0245\n",
      "Epoch 49/100\n",
      "5/5 [==============================] - 0s 3ms/step - loss: 40.7113 - mae: 40.7113\n",
      "Epoch 50/100\n",
      "5/5 [==============================] - 0s 4ms/step - loss: 40.0817 - mae: 40.0817\n",
      "Epoch 51/100\n",
      "5/5 [==============================] - 0s 4ms/step - loss: 40.2962 - mae: 40.2962\n",
      "Epoch 52/100\n",
      "5/5 [==============================] - 0s 3ms/step - loss: 40.3630 - mae: 40.3630\n",
      "Epoch 53/100\n",
      "5/5 [==============================] - 0s 4ms/step - loss: 41.2567 - mae: 41.2567\n",
      "Epoch 54/100\n",
      "5/5 [==============================] - 0s 3ms/step - loss: 40.4358 - mae: 40.4358\n",
      "Epoch 55/100\n",
      "5/5 [==============================] - 0s 3ms/step - loss: 39.8374 - mae: 39.8374\n",
      "Epoch 56/100\n",
      "5/5 [==============================] - 0s 4ms/step - loss: 40.4922 - mae: 40.4922\n",
      "Epoch 57/100\n",
      "5/5 [==============================] - 0s 2ms/step - loss: 40.8043 - mae: 40.8043\n",
      "Epoch 58/100\n",
      "5/5 [==============================] - 0s 4ms/step - loss: 39.6676 - mae: 39.6676\n",
      "Epoch 59/100\n",
      "5/5 [==============================] - 0s 3ms/step - loss: 39.5254 - mae: 39.5254\n",
      "Epoch 60/100\n",
      "5/5 [==============================] - 0s 3ms/step - loss: 39.4121 - mae: 39.4121\n",
      "Epoch 61/100\n",
      "5/5 [==============================] - 0s 4ms/step - loss: 39.8122 - mae: 39.8122\n",
      "Epoch 62/100\n",
      "5/5 [==============================] - 0s 3ms/step - loss: 39.8446 - mae: 39.8446\n",
      "Epoch 63/100\n",
      "5/5 [==============================] - 0s 3ms/step - loss: 39.3158 - mae: 39.3158\n",
      "Epoch 64/100\n",
      "5/5 [==============================] - 0s 4ms/step - loss: 39.4310 - mae: 39.4310\n",
      "Epoch 65/100\n",
      "5/5 [==============================] - 0s 3ms/step - loss: 39.7191 - mae: 39.7191\n",
      "Epoch 66/100\n",
      "5/5 [==============================] - 0s 4ms/step - loss: 39.9217 - mae: 39.9217\n",
      "Epoch 67/100\n",
      "5/5 [==============================] - 0s 3ms/step - loss: 39.6387 - mae: 39.6387\n",
      "Epoch 68/100\n",
      "5/5 [==============================] - 0s 2ms/step - loss: 39.3764 - mae: 39.3764\n",
      "Epoch 69/100\n",
      "5/5 [==============================] - 0s 4ms/step - loss: 39.0622 - mae: 39.0622\n",
      "Epoch 70/100\n",
      "5/5 [==============================] - 0s 3ms/step - loss: 39.6414 - mae: 39.6414\n",
      "Epoch 71/100\n",
      "5/5 [==============================] - 0s 3ms/step - loss: 40.7918 - mae: 40.7918\n",
      "Epoch 72/100\n",
      "5/5 [==============================] - 0s 4ms/step - loss: 38.9840 - mae: 38.9840\n",
      "Epoch 73/100\n",
      "5/5 [==============================] - 0s 3ms/step - loss: 39.4916 - mae: 39.4916\n",
      "Epoch 74/100\n",
      "5/5 [==============================] - 0s 4ms/step - loss: 38.7851 - mae: 38.7851\n",
      "Epoch 75/100\n",
      "5/5 [==============================] - 0s 3ms/step - loss: 39.0563 - mae: 39.0563\n",
      "Epoch 76/100\n",
      "5/5 [==============================] - 0s 3ms/step - loss: 38.8345 - mae: 38.8345\n",
      "Epoch 77/100\n",
      "5/5 [==============================] - 0s 4ms/step - loss: 38.8955 - mae: 38.8955\n",
      "Epoch 78/100\n",
      "5/5 [==============================] - 0s 3ms/step - loss: 39.1472 - mae: 39.1472\n",
      "Epoch 79/100\n",
      "5/5 [==============================] - 0s 3ms/step - loss: 38.9260 - mae: 38.9260\n",
      "Epoch 80/100\n",
      "5/5 [==============================] - 0s 4ms/step - loss: 38.5206 - mae: 38.5206\n",
      "Epoch 81/100\n",
      "5/5 [==============================] - 0s 3ms/step - loss: 38.5690 - mae: 38.5690\n",
      "Epoch 82/100\n",
      "5/5 [==============================] - 0s 4ms/step - loss: 38.7640 - mae: 38.7640\n",
      "Epoch 83/100\n",
      "5/5 [==============================] - 0s 3ms/step - loss: 38.4159 - mae: 38.4159\n",
      "Epoch 84/100\n",
      "5/5 [==============================] - 0s 3ms/step - loss: 38.4695 - mae: 38.4695\n",
      "Epoch 85/100\n",
      "5/5 [==============================] - 0s 4ms/step - loss: 38.5578 - mae: 38.5578\n",
      "Epoch 86/100\n",
      "5/5 [==============================] - 0s 3ms/step - loss: 38.4007 - mae: 38.4007\n",
      "Epoch 87/100\n",
      "5/5 [==============================] - 0s 3ms/step - loss: 38.2267 - mae: 38.2267\n",
      "Epoch 88/100\n",
      "5/5 [==============================] - 0s 4ms/step - loss: 38.4240 - mae: 38.4240\n",
      "Epoch 89/100\n",
      "5/5 [==============================] - 0s 3ms/step - loss: 38.0808 - mae: 38.0808\n",
      "Epoch 90/100\n",
      "5/5 [==============================] - 0s 4ms/step - loss: 37.8971 - mae: 37.8971\n",
      "Epoch 91/100\n",
      "5/5 [==============================] - 0s 3ms/step - loss: 38.0698 - mae: 38.0698\n",
      "Epoch 92/100\n",
      "5/5 [==============================] - 0s 3ms/step - loss: 37.7153 - mae: 37.7153\n",
      "Epoch 93/100\n",
      "5/5 [==============================] - 0s 4ms/step - loss: 38.0159 - mae: 38.0159\n",
      "Epoch 94/100\n",
      "5/5 [==============================] - 0s 3ms/step - loss: 38.7817 - mae: 38.7817\n",
      "Epoch 95/100\n",
      "5/5 [==============================] - 0s 3ms/step - loss: 38.0629 - mae: 38.0629\n",
      "Epoch 96/100\n",
      "5/5 [==============================] - 0s 4ms/step - loss: 38.5786 - mae: 38.5786\n",
      "Epoch 97/100\n",
      "5/5 [==============================] - 0s 3ms/step - loss: 38.0888 - mae: 38.0888\n",
      "Epoch 98/100\n",
      "5/5 [==============================] - 0s 4ms/step - loss: 37.5917 - mae: 37.5917\n",
      "Epoch 99/100\n",
      "5/5 [==============================] - 0s 3ms/step - loss: 38.7253 - mae: 38.7253\n",
      "Epoch 100/100\n",
      "5/5 [==============================] - 0s 3ms/step - loss: 38.2949 - mae: 38.2949\n"
     ]
    },
    {
     "data": {
      "text/plain": "<keras.src.callbacks.History at 0x1ac3cb4a880>"
     },
     "execution_count": 20,
     "metadata": {},
     "output_type": "execute_result"
    }
   ],
   "source": [
    "tf.random.set_seed(42)\n",
    "\n",
    "model_3 = tf.keras.Sequential([\n",
    "    tf.keras.layers.Dense(100),\n",
    "    tf.keras.layers.Dense(10),\n",
    "    tf.keras.layers.Dense(1)\n",
    "])\n",
    "\n",
    "model_3.compile(optimizer='adam',\n",
    "                loss=tf.keras.losses.mae,\n",
    "                metrics=[\"mae\"])\n",
    "\n",
    "model_3.fit(tf.expand_dims(X_reg_train, axis=-1),\n",
    "            y_reg_train,\n",
    "            epochs=100)"
   ],
   "metadata": {
    "collapsed": false,
    "ExecuteTime": {
     "end_time": "2024-03-10T02:05:16.760942700Z",
     "start_time": "2024-03-10T02:05:09.390572Z"
    }
   },
   "id": "187b7bf972f265c7",
   "execution_count": 20
  },
  {
   "cell_type": "code",
   "outputs": [
    {
     "name": "stdout",
     "output_type": "stream",
     "text": [
      "2/2 [==============================] - 0s 10ms/step\n"
     ]
    },
    {
     "data": {
      "text/plain": "<Figure size 1000x800 with 1 Axes>",
      "image/png": "[encoded data removed]"
     },
     "metadata": {},
     "output_type": "display_data"
    }
   ],
   "source": [
    "y_reg_preds = model_3.predict(X_reg_test)\n",
    "\n",
    "plt.figure(figsize=(10, 8))\n",
    "plt.scatter(X_reg_train, y_reg_train, c='b', label='Training data')\n",
    "plt.scatter(X_reg_test, y_reg_test, c='g', label='Testing data')\n",
    "plt.scatter(X_reg_test, y_reg_preds.squeeze(), c='r', label='predictions')\n",
    "plt.legend()\n",
    "plt.show()"
   ],
   "metadata": {
    "collapsed": false,
    "ExecuteTime": {
     "end_time": "2024-03-10T02:05:20.552878Z",
     "start_time": "2024-03-10T02:05:19.664786800Z"
    }
   },
   "id": "67dbdc574f9c3ba",
   "execution_count": 21
  },
  {
   "cell_type": "markdown",
   "source": [
    "### Model 4"
   ],
   "metadata": {
    "collapsed": false
   },
   "id": "e97af00fc89179c8"
  },
  {
   "cell_type": "code",
   "outputs": [
    {
     "name": "stdout",
     "output_type": "stream",
     "text": [
      "Epoch 1/100\n",
      "32/32 [==============================] - 3s 3ms/step - loss: 6.2987 - accuracy: 0.4830\n",
      "Epoch 2/100\n",
      "32/32 [==============================] - 0s 2ms/step - loss: 6.2733 - accuracy: 0.4850\n",
      "Epoch 3/100\n",
      "32/32 [==============================] - 0s 2ms/step - loss: 6.2250 - accuracy: 0.4850\n",
      "Epoch 4/100\n",
      "32/32 [==============================] - 0s 2ms/step - loss: 6.1932 - accuracy: 0.4870\n",
      "Epoch 5/100\n",
      "32/32 [==============================] - 0s 2ms/step - loss: 6.1900 - accuracy: 0.4860\n",
      "Epoch 6/100\n",
      "32/32 [==============================] - 0s 3ms/step - loss: 6.1887 - accuracy: 0.4860\n",
      "Epoch 7/100\n",
      "32/32 [==============================] - 0s 2ms/step - loss: 6.1866 - accuracy: 0.4870\n",
      "Epoch 8/100\n",
      "32/32 [==============================] - 0s 2ms/step - loss: 6.1857 - accuracy: 0.4870\n",
      "Epoch 9/100\n",
      "32/32 [==============================] - 0s 2ms/step - loss: 6.1843 - accuracy: 0.4860\n",
      "Epoch 10/100\n",
      "32/32 [==============================] - 0s 2ms/step - loss: 6.1725 - accuracy: 0.4860\n",
      "Epoch 11/100\n",
      "32/32 [==============================] - 0s 2ms/step - loss: 6.1630 - accuracy: 0.4840\n",
      "Epoch 12/100\n",
      "32/32 [==============================] - 0s 2ms/step - loss: 6.1372 - accuracy: 0.4820\n",
      "Epoch 13/100\n",
      "32/32 [==============================] - 0s 2ms/step - loss: 6.1337 - accuracy: 0.4820\n",
      "Epoch 14/100\n",
      "32/32 [==============================] - 0s 2ms/step - loss: 6.1317 - accuracy: 0.4810\n",
      "Epoch 15/100\n",
      "32/32 [==============================] - 0s 2ms/step - loss: 6.1204 - accuracy: 0.4820\n",
      "Epoch 16/100\n",
      "32/32 [==============================] - 0s 2ms/step - loss: 6.0977 - accuracy: 0.4820\n",
      "Epoch 17/100\n",
      "32/32 [==============================] - 0s 2ms/step - loss: 6.0836 - accuracy: 0.4820\n",
      "Epoch 18/100\n",
      "32/32 [==============================] - 0s 2ms/step - loss: 6.0602 - accuracy: 0.4840\n",
      "Epoch 19/100\n",
      "32/32 [==============================] - 0s 2ms/step - loss: 6.0556 - accuracy: 0.4840\n",
      "Epoch 20/100\n",
      "32/32 [==============================] - 0s 2ms/step - loss: 5.9655 - accuracy: 0.4790\n",
      "Epoch 21/100\n",
      "32/32 [==============================] - 0s 2ms/step - loss: 5.9266 - accuracy: 0.4770\n",
      "Epoch 22/100\n",
      "32/32 [==============================] - 0s 2ms/step - loss: 5.9142 - accuracy: 0.4770\n",
      "Epoch 23/100\n",
      "32/32 [==============================] - 0s 2ms/step - loss: 5.9116 - accuracy: 0.4770\n",
      "Epoch 24/100\n",
      "32/32 [==============================] - 0s 2ms/step - loss: 5.9099 - accuracy: 0.4780\n",
      "Epoch 25/100\n",
      "32/32 [==============================] - 0s 2ms/step - loss: 5.9083 - accuracy: 0.4770\n",
      "Epoch 26/100\n",
      "32/32 [==============================] - 0s 2ms/step - loss: 5.9071 - accuracy: 0.4770\n",
      "Epoch 27/100\n",
      "32/32 [==============================] - 0s 2ms/step - loss: 5.9064 - accuracy: 0.4770\n",
      "Epoch 28/100\n",
      "32/32 [==============================] - 0s 2ms/step - loss: 5.9050 - accuracy: 0.4770\n",
      "Epoch 29/100\n",
      "32/32 [==============================] - 0s 2ms/step - loss: 5.8975 - accuracy: 0.4770\n",
      "Epoch 30/100\n",
      "32/32 [==============================] - 0s 2ms/step - loss: 5.7895 - accuracy: 0.4780\n",
      "Epoch 31/100\n",
      "32/32 [==============================] - 0s 2ms/step - loss: 5.7326 - accuracy: 0.4790\n",
      "Epoch 32/100\n",
      "32/32 [==============================] - 0s 2ms/step - loss: 5.6877 - accuracy: 0.4790\n",
      "Epoch 33/100\n",
      "32/32 [==============================] - 0s 2ms/step - loss: 5.6515 - accuracy: 0.4790\n",
      "Epoch 34/100\n",
      "32/32 [==============================] - 0s 2ms/step - loss: 5.6356 - accuracy: 0.4790\n",
      "Epoch 35/100\n",
      "32/32 [==============================] - 0s 2ms/step - loss: 5.6268 - accuracy: 0.4820\n",
      "Epoch 36/100\n",
      "32/32 [==============================] - 0s 2ms/step - loss: 5.6148 - accuracy: 0.4820\n",
      "Epoch 37/100\n",
      "32/32 [==============================] - 0s 3ms/step - loss: 5.6024 - accuracy: 0.4800\n",
      "Epoch 38/100\n",
      "32/32 [==============================] - 0s 3ms/step - loss: 5.5968 - accuracy: 0.4800\n",
      "Epoch 39/100\n",
      "32/32 [==============================] - 0s 2ms/step - loss: 5.5940 - accuracy: 0.4800\n",
      "Epoch 40/100\n",
      "32/32 [==============================] - 0s 3ms/step - loss: 5.5918 - accuracy: 0.4800\n",
      "Epoch 41/100\n",
      "32/32 [==============================] - 0s 3ms/step - loss: 5.5900 - accuracy: 0.4800\n",
      "Epoch 42/100\n",
      "32/32 [==============================] - 0s 3ms/step - loss: 5.5884 - accuracy: 0.4800\n",
      "Epoch 43/100\n",
      "32/32 [==============================] - 0s 3ms/step - loss: 5.5871 - accuracy: 0.4800\n",
      "Epoch 44/100\n",
      "32/32 [==============================] - 0s 3ms/step - loss: 5.5761 - accuracy: 0.4800\n",
      "Epoch 45/100\n",
      "32/32 [==============================] - 0s 3ms/step - loss: 5.4631 - accuracy: 0.4810\n",
      "Epoch 46/100\n",
      "32/32 [==============================] - 0s 3ms/step - loss: 5.4366 - accuracy: 0.4800\n",
      "Epoch 47/100\n",
      "32/32 [==============================] - 0s 3ms/step - loss: 5.4030 - accuracy: 0.4780\n",
      "Epoch 48/100\n",
      "32/32 [==============================] - 0s 4ms/step - loss: 5.1354 - accuracy: 0.4680\n",
      "Epoch 49/100\n",
      "32/32 [==============================] - 0s 2ms/step - loss: 4.8425 - accuracy: 0.4700\n",
      "Epoch 50/100\n",
      "32/32 [==============================] - 0s 3ms/step - loss: 4.7564 - accuracy: 0.4680\n",
      "Epoch 51/100\n",
      "32/32 [==============================] - 0s 2ms/step - loss: 4.7426 - accuracy: 0.4680\n",
      "Epoch 52/100\n",
      "32/32 [==============================] - 0s 3ms/step - loss: 4.7351 - accuracy: 0.4680\n",
      "Epoch 53/100\n",
      "32/32 [==============================] - 0s 3ms/step - loss: 4.7231 - accuracy: 0.4650\n",
      "Epoch 54/100\n",
      "32/32 [==============================] - 0s 2ms/step - loss: 4.7006 - accuracy: 0.4650\n",
      "Epoch 55/100\n",
      "32/32 [==============================] - 0s 2ms/step - loss: 4.6922 - accuracy: 0.4670\n",
      "Epoch 56/100\n",
      "32/32 [==============================] - 0s 3ms/step - loss: 4.6876 - accuracy: 0.4670\n",
      "Epoch 57/100\n",
      "32/32 [==============================] - 0s 3ms/step - loss: 4.6841 - accuracy: 0.4660\n",
      "Epoch 58/100\n",
      "32/32 [==============================] - 0s 3ms/step - loss: 4.6809 - accuracy: 0.4660\n",
      "Epoch 59/100\n",
      "32/32 [==============================] - 0s 3ms/step - loss: 4.6709 - accuracy: 0.4660\n",
      "Epoch 60/100\n",
      "32/32 [==============================] - 0s 2ms/step - loss: 4.6499 - accuracy: 0.4680\n",
      "Epoch 61/100\n",
      "32/32 [==============================] - 0s 3ms/step - loss: 4.6268 - accuracy: 0.4700\n",
      "Epoch 62/100\n",
      "32/32 [==============================] - 0s 2ms/step - loss: 4.6098 - accuracy: 0.4670\n",
      "Epoch 63/100\n",
      "32/32 [==============================] - 0s 2ms/step - loss: 4.6042 - accuracy: 0.4670\n",
      "Epoch 64/100\n",
      "32/32 [==============================] - 0s 2ms/step - loss: 4.6001 - accuracy: 0.4690\n",
      "Epoch 65/100\n",
      "32/32 [==============================] - 0s 2ms/step - loss: 4.5960 - accuracy: 0.4690\n",
      "Epoch 66/100\n",
      "32/32 [==============================] - 0s 2ms/step - loss: 4.5926 - accuracy: 0.4680\n",
      "Epoch 67/100\n",
      "32/32 [==============================] - 0s 2ms/step - loss: 4.5896 - accuracy: 0.4650\n",
      "Epoch 68/100\n",
      "32/32 [==============================] - 0s 3ms/step - loss: 4.5869 - accuracy: 0.4650\n",
      "Epoch 69/100\n",
      "32/32 [==============================] - 0s 2ms/step - loss: 4.5842 - accuracy: 0.4650\n",
      "Epoch 70/100\n",
      "32/32 [==============================] - 0s 2ms/step - loss: 4.5819 - accuracy: 0.4650\n",
      "Epoch 71/100\n",
      "32/32 [==============================] - 0s 2ms/step - loss: 4.5795 - accuracy: 0.4650\n",
      "Epoch 72/100\n",
      "32/32 [==============================] - 0s 2ms/step - loss: 4.5772 - accuracy: 0.4660\n",
      "Epoch 73/100\n",
      "32/32 [==============================] - 0s 2ms/step - loss: 4.5751 - accuracy: 0.4660\n",
      "Epoch 74/100\n",
      "32/32 [==============================] - 0s 2ms/step - loss: 4.5731 - accuracy: 0.4660\n",
      "Epoch 75/100\n",
      "32/32 [==============================] - 0s 2ms/step - loss: 4.5709 - accuracy: 0.4670\n",
      "Epoch 76/100\n",
      "32/32 [==============================] - 0s 2ms/step - loss: 4.5207 - accuracy: 0.4730\n",
      "Epoch 77/100\n",
      "32/32 [==============================] - 0s 2ms/step - loss: 4.3872 - accuracy: 0.4710\n",
      "Epoch 78/100\n",
      "32/32 [==============================] - 0s 2ms/step - loss: 4.3728 - accuracy: 0.4710\n",
      "Epoch 79/100\n",
      "32/32 [==============================] - 0s 2ms/step - loss: 4.3572 - accuracy: 0.4710\n",
      "Epoch 80/100\n",
      "32/32 [==============================] - 0s 2ms/step - loss: 4.3411 - accuracy: 0.4700\n",
      "Epoch 81/100\n",
      "32/32 [==============================] - 0s 2ms/step - loss: 4.3350 - accuracy: 0.4710\n",
      "Epoch 82/100\n",
      "32/32 [==============================] - 0s 2ms/step - loss: 4.3229 - accuracy: 0.4720\n",
      "Epoch 83/100\n",
      "32/32 [==============================] - 0s 3ms/step - loss: 4.3069 - accuracy: 0.4710\n",
      "Epoch 84/100\n",
      "32/32 [==============================] - 0s 2ms/step - loss: 4.2836 - accuracy: 0.4720\n",
      "Epoch 85/100\n",
      "32/32 [==============================] - 0s 2ms/step - loss: 4.2720 - accuracy: 0.4720\n",
      "Epoch 86/100\n",
      "32/32 [==============================] - 0s 2ms/step - loss: 4.2684 - accuracy: 0.4730\n",
      "Epoch 87/100\n",
      "32/32 [==============================] - 0s 2ms/step - loss: 4.2427 - accuracy: 0.4710\n",
      "Epoch 88/100\n",
      "32/32 [==============================] - 0s 2ms/step - loss: 4.1231 - accuracy: 0.4760\n",
      "Epoch 89/100\n",
      "32/32 [==============================] - 0s 3ms/step - loss: 4.0864 - accuracy: 0.4780\n",
      "Epoch 90/100\n",
      "32/32 [==============================] - 0s 2ms/step - loss: 4.0704 - accuracy: 0.4780\n",
      "Epoch 91/100\n",
      "32/32 [==============================] - 0s 3ms/step - loss: 4.0526 - accuracy: 0.4780\n",
      "Epoch 92/100\n",
      "32/32 [==============================] - 0s 2ms/step - loss: 4.0449 - accuracy: 0.4790\n",
      "Epoch 93/100\n",
      "32/32 [==============================] - 0s 2ms/step - loss: 4.0396 - accuracy: 0.4790\n",
      "Epoch 94/100\n",
      "32/32 [==============================] - 0s 2ms/step - loss: 4.0350 - accuracy: 0.4790\n",
      "Epoch 95/100\n",
      "32/32 [==============================] - 0s 2ms/step - loss: 4.0311 - accuracy: 0.4790\n",
      "Epoch 96/100\n",
      "32/32 [==============================] - 0s 2ms/step - loss: 4.0275 - accuracy: 0.4790\n",
      "Epoch 97/100\n",
      "32/32 [==============================] - 0s 2ms/step - loss: 4.0241 - accuracy: 0.4790\n",
      "Epoch 98/100\n",
      "32/32 [==============================] - 0s 2ms/step - loss: 4.0210 - accuracy: 0.4780\n",
      "Epoch 99/100\n",
      "32/32 [==============================] - 0s 2ms/step - loss: 4.0180 - accuracy: 0.4760\n",
      "Epoch 100/100\n",
      "32/32 [==============================] - 0s 2ms/step - loss: 3.9641 - accuracy: 0.4760\n"
     ]
    }
   ],
   "source": [
    "tf.random.set_seed(42)\n",
    "\n",
    "model_4 = tf.keras.Sequential([\n",
    "    tf.keras.layers.Dense(1, activation=tf.keras.activations.linear),\n",
    "    tf.keras.layers.Dense(1)\n",
    "])\n",
    "\n",
    "model_4.compile(loss=tf.keras.losses.binary_crossentropy,\n",
    "                optimizer=tf.keras.optimizers.Adam(learning_rate=0.001),\n",
    "                metrics=['accuracy'])\n",
    "\n",
    "history = model_4.fit(X, y, epochs=100)"
   ],
   "metadata": {
    "collapsed": false,
    "ExecuteTime": {
     "end_time": "2024-03-10T02:05:35.764556Z",
     "start_time": "2024-03-10T02:05:22.032774800Z"
    }
   },
   "id": "10429051ad1c4b71",
   "execution_count": 22
  },
  {
   "cell_type": "code",
   "outputs": [],
   "source": [
    "plt.scatter(X[:, 0], X[:, 1], c=y, cmap=plt.cm.get_cmap(\"RdYlBu\"));"
   ],
   "metadata": {
    "collapsed": false,
    "ExecuteTime": {
     "start_time": "2024-03-10T02:04:51.612580200Z"
    }
   },
   "id": "37f989f07151e928",
   "execution_count": null
  },
  {
   "cell_type": "code",
   "outputs": [],
   "source": [
    "plot_decision_boundary(model_4, X, y);"
   ],
   "metadata": {
    "collapsed": false
   },
   "id": "10ed303125d2da20",
   "execution_count": null
  },
  {
   "cell_type": "markdown",
   "source": [
    "### Model 5"
   ],
   "metadata": {
    "collapsed": false
   },
   "id": "4ad3e0169a4d3fd"
  },
  {
   "cell_type": "code",
   "outputs": [],
   "source": [
    "tf.random.set_seed(42)\n",
    "\n",
    "model_5 = tf.keras.Sequential([\n",
    "    tf.keras.layers.Dense(1, activation=tf.keras.activations.relu),\n",
    "    tf.keras.layers.Dense(1)\n",
    "])\n",
    "\n",
    "model_5.compile(loss=tf.keras.losses.binary_crossentropy,\n",
    "                optimizer=tf.keras.optimizers.Adam(),\n",
    "                metrics=['accuracy'])\n",
    "\n",
    "history = model_5.fit(X, y, epochs=100)"
   ],
   "metadata": {
    "collapsed": false
   },
   "id": "2c909ce548a4f86",
   "execution_count": null
  },
  {
   "cell_type": "markdown",
   "source": [
    "### Model 6"
   ],
   "metadata": {
    "collapsed": false
   },
   "id": "d34522e9f6eb7bfd"
  },
  {
   "cell_type": "code",
   "outputs": [],
   "source": [
    "tf.random.set_seed(42);\n",
    "\n",
    "model_6 = tf.keras.Sequential([\n",
    "    tf.keras.layers.Dense(4, activation=tf.keras.activations.relu),\n",
    "    tf.keras.layers.Dense(4, activation=tf.keras.activations.relu),\n",
    "    tf.keras.layers.Dense(1)\n",
    "])\n",
    "\n",
    "model_6.compile(loss=tf.keras.losses.binary_crossentropy,\n",
    "                optimizer=tf.keras.optimizers.Adam(learning_rate=0.001),\n",
    "                metrics=['accuracy'])\n",
    "\n",
    "history = model_6.fit(X, y, epochs=100)"
   ],
   "metadata": {
    "collapsed": false
   },
   "id": "91ec9652878c92c5",
   "execution_count": null
  },
  {
   "cell_type": "code",
   "outputs": [],
   "source": [
    "model_6.evaluate(X, y)"
   ],
   "metadata": {
    "collapsed": false
   },
   "id": "f756d897ecf7b0bf",
   "execution_count": null
  },
  {
   "cell_type": "code",
   "outputs": [],
   "source": [
    "plot_decision_boundary(model_6, X, y)"
   ],
   "metadata": {
    "collapsed": false
   },
   "id": "d992e3f111fc5081",
   "execution_count": null
  },
  {
   "cell_type": "markdown",
   "source": [
    "### Model 7"
   ],
   "metadata": {
    "collapsed": false
   },
   "id": "43a358f074327117"
  },
  {
   "cell_type": "code",
   "outputs": [],
   "source": [
    "tf.random.set_seed(42)\n",
    "\n",
    "model_7 = tf.keras.Sequential([\n",
    "    tf.keras.layers.Dense(4, activation=tf.keras.activations.relu),\n",
    "    tf.keras.layers.Dense(4, activation=tf.keras.activations.relu),\n",
    "    tf.keras.layers.Dense(1, activation=tf.keras.activations.sigmoid),\n",
    "])\n",
    "\n",
    "model_7.compile(loss=tf.keras.losses.binary_crossentropy,\n",
    "                optimizer=tf.keras.optimizers.Adam(),\n",
    "                metrics=['accuracy'])\n",
    "\n",
    "history = model_7.fit(X, y, epochs=100, verbose=0)"
   ],
   "metadata": {
    "collapsed": false
   },
   "id": "627e8f196b7aa937",
   "execution_count": null
  },
  {
   "cell_type": "code",
   "outputs": [],
   "source": [
    "model_7.evaluate(X, y)"
   ],
   "metadata": {
    "collapsed": false
   },
   "id": "5b90ff0bdb2a6306",
   "execution_count": null
  },
  {
   "cell_type": "code",
   "outputs": [],
   "source": [
    "plot_decision_boundary(model_7, X, y)"
   ],
   "metadata": {
    "collapsed": false
   },
   "id": "8f6a25d6782ba03b",
   "execution_count": null
  },
  {
   "cell_type": "code",
   "outputs": [],
   "source": [
    "A = tf.cast(tf.range(-10, 10), tf.float32)\n",
    "A"
   ],
   "metadata": {
    "collapsed": false
   },
   "id": "192f0c0668bd6b8f",
   "execution_count": null
  },
  {
   "cell_type": "code",
   "outputs": [],
   "source": [
    "plt.plot(A)"
   ],
   "metadata": {
    "collapsed": false
   },
   "id": "9da63ba7e07a041c",
   "execution_count": null
  },
  {
   "cell_type": "code",
   "outputs": [],
   "source": [
    "def sigmoid(x):\n",
    "    return 1 / (1 + tf.exp(-x))\n",
    "\n",
    "\n",
    "sigmoid(A)"
   ],
   "metadata": {
    "collapsed": false
   },
   "id": "31fc8b41e96ac9e4",
   "execution_count": null
  },
  {
   "cell_type": "code",
   "outputs": [],
   "source": [
    "plt.plot(sigmoid(A));"
   ],
   "metadata": {
    "collapsed": false
   },
   "id": "51709974921678a7",
   "execution_count": null
  },
  {
   "cell_type": "code",
   "outputs": [],
   "source": [
    "def relu(x):\n",
    "    return tf.maximum(x, 0)\n",
    "\n",
    "\n",
    "relu(A)"
   ],
   "metadata": {
    "collapsed": false
   },
   "id": "161a06323fc534a4",
   "execution_count": null
  },
  {
   "cell_type": "code",
   "outputs": [],
   "source": [
    "plt.plot(relu(A));"
   ],
   "metadata": {
    "collapsed": false
   },
   "id": "1d9cf6611cd1996b",
   "execution_count": null
  },
  {
   "cell_type": "code",
   "outputs": [],
   "source": [
    "tf.keras.activations.linear(A)"
   ],
   "metadata": {
    "collapsed": false
   },
   "id": "a0b3235e2a544d7a",
   "execution_count": null
  },
  {
   "cell_type": "code",
   "outputs": [],
   "source": [
    "plt.plot(tf.keras.activations.linear(A))"
   ],
   "metadata": {
    "collapsed": false
   },
   "id": "5a7c03dd9068b3cd",
   "execution_count": null
  },
  {
   "cell_type": "code",
   "outputs": [],
   "source": [
    "A == tf.keras.activations.linear(A)"
   ],
   "metadata": {
    "collapsed": false
   },
   "id": "97010b4921a14c8f",
   "execution_count": null
  },
  {
   "cell_type": "code",
   "outputs": [],
   "source": [],
   "metadata": {
    "collapsed": false
   },
   "id": "7accc4f8d16d146f"
  },
  {
   "cell_type": "markdown",
   "source": [
    "### Evaluating and improving our classification model"
   ],
   "metadata": {
    "collapsed": false
   },
   "id": "297d64fe40fd0694"
  },
  {
   "cell_type": "code",
   "outputs": [],
   "source": [
    "len(X)"
   ],
   "metadata": {
    "collapsed": false
   },
   "id": "3ac7df587e89d961",
   "execution_count": null
  },
  {
   "cell_type": "code",
   "outputs": [],
   "source": [
    "X_train, y_train = X[:800], y[:800]\n",
    "X_test, y_test = X[800:], y[800:]\n",
    "\n",
    "X_train.shape, X_test.shape"
   ],
   "metadata": {
    "collapsed": false
   },
   "id": "c469226271678898",
   "execution_count": null
  },
  {
   "cell_type": "markdown",
   "source": [
    "### Model 8"
   ],
   "metadata": {
    "collapsed": false
   },
   "id": "6183362de30a21c2"
  },
  {
   "cell_type": "code",
   "outputs": [],
   "source": [
    "tf.random.set_seed(42)\n",
    "\n",
    "model_8 = tf.keras.Sequential([\n",
    "    tf.keras.layers.Dense(4, activation='relu'),\n",
    "    tf.keras.layers.Dense(4, activation='relu'),\n",
    "    tf.keras.layers.Dense(1, activation='sigmoid')\n",
    "])\n",
    "\n",
    "model_8.compile(loss=tf.keras.losses.binary_crossentropy,\n",
    "                optimizer=tf.keras.optimizers.Adam(learning_rate=0.01),\n",
    "                metrics=['accuracy'])\n",
    "\n",
    "history = model_8.fit(X, y, epochs=100)"
   ],
   "metadata": {
    "collapsed": false
   },
   "id": "7f357640638fec0c",
   "execution_count": null
  },
  {
   "cell_type": "code",
   "outputs": [],
   "source": [
    "loss, accuracy = model_8.evaluate(X_test, y_test)\n",
    "print(f\"Model loss on the test set: {loss}\")\n",
    "print(f\"Model accuracy on the test set: {100 * accuracy:.2f}%\")"
   ],
   "metadata": {
    "collapsed": false
   },
   "id": "318616b0bc2c048d",
   "execution_count": null
  },
  {
   "cell_type": "code",
   "outputs": [],
   "source": [
    "plt.figure(figsize=(12, 6))\n",
    "plt.subplot(1, 2, 1)\n",
    "plt.title(\"Train\")\n",
    "plot_decision_boundary(model_8, X=X_train, y=y_train)\n",
    "plt.subplot(1, 2, 2)\n",
    "plt.title(\"Test\")\n",
    "plot_decision_boundary(model_8, X=X_test, y=y_test)\n",
    "plt.show()"
   ],
   "metadata": {
    "collapsed": false
   },
   "id": "5eef05c0d118279",
   "execution_count": null
  },
  {
   "cell_type": "code",
   "outputs": [],
   "source": [],
   "metadata": {
    "collapsed": false
   },
   "id": "e5687ab0f56a187a"
  },
  {
   "cell_type": "markdown",
   "source": [
    "### Plot the loss curves"
   ],
   "metadata": {
    "collapsed": false
   },
   "id": "8a5fd5a9e1226c88"
  },
  {
   "cell_type": "code",
   "outputs": [],
   "source": [
    "pd.DataFrame(history.history)"
   ],
   "metadata": {
    "collapsed": false
   },
   "id": "b077f483c19d02b0",
   "execution_count": null
  },
  {
   "cell_type": "code",
   "outputs": [],
   "source": [
    "pd.DataFrame(history.history).plot()\n",
    "plt.title(\"Model_8 training curves\")"
   ],
   "metadata": {
    "collapsed": false
   },
   "id": "b494ccb4a966556e",
   "execution_count": null
  },
  {
   "cell_type": "markdown",
   "source": [
    "### Finding the best learning rate"
   ],
   "metadata": {
    "collapsed": false
   },
   "id": "96836b8e3002f997"
  },
  {
   "cell_type": "markdown",
   "source": [
    "### Model 9"
   ],
   "metadata": {
    "collapsed": false
   },
   "id": "6a34dbad9884be4c"
  },
  {
   "cell_type": "code",
   "outputs": [],
   "source": [
    "tf.random.set_seed(42)\n",
    "\n",
    "model_9 = tf.keras.Sequential([\n",
    "    tf.keras.layers.Dense(4, activation=\"relu\"),\n",
    "    tf.keras.layers.Dense(4, activation=\"relu\"),\n",
    "    tf.keras.layers.Dense(1, activation=\"sigmoid\")\n",
    "])\n",
    "\n",
    "model_9.compile(loss=\"binary_crossentropy\",\n",
    "                optimizer=\"Adam\",\n",
    "                metrics=[\"accuracy\"])\n",
    "\n",
    "lr_scheduler = tf.keras.callbacks.LearningRateScheduler(lambda epoch: 1e-4 * 10 ** (epoch / 20))\n",
    "\n",
    "history = model_9.fit(X_train,\n",
    "                      y_train,\n",
    "                      epochs=100,\n",
    "                      callbacks=[lr_scheduler])"
   ],
   "metadata": {
    "collapsed": false
   },
   "id": "bad70fcdb2bbb3d9",
   "execution_count": null
  },
  {
   "cell_type": "code",
   "outputs": [],
   "source": [
    "pd.DataFrame(history.history).plot(figsize=(10, 7), xlabel=\"epochs\")"
   ],
   "metadata": {
    "collapsed": false
   },
   "id": "88e852a4dd5c4789",
   "execution_count": null
  },
  {
   "cell_type": "code",
   "outputs": [],
   "source": [
    "lrs = 1e-4 * (10 ** (np.arange(100) / 20))\n",
    "plt.figure(figsize=(10, 7))\n",
    "plt.semilogx(lrs, history.history[\"loss\"])\n",
    "plt.xlabel(\"Learning Rate\")\n",
    "plt.ylabel(\"Loss\")\n",
    "plt.title(\"Learning rate vs Loss\")\n",
    "plt.show()"
   ],
   "metadata": {
    "collapsed": false
   },
   "id": "e917db16c711bd13",
   "execution_count": null
  },
  {
   "cell_type": "code",
   "outputs": [],
   "source": [
    "10 ** 0, 10 ** -1, 10 ** -2, 10 ** -3, 10 ** -4"
   ],
   "metadata": {
    "collapsed": false
   },
   "id": "b0729a25b543ce93",
   "execution_count": null
  },
  {
   "cell_type": "markdown",
   "source": [
    "### Model 10"
   ],
   "metadata": {
    "collapsed": false
   },
   "id": "c92eb292806d07f9"
  },
  {
   "cell_type": "code",
   "outputs": [],
   "source": [
    "tf.random.set_seed(42)\n",
    "\n",
    "model_10 = tf.keras.Sequential([\n",
    "    tf.keras.layers.Dense(4, activation=\"relu\"),\n",
    "    tf.keras.layers.Dense(4, activation=\"relu\"),\n",
    "    tf.keras.layers.Dense(1, activation=\"sigmoid\")\n",
    "])\n",
    "\n",
    "model_10.compile(loss=\"binary_crossentropy\",\n",
    "                 optimizer=tf.keras.optimizers.Adam(learning_rate=0.02),\n",
    "                 metrics=[\"accuracy\"])\n",
    "\n",
    "history = model_10.fit(X_train, y_train, epochs=20)"
   ],
   "metadata": {
    "collapsed": false
   },
   "id": "d2ed99795242056e",
   "execution_count": null
  },
  {
   "cell_type": "code",
   "outputs": [],
   "source": [
    "model_10.evaluate(X_test, y_test)"
   ],
   "metadata": {
    "collapsed": false
   },
   "id": "a3863463664bb057",
   "execution_count": null
  },
  {
   "cell_type": "code",
   "outputs": [],
   "source": [
    "plt.figure(figsize=(12, 6))\n",
    "plt.subplot(1, 2, 1)\n",
    "plt.title(\"Train\")\n",
    "plot_decision_boundary(model_10, X=X_train, y=y_train)\n",
    "plt.subplot(1, 2, 2)\n",
    "plt.title(\"Test\")\n",
    "plot_decision_boundary(model_10, X=X_test, y=y_test)\n",
    "plt.show()"
   ],
   "metadata": {
    "collapsed": false
   },
   "id": "a7b9e4f217092059",
   "execution_count": null
  },
  {
   "cell_type": "code",
   "outputs": [],
   "source": [
    "loss, accuracy = model_10.evaluate(X_test, y_test)\n",
    "print(f\"Model loss on test set: {loss}\")\n",
    "print(f\"Model accuracy on test set: {(accuracy * 100):.2f}%\")"
   ],
   "metadata": {
    "collapsed": false
   },
   "id": "31122351d38009e6",
   "execution_count": null
  },
  {
   "cell_type": "code",
   "outputs": [],
   "source": [
    "from sklearn.metrics import confusion_matrix\n",
    "\n",
    "y_preds = model_10.predict(X_test)\n",
    "\n",
    "confusion_matrix(y_test, y_preds)"
   ],
   "metadata": {
    "collapsed": false
   },
   "id": "e370eaeddb9371ab",
   "execution_count": null
  },
  {
   "cell_type": "code",
   "outputs": [],
   "source": [
    "y_preds[:10]"
   ],
   "metadata": {
    "collapsed": false
   },
   "id": "5c990d2f0d537fe7",
   "execution_count": null
  },
  {
   "cell_type": "code",
   "outputs": [],
   "source": [
    "y_test[:10]"
   ],
   "metadata": {
    "collapsed": false
   },
   "id": "fbcc63da4a39cbc9",
   "execution_count": null
  },
  {
   "cell_type": "code",
   "outputs": [],
   "source": [
    "tf.round(y_preds)[:10]"
   ],
   "metadata": {
    "collapsed": false
   },
   "id": "7499072c55447c5e",
   "execution_count": null
  },
  {
   "cell_type": "code",
   "outputs": [],
   "source": [
    "confusion_matrix(y_test, tf.round(y_preds))"
   ],
   "metadata": {
    "collapsed": false
   },
   "id": "687407f0aa8073c9",
   "execution_count": null
  },
  {
   "cell_type": "code",
   "outputs": [],
   "source": [
    "import itertools\n",
    "\n",
    "figsize = (10, 10)\n",
    "\n",
    "cm = confusion_matrix(y_test, tf.round(y_preds))\n",
    "cm_norm = cm.astype(\"float\") / cm.sum(axis=1)[:, np.newaxis]\n",
    "n_classes = cm.shape[0]\n",
    "\n",
    "fig, ax = plt.subplots(figsize=figsize)\n",
    "cax = ax.matshow(cm, cmap=plt.cm.Blues)\n",
    "fig.colorbar(cax)\n",
    "\n",
    "classes = False\n",
    "\n",
    "if classes:\n",
    "    labels = classes\n",
    "else:\n",
    "    labels = np.arange(cm.shape[0])\n",
    "\n",
    "ax.set(title=\"Confusion Matrix\",\n",
    "       xlabel=\"Predicted label\",\n",
    "       ylabel=\"True label\",\n",
    "       xticks=np.arange(n_classes),\n",
    "       yticks=np.arange(n_classes),\n",
    "       xticklabels=labels,\n",
    "       yticklabels=labels)\n",
    "\n",
    "ax.xaxis.set_label_position(\"bottom\")\n",
    "ax.xaxis.tick_bottom()\n",
    "\n",
    "ax.xaxis.label.set_size(20)\n",
    "ax.yaxis.label.set_size(20)\n",
    "ax.title.set_size(20)\n",
    "\n",
    "threshold = (cm.max() + cm.min()) / 2\n",
    "\n",
    "for i, j in itertools.product(range(cm.shape[0]), range(cm.shape[1])):\n",
    "    plt.text(j, i, f\"{cm[i, j]} ({cm_norm[i, j] * 100:.1f}%)\",\n",
    "             horizontalalignment=\"center\",\n",
    "             color=\"white\" if cm[i, j] > threshold else \"black\",\n",
    "             size=15)"
   ],
   "metadata": {
    "collapsed": false
   },
   "id": "742acae7b478b324",
   "execution_count": null
  },
  {
   "cell_type": "code",
   "outputs": [],
   "source": [
    "import itertools\n",
    "\n",
    "for i, j in itertools.product(range(cm.shape[0]), range(cm.shape[1])):\n",
    "    print(i, j)"
   ],
   "metadata": {
    "collapsed": false
   },
   "id": "ba8dd0851ae0cba0",
   "execution_count": null
  },
  {
   "cell_type": "code",
   "outputs": [],
   "source": [],
   "metadata": {
    "collapsed": false
   },
   "id": "77e6a3cbec712d89"
  },
  {
   "cell_type": "code",
   "outputs": [],
   "source": [],
   "metadata": {
    "collapsed": false
   },
   "id": "ed3cabb52f15b71"
  },
  {
   "cell_type": "markdown",
   "source": [
    "## Working with a larger example (multiclass classification)"
   ],
   "metadata": {
    "collapsed": false
   },
   "id": "50da22b97ccce32b"
  },
  {
   "cell_type": "code",
   "outputs": [],
   "source": [
    "import tensorflow as tf\n",
    "from tensorflow.keras.datasets import fashion_mnist\n",
    "\n",
    "# The fata has already been sorted into training and test set for us\n",
    "(train_data, train_labels), (test_data, test_labels) = fashion_mnist.load_data()"
   ],
   "metadata": {
    "collapsed": false
   },
   "id": "85007f826b28c8c2",
   "execution_count": null
  },
  {
   "cell_type": "code",
   "outputs": [],
   "source": [
    "print(f\"Training sample:\\n{train_data[0]}\\n\")\n",
    "print(f\"Training label: {train_labels[0]}\")"
   ],
   "metadata": {
    "collapsed": false
   },
   "id": "de2c25cc65d657d",
   "execution_count": null
  },
  {
   "cell_type": "code",
   "outputs": [],
   "source": [
    "train_data.shape, train_labels.shape, test_data.shape, test_labels.shape"
   ],
   "metadata": {
    "collapsed": false
   },
   "id": "73d11abcd4a8424a",
   "execution_count": null
  },
  {
   "cell_type": "code",
   "outputs": [],
   "source": [
    "train_data[0].shape, train_labels[0].shape"
   ],
   "metadata": {
    "collapsed": false
   },
   "id": "82f3d9a070ff9b95",
   "execution_count": null
  },
  {
   "cell_type": "code",
   "outputs": [],
   "source": [
    "import matplotlib.pyplot as plt\n",
    "\n",
    "plt.imshow(train_data[7])\n",
    "plt.show()"
   ],
   "metadata": {
    "collapsed": false
   },
   "id": "df04cf02f3d53393",
   "execution_count": null
  },
  {
   "cell_type": "code",
   "outputs": [],
   "source": [
    "train_labels[7]"
   ],
   "metadata": {
    "collapsed": false
   },
   "id": "70c2e6e4f515c5b3",
   "execution_count": null
  },
  {
   "cell_type": "code",
   "outputs": [],
   "source": [
    "class_names = ['T-shirt/top', 'Trouser', 'Pullover', 'Dress', 'Coat',\n",
    "               'Sandal', 'Shirt', 'Sneaker', 'Bag', 'Ankle boot']\n",
    "\n",
    "len(class_names)"
   ],
   "metadata": {
    "collapsed": false
   },
   "id": "fd217f77fd29021",
   "execution_count": null
  },
  {
   "cell_type": "code",
   "outputs": [],
   "source": [
    "plt.imshow(train_data[17], cmap=plt.cm.binary)\n",
    "plt.title(class_names[train_labels[17]])\n",
    "plt.show()"
   ],
   "metadata": {
    "collapsed": false
   },
   "id": "c7552f61035211fd",
   "execution_count": null
  },
  {
   "cell_type": "code",
   "outputs": [],
   "source": [
    "import random\n",
    "\n",
    "plt.figure(figsize=(7, 7))\n",
    "for i in range(4):\n",
    "    ax = plt.subplot(2, 2, i + 1)\n",
    "    rand_index = random.choice(range(len(train_data)))\n",
    "    plt.imshow(train_data[rand_index], cmap=plt.cm.binary)\n",
    "    plt.title(class_names[train_labels[rand_index]])\n",
    "    plt.axis(False)"
   ],
   "metadata": {
    "collapsed": false
   },
   "id": "64a2b6c37d5d8fa",
   "execution_count": null
  },
  {
   "cell_type": "code",
   "outputs": [],
   "source": [],
   "metadata": {
    "collapsed": false
   },
   "id": "b2059c8f8de9dc61"
  },
  {
   "cell_type": "markdown",
   "source": [
    "### Model 10"
   ],
   "metadata": {
    "collapsed": false
   },
   "id": "3863a5c88675ee63"
  },
  {
   "cell_type": "code",
   "outputs": [],
   "source": [
    "tf.random.set_seed(42)\n",
    "\n",
    "model_11 = tf.keras.Sequential([\n",
    "    tf.keras.layers.Flatten(input_shape=(28, 28)),\n",
    "    tf.keras.layers.Dense(4, activation=\"relu\"),\n",
    "    tf.keras.layers.Dense(4, activation=\"relu\"),\n",
    "    tf.keras.layers.Dense(10, activation=\"softmax\")\n",
    "])\n",
    "\n",
    "model_11.compile(loss=tf.keras.losses.SparseCategoricalCrossentropy(),\n",
    "                 optimizer=tf.keras.optimizers.Adam(),\n",
    "                 metrics=[\"accuracy\"])\n",
    "\n",
    "non_norm_history = model_11.fit(train_data,\n",
    "                                train_labels,\n",
    "                                epochs=10,\n",
    "                                validation_data=(test_data, test_labels))"
   ],
   "metadata": {
    "collapsed": false
   },
   "id": "99d5204889c96fac",
   "execution_count": null
  },
  {
   "cell_type": "code",
   "outputs": [],
   "source": [
    "model_11.summary()"
   ],
   "metadata": {
    "collapsed": false
   },
   "id": "e0e93fbc1798475a",
   "execution_count": null
  },
  {
   "cell_type": "code",
   "outputs": [],
   "source": [
    "train_data.min(), train_data.max()"
   ],
   "metadata": {
    "collapsed": false
   },
   "id": "c85e2385ef25c63a",
   "execution_count": null
  },
  {
   "cell_type": "code",
   "outputs": [],
   "source": [
    "train_data = train_data / 255.0\n",
    "test_data = test_data / 255.0\n",
    "\n",
    "train_data.min(), train_data.max()"
   ],
   "metadata": {
    "collapsed": false
   },
   "id": "f409a95bc5d0fa62",
   "execution_count": null
  },
  {
   "cell_type": "code",
   "outputs": [],
   "source": [],
   "metadata": {
    "collapsed": false
   },
   "id": "4ba47ca4eaa95751"
  },
  {
   "cell_type": "markdown",
   "source": [
    "### Model 12"
   ],
   "metadata": {
    "collapsed": false
   },
   "id": "e824d5feceb99fc6"
  },
  {
   "cell_type": "code",
   "outputs": [],
   "source": [
    "tf.random.set_seed(42)\n",
    "\n",
    "model_12 = tf.keras.Sequential([\n",
    "    tf.keras.layers.Flatten(input_shape=(28, 28)),\n",
    "    tf.keras.layers.Dense(4, activation=\"relu\"),\n",
    "    tf.keras.layers.Dense(4, activation=\"relu\"),\n",
    "    tf.keras.layers.Dense(10, activation=\"softmax\")\n",
    "])\n",
    "\n",
    "model_12.compile(loss=tf.keras.losses.SparseCategoricalCrossentropy(),\n",
    "                 optimizer=tf.keras.optimizers.Adam(),\n",
    "                 metrics=[\"accuracy\"])\n",
    "\n",
    "norm_history = model_12.fit(train_data,\n",
    "                            train_labels,\n",
    "                            epochs=10,\n",
    "                            validation_data=(test_data, test_labels))"
   ],
   "metadata": {
    "collapsed": false
   },
   "id": "5f8acc25d3f2c266",
   "execution_count": null
  },
  {
   "cell_type": "code",
   "outputs": [],
   "source": [
    "import pandas as pd\n",
    "\n",
    "pd.DataFrame(non_norm_history.history).plot(title=\"Non-normalized Data\")\n",
    "pd.DataFrame(norm_history.history).plot(title=\"Normalized Data\");"
   ],
   "metadata": {
    "collapsed": false
   },
   "id": "b5014f8c6459277f",
   "execution_count": null
  },
  {
   "cell_type": "code",
   "outputs": [],
   "source": [],
   "metadata": {
    "collapsed": false
   },
   "id": "8aa61ef9f81c6b5b"
  },
  {
   "cell_type": "markdown",
   "source": [
    "### Model 13"
   ],
   "metadata": {
    "collapsed": false
   },
   "id": "74514d9f96cfd8be"
  },
  {
   "cell_type": "code",
   "outputs": [],
   "source": [
    "tf.random.set_seed(42)\n",
    "model_13 = tf.keras.Sequential([\n",
    "    tf.keras.layers.Flatten(input_shape=(28, 28)),\n",
    "    tf.keras.layers.Dense(4, activation=\"relu\"),\n",
    "    tf.keras.layers.Dense(4, activation=\"relu\"),\n",
    "    tf.keras.layers.Dense(10, activation=\"softmax\")\n",
    "])\n",
    "\n",
    "model_13.compile(loss=tf.keras.losses.SparseCategoricalCrossentropy(),\n",
    "                 optimizer=tf.keras.optimizers.Adam(),\n",
    "                 metrics=[\"accuracy\"])\n",
    "\n",
    "lr_scheduler = tf.keras.callbacks.LearningRateScheduler(lambda epoch: 1e-3 * 10 ** (epoch / 20))\n",
    "\n",
    "find_lr_history = model_13.fit(train_data,\n",
    "                               train_labels,\n",
    "                               epochs=40,\n",
    "                               validation_data=(test_data, test_labels),\n",
    "                               callbacks=[lr_scheduler])"
   ],
   "metadata": {
    "collapsed": false
   },
   "id": "b6bfb6b6e1722536",
   "execution_count": null
  },
  {
   "cell_type": "code",
   "outputs": [],
   "source": [
    "import numpy as np\n",
    "import matplotlib.pyplot as plt\n",
    "\n",
    "lrs = 1e-3 * (10 ** (np.arange(40) / 20))\n",
    "plt.semilogx(lrs, find_lr_history.history[\"loss\"])\n",
    "plt.xlabel(\"Learning rate\")\n",
    "plt.ylabel(\"Loss\")\n",
    "plt.title(\"Finding the idea learning rate\")\n",
    "plt.show()"
   ],
   "metadata": {
    "collapsed": false
   },
   "id": "a8679c16e54edac0",
   "execution_count": null
  },
  {
   "cell_type": "code",
   "outputs": [],
   "source": [],
   "metadata": {
    "collapsed": false
   },
   "id": "56595160c0bcf779"
  },
  {
   "cell_type": "markdown",
   "source": [
    "### Model 14"
   ],
   "metadata": {
    "collapsed": false
   },
   "id": "6c450fa7c6add6d8"
  },
  {
   "cell_type": "code",
   "outputs": [],
   "source": [
    "tf.random.set_seed(42)\n",
    "\n",
    "model_14 = tf.keras.Sequential([\n",
    "    tf.keras.layers.Flatten(input_shape=(28, 28)),\n",
    "    tf.keras.layers.Dense(4, activation=\"relu\"),\n",
    "    tf.keras.layers.Dense(4, activation=\"relu\"),\n",
    "    tf.keras.layers.Dense(10, activation=\"softmax\")\n",
    "])\n",
    "\n",
    "model_14.compile(loss=tf.keras.losses.SparseCategoricalCrossentropy(),\n",
    "                 optimizer=tf.keras.optimizers.Adam(learning_rate=0.001),\n",
    "                 metrics=[\"accuracy\"])\n",
    "\n",
    "history = model_14.fit(train_data,\n",
    "                       train_labels,\n",
    "                       epochs=20,\n",
    "                       validation_data=(test_data, test_labels))"
   ],
   "metadata": {
    "collapsed": false
   },
   "id": "9a2b59e1d20d7ee6",
   "execution_count": null
  },
  {
   "cell_type": "code",
   "outputs": [],
   "source": [
    "import itertools\n",
    "from sklearn.metrics import confusion_matrix\n",
    "\n",
    "\n",
    "def make_confusion_matrix(y_true, y_pred, classes=None, figsize=(10, 10), text_size=15):\n",
    "    # Create the confusion matrix\n",
    "    cm = confusion_matrix(y_true, y_pred)\n",
    "    cm_norm = cm.astype(\"float\") / cm.sum(axis=1)[:, np.newaxis]\n",
    "    n_classes = cm.shape[0]\n",
    "\n",
    "    # Plot the figure and make it pretty\n",
    "    fig, ax = plt.subplots(figsize=figsize)\n",
    "    cax = ax.matshow(cm, cmap=plt.cm.Blues)\n",
    "    fig.colorbar(cax)\n",
    "\n",
    "    if classes:\n",
    "        labels = classes\n",
    "    else:\n",
    "        labels = np.arange(cm.shape[0])\n",
    "\n",
    "    ax.set(title=\"Confusion Matrix\",\n",
    "           xlabel=\"Predicted label\",\n",
    "           ylabel=\"True label\",\n",
    "           xticks=np.arange(n_classes),\n",
    "           yticks=np.arange(n_classes),\n",
    "           xticklabels=labels,\n",
    "           yticklabels=labels)\n",
    "\n",
    "    ax.xaxis.set_label_position(\"bottom\")\n",
    "    ax.xaxis.tick_bottom()\n",
    "\n",
    "    threshold = (cm.max() + cm.min()) / 2\n",
    "\n",
    "    for i, j in itertools.product(range(cm.shape[0]), range(cm.shape[1])):\n",
    "        plt.text(j, i, f\"{cm[i, j]} ({cm_norm[i, j] * 100:.1f}%)\",\n",
    "                 horizontalalignment=\"center\",\n",
    "                 color=\"white\" if cm[i, j] > threshold else \"black\",\n",
    "                 size=text_size)"
   ],
   "metadata": {
    "collapsed": false
   },
   "id": "958e37e8feaa3e4f",
   "execution_count": null
  },
  {
   "cell_type": "code",
   "outputs": [],
   "source": [
    "y_preds = model_14.predict(test_data)\n",
    "\n",
    "y_preds[:5]"
   ],
   "metadata": {
    "collapsed": false
   },
   "id": "2ea55bff043bdf1d",
   "execution_count": null
  },
  {
   "cell_type": "code",
   "outputs": [],
   "source": [
    "y_preds[0].argmax(), class_names[y_preds[0].argmax()]"
   ],
   "metadata": {
    "collapsed": false
   },
   "id": "953386c54a17aae",
   "execution_count": null
  },
  {
   "cell_type": "code",
   "outputs": [],
   "source": [
    "y_preds = y_preds.argmax(axis=1)\n",
    "\n",
    "y_preds[:10]"
   ],
   "metadata": {
    "collapsed": false
   },
   "id": "e62397afb3580eca",
   "execution_count": null
  },
  {
   "cell_type": "code",
   "outputs": [],
   "source": [
    "print(y_preds[:10])"
   ],
   "metadata": {
    "collapsed": false
   },
   "id": "65b409ee263711a5",
   "execution_count": null
  },
  {
   "cell_type": "code",
   "outputs": [],
   "source": [
    "from sklearn.metrics import confusion_matrix\n",
    "\n",
    "confusion_matrix(y_true=test_labels,\n",
    "                 y_pred=y_preds)"
   ],
   "metadata": {
    "collapsed": false
   },
   "id": "ca25aba22e1bcd06",
   "execution_count": null
  },
  {
   "cell_type": "code",
   "outputs": [],
   "source": [
    "make_confusion_matrix(y_true=test_labels,\n",
    "                      y_pred=y_preds,\n",
    "                      classes=class_names,\n",
    "                      figsize=(15, 15),\n",
    "                      text_size=10)"
   ],
   "metadata": {
    "collapsed": false
   },
   "id": "22cae82bb2f097d3",
   "execution_count": null
  },
  {
   "cell_type": "code",
   "outputs": [],
   "source": [
    "import random\n",
    "def plot_random_image(model, images, true_labels, classes):\n",
    "    i=random.randint(0, len(images))\n",
    "    \n",
    "    target_image = images[i]\n",
    "    pred_probs = model.predict(target_image.reshape(1, 28, 28))\n",
    "    pred_label = classes[pred_probs.argmax()]\n",
    "    true_label = classes[true_labels[i]]\n",
    "    \n",
    "    plt.imshow(target_image, cmap=plt.cm.binary)\n",
    "    \n",
    "    if pred_label==true_label:\n",
    "        color=\"green\"\n",
    "    else:\n",
    "        color='red'\n",
    "        \n",
    "    plt.xlabel(f\"Pred: {pred_label} {100*tf.reduce_max(pred_probs):2.0f}% (True: {true_label})\", color=color)"
   ],
   "metadata": {
    "collapsed": false
   },
   "id": "8df2f6d8a51b7c68",
   "execution_count": null
  },
  {
   "cell_type": "code",
   "outputs": [],
   "source": [
    "plot_random_image(model=model_14,\n",
    "                  images=test_data,\n",
    "                  true_labels=test_labels,\n",
    "                  classes=class_names)"
   ],
   "metadata": {
    "collapsed": false
   },
   "id": "48f6b2afcbbb72b6",
   "execution_count": null
  },
  {
   "cell_type": "code",
   "outputs": [],
   "source": [
    "model_14.layers"
   ],
   "metadata": {
    "collapsed": false
   },
   "id": "7b26613b7d92b6cc",
   "execution_count": null
  },
  {
   "cell_type": "code",
   "outputs": [],
   "source": [
    "model_14.layers[1]"
   ],
   "metadata": {
    "collapsed": false
   },
   "id": "562850d55e0c7bf3",
   "execution_count": null
  },
  {
   "cell_type": "code",
   "outputs": [],
   "source": [
    "weights, biases = model_14.layers[1].get_weights()\n",
    "\n",
    "weights, weights.shape"
   ],
   "metadata": {
    "collapsed": false
   },
   "id": "7495d3df601ed053",
   "execution_count": null
  },
  {
   "cell_type": "code",
   "outputs": [],
   "source": [
    "biases, biases.shape"
   ],
   "metadata": {
    "collapsed": false
   },
   "id": "4842d7223d901066",
   "execution_count": null
  },
  {
   "cell_type": "code",
   "outputs": [],
   "source": [
    "model_14.summary()"
   ],
   "metadata": {
    "collapsed": false
   },
   "id": "8f5fa80cf1f7bcf4",
   "execution_count": null
  },
  {
   "cell_type": "code",
   "outputs": [],
   "source": [
    "from tensorflow.keras.utils import plot_model\n",
    "\n",
    "plot_model(model_14, show_shapes=True)"
   ],
   "metadata": {
    "collapsed": false
   },
   "id": "c90c010ad85863d6",
   "execution_count": null
  },
  {
   "cell_type": "code",
   "outputs": [],
   "source": [],
   "metadata": {
    "collapsed": false
   },
   "id": "8d8e0aef670ab7da"
  }
 ],
 "metadata": {
  "kernelspec": {
   "display_name": "Python 3",
   "language": "python",
   "name": "python3"
  },
  "language_info": {
   "codemirror_mode": {
    "name": "ipython",
    "version": 2
   },
   "file_extension": ".py",
   "mimetype": "text/x-python",
   "name": "python",
   "nbconvert_exporter": "python",
   "pygments_lexer": "ipython2",
   "version": "2.7.6"
  }
 },
 "nbformat": 4,
 "nbformat_minor": 5
}
