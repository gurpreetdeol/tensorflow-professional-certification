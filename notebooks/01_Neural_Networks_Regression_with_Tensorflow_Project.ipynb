{
 "cells": [
  {
   "cell_type": "markdown",
   "source": [
    "# Neural Networks Regression with Tensorflow Project"
   ],
   "metadata": {
    "collapsed": false
   },
   "id": "7df7ec9325412dd"
  },
  {
   "cell_type": "markdown",
   "source": [
    "### Madical Cost Personal Dataset"
   ],
   "metadata": {
    "collapsed": false
   },
   "id": "2ee3375ef7a895d6"
  },
  {
   "cell_type": "raw",
   "source": [
    "Context\n",
    "Machine Learning with R by Brett Lantz is a book that provides an introduction to machine learning using R. As far as I can tell, Packt Publishing does not make its datasets available online unless you buy the book and create a user account which can be a problem if you are checking the book out from the library or borrowing the book from a friend. All of these datasets are in the public domain but simply needed some cleaning up and recoding to match the format in the book.\n",
    "\n",
    "Content\n",
    "Columns\n",
    "age: age of primary beneficiary\n",
    "sex: insurance contractor gender, female, male\n",
    "bmi: Body mass index, providing an understanding of body, weights that are relatively high or low relative to height,\n",
    "objective index of body weight (kg / m ^ 2) using the ratio of height to weight, ideally 18.5 to 24.9\n",
    "children: Number of children covered by health insurance / Number of dependents\n",
    "smoker: Smoking\n",
    "region: the beneficiary's residential area in the US, northeast, southeast, southwest, northwest.\n",
    "charges: Individual medical costs billed by health insurance"
   ],
   "metadata": {
    "collapsed": false
   },
   "id": "30d9cbc424de60ae"
  },
  {
   "cell_type": "raw",
   "source": [
    "https://raw.githubusercontent.com/stedy/Machine-Learning-with-R-datasets/master/insurance.csv"
   ],
   "metadata": {
    "collapsed": false
   },
   "id": "781b01ac99fbf39b"
  },
  {
   "cell_type": "code",
   "outputs": [],
   "source": [
    "# Import required libraries\n",
    "import tensorflow as tf\n",
    "import pandas as pd\n",
    "import matplotlib.pyplot as plt\n",
    "from sklearn.preprocessing import StandardScaler"
   ],
   "metadata": {
    "collapsed": false,
    "ExecuteTime": {
     "end_time": "2024-03-05T00:20:31.090914600Z",
     "start_time": "2024-03-05T00:20:21.941316500Z"
    }
   },
   "id": "19701ba8976e3460",
   "execution_count": 1
  },
  {
   "cell_type": "code",
   "outputs": [],
   "source": [
    "# Read in the insurance dataset\n",
    "insurance = pd.read_csv(\"https://raw.githubusercontent.com/stedy/Machine-Learning-with-R-datasets/master/insurance.csv\")"
   ],
   "metadata": {
    "collapsed": false,
    "ExecuteTime": {
     "end_time": "2024-03-05T00:20:31.478583400Z",
     "start_time": "2024-03-05T00:20:31.096926300Z"
    }
   },
   "id": "1e8d36e117976c2",
   "execution_count": 2
  },
  {
   "cell_type": "code",
   "outputs": [
    {
     "data": {
      "text/plain": "      age     sex     bmi  children smoker     region      charges\n0      19  female  27.900         0    yes  southwest  16884.92400\n1      18    male  33.770         1     no  southeast   1725.55230\n2      28    male  33.000         3     no  southeast   4449.46200\n3      33    male  22.705         0     no  northwest  21984.47061\n4      32    male  28.880         0     no  northwest   3866.85520\n...   ...     ...     ...       ...    ...        ...          ...\n1333   50    male  30.970         3     no  northwest  10600.54830\n1334   18  female  31.920         0     no  northeast   2205.98080\n1335   18  female  36.850         0     no  southeast   1629.83350\n1336   21  female  25.800         0     no  southwest   2007.94500\n1337   61  female  29.070         0    yes  northwest  29141.36030\n\n[1338 rows x 7 columns]",
      "text/html": "<div>\n<style scoped>\n    .dataframe tbody tr th:only-of-type {\n        vertical-align: middle;\n    }\n\n    .dataframe tbody tr th {\n        vertical-align: top;\n    }\n\n    .dataframe thead th {\n        text-align: right;\n    }\n</style>\n<table border=\"1\" class=\"dataframe\">\n  <thead>\n    <tr style=\"text-align: right;\">\n      <th></th>\n      <th>age</th>\n      <th>sex</th>\n      <th>bmi</th>\n      <th>children</th>\n      <th>smoker</th>\n      <th>region</th>\n      <th>charges</th>\n    </tr>\n  </thead>\n  <tbody>\n    <tr>\n      <th>0</th>\n      <td>19</td>\n      <td>female</td>\n      <td>27.900</td>\n      <td>0</td>\n      <td>yes</td>\n      <td>southwest</td>\n      <td>16884.92400</td>\n    </tr>\n    <tr>\n      <th>1</th>\n      <td>18</td>\n      <td>male</td>\n      <td>33.770</td>\n      <td>1</td>\n      <td>no</td>\n      <td>southeast</td>\n      <td>1725.55230</td>\n    </tr>\n    <tr>\n      <th>2</th>\n      <td>28</td>\n      <td>male</td>\n      <td>33.000</td>\n      <td>3</td>\n      <td>no</td>\n      <td>southeast</td>\n      <td>4449.46200</td>\n    </tr>\n    <tr>\n      <th>3</th>\n      <td>33</td>\n      <td>male</td>\n      <td>22.705</td>\n      <td>0</td>\n      <td>no</td>\n      <td>northwest</td>\n      <td>21984.47061</td>\n    </tr>\n    <tr>\n      <th>4</th>\n      <td>32</td>\n      <td>male</td>\n      <td>28.880</td>\n      <td>0</td>\n      <td>no</td>\n      <td>northwest</td>\n      <td>3866.85520</td>\n    </tr>\n    <tr>\n      <th>...</th>\n      <td>...</td>\n      <td>...</td>\n      <td>...</td>\n      <td>...</td>\n      <td>...</td>\n      <td>...</td>\n      <td>...</td>\n    </tr>\n    <tr>\n      <th>1333</th>\n      <td>50</td>\n      <td>male</td>\n      <td>30.970</td>\n      <td>3</td>\n      <td>no</td>\n      <td>northwest</td>\n      <td>10600.54830</td>\n    </tr>\n    <tr>\n      <th>1334</th>\n      <td>18</td>\n      <td>female</td>\n      <td>31.920</td>\n      <td>0</td>\n      <td>no</td>\n      <td>northeast</td>\n      <td>2205.98080</td>\n    </tr>\n    <tr>\n      <th>1335</th>\n      <td>18</td>\n      <td>female</td>\n      <td>36.850</td>\n      <td>0</td>\n      <td>no</td>\n      <td>southeast</td>\n      <td>1629.83350</td>\n    </tr>\n    <tr>\n      <th>1336</th>\n      <td>21</td>\n      <td>female</td>\n      <td>25.800</td>\n      <td>0</td>\n      <td>no</td>\n      <td>southwest</td>\n      <td>2007.94500</td>\n    </tr>\n    <tr>\n      <th>1337</th>\n      <td>61</td>\n      <td>female</td>\n      <td>29.070</td>\n      <td>0</td>\n      <td>yes</td>\n      <td>northwest</td>\n      <td>29141.36030</td>\n    </tr>\n  </tbody>\n</table>\n<p>1338 rows × 7 columns</p>\n</div>"
     },
     "execution_count": 3,
     "metadata": {},
     "output_type": "execute_result"
    }
   ],
   "source": [
    "insurance"
   ],
   "metadata": {
    "collapsed": false,
    "ExecuteTime": {
     "end_time": "2024-03-05T00:20:31.563032100Z",
     "start_time": "2024-03-05T00:20:31.481586900Z"
    }
   },
   "id": "bd9b953e3d6d4368",
   "execution_count": 3
  },
  {
   "cell_type": "code",
   "outputs": [
    {
     "data": {
      "text/plain": "age         0\nsex         0\nbmi         0\nchildren    0\nsmoker      0\nregion      0\ncharges     0\ndtype: int64"
     },
     "execution_count": 4,
     "metadata": {},
     "output_type": "execute_result"
    }
   ],
   "source": [
    "insurance.isnull().sum()"
   ],
   "metadata": {
    "collapsed": false,
    "ExecuteTime": {
     "end_time": "2024-03-05T00:20:31.565038200Z",
     "start_time": "2024-03-05T00:20:31.530038200Z"
    }
   },
   "id": "4dbc6abc2bfc29f8",
   "execution_count": 4
  },
  {
   "cell_type": "code",
   "outputs": [
    {
     "name": "stdout",
     "output_type": "stream",
     "text": [
      "<class 'pandas.core.frame.DataFrame'>\n",
      "RangeIndex: 1338 entries, 0 to 1337\n",
      "Data columns (total 7 columns):\n",
      " #   Column    Non-Null Count  Dtype  \n",
      "---  ------    --------------  -----  \n",
      " 0   age       1338 non-null   int64  \n",
      " 1   sex       1338 non-null   object \n",
      " 2   bmi       1338 non-null   float64\n",
      " 3   children  1338 non-null   int64  \n",
      " 4   smoker    1338 non-null   object \n",
      " 5   region    1338 non-null   object \n",
      " 6   charges   1338 non-null   float64\n",
      "dtypes: float64(2), int64(2), object(3)\n",
      "memory usage: 73.3+ KB\n"
     ]
    }
   ],
   "source": [
    "insurance.info()"
   ],
   "metadata": {
    "collapsed": false,
    "ExecuteTime": {
     "end_time": "2024-03-05T00:20:31.675028600Z",
     "start_time": "2024-03-05T00:20:31.549037700Z"
    }
   },
   "id": "62cb1e1cfabd4145",
   "execution_count": 5
  },
  {
   "cell_type": "code",
   "outputs": [
    {
     "data": {
      "text/plain": "      age     bmi  children      charges  sex_female  sex_male  smoker_no  \\\n0      19  27.900         0  16884.92400           1         0          0   \n1      18  33.770         1   1725.55230           0         1          1   \n2      28  33.000         3   4449.46200           0         1          1   \n3      33  22.705         0  21984.47061           0         1          1   \n4      32  28.880         0   3866.85520           0         1          1   \n...   ...     ...       ...          ...         ...       ...        ...   \n1333   50  30.970         3  10600.54830           0         1          1   \n1334   18  31.920         0   2205.98080           1         0          1   \n1335   18  36.850         0   1629.83350           1         0          1   \n1336   21  25.800         0   2007.94500           1         0          1   \n1337   61  29.070         0  29141.36030           1         0          0   \n\n      smoker_yes  region_northeast  region_northwest  region_southeast  \\\n0              1                 0                 0                 0   \n1              0                 0                 0                 1   \n2              0                 0                 0                 1   \n3              0                 0                 1                 0   \n4              0                 0                 1                 0   \n...          ...               ...               ...               ...   \n1333           0                 0                 1                 0   \n1334           0                 1                 0                 0   \n1335           0                 0                 0                 1   \n1336           0                 0                 0                 0   \n1337           1                 0                 1                 0   \n\n      region_southwest  \n0                    1  \n1                    0  \n2                    0  \n3                    0  \n4                    0  \n...                ...  \n1333                 0  \n1334                 0  \n1335                 0  \n1336                 1  \n1337                 0  \n\n[1338 rows x 12 columns]",
      "text/html": "<div>\n<style scoped>\n    .dataframe tbody tr th:only-of-type {\n        vertical-align: middle;\n    }\n\n    .dataframe tbody tr th {\n        vertical-align: top;\n    }\n\n    .dataframe thead th {\n        text-align: right;\n    }\n</style>\n<table border=\"1\" class=\"dataframe\">\n  <thead>\n    <tr style=\"text-align: right;\">\n      <th></th>\n      <th>age</th>\n      <th>bmi</th>\n      <th>children</th>\n      <th>charges</th>\n      <th>sex_female</th>\n      <th>sex_male</th>\n      <th>smoker_no</th>\n      <th>smoker_yes</th>\n      <th>region_northeast</th>\n      <th>region_northwest</th>\n      <th>region_southeast</th>\n      <th>region_southwest</th>\n    </tr>\n  </thead>\n  <tbody>\n    <tr>\n      <th>0</th>\n      <td>19</td>\n      <td>27.900</td>\n      <td>0</td>\n      <td>16884.92400</td>\n      <td>1</td>\n      <td>0</td>\n      <td>0</td>\n      <td>1</td>\n      <td>0</td>\n      <td>0</td>\n      <td>0</td>\n      <td>1</td>\n    </tr>\n    <tr>\n      <th>1</th>\n      <td>18</td>\n      <td>33.770</td>\n      <td>1</td>\n      <td>1725.55230</td>\n      <td>0</td>\n      <td>1</td>\n      <td>1</td>\n      <td>0</td>\n      <td>0</td>\n      <td>0</td>\n      <td>1</td>\n      <td>0</td>\n    </tr>\n    <tr>\n      <th>2</th>\n      <td>28</td>\n      <td>33.000</td>\n      <td>3</td>\n      <td>4449.46200</td>\n      <td>0</td>\n      <td>1</td>\n      <td>1</td>\n      <td>0</td>\n      <td>0</td>\n      <td>0</td>\n      <td>1</td>\n      <td>0</td>\n    </tr>\n    <tr>\n      <th>3</th>\n      <td>33</td>\n      <td>22.705</td>\n      <td>0</td>\n      <td>21984.47061</td>\n      <td>0</td>\n      <td>1</td>\n      <td>1</td>\n      <td>0</td>\n      <td>0</td>\n      <td>1</td>\n      <td>0</td>\n      <td>0</td>\n    </tr>\n    <tr>\n      <th>4</th>\n      <td>32</td>\n      <td>28.880</td>\n      <td>0</td>\n      <td>3866.85520</td>\n      <td>0</td>\n      <td>1</td>\n      <td>1</td>\n      <td>0</td>\n      <td>0</td>\n      <td>1</td>\n      <td>0</td>\n      <td>0</td>\n    </tr>\n    <tr>\n      <th>...</th>\n      <td>...</td>\n      <td>...</td>\n      <td>...</td>\n      <td>...</td>\n      <td>...</td>\n      <td>...</td>\n      <td>...</td>\n      <td>...</td>\n      <td>...</td>\n      <td>...</td>\n      <td>...</td>\n      <td>...</td>\n    </tr>\n    <tr>\n      <th>1333</th>\n      <td>50</td>\n      <td>30.970</td>\n      <td>3</td>\n      <td>10600.54830</td>\n      <td>0</td>\n      <td>1</td>\n      <td>1</td>\n      <td>0</td>\n      <td>0</td>\n      <td>1</td>\n      <td>0</td>\n      <td>0</td>\n    </tr>\n    <tr>\n      <th>1334</th>\n      <td>18</td>\n      <td>31.920</td>\n      <td>0</td>\n      <td>2205.98080</td>\n      <td>1</td>\n      <td>0</td>\n      <td>1</td>\n      <td>0</td>\n      <td>1</td>\n      <td>0</td>\n      <td>0</td>\n      <td>0</td>\n    </tr>\n    <tr>\n      <th>1335</th>\n      <td>18</td>\n      <td>36.850</td>\n      <td>0</td>\n      <td>1629.83350</td>\n      <td>1</td>\n      <td>0</td>\n      <td>1</td>\n      <td>0</td>\n      <td>0</td>\n      <td>0</td>\n      <td>1</td>\n      <td>0</td>\n    </tr>\n    <tr>\n      <th>1336</th>\n      <td>21</td>\n      <td>25.800</td>\n      <td>0</td>\n      <td>2007.94500</td>\n      <td>1</td>\n      <td>0</td>\n      <td>1</td>\n      <td>0</td>\n      <td>0</td>\n      <td>0</td>\n      <td>0</td>\n      <td>1</td>\n    </tr>\n    <tr>\n      <th>1337</th>\n      <td>61</td>\n      <td>29.070</td>\n      <td>0</td>\n      <td>29141.36030</td>\n      <td>1</td>\n      <td>0</td>\n      <td>0</td>\n      <td>1</td>\n      <td>0</td>\n      <td>1</td>\n      <td>0</td>\n      <td>0</td>\n    </tr>\n  </tbody>\n</table>\n<p>1338 rows × 12 columns</p>\n</div>"
     },
     "execution_count": 6,
     "metadata": {},
     "output_type": "execute_result"
    }
   ],
   "source": [
    "# Let's try one-hot encoding on our dataframe\n",
    "insurance_one_hot = pd.get_dummies(insurance, dtype=int)\n",
    "insurance_one_hot"
   ],
   "metadata": {
    "collapsed": false,
    "ExecuteTime": {
     "end_time": "2024-03-05T00:20:31.737035500Z",
     "start_time": "2024-03-05T00:20:31.578041400Z"
    }
   },
   "id": "b71647b9a2814e",
   "execution_count": 6
  },
  {
   "cell_type": "code",
   "outputs": [
    {
     "name": "stdout",
     "output_type": "stream",
     "text": [
      "<class 'pandas.core.frame.DataFrame'>\n",
      "RangeIndex: 1338 entries, 0 to 1337\n",
      "Data columns (total 12 columns):\n",
      " #   Column            Non-Null Count  Dtype  \n",
      "---  ------            --------------  -----  \n",
      " 0   age               1338 non-null   int64  \n",
      " 1   bmi               1338 non-null   float64\n",
      " 2   children          1338 non-null   int64  \n",
      " 3   charges           1338 non-null   float64\n",
      " 4   sex_female        1338 non-null   int32  \n",
      " 5   sex_male          1338 non-null   int32  \n",
      " 6   smoker_no         1338 non-null   int32  \n",
      " 7   smoker_yes        1338 non-null   int32  \n",
      " 8   region_northeast  1338 non-null   int32  \n",
      " 9   region_northwest  1338 non-null   int32  \n",
      " 10  region_southeast  1338 non-null   int32  \n",
      " 11  region_southwest  1338 non-null   int32  \n",
      "dtypes: float64(2), int32(8), int64(2)\n",
      "memory usage: 83.8 KB\n"
     ]
    }
   ],
   "source": [
    "insurance_one_hot.info()"
   ],
   "metadata": {
    "collapsed": false,
    "ExecuteTime": {
     "end_time": "2024-03-05T00:20:31.850032200Z",
     "start_time": "2024-03-05T00:20:31.624042300Z"
    }
   },
   "id": "4ee50e0176f8aa",
   "execution_count": 7
  },
  {
   "cell_type": "code",
   "outputs": [
    {
     "data": {
      "text/plain": "   age     bmi  children      charges  sex_female  sex_male  smoker_no  \\\n0   19  27.900         0  16884.92400           1         0          0   \n1   18  33.770         1   1725.55230           0         1          1   \n2   28  33.000         3   4449.46200           0         1          1   \n3   33  22.705         0  21984.47061           0         1          1   \n4   32  28.880         0   3866.85520           0         1          1   \n\n   smoker_yes  region_northeast  region_northwest  region_southeast  \\\n0           1                 0                 0                 0   \n1           0                 0                 0                 1   \n2           0                 0                 0                 1   \n3           0                 0                 1                 0   \n4           0                 0                 1                 0   \n\n   region_southwest  \n0                 1  \n1                 0  \n2                 0  \n3                 0  \n4                 0  ",
      "text/html": "<div>\n<style scoped>\n    .dataframe tbody tr th:only-of-type {\n        vertical-align: middle;\n    }\n\n    .dataframe tbody tr th {\n        vertical-align: top;\n    }\n\n    .dataframe thead th {\n        text-align: right;\n    }\n</style>\n<table border=\"1\" class=\"dataframe\">\n  <thead>\n    <tr style=\"text-align: right;\">\n      <th></th>\n      <th>age</th>\n      <th>bmi</th>\n      <th>children</th>\n      <th>charges</th>\n      <th>sex_female</th>\n      <th>sex_male</th>\n      <th>smoker_no</th>\n      <th>smoker_yes</th>\n      <th>region_northeast</th>\n      <th>region_northwest</th>\n      <th>region_southeast</th>\n      <th>region_southwest</th>\n    </tr>\n  </thead>\n  <tbody>\n    <tr>\n      <th>0</th>\n      <td>19</td>\n      <td>27.900</td>\n      <td>0</td>\n      <td>16884.92400</td>\n      <td>1</td>\n      <td>0</td>\n      <td>0</td>\n      <td>1</td>\n      <td>0</td>\n      <td>0</td>\n      <td>0</td>\n      <td>1</td>\n    </tr>\n    <tr>\n      <th>1</th>\n      <td>18</td>\n      <td>33.770</td>\n      <td>1</td>\n      <td>1725.55230</td>\n      <td>0</td>\n      <td>1</td>\n      <td>1</td>\n      <td>0</td>\n      <td>0</td>\n      <td>0</td>\n      <td>1</td>\n      <td>0</td>\n    </tr>\n    <tr>\n      <th>2</th>\n      <td>28</td>\n      <td>33.000</td>\n      <td>3</td>\n      <td>4449.46200</td>\n      <td>0</td>\n      <td>1</td>\n      <td>1</td>\n      <td>0</td>\n      <td>0</td>\n      <td>0</td>\n      <td>1</td>\n      <td>0</td>\n    </tr>\n    <tr>\n      <th>3</th>\n      <td>33</td>\n      <td>22.705</td>\n      <td>0</td>\n      <td>21984.47061</td>\n      <td>0</td>\n      <td>1</td>\n      <td>1</td>\n      <td>0</td>\n      <td>0</td>\n      <td>1</td>\n      <td>0</td>\n      <td>0</td>\n    </tr>\n    <tr>\n      <th>4</th>\n      <td>32</td>\n      <td>28.880</td>\n      <td>0</td>\n      <td>3866.85520</td>\n      <td>0</td>\n      <td>1</td>\n      <td>1</td>\n      <td>0</td>\n      <td>0</td>\n      <td>1</td>\n      <td>0</td>\n      <td>0</td>\n    </tr>\n  </tbody>\n</table>\n</div>"
     },
     "execution_count": 8,
     "metadata": {},
     "output_type": "execute_result"
    }
   ],
   "source": [
    "insurance_one_hot.head()"
   ],
   "metadata": {
    "collapsed": false,
    "ExecuteTime": {
     "end_time": "2024-03-05T00:20:31.894033500Z",
     "start_time": "2024-03-05T00:20:31.658036100Z"
    }
   },
   "id": "14a30b6dbd291e2c",
   "execution_count": 8
  },
  {
   "cell_type": "markdown",
   "source": [
    "### Create X and y datasets (features and labels)"
   ],
   "metadata": {
    "collapsed": false
   },
   "id": "cb236c818593d508"
  },
  {
   "cell_type": "code",
   "outputs": [
    {
     "data": {
      "text/plain": "Index(['age', 'bmi', 'children', 'charges', 'sex_female', 'sex_male',\n       'smoker_no', 'smoker_yes', 'region_northeast', 'region_northwest',\n       'region_southeast', 'region_southwest'],\n      dtype='object')"
     },
     "execution_count": 9,
     "metadata": {},
     "output_type": "execute_result"
    }
   ],
   "source": [
    "insurance_one_hot.columns"
   ],
   "metadata": {
    "collapsed": false,
    "ExecuteTime": {
     "end_time": "2024-03-05T00:20:31.935038400Z",
     "start_time": "2024-03-05T00:20:31.691031Z"
    }
   },
   "id": "bca86e1d10922b7f",
   "execution_count": 9
  },
  {
   "cell_type": "code",
   "outputs": [],
   "source": [
    "insurance_one_hot = insurance_one_hot[['age', 'bmi', 'children', 'sex_female', 'sex_male',\n",
    "                                       'smoker_no', 'smoker_yes', 'region_northeast', 'region_northwest',\n",
    "                                       'region_southeast', 'region_southwest', 'charges']]"
   ],
   "metadata": {
    "collapsed": false,
    "ExecuteTime": {
     "end_time": "2024-03-05T00:20:31.967027800Z",
     "start_time": "2024-03-05T00:20:31.716033200Z"
    }
   },
   "id": "dc75aae43b8e6d50",
   "execution_count": 10
  },
  {
   "cell_type": "code",
   "outputs": [
    {
     "data": {
      "text/plain": "   age     bmi  children  sex_female  sex_male  smoker_no  smoker_yes  \\\n0   19  27.900         0           1         0          0           1   \n1   18  33.770         1           0         1          1           0   \n2   28  33.000         3           0         1          1           0   \n3   33  22.705         0           0         1          1           0   \n4   32  28.880         0           0         1          1           0   \n\n   region_northeast  region_northwest  region_southeast  region_southwest  \\\n0                 0                 0                 0                 1   \n1                 0                 0                 1                 0   \n2                 0                 0                 1                 0   \n3                 0                 1                 0                 0   \n4                 0                 1                 0                 0   \n\n       charges  \n0  16884.92400  \n1   1725.55230  \n2   4449.46200  \n3  21984.47061  \n4   3866.85520  ",
      "text/html": "<div>\n<style scoped>\n    .dataframe tbody tr th:only-of-type {\n        vertical-align: middle;\n    }\n\n    .dataframe tbody tr th {\n        vertical-align: top;\n    }\n\n    .dataframe thead th {\n        text-align: right;\n    }\n</style>\n<table border=\"1\" class=\"dataframe\">\n  <thead>\n    <tr style=\"text-align: right;\">\n      <th></th>\n      <th>age</th>\n      <th>bmi</th>\n      <th>children</th>\n      <th>sex_female</th>\n      <th>sex_male</th>\n      <th>smoker_no</th>\n      <th>smoker_yes</th>\n      <th>region_northeast</th>\n      <th>region_northwest</th>\n      <th>region_southeast</th>\n      <th>region_southwest</th>\n      <th>charges</th>\n    </tr>\n  </thead>\n  <tbody>\n    <tr>\n      <th>0</th>\n      <td>19</td>\n      <td>27.900</td>\n      <td>0</td>\n      <td>1</td>\n      <td>0</td>\n      <td>0</td>\n      <td>1</td>\n      <td>0</td>\n      <td>0</td>\n      <td>0</td>\n      <td>1</td>\n      <td>16884.92400</td>\n    </tr>\n    <tr>\n      <th>1</th>\n      <td>18</td>\n      <td>33.770</td>\n      <td>1</td>\n      <td>0</td>\n      <td>1</td>\n      <td>1</td>\n      <td>0</td>\n      <td>0</td>\n      <td>0</td>\n      <td>1</td>\n      <td>0</td>\n      <td>1725.55230</td>\n    </tr>\n    <tr>\n      <th>2</th>\n      <td>28</td>\n      <td>33.000</td>\n      <td>3</td>\n      <td>0</td>\n      <td>1</td>\n      <td>1</td>\n      <td>0</td>\n      <td>0</td>\n      <td>0</td>\n      <td>1</td>\n      <td>0</td>\n      <td>4449.46200</td>\n    </tr>\n    <tr>\n      <th>3</th>\n      <td>33</td>\n      <td>22.705</td>\n      <td>0</td>\n      <td>0</td>\n      <td>1</td>\n      <td>1</td>\n      <td>0</td>\n      <td>0</td>\n      <td>1</td>\n      <td>0</td>\n      <td>0</td>\n      <td>21984.47061</td>\n    </tr>\n    <tr>\n      <th>4</th>\n      <td>32</td>\n      <td>28.880</td>\n      <td>0</td>\n      <td>0</td>\n      <td>1</td>\n      <td>1</td>\n      <td>0</td>\n      <td>0</td>\n      <td>1</td>\n      <td>0</td>\n      <td>0</td>\n      <td>3866.85520</td>\n    </tr>\n  </tbody>\n</table>\n</div>"
     },
     "execution_count": 11,
     "metadata": {},
     "output_type": "execute_result"
    }
   ],
   "source": [
    "insurance_one_hot.head()"
   ],
   "metadata": {
    "collapsed": false,
    "ExecuteTime": {
     "end_time": "2024-03-05T00:20:31.983029100Z",
     "start_time": "2024-03-05T00:20:31.735030100Z"
    }
   },
   "id": "8a0ec619a54cd3b2",
   "execution_count": 11
  },
  {
   "cell_type": "code",
   "outputs": [],
   "source": [
    "# X, y = insurance_one_hot.iloc[:, :-1], insurance_one_hot.iloc[:, -1]\n",
    "\n",
    "X = insurance_one_hot.drop('charges', axis=1)\n",
    "y = insurance_one_hot[\"charges\"]"
   ],
   "metadata": {
    "collapsed": false,
    "ExecuteTime": {
     "end_time": "2024-03-05T00:51:39.674722400Z",
     "start_time": "2024-03-05T00:51:39.571049700Z"
    }
   },
   "id": "951053b5d776bccc",
   "execution_count": 63
  },
  {
   "cell_type": "code",
   "outputs": [
    {
     "data": {
      "text/plain": "      age     bmi  children  sex_female  sex_male  smoker_no  smoker_yes  \\\n0      19  27.900         0           1         0          0           1   \n1      18  33.770         1           0         1          1           0   \n2      28  33.000         3           0         1          1           0   \n3      33  22.705         0           0         1          1           0   \n4      32  28.880         0           0         1          1           0   \n...   ...     ...       ...         ...       ...        ...         ...   \n1333   50  30.970         3           0         1          1           0   \n1334   18  31.920         0           1         0          1           0   \n1335   18  36.850         0           1         0          1           0   \n1336   21  25.800         0           1         0          1           0   \n1337   61  29.070         0           1         0          0           1   \n\n      region_northeast  region_northwest  region_southeast  region_southwest  \n0                    0                 0                 0                 1  \n1                    0                 0                 1                 0  \n2                    0                 0                 1                 0  \n3                    0                 1                 0                 0  \n4                    0                 1                 0                 0  \n...                ...               ...               ...               ...  \n1333                 0                 1                 0                 0  \n1334                 1                 0                 0                 0  \n1335                 0                 0                 1                 0  \n1336                 0                 0                 0                 1  \n1337                 0                 1                 0                 0  \n\n[1338 rows x 11 columns]",
      "text/html": "<div>\n<style scoped>\n    .dataframe tbody tr th:only-of-type {\n        vertical-align: middle;\n    }\n\n    .dataframe tbody tr th {\n        vertical-align: top;\n    }\n\n    .dataframe thead th {\n        text-align: right;\n    }\n</style>\n<table border=\"1\" class=\"dataframe\">\n  <thead>\n    <tr style=\"text-align: right;\">\n      <th></th>\n      <th>age</th>\n      <th>bmi</th>\n      <th>children</th>\n      <th>sex_female</th>\n      <th>sex_male</th>\n      <th>smoker_no</th>\n      <th>smoker_yes</th>\n      <th>region_northeast</th>\n      <th>region_northwest</th>\n      <th>region_southeast</th>\n      <th>region_southwest</th>\n    </tr>\n  </thead>\n  <tbody>\n    <tr>\n      <th>0</th>\n      <td>19</td>\n      <td>27.900</td>\n      <td>0</td>\n      <td>1</td>\n      <td>0</td>\n      <td>0</td>\n      <td>1</td>\n      <td>0</td>\n      <td>0</td>\n      <td>0</td>\n      <td>1</td>\n    </tr>\n    <tr>\n      <th>1</th>\n      <td>18</td>\n      <td>33.770</td>\n      <td>1</td>\n      <td>0</td>\n      <td>1</td>\n      <td>1</td>\n      <td>0</td>\n      <td>0</td>\n      <td>0</td>\n      <td>1</td>\n      <td>0</td>\n    </tr>\n    <tr>\n      <th>2</th>\n      <td>28</td>\n      <td>33.000</td>\n      <td>3</td>\n      <td>0</td>\n      <td>1</td>\n      <td>1</td>\n      <td>0</td>\n      <td>0</td>\n      <td>0</td>\n      <td>1</td>\n      <td>0</td>\n    </tr>\n    <tr>\n      <th>3</th>\n      <td>33</td>\n      <td>22.705</td>\n      <td>0</td>\n      <td>0</td>\n      <td>1</td>\n      <td>1</td>\n      <td>0</td>\n      <td>0</td>\n      <td>1</td>\n      <td>0</td>\n      <td>0</td>\n    </tr>\n    <tr>\n      <th>4</th>\n      <td>32</td>\n      <td>28.880</td>\n      <td>0</td>\n      <td>0</td>\n      <td>1</td>\n      <td>1</td>\n      <td>0</td>\n      <td>0</td>\n      <td>1</td>\n      <td>0</td>\n      <td>0</td>\n    </tr>\n    <tr>\n      <th>...</th>\n      <td>...</td>\n      <td>...</td>\n      <td>...</td>\n      <td>...</td>\n      <td>...</td>\n      <td>...</td>\n      <td>...</td>\n      <td>...</td>\n      <td>...</td>\n      <td>...</td>\n      <td>...</td>\n    </tr>\n    <tr>\n      <th>1333</th>\n      <td>50</td>\n      <td>30.970</td>\n      <td>3</td>\n      <td>0</td>\n      <td>1</td>\n      <td>1</td>\n      <td>0</td>\n      <td>0</td>\n      <td>1</td>\n      <td>0</td>\n      <td>0</td>\n    </tr>\n    <tr>\n      <th>1334</th>\n      <td>18</td>\n      <td>31.920</td>\n      <td>0</td>\n      <td>1</td>\n      <td>0</td>\n      <td>1</td>\n      <td>0</td>\n      <td>1</td>\n      <td>0</td>\n      <td>0</td>\n      <td>0</td>\n    </tr>\n    <tr>\n      <th>1335</th>\n      <td>18</td>\n      <td>36.850</td>\n      <td>0</td>\n      <td>1</td>\n      <td>0</td>\n      <td>1</td>\n      <td>0</td>\n      <td>0</td>\n      <td>0</td>\n      <td>1</td>\n      <td>0</td>\n    </tr>\n    <tr>\n      <th>1336</th>\n      <td>21</td>\n      <td>25.800</td>\n      <td>0</td>\n      <td>1</td>\n      <td>0</td>\n      <td>1</td>\n      <td>0</td>\n      <td>0</td>\n      <td>0</td>\n      <td>0</td>\n      <td>1</td>\n    </tr>\n    <tr>\n      <th>1337</th>\n      <td>61</td>\n      <td>29.070</td>\n      <td>0</td>\n      <td>1</td>\n      <td>0</td>\n      <td>0</td>\n      <td>1</td>\n      <td>0</td>\n      <td>1</td>\n      <td>0</td>\n      <td>0</td>\n    </tr>\n  </tbody>\n</table>\n<p>1338 rows × 11 columns</p>\n</div>"
     },
     "execution_count": 64,
     "metadata": {},
     "output_type": "execute_result"
    }
   ],
   "source": [
    "X"
   ],
   "metadata": {
    "collapsed": false,
    "ExecuteTime": {
     "end_time": "2024-03-05T00:51:40.430801900Z",
     "start_time": "2024-03-05T00:51:40.150100400Z"
    }
   },
   "id": "a7d898801d91977e",
   "execution_count": 64
  },
  {
   "cell_type": "code",
   "outputs": [
    {
     "name": "stdout",
     "output_type": "stream",
     "text": [
      "<class 'pandas.core.frame.DataFrame'>\n",
      "RangeIndex: 1338 entries, 0 to 1337\n",
      "Data columns (total 11 columns):\n",
      " #   Column            Non-Null Count  Dtype  \n",
      "---  ------            --------------  -----  \n",
      " 0   age               1338 non-null   int64  \n",
      " 1   bmi               1338 non-null   float64\n",
      " 2   children          1338 non-null   int64  \n",
      " 3   sex_female        1338 non-null   int32  \n",
      " 4   sex_male          1338 non-null   int32  \n",
      " 5   smoker_no         1338 non-null   int32  \n",
      " 6   smoker_yes        1338 non-null   int32  \n",
      " 7   region_northeast  1338 non-null   int32  \n",
      " 8   region_northwest  1338 non-null   int32  \n",
      " 9   region_southeast  1338 non-null   int32  \n",
      " 10  region_southwest  1338 non-null   int32  \n",
      "dtypes: float64(1), int32(8), int64(2)\n",
      "memory usage: 73.3 KB\n"
     ]
    }
   ],
   "source": [
    "X.info()"
   ],
   "metadata": {
    "collapsed": false,
    "ExecuteTime": {
     "end_time": "2024-03-05T00:51:41.231806600Z",
     "start_time": "2024-03-05T00:51:40.744426Z"
    }
   },
   "id": "f31ad6acad1ea027",
   "execution_count": 65
  },
  {
   "cell_type": "code",
   "outputs": [
    {
     "data": {
      "text/plain": "0       16884.92400\n1        1725.55230\n2        4449.46200\n3       21984.47061\n4        3866.85520\n           ...     \n1333    10600.54830\n1334     2205.98080\n1335     1629.83350\n1336     2007.94500\n1337    29141.36030\nName: charges, Length: 1338, dtype: float64"
     },
     "execution_count": 66,
     "metadata": {},
     "output_type": "execute_result"
    }
   ],
   "source": [
    "y"
   ],
   "metadata": {
    "collapsed": false,
    "ExecuteTime": {
     "end_time": "2024-03-05T00:51:41.831401800Z",
     "start_time": "2024-03-05T00:51:41.298312100Z"
    }
   },
   "id": "98f7e66fa8597555",
   "execution_count": 66
  },
  {
   "cell_type": "markdown",
   "source": [
    "### Create training and test sets "
   ],
   "metadata": {
    "collapsed": false
   },
   "id": "c2e3d78f03399c0a"
  },
  {
   "cell_type": "code",
   "outputs": [],
   "source": [
    "from sklearn.model_selection import train_test_split\n",
    "X_train, X_test, y_train, y_test = train_test_split(X, y, test_size = 0.2, random_state = 42)"
   ],
   "metadata": {
    "collapsed": false,
    "ExecuteTime": {
     "end_time": "2024-03-05T00:54:21.009095500Z",
     "start_time": "2024-03-05T00:54:20.950097400Z"
    }
   },
   "id": "ead62e70fa1ae4c8",
   "execution_count": 72
  },
  {
   "cell_type": "code",
   "outputs": [],
   "source": [
    "# len(X), (1338 / 100) * 80"
   ],
   "metadata": {
    "collapsed": false,
    "ExecuteTime": {
     "end_time": "2024-03-05T00:54:21.870886800Z",
     "start_time": "2024-03-05T00:54:21.764853400Z"
    }
   },
   "id": "8880cb56f50fa29",
   "execution_count": 73
  },
  {
   "cell_type": "code",
   "outputs": [
    {
     "data": {
      "text/plain": "(1070, 268, 1070, 268)"
     },
     "execution_count": 74,
     "metadata": {},
     "output_type": "execute_result"
    }
   ],
   "source": [
    "# Split the data into train and test sets\n",
    "# X_train = X[:1070]  # first 40 train samples (80% of the data)\n",
    "# y_train = y[:1070]\n",
    "# X_test = X[1070:]  # last 10 are testing samples (20% of the data)\n",
    "# y_test = y[1070:]\n",
    "\n",
    "len(X_train), len(X_test), len(y_train), len(y_test)"
   ],
   "metadata": {
    "collapsed": false,
    "ExecuteTime": {
     "end_time": "2024-03-05T00:54:23.086759800Z",
     "start_time": "2024-03-05T00:54:22.951761Z"
    }
   },
   "id": "4b8b4a2dbfdb644",
   "execution_count": 74
  },
  {
   "cell_type": "code",
   "outputs": [
    {
     "data": {
      "text/plain": "((1070, 11), (268, 11), (1070,), (268,))"
     },
     "execution_count": 75,
     "metadata": {},
     "output_type": "execute_result"
    }
   ],
   "source": [
    "X_train.shape, X_test.shape, y_train.shape, y_test.shape"
   ],
   "metadata": {
    "collapsed": false,
    "ExecuteTime": {
     "end_time": "2024-03-05T00:54:25.120544900Z",
     "start_time": "2024-03-05T00:54:25.053632600Z"
    }
   },
   "id": "22baca7510faf280",
   "execution_count": 75
  },
  {
   "cell_type": "code",
   "outputs": [
    {
     "data": {
      "text/plain": "11"
     },
     "execution_count": 76,
     "metadata": {},
     "output_type": "execute_result"
    }
   ],
   "source": [
    "len(X_train.columns)"
   ],
   "metadata": {
    "collapsed": false,
    "ExecuteTime": {
     "end_time": "2024-03-05T00:54:25.975338600Z",
     "start_time": "2024-03-05T00:54:25.824339200Z"
    }
   },
   "id": "83fd1d967dbb0469",
   "execution_count": 76
  },
  {
   "cell_type": "markdown",
   "source": [
    "### Building a neural network (sort of like model_2 in previous file)"
   ],
   "metadata": {
    "collapsed": false
   },
   "id": "9b5f526f45e9c5e8"
  },
  {
   "cell_type": "markdown",
   "source": [
    "### Model 6"
   ],
   "metadata": {
    "collapsed": false
   },
   "id": "56efd0f7f0eaa05c"
  },
  {
   "cell_type": "code",
   "outputs": [
    {
     "name": "stdout",
     "output_type": "stream",
     "text": [
      "Epoch 1/100\n",
      "34/34 [==============================] - 2s 3ms/step - loss: 8613.3008 - mae: 8613.3008\n",
      "Epoch 2/100\n",
      "34/34 [==============================] - 0s 3ms/step - loss: 7882.3608 - mae: 7882.3608\n",
      "Epoch 3/100\n",
      "34/34 [==============================] - 0s 4ms/step - loss: 7529.5771 - mae: 7529.5771\n",
      "Epoch 4/100\n",
      "34/34 [==============================] - 0s 4ms/step - loss: 7691.7236 - mae: 7691.7236\n",
      "Epoch 5/100\n",
      "34/34 [==============================] - 0s 6ms/step - loss: 7675.1611 - mae: 7675.1611\n",
      "Epoch 6/100\n",
      "34/34 [==============================] - 0s 6ms/step - loss: 7560.3970 - mae: 7560.3970\n",
      "Epoch 7/100\n",
      "34/34 [==============================] - 0s 4ms/step - loss: 7530.9976 - mae: 7530.9976\n",
      "Epoch 8/100\n",
      "34/34 [==============================] - 0s 4ms/step - loss: 7722.9360 - mae: 7722.9360\n",
      "Epoch 9/100\n",
      "34/34 [==============================] - 0s 4ms/step - loss: 7607.3027 - mae: 7607.3027\n",
      "Epoch 10/100\n",
      "34/34 [==============================] - 0s 3ms/step - loss: 7657.6240 - mae: 7657.6240\n",
      "Epoch 11/100\n",
      "34/34 [==============================] - 0s 3ms/step - loss: 7592.0449 - mae: 7592.0449\n",
      "Epoch 12/100\n",
      "34/34 [==============================] - 0s 3ms/step - loss: 7669.4878 - mae: 7669.4878\n",
      "Epoch 13/100\n",
      "34/34 [==============================] - 0s 6ms/step - loss: 7721.7002 - mae: 7721.7002\n",
      "Epoch 14/100\n",
      "34/34 [==============================] - 0s 5ms/step - loss: 7746.3726 - mae: 7746.3726\n",
      "Epoch 15/100\n",
      "34/34 [==============================] - 0s 4ms/step - loss: 7409.5708 - mae: 7409.5708\n",
      "Epoch 16/100\n",
      "34/34 [==============================] - 0s 4ms/step - loss: 7795.1997 - mae: 7795.1997\n",
      "Epoch 17/100\n",
      "34/34 [==============================] - 0s 4ms/step - loss: 7529.3154 - mae: 7529.3154\n",
      "Epoch 18/100\n",
      "34/34 [==============================] - 0s 4ms/step - loss: 7756.8389 - mae: 7756.8389\n",
      "Epoch 19/100\n",
      "34/34 [==============================] - 0s 4ms/step - loss: 7739.3149 - mae: 7739.3149\n",
      "Epoch 20/100\n",
      "34/34 [==============================] - 0s 4ms/step - loss: 7936.0674 - mae: 7936.0674\n",
      "Epoch 21/100\n",
      "34/34 [==============================] - 0s 4ms/step - loss: 7604.2056 - mae: 7604.2056\n",
      "Epoch 22/100\n",
      "34/34 [==============================] - 0s 3ms/step - loss: 7750.9512 - mae: 7750.9512\n",
      "Epoch 23/100\n",
      "34/34 [==============================] - 0s 3ms/step - loss: 7640.4380 - mae: 7640.4380\n",
      "Epoch 24/100\n",
      "34/34 [==============================] - 0s 3ms/step - loss: 7561.6470 - mae: 7561.6470\n",
      "Epoch 25/100\n",
      "34/34 [==============================] - 0s 3ms/step - loss: 7557.2954 - mae: 7557.2954\n",
      "Epoch 26/100\n",
      "34/34 [==============================] - 0s 3ms/step - loss: 7669.8779 - mae: 7669.8779\n",
      "Epoch 27/100\n",
      "34/34 [==============================] - 0s 4ms/step - loss: 7705.6074 - mae: 7705.6074\n",
      "Epoch 28/100\n",
      "34/34 [==============================] - 0s 4ms/step - loss: 7438.2451 - mae: 7438.2451\n",
      "Epoch 29/100\n",
      "34/34 [==============================] - 0s 4ms/step - loss: 7555.1704 - mae: 7555.1704\n",
      "Epoch 30/100\n",
      "34/34 [==============================] - 0s 4ms/step - loss: 7517.9185 - mae: 7517.9185\n",
      "Epoch 31/100\n",
      "34/34 [==============================] - 0s 4ms/step - loss: 7470.7056 - mae: 7470.7056\n",
      "Epoch 32/100\n",
      "34/34 [==============================] - 0s 4ms/step - loss: 7488.0850 - mae: 7488.0850\n",
      "Epoch 33/100\n",
      "34/34 [==============================] - 0s 4ms/step - loss: 7378.0918 - mae: 7378.0918\n",
      "Epoch 34/100\n",
      "34/34 [==============================] - 0s 4ms/step - loss: 7465.5234 - mae: 7465.5234\n",
      "Epoch 35/100\n",
      "34/34 [==============================] - 0s 4ms/step - loss: 7543.8647 - mae: 7543.8647\n",
      "Epoch 36/100\n",
      "34/34 [==============================] - 0s 4ms/step - loss: 7447.1108 - mae: 7447.1108\n",
      "Epoch 37/100\n",
      "34/34 [==============================] - 0s 4ms/step - loss: 7536.1753 - mae: 7536.1753\n",
      "Epoch 38/100\n",
      "34/34 [==============================] - 0s 4ms/step - loss: 7398.5952 - mae: 7398.5952\n",
      "Epoch 39/100\n",
      "34/34 [==============================] - 0s 4ms/step - loss: 7395.3267 - mae: 7395.3267\n",
      "Epoch 40/100\n",
      "34/34 [==============================] - 0s 4ms/step - loss: 7305.6616 - mae: 7305.6616\n",
      "Epoch 41/100\n",
      "34/34 [==============================] - 0s 4ms/step - loss: 7661.2637 - mae: 7661.2637\n",
      "Epoch 42/100\n",
      "34/34 [==============================] - 0s 4ms/step - loss: 7246.6929 - mae: 7246.6929\n",
      "Epoch 43/100\n",
      "34/34 [==============================] - 0s 4ms/step - loss: 7829.5352 - mae: 7829.5352\n",
      "Epoch 44/100\n",
      "34/34 [==============================] - 0s 5ms/step - loss: 7447.1030 - mae: 7447.1030\n",
      "Epoch 45/100\n",
      "34/34 [==============================] - 0s 5ms/step - loss: 7517.3306 - mae: 7517.3306\n",
      "Epoch 46/100\n",
      "34/34 [==============================] - 0s 5ms/step - loss: 7423.7061 - mae: 7423.7061\n",
      "Epoch 47/100\n",
      "34/34 [==============================] - 0s 8ms/step - loss: 7455.6646 - mae: 7455.6646\n",
      "Epoch 48/100\n",
      "34/34 [==============================] - 0s 10ms/step - loss: 7355.9761 - mae: 7355.9761\n",
      "Epoch 49/100\n",
      "34/34 [==============================] - 0s 6ms/step - loss: 7537.1548 - mae: 7537.1548\n",
      "Epoch 50/100\n",
      "34/34 [==============================] - 0s 4ms/step - loss: 7490.7568 - mae: 7490.7568\n",
      "Epoch 51/100\n",
      "34/34 [==============================] - 0s 4ms/step - loss: 7298.9160 - mae: 7298.9160\n",
      "Epoch 52/100\n",
      "34/34 [==============================] - 0s 4ms/step - loss: 7430.0454 - mae: 7430.0454\n",
      "Epoch 53/100\n",
      "34/34 [==============================] - 0s 4ms/step - loss: 7466.9048 - mae: 7466.9048\n",
      "Epoch 54/100\n",
      "34/34 [==============================] - 0s 4ms/step - loss: 7331.1240 - mae: 7331.1240\n",
      "Epoch 55/100\n",
      "34/34 [==============================] - 0s 4ms/step - loss: 7202.3999 - mae: 7202.3999\n",
      "Epoch 56/100\n",
      "34/34 [==============================] - 0s 5ms/step - loss: 7250.8262 - mae: 7250.8262\n",
      "Epoch 57/100\n",
      "34/34 [==============================] - 0s 4ms/step - loss: 7420.2798 - mae: 7420.2798\n",
      "Epoch 58/100\n",
      "34/34 [==============================] - 0s 5ms/step - loss: 7438.6636 - mae: 7438.6636\n",
      "Epoch 59/100\n",
      "34/34 [==============================] - 0s 11ms/step - loss: 7639.2056 - mae: 7639.2056\n",
      "Epoch 60/100\n",
      "34/34 [==============================] - 0s 9ms/step - loss: 7393.6963 - mae: 7393.6963\n",
      "Epoch 61/100\n",
      "34/34 [==============================] - 0s 5ms/step - loss: 7566.8809 - mae: 7566.8809\n",
      "Epoch 62/100\n",
      "34/34 [==============================] - 0s 5ms/step - loss: 7411.5615 - mae: 7411.5615\n",
      "Epoch 63/100\n",
      "34/34 [==============================] - 0s 5ms/step - loss: 7389.1602 - mae: 7389.1602\n",
      "Epoch 64/100\n",
      "34/34 [==============================] - 0s 8ms/step - loss: 7208.5269 - mae: 7208.5269\n",
      "Epoch 65/100\n",
      "34/34 [==============================] - 0s 5ms/step - loss: 7513.5581 - mae: 7513.5581\n",
      "Epoch 66/100\n",
      "34/34 [==============================] - 0s 5ms/step - loss: 7230.4131 - mae: 7230.4131\n",
      "Epoch 67/100\n",
      "34/34 [==============================] - 0s 5ms/step - loss: 7214.7480 - mae: 7214.7480\n",
      "Epoch 68/100\n",
      "34/34 [==============================] - 0s 5ms/step - loss: 7414.7266 - mae: 7414.7266\n",
      "Epoch 69/100\n",
      "34/34 [==============================] - 0s 4ms/step - loss: 7531.5801 - mae: 7531.5801\n",
      "Epoch 70/100\n",
      "34/34 [==============================] - 0s 4ms/step - loss: 7620.5142 - mae: 7620.5142\n",
      "Epoch 71/100\n",
      "34/34 [==============================] - 0s 4ms/step - loss: 7238.9404 - mae: 7238.9404\n",
      "Epoch 72/100\n",
      "34/34 [==============================] - 0s 4ms/step - loss: 7415.6411 - mae: 7415.6411\n",
      "Epoch 73/100\n",
      "34/34 [==============================] - 0s 4ms/step - loss: 7170.9658 - mae: 7170.9658\n",
      "Epoch 74/100\n",
      "34/34 [==============================] - 0s 4ms/step - loss: 7457.5864 - mae: 7457.5864\n",
      "Epoch 75/100\n",
      "34/34 [==============================] - 0s 4ms/step - loss: 7239.8564 - mae: 7239.8564\n",
      "Epoch 76/100\n",
      "34/34 [==============================] - 0s 4ms/step - loss: 7216.3350 - mae: 7216.3350\n",
      "Epoch 77/100\n",
      "34/34 [==============================] - 0s 4ms/step - loss: 7253.4678 - mae: 7253.4678\n",
      "Epoch 78/100\n",
      "34/34 [==============================] - 0s 4ms/step - loss: 7288.4492 - mae: 7288.4492\n",
      "Epoch 79/100\n",
      "34/34 [==============================] - 0s 9ms/step - loss: 7381.7227 - mae: 7381.7227\n",
      "Epoch 80/100\n",
      "34/34 [==============================] - 0s 5ms/step - loss: 7440.6001 - mae: 7440.6001\n",
      "Epoch 81/100\n",
      "34/34 [==============================] - 0s 4ms/step - loss: 7268.1406 - mae: 7268.1406\n",
      "Epoch 82/100\n",
      "34/34 [==============================] - 0s 4ms/step - loss: 7240.8203 - mae: 7240.8203\n",
      "Epoch 83/100\n",
      "34/34 [==============================] - 0s 7ms/step - loss: 7433.6587 - mae: 7433.6587\n",
      "Epoch 84/100\n",
      "34/34 [==============================] - 0s 6ms/step - loss: 7378.6592 - mae: 7378.6592\n",
      "Epoch 85/100\n",
      "34/34 [==============================] - 0s 4ms/step - loss: 7419.0918 - mae: 7419.0918\n",
      "Epoch 86/100\n",
      "34/34 [==============================] - 0s 4ms/step - loss: 7342.0273 - mae: 7342.0273\n",
      "Epoch 87/100\n",
      "34/34 [==============================] - 0s 3ms/step - loss: 7189.5693 - mae: 7189.5693\n",
      "Epoch 88/100\n",
      "34/34 [==============================] - 0s 4ms/step - loss: 7273.9688 - mae: 7273.9688\n",
      "Epoch 89/100\n",
      "34/34 [==============================] - 0s 4ms/step - loss: 7516.6631 - mae: 7516.6631\n",
      "Epoch 90/100\n",
      "34/34 [==============================] - 0s 3ms/step - loss: 7151.7539 - mae: 7151.7539\n",
      "Epoch 91/100\n",
      "34/34 [==============================] - 0s 3ms/step - loss: 7283.9028 - mae: 7283.9028\n",
      "Epoch 92/100\n",
      "34/34 [==============================] - 0s 3ms/step - loss: 7410.0977 - mae: 7410.0977\n",
      "Epoch 93/100\n",
      "34/34 [==============================] - 0s 3ms/step - loss: 7489.7622 - mae: 7489.7622\n",
      "Epoch 94/100\n",
      "34/34 [==============================] - 0s 3ms/step - loss: 7149.9619 - mae: 7149.9619\n",
      "Epoch 95/100\n",
      "34/34 [==============================] - 0s 3ms/step - loss: 7264.6030 - mae: 7264.6030\n",
      "Epoch 96/100\n",
      "34/34 [==============================] - 0s 3ms/step - loss: 7217.0879 - mae: 7217.0874\n",
      "Epoch 97/100\n",
      "34/34 [==============================] - 0s 4ms/step - loss: 7159.4429 - mae: 7159.4429\n",
      "Epoch 98/100\n",
      "34/34 [==============================] - 0s 3ms/step - loss: 7401.4272 - mae: 7401.4272\n",
      "Epoch 99/100\n",
      "34/34 [==============================] - 0s 3ms/step - loss: 7417.5200 - mae: 7417.5200\n",
      "Epoch 100/100\n",
      "34/34 [==============================] - 0s 4ms/step - loss: 7425.6836 - mae: 7425.6836\n"
     ]
    },
    {
     "data": {
      "text/plain": "<keras.src.callbacks.History at 0x22ba286a4c0>"
     },
     "execution_count": 86,
     "metadata": {},
     "output_type": "execute_result"
    }
   ],
   "source": [
    "# Set random seed\n",
    "tf.random.set_seed(42)\n",
    "\n",
    "# 1. Create a model\n",
    "model_6 = tf.keras.Sequential([\n",
    "    tf.keras.layers.Dense(10),\n",
    "    tf.keras.layers.Dense(1)\n",
    "])\n",
    "\n",
    "# 2. Compile the model\n",
    "model_6.compile(loss=tf.keras.losses.MAE,\n",
    "                optimizer=tf.keras.optimizers.SGD(),\n",
    "                metrics=['mae'])\n",
    "\n",
    "# 3. Fit the model\n",
    "model_6.fit(X_train, y_train, epochs=100)"
   ],
   "metadata": {
    "collapsed": false,
    "ExecuteTime": {
     "end_time": "2024-03-05T00:58:49.024512Z",
     "start_time": "2024-03-05T00:58:31.032829500Z"
    }
   },
   "id": "897ee34a9df0afaf",
   "execution_count": 86
  },
  {
   "cell_type": "code",
   "outputs": [
    {
     "name": "stdout",
     "output_type": "stream",
     "text": [
      "9/9 [==============================] - 1s 5ms/step - loss: 8841.4932 - mae: 8841.4932\n"
     ]
    },
    {
     "data": {
      "text/plain": "[8841.4931640625, 8841.4931640625]"
     },
     "execution_count": 88,
     "metadata": {},
     "output_type": "execute_result"
    }
   ],
   "source": [
    "# Check the results of the insurance data model\n",
    "model_6.evaluate(X_test, y_test)"
   ],
   "metadata": {
    "collapsed": false,
    "ExecuteTime": {
     "end_time": "2024-03-05T01:01:17.894037Z",
     "start_time": "2024-03-05T01:01:16.736025500Z"
    }
   },
   "id": "367f8b52116a608f",
   "execution_count": 88
  },
  {
   "cell_type": "code",
   "outputs": [
    {
     "name": "stdout",
     "output_type": "stream",
     "text": [
      "Model: \"sequential_29\"\n",
      "_________________________________________________________________\n",
      " Layer (type)                Output Shape              Param #   \n",
      "=================================================================\n",
      " dense_59 (Dense)            (None, 10)                120       \n",
      "                                                                 \n",
      " dense_60 (Dense)            (None, 1)                 11        \n",
      "                                                                 \n",
      "=================================================================\n",
      "Total params: 131 (524.00 Byte)\n",
      "Trainable params: 131 (524.00 Byte)\n",
      "Non-trainable params: 0 (0.00 Byte)\n",
      "_________________________________________________________________\n"
     ]
    }
   ],
   "source": [
    "model_6.summary()"
   ],
   "metadata": {
    "collapsed": false,
    "ExecuteTime": {
     "end_time": "2024-03-05T01:00:07.802339700Z",
     "start_time": "2024-03-05T01:00:07.755375100Z"
    }
   },
   "id": "a3ed022a9f1d8e6a",
   "execution_count": 87
  },
  {
   "cell_type": "markdown",
   "source": [
    "### Model 7"
   ],
   "metadata": {
    "collapsed": false
   },
   "id": "99d6b57806cb818"
  },
  {
   "cell_type": "code",
   "outputs": [
    {
     "name": "stdout",
     "output_type": "stream",
     "text": [
      "Epoch 1/100\n",
      "34/34 [==============================] - 3s 5ms/step - loss: 13236.4395 - mae: 13236.4395\n",
      "Epoch 2/100\n",
      "34/34 [==============================] - 0s 5ms/step - loss: 13001.0518 - mae: 13001.0518\n",
      "Epoch 3/100\n",
      "34/34 [==============================] - 0s 4ms/step - loss: 12544.3525 - mae: 12544.3525\n",
      "Epoch 4/100\n",
      "34/34 [==============================] - 0s 4ms/step - loss: 11718.4336 - mae: 11718.4336\n",
      "Epoch 5/100\n",
      "34/34 [==============================] - 0s 4ms/step - loss: 10460.3232 - mae: 10460.3232\n",
      "Epoch 6/100\n",
      "34/34 [==============================] - 0s 3ms/step - loss: 9016.5205 - mae: 9016.5205\n",
      "Epoch 7/100\n",
      "34/34 [==============================] - 0s 4ms/step - loss: 7875.0215 - mae: 7875.0215\n",
      "Epoch 8/100\n",
      "34/34 [==============================] - 0s 4ms/step - loss: 7488.6074 - mae: 7488.6074\n",
      "Epoch 9/100\n",
      "34/34 [==============================] - 0s 4ms/step - loss: 7434.5635 - mae: 7434.5635\n",
      "Epoch 10/100\n",
      "34/34 [==============================] - 0s 4ms/step - loss: 7414.9722 - mae: 7414.9722\n",
      "Epoch 11/100\n",
      "34/34 [==============================] - 0s 4ms/step - loss: 7396.0762 - mae: 7396.0762\n",
      "Epoch 12/100\n",
      "34/34 [==============================] - 0s 4ms/step - loss: 7373.6924 - mae: 7373.6924\n",
      "Epoch 13/100\n",
      "34/34 [==============================] - 0s 5ms/step - loss: 7352.4937 - mae: 7352.4937\n",
      "Epoch 14/100\n",
      "34/34 [==============================] - 0s 5ms/step - loss: 7329.5771 - mae: 7329.5771\n",
      "Epoch 15/100\n",
      "34/34 [==============================] - 0s 5ms/step - loss: 7309.5303 - mae: 7309.5303\n",
      "Epoch 16/100\n",
      "34/34 [==============================] - 1s 16ms/step - loss: 7285.7295 - mae: 7285.7295\n",
      "Epoch 17/100\n",
      "34/34 [==============================] - 0s 6ms/step - loss: 7265.3521 - mae: 7265.3521\n",
      "Epoch 18/100\n",
      "34/34 [==============================] - 0s 5ms/step - loss: 7240.2236 - mae: 7240.2236\n",
      "Epoch 19/100\n",
      "34/34 [==============================] - 0s 4ms/step - loss: 7216.3457 - mae: 7216.3457\n",
      "Epoch 20/100\n",
      "34/34 [==============================] - 0s 5ms/step - loss: 7191.2305 - mae: 7191.2305\n",
      "Epoch 21/100\n",
      "34/34 [==============================] - 0s 5ms/step - loss: 7171.3452 - mae: 7171.3452\n",
      "Epoch 22/100\n",
      "34/34 [==============================] - 0s 5ms/step - loss: 7140.7310 - mae: 7140.7310\n",
      "Epoch 23/100\n",
      "34/34 [==============================] - 0s 4ms/step - loss: 7113.2666 - mae: 7113.2666\n",
      "Epoch 24/100\n",
      "34/34 [==============================] - 0s 4ms/step - loss: 7086.0576 - mae: 7086.0576\n",
      "Epoch 25/100\n",
      "34/34 [==============================] - 0s 4ms/step - loss: 7064.9277 - mae: 7064.9277\n",
      "Epoch 26/100\n",
      "34/34 [==============================] - 0s 4ms/step - loss: 7030.5317 - mae: 7030.5317\n",
      "Epoch 27/100\n",
      "34/34 [==============================] - 0s 4ms/step - loss: 6998.8193 - mae: 6998.8193\n",
      "Epoch 28/100\n",
      "34/34 [==============================] - 0s 4ms/step - loss: 6967.1357 - mae: 6967.1357\n",
      "Epoch 29/100\n",
      "34/34 [==============================] - 0s 3ms/step - loss: 6935.7798 - mae: 6935.7798\n",
      "Epoch 30/100\n",
      "34/34 [==============================] - 0s 4ms/step - loss: 6904.9009 - mae: 6904.9009\n",
      "Epoch 31/100\n",
      "34/34 [==============================] - 0s 3ms/step - loss: 6870.5820 - mae: 6870.5820\n",
      "Epoch 32/100\n",
      "34/34 [==============================] - 0s 4ms/step - loss: 6838.5186 - mae: 6838.5186\n",
      "Epoch 33/100\n",
      "34/34 [==============================] - 0s 4ms/step - loss: 6803.0781 - mae: 6803.0781\n",
      "Epoch 34/100\n",
      "34/34 [==============================] - 0s 3ms/step - loss: 6768.5337 - mae: 6768.5337\n",
      "Epoch 35/100\n",
      "34/34 [==============================] - 0s 4ms/step - loss: 6730.4790 - mae: 6730.4790\n",
      "Epoch 36/100\n",
      "34/34 [==============================] - 0s 4ms/step - loss: 6693.7812 - mae: 6693.7812\n",
      "Epoch 37/100\n",
      "34/34 [==============================] - 0s 4ms/step - loss: 6655.6328 - mae: 6655.6328\n",
      "Epoch 38/100\n",
      "34/34 [==============================] - 0s 4ms/step - loss: 6623.4775 - mae: 6623.4775\n",
      "Epoch 39/100\n",
      "34/34 [==============================] - 0s 3ms/step - loss: 6584.6606 - mae: 6584.6606\n",
      "Epoch 40/100\n",
      "34/34 [==============================] - 0s 4ms/step - loss: 6553.6152 - mae: 6553.6152\n",
      "Epoch 41/100\n",
      "34/34 [==============================] - 0s 4ms/step - loss: 6528.3359 - mae: 6528.3359\n",
      "Epoch 42/100\n",
      "34/34 [==============================] - 0s 9ms/step - loss: 6507.4414 - mae: 6507.4414\n",
      "Epoch 43/100\n",
      "34/34 [==============================] - 0s 5ms/step - loss: 6486.6953 - mae: 6486.6953\n",
      "Epoch 44/100\n",
      "34/34 [==============================] - 0s 5ms/step - loss: 6468.2158 - mae: 6468.2158\n",
      "Epoch 45/100\n",
      "34/34 [==============================] - 0s 4ms/step - loss: 6459.9644 - mae: 6459.9644\n",
      "Epoch 46/100\n",
      "34/34 [==============================] - 0s 5ms/step - loss: 6441.9199 - mae: 6441.9199\n",
      "Epoch 47/100\n",
      "34/34 [==============================] - 0s 5ms/step - loss: 6426.3110 - mae: 6426.3110\n",
      "Epoch 48/100\n",
      "34/34 [==============================] - 0s 5ms/step - loss: 6412.2148 - mae: 6412.2148\n",
      "Epoch 49/100\n",
      "34/34 [==============================] - 0s 6ms/step - loss: 6401.0259 - mae: 6401.0259\n",
      "Epoch 50/100\n",
      "34/34 [==============================] - 0s 6ms/step - loss: 6386.5146 - mae: 6386.5146\n",
      "Epoch 51/100\n",
      "34/34 [==============================] - 0s 7ms/step - loss: 6372.1958 - mae: 6372.1958\n",
      "Epoch 52/100\n",
      "34/34 [==============================] - 0s 10ms/step - loss: 6358.7734 - mae: 6358.7734\n",
      "Epoch 53/100\n",
      "34/34 [==============================] - 0s 4ms/step - loss: 6344.1401 - mae: 6344.1401\n",
      "Epoch 54/100\n",
      "34/34 [==============================] - 0s 4ms/step - loss: 6329.7446 - mae: 6329.7446\n",
      "Epoch 55/100\n",
      "34/34 [==============================] - 0s 5ms/step - loss: 6315.7354 - mae: 6315.7354\n",
      "Epoch 56/100\n",
      "34/34 [==============================] - 0s 4ms/step - loss: 6302.4580 - mae: 6302.4580\n",
      "Epoch 57/100\n",
      "34/34 [==============================] - 0s 4ms/step - loss: 6286.9756 - mae: 6286.9756\n",
      "Epoch 58/100\n",
      "34/34 [==============================] - 0s 4ms/step - loss: 6273.3359 - mae: 6273.3359\n",
      "Epoch 59/100\n",
      "34/34 [==============================] - 0s 4ms/step - loss: 6256.1523 - mae: 6256.1523\n",
      "Epoch 60/100\n",
      "34/34 [==============================] - 0s 4ms/step - loss: 6244.6152 - mae: 6244.6152\n",
      "Epoch 61/100\n",
      "34/34 [==============================] - 0s 3ms/step - loss: 6222.9673 - mae: 6222.9673\n",
      "Epoch 62/100\n",
      "34/34 [==============================] - 0s 4ms/step - loss: 6210.5513 - mae: 6210.5513\n",
      "Epoch 63/100\n",
      "34/34 [==============================] - 0s 4ms/step - loss: 6190.1152 - mae: 6190.1152\n",
      "Epoch 64/100\n",
      "34/34 [==============================] - 0s 4ms/step - loss: 6172.2002 - mae: 6172.2002\n",
      "Epoch 65/100\n",
      "34/34 [==============================] - 0s 5ms/step - loss: 6154.2671 - mae: 6154.2671\n",
      "Epoch 66/100\n",
      "34/34 [==============================] - 0s 4ms/step - loss: 6135.4312 - mae: 6135.4312\n",
      "Epoch 67/100\n",
      "34/34 [==============================] - 0s 4ms/step - loss: 6122.2085 - mae: 6122.2085\n",
      "Epoch 68/100\n",
      "34/34 [==============================] - 0s 3ms/step - loss: 6097.6924 - mae: 6097.6924\n",
      "Epoch 69/100\n",
      "34/34 [==============================] - 0s 3ms/step - loss: 6079.8657 - mae: 6079.8657\n",
      "Epoch 70/100\n",
      "34/34 [==============================] - 0s 4ms/step - loss: 6057.6494 - mae: 6057.6494\n",
      "Epoch 71/100\n",
      "34/34 [==============================] - 0s 3ms/step - loss: 6036.8018 - mae: 6036.8018\n",
      "Epoch 72/100\n",
      "34/34 [==============================] - 0s 4ms/step - loss: 6015.2070 - mae: 6015.2070\n",
      "Epoch 73/100\n",
      "34/34 [==============================] - 0s 4ms/step - loss: 5998.8569 - mae: 5998.8569\n",
      "Epoch 74/100\n",
      "34/34 [==============================] - 0s 4ms/step - loss: 5967.3604 - mae: 5967.3604\n",
      "Epoch 75/100\n",
      "34/34 [==============================] - 0s 3ms/step - loss: 5944.1191 - mae: 5944.1191\n",
      "Epoch 76/100\n",
      "34/34 [==============================] - 0s 3ms/step - loss: 5926.9863 - mae: 5926.9863\n",
      "Epoch 77/100\n",
      "34/34 [==============================] - 0s 4ms/step - loss: 5893.0981 - mae: 5893.0981\n",
      "Epoch 78/100\n",
      "34/34 [==============================] - 0s 4ms/step - loss: 5866.5576 - mae: 5866.5576\n",
      "Epoch 79/100\n",
      "34/34 [==============================] - 0s 4ms/step - loss: 5839.0488 - mae: 5839.0488\n",
      "Epoch 80/100\n",
      "34/34 [==============================] - 0s 4ms/step - loss: 5807.7310 - mae: 5807.7310\n",
      "Epoch 81/100\n",
      "34/34 [==============================] - 0s 4ms/step - loss: 5779.9956 - mae: 5779.9956\n",
      "Epoch 82/100\n",
      "34/34 [==============================] - 0s 3ms/step - loss: 5746.7075 - mae: 5746.7075\n",
      "Epoch 83/100\n",
      "34/34 [==============================] - 0s 4ms/step - loss: 5715.8081 - mae: 5715.8081\n",
      "Epoch 84/100\n",
      "34/34 [==============================] - 0s 3ms/step - loss: 5679.4116 - mae: 5679.4116\n",
      "Epoch 85/100\n",
      "34/34 [==============================] - 0s 3ms/step - loss: 5649.1357 - mae: 5649.1357\n",
      "Epoch 86/100\n",
      "34/34 [==============================] - 0s 3ms/step - loss: 5611.0059 - mae: 5611.0059\n",
      "Epoch 87/100\n",
      "34/34 [==============================] - 0s 4ms/step - loss: 5569.2563 - mae: 5569.2563\n",
      "Epoch 88/100\n",
      "34/34 [==============================] - 0s 4ms/step - loss: 5529.9346 - mae: 5529.9346\n",
      "Epoch 89/100\n",
      "34/34 [==============================] - 0s 4ms/step - loss: 5484.7051 - mae: 5484.7051\n",
      "Epoch 90/100\n",
      "34/34 [==============================] - 0s 10ms/step - loss: 5437.4385 - mae: 5437.4385\n",
      "Epoch 91/100\n",
      "34/34 [==============================] - 0s 4ms/step - loss: 5394.0103 - mae: 5394.0103\n",
      "Epoch 92/100\n",
      "34/34 [==============================] - 0s 5ms/step - loss: 5343.7026 - mae: 5343.7026\n",
      "Epoch 93/100\n",
      "34/34 [==============================] - 0s 4ms/step - loss: 5293.8506 - mae: 5293.8506\n",
      "Epoch 94/100\n",
      "34/34 [==============================] - 0s 4ms/step - loss: 5241.9766 - mae: 5241.9766\n",
      "Epoch 95/100\n",
      "34/34 [==============================] - 0s 4ms/step - loss: 5184.9385 - mae: 5184.9385\n",
      "Epoch 96/100\n",
      "34/34 [==============================] - 0s 9ms/step - loss: 5134.1284 - mae: 5134.1284\n",
      "Epoch 97/100\n",
      "34/34 [==============================] - 0s 4ms/step - loss: 5072.6338 - mae: 5072.6338\n",
      "Epoch 98/100\n",
      "34/34 [==============================] - 0s 4ms/step - loss: 5003.7622 - mae: 5003.7622\n",
      "Epoch 99/100\n",
      "34/34 [==============================] - 0s 4ms/step - loss: 4935.8110 - mae: 4935.8110\n",
      "Epoch 100/100\n",
      "34/34 [==============================] - 0s 4ms/step - loss: 4877.3179 - mae: 4877.3179\n"
     ]
    },
    {
     "data": {
      "text/plain": "<keras.src.callbacks.History at 0x22ba450a1c0>"
     },
     "execution_count": 99,
     "metadata": {},
     "output_type": "execute_result"
    }
   ],
   "source": [
    "# Set random seed\n",
    "tf.random.set_seed(42)\n",
    "\n",
    "# 1. Create a model\n",
    "model_7 = tf.keras.Sequential([\n",
    "    tf.keras.layers.Dense(100),\n",
    "    tf.keras.layers.Dense(10),\n",
    "    tf.keras.layers.Dense(1)\n",
    "])\n",
    "\n",
    "# 2. Compile the model\n",
    "model_7.compile(loss=tf.keras.losses.MAE,\n",
    "                optimizer=tf.keras.optimizers.Adam(),\n",
    "                metrics=['mae'])\n",
    "\n",
    "# 3. Fit the model\n",
    "model_7.fit(X_train, y_train, epochs=100, verbose=1)"
   ],
   "metadata": {
    "collapsed": false,
    "ExecuteTime": {
     "end_time": "2024-03-05T01:10:17.201083100Z",
     "start_time": "2024-03-05T01:09:57.496221200Z"
    }
   },
   "id": "98d51ae9a8413237",
   "execution_count": 99
  },
  {
   "cell_type": "code",
   "outputs": [
    {
     "name": "stdout",
     "output_type": "stream",
     "text": [
      "9/9 [==============================] - 0s 3ms/step - loss: 4751.3340 - mae: 4751.3340\n"
     ]
    },
    {
     "data": {
      "text/plain": "[4751.333984375, 4751.333984375]"
     },
     "execution_count": 100,
     "metadata": {},
     "output_type": "execute_result"
    }
   ],
   "source": [
    "# Evaluate the model\n",
    "model_7.evaluate(X_test, y_test)"
   ],
   "metadata": {
    "collapsed": false,
    "ExecuteTime": {
     "end_time": "2024-03-05T01:10:25.091900Z",
     "start_time": "2024-03-05T01:10:24.764282Z"
    }
   },
   "id": "4b982a854ac625ef",
   "execution_count": 100
  },
  {
   "cell_type": "code",
   "outputs": [
    {
     "name": "stdout",
     "output_type": "stream",
     "text": [
      "Model: \"sequential_35\"\n",
      "_________________________________________________________________\n",
      " Layer (type)                Output Shape              Param #   \n",
      "=================================================================\n",
      " dense_73 (Dense)            (None, 100)               1200      \n",
      "                                                                 \n",
      " dense_74 (Dense)            (None, 10)                1010      \n",
      "                                                                 \n",
      " dense_75 (Dense)            (None, 1)                 11        \n",
      "                                                                 \n",
      "=================================================================\n",
      "Total params: 2221 (8.68 KB)\n",
      "Trainable params: 2221 (8.68 KB)\n",
      "Non-trainable params: 0 (0.00 Byte)\n",
      "_________________________________________________________________\n"
     ]
    }
   ],
   "source": [
    "model_7.summary()"
   ],
   "metadata": {
    "collapsed": false,
    "ExecuteTime": {
     "end_time": "2024-03-05T01:10:26.758859Z",
     "start_time": "2024-03-05T01:10:26.555547800Z"
    }
   },
   "id": "5665692c999c572f",
   "execution_count": 101
  },
  {
   "cell_type": "code",
   "outputs": [
    {
     "name": "stdout",
     "output_type": "stream",
     "text": [
      "Epoch 1/200\n",
      "34/34 [==============================] - 4s 5ms/step - loss: 13273.5322 - mae: 13273.5322\n",
      "Epoch 2/200\n",
      "34/34 [==============================] - 0s 5ms/step - loss: 13102.4688 - mae: 13102.4688\n",
      "Epoch 3/200\n",
      "34/34 [==============================] - 0s 5ms/step - loss: 12757.3652 - mae: 12757.3652\n",
      "Epoch 4/200\n",
      "34/34 [==============================] - 0s 6ms/step - loss: 12091.9082 - mae: 12091.9082\n",
      "Epoch 5/200\n",
      "34/34 [==============================] - 0s 4ms/step - loss: 10972.5684 - mae: 10972.5684\n",
      "Epoch 6/200\n",
      "34/34 [==============================] - 0s 4ms/step - loss: 9528.5156 - mae: 9528.5156\n",
      "Epoch 7/200\n",
      "34/34 [==============================] - 0s 4ms/step - loss: 8189.7681 - mae: 8189.7681\n",
      "Epoch 8/200\n",
      "34/34 [==============================] - 0s 4ms/step - loss: 7534.5747 - mae: 7534.5747\n",
      "Epoch 9/200\n",
      "34/34 [==============================] - 0s 4ms/step - loss: 7423.8462 - mae: 7423.8462\n",
      "Epoch 10/200\n",
      "34/34 [==============================] - 0s 4ms/step - loss: 7402.6377 - mae: 7402.6377\n",
      "Epoch 11/200\n",
      "34/34 [==============================] - 0s 4ms/step - loss: 7384.1045 - mae: 7384.1045\n",
      "Epoch 12/200\n",
      "34/34 [==============================] - 0s 4ms/step - loss: 7362.3535 - mae: 7362.3535\n",
      "Epoch 13/200\n",
      "34/34 [==============================] - 0s 4ms/step - loss: 7341.9839 - mae: 7341.9839\n",
      "Epoch 14/200\n",
      "34/34 [==============================] - 0s 4ms/step - loss: 7320.0093 - mae: 7320.0093\n",
      "Epoch 15/200\n",
      "34/34 [==============================] - 0s 4ms/step - loss: 7301.1997 - mae: 7301.1997\n",
      "Epoch 16/200\n",
      "34/34 [==============================] - 0s 3ms/step - loss: 7278.9624 - mae: 7278.9624\n",
      "Epoch 17/200\n",
      "34/34 [==============================] - 0s 4ms/step - loss: 7258.8506 - mae: 7258.8506\n",
      "Epoch 18/200\n",
      "34/34 [==============================] - 0s 4ms/step - loss: 7235.8135 - mae: 7235.8135\n",
      "Epoch 19/200\n",
      "34/34 [==============================] - 0s 3ms/step - loss: 7213.4321 - mae: 7213.4321\n",
      "Epoch 20/200\n",
      "34/34 [==============================] - 0s 4ms/step - loss: 7189.9170 - mae: 7189.9170\n",
      "Epoch 21/200\n",
      "34/34 [==============================] - 0s 4ms/step - loss: 7171.4722 - mae: 7171.4722\n",
      "Epoch 22/200\n",
      "34/34 [==============================] - 0s 4ms/step - loss: 7143.5308 - mae: 7143.5308\n",
      "Epoch 23/200\n",
      "34/34 [==============================] - 0s 4ms/step - loss: 7118.3662 - mae: 7118.3662\n",
      "Epoch 24/200\n",
      "34/34 [==============================] - 0s 4ms/step - loss: 7093.2017 - mae: 7093.2017\n",
      "Epoch 25/200\n",
      "34/34 [==============================] - 0s 5ms/step - loss: 7074.0933 - mae: 7074.0933\n",
      "Epoch 26/200\n",
      "34/34 [==============================] - 0s 5ms/step - loss: 7043.3740 - mae: 7043.3740\n",
      "Epoch 27/200\n",
      "34/34 [==============================] - 0s 5ms/step - loss: 7014.4653 - mae: 7014.4653\n",
      "Epoch 28/200\n",
      "34/34 [==============================] - 0s 6ms/step - loss: 6986.3755 - mae: 6986.3755\n",
      "Epoch 29/200\n",
      "34/34 [==============================] - 0s 5ms/step - loss: 6957.8677 - mae: 6957.8677\n",
      "Epoch 30/200\n",
      "34/34 [==============================] - 0s 6ms/step - loss: 6930.3081 - mae: 6930.3081\n",
      "Epoch 31/200\n",
      "34/34 [==============================] - 0s 4ms/step - loss: 6899.5371 - mae: 6899.5371\n",
      "Epoch 32/200\n",
      "34/34 [==============================] - 0s 4ms/step - loss: 6870.9185 - mae: 6870.9185\n",
      "Epoch 33/200\n",
      "34/34 [==============================] - 0s 4ms/step - loss: 6839.4907 - mae: 6839.4907\n",
      "Epoch 34/200\n",
      "34/34 [==============================] - 0s 5ms/step - loss: 6807.7207 - mae: 6807.7207\n",
      "Epoch 35/200\n",
      "34/34 [==============================] - 0s 4ms/step - loss: 6773.3550 - mae: 6773.3550\n",
      "Epoch 36/200\n",
      "34/34 [==============================] - 0s 4ms/step - loss: 6739.1001 - mae: 6739.1001\n",
      "Epoch 37/200\n",
      "34/34 [==============================] - 0s 4ms/step - loss: 6702.6699 - mae: 6702.6699\n",
      "Epoch 38/200\n",
      "34/34 [==============================] - 0s 5ms/step - loss: 6671.8154 - mae: 6671.8154\n",
      "Epoch 39/200\n",
      "34/34 [==============================] - 0s 4ms/step - loss: 6634.5957 - mae: 6634.5957\n",
      "Epoch 40/200\n",
      "34/34 [==============================] - 0s 4ms/step - loss: 6599.7964 - mae: 6599.7964\n",
      "Epoch 41/200\n",
      "34/34 [==============================] - 0s 4ms/step - loss: 6568.8433 - mae: 6568.8433\n",
      "Epoch 42/200\n",
      "34/34 [==============================] - 0s 5ms/step - loss: 6545.3970 - mae: 6545.3970\n",
      "Epoch 43/200\n",
      "34/34 [==============================] - 0s 5ms/step - loss: 6517.0879 - mae: 6517.0879\n",
      "Epoch 44/200\n",
      "34/34 [==============================] - 0s 4ms/step - loss: 6496.2847 - mae: 6496.2847\n",
      "Epoch 45/200\n",
      "34/34 [==============================] - 0s 5ms/step - loss: 6486.1909 - mae: 6486.1909\n",
      "Epoch 46/200\n",
      "34/34 [==============================] - 0s 4ms/step - loss: 6467.5474 - mae: 6467.5474\n",
      "Epoch 47/200\n",
      "34/34 [==============================] - 0s 4ms/step - loss: 6451.2090 - mae: 6451.2090\n",
      "Epoch 48/200\n",
      "34/34 [==============================] - 0s 4ms/step - loss: 6437.7686 - mae: 6437.7686\n",
      "Epoch 49/200\n",
      "34/34 [==============================] - 0s 5ms/step - loss: 6424.8706 - mae: 6424.8706\n",
      "Epoch 50/200\n",
      "34/34 [==============================] - 0s 4ms/step - loss: 6411.1245 - mae: 6411.1245\n",
      "Epoch 51/200\n",
      "34/34 [==============================] - 0s 3ms/step - loss: 6397.8438 - mae: 6397.8438\n",
      "Epoch 52/200\n",
      "34/34 [==============================] - 0s 3ms/step - loss: 6386.2354 - mae: 6386.2354\n",
      "Epoch 53/200\n",
      "34/34 [==============================] - 0s 4ms/step - loss: 6372.8389 - mae: 6372.8389\n",
      "Epoch 54/200\n",
      "34/34 [==============================] - 0s 4ms/step - loss: 6358.8906 - mae: 6358.8906\n",
      "Epoch 55/200\n",
      "34/34 [==============================] - 0s 4ms/step - loss: 6345.2876 - mae: 6345.2876\n",
      "Epoch 56/200\n",
      "34/34 [==============================] - 0s 4ms/step - loss: 6330.9292 - mae: 6330.9292\n",
      "Epoch 57/200\n",
      "34/34 [==============================] - 0s 4ms/step - loss: 6318.5210 - mae: 6318.5210\n",
      "Epoch 58/200\n",
      "34/34 [==============================] - 0s 4ms/step - loss: 6304.3325 - mae: 6304.3325\n",
      "Epoch 59/200\n",
      "34/34 [==============================] - 0s 4ms/step - loss: 6289.8076 - mae: 6289.8076\n",
      "Epoch 60/200\n",
      "34/34 [==============================] - 0s 4ms/step - loss: 6279.0449 - mae: 6279.0449\n",
      "Epoch 61/200\n",
      "34/34 [==============================] - 0s 5ms/step - loss: 6259.5068 - mae: 6259.5068\n",
      "Epoch 62/200\n",
      "34/34 [==============================] - 0s 4ms/step - loss: 6247.2607 - mae: 6247.2607\n",
      "Epoch 63/200\n",
      "34/34 [==============================] - 0s 5ms/step - loss: 6228.8589 - mae: 6228.8589\n",
      "Epoch 64/200\n",
      "34/34 [==============================] - 0s 4ms/step - loss: 6212.6294 - mae: 6212.6294\n",
      "Epoch 65/200\n",
      "34/34 [==============================] - 0s 4ms/step - loss: 6195.4531 - mae: 6195.4531\n",
      "Epoch 66/200\n",
      "34/34 [==============================] - 0s 4ms/step - loss: 6178.3267 - mae: 6178.3267\n",
      "Epoch 67/200\n",
      "34/34 [==============================] - 0s 4ms/step - loss: 6165.9868 - mae: 6165.9868\n",
      "Epoch 68/200\n",
      "34/34 [==============================] - 0s 4ms/step - loss: 6143.4346 - mae: 6143.4346\n",
      "Epoch 69/200\n",
      "34/34 [==============================] - 0s 4ms/step - loss: 6127.4541 - mae: 6127.4541\n",
      "Epoch 70/200\n",
      "34/34 [==============================] - 0s 3ms/step - loss: 6107.2534 - mae: 6107.2534\n",
      "Epoch 71/200\n",
      "34/34 [==============================] - 0s 4ms/step - loss: 6088.0830 - mae: 6088.0830\n",
      "Epoch 72/200\n",
      "34/34 [==============================] - 0s 4ms/step - loss: 6068.1538 - mae: 6068.1538\n",
      "Epoch 73/200\n",
      "34/34 [==============================] - 0s 4ms/step - loss: 6054.4976 - mae: 6054.4976\n",
      "Epoch 74/200\n",
      "34/34 [==============================] - 0s 4ms/step - loss: 6026.2827 - mae: 6026.2827\n",
      "Epoch 75/200\n",
      "34/34 [==============================] - 0s 4ms/step - loss: 6005.5303 - mae: 6005.5303\n",
      "Epoch 76/200\n",
      "34/34 [==============================] - 0s 3ms/step - loss: 5989.8511 - mae: 5989.8511\n",
      "Epoch 77/200\n",
      "34/34 [==============================] - 0s 4ms/step - loss: 5958.3896 - mae: 5958.3896\n",
      "Epoch 78/200\n",
      "34/34 [==============================] - 0s 3ms/step - loss: 5935.4287 - mae: 5935.4287\n",
      "Epoch 79/200\n",
      "34/34 [==============================] - 0s 3ms/step - loss: 5911.0986 - mae: 5911.0986\n",
      "Epoch 80/200\n",
      "34/34 [==============================] - 0s 3ms/step - loss: 5883.4644 - mae: 5883.4644\n",
      "Epoch 81/200\n",
      "34/34 [==============================] - 0s 4ms/step - loss: 5858.0010 - mae: 5858.0010\n",
      "Epoch 82/200\n",
      "34/34 [==============================] - 0s 4ms/step - loss: 5829.5630 - mae: 5829.5630\n",
      "Epoch 83/200\n",
      "34/34 [==============================] - 0s 5ms/step - loss: 5801.3433 - mae: 5801.3433\n",
      "Epoch 84/200\n",
      "34/34 [==============================] - 0s 5ms/step - loss: 5768.5879 - mae: 5768.5879\n",
      "Epoch 85/200\n",
      "34/34 [==============================] - 0s 5ms/step - loss: 5745.1533 - mae: 5745.1533\n",
      "Epoch 86/200\n",
      "34/34 [==============================] - 0s 4ms/step - loss: 5709.6162 - mae: 5709.6162\n",
      "Epoch 87/200\n",
      "34/34 [==============================] - 0s 4ms/step - loss: 5670.9956 - mae: 5670.9956\n",
      "Epoch 88/200\n",
      "34/34 [==============================] - 0s 4ms/step - loss: 5636.0215 - mae: 5636.0215\n",
      "Epoch 89/200\n",
      "34/34 [==============================] - 0s 4ms/step - loss: 5597.9033 - mae: 5597.9033\n",
      "Epoch 90/200\n",
      "34/34 [==============================] - 0s 4ms/step - loss: 5556.2803 - mae: 5556.2803\n",
      "Epoch 91/200\n",
      "34/34 [==============================] - 0s 3ms/step - loss: 5520.0630 - mae: 5520.0630\n",
      "Epoch 92/200\n",
      "34/34 [==============================] - 0s 4ms/step - loss: 5471.1528 - mae: 5471.1528\n",
      "Epoch 93/200\n",
      "34/34 [==============================] - 0s 3ms/step - loss: 5428.9360 - mae: 5428.9360\n",
      "Epoch 94/200\n",
      "34/34 [==============================] - 0s 3ms/step - loss: 5383.4126 - mae: 5383.4126\n",
      "Epoch 95/200\n",
      "34/34 [==============================] - 0s 4ms/step - loss: 5330.7036 - mae: 5330.7036\n",
      "Epoch 96/200\n",
      "34/34 [==============================] - 0s 4ms/step - loss: 5286.1479 - mae: 5286.1479\n",
      "Epoch 97/200\n",
      "34/34 [==============================] - 0s 3ms/step - loss: 5232.0742 - mae: 5232.0742\n",
      "Epoch 98/200\n",
      "34/34 [==============================] - 0s 3ms/step - loss: 5170.0190 - mae: 5170.0190\n",
      "Epoch 99/200\n",
      "34/34 [==============================] - 0s 3ms/step - loss: 5112.0630 - mae: 5112.0630\n",
      "Epoch 100/200\n",
      "34/34 [==============================] - 0s 3ms/step - loss: 5054.7573 - mae: 5054.7573\n",
      "Epoch 101/200\n",
      "34/34 [==============================] - 0s 3ms/step - loss: 4985.5107 - mae: 4985.5107\n",
      "Epoch 102/200\n",
      "34/34 [==============================] - 0s 3ms/step - loss: 4913.6768 - mae: 4913.6768\n",
      "Epoch 103/200\n",
      "34/34 [==============================] - 0s 3ms/step - loss: 4846.4263 - mae: 4846.4263\n",
      "Epoch 104/200\n",
      "34/34 [==============================] - 0s 3ms/step - loss: 4767.4053 - mae: 4767.4053\n",
      "Epoch 105/200\n",
      "34/34 [==============================] - 0s 3ms/step - loss: 4683.5327 - mae: 4683.5327\n",
      "Epoch 106/200\n",
      "34/34 [==============================] - 0s 3ms/step - loss: 4601.7241 - mae: 4601.7241\n",
      "Epoch 107/200\n",
      "34/34 [==============================] - 0s 3ms/step - loss: 4516.0488 - mae: 4516.0488\n",
      "Epoch 108/200\n",
      "34/34 [==============================] - 0s 3ms/step - loss: 4425.8628 - mae: 4425.8628\n",
      "Epoch 109/200\n",
      "34/34 [==============================] - 0s 6ms/step - loss: 4341.7876 - mae: 4341.7876\n",
      "Epoch 110/200\n",
      "34/34 [==============================] - 0s 4ms/step - loss: 4260.1333 - mae: 4260.1333\n",
      "Epoch 111/200\n",
      "34/34 [==============================] - 0s 4ms/step - loss: 4179.2871 - mae: 4179.2871\n",
      "Epoch 112/200\n",
      "34/34 [==============================] - 0s 4ms/step - loss: 4106.5054 - mae: 4106.5054\n",
      "Epoch 113/200\n",
      "34/34 [==============================] - 0s 5ms/step - loss: 4042.4304 - mae: 4042.4304\n",
      "Epoch 114/200\n",
      "34/34 [==============================] - 0s 4ms/step - loss: 3993.0869 - mae: 3993.0869\n",
      "Epoch 115/200\n",
      "34/34 [==============================] - 0s 5ms/step - loss: 3950.8804 - mae: 3950.8804\n",
      "Epoch 116/200\n",
      "34/34 [==============================] - 0s 4ms/step - loss: 3928.9714 - mae: 3928.9714\n",
      "Epoch 117/200\n",
      "34/34 [==============================] - 0s 9ms/step - loss: 3908.9116 - mae: 3908.9116\n",
      "Epoch 118/200\n",
      "34/34 [==============================] - 0s 12ms/step - loss: 3877.7673 - mae: 3877.7673\n",
      "Epoch 119/200\n",
      "34/34 [==============================] - 0s 14ms/step - loss: 3856.1287 - mae: 3856.1287\n",
      "Epoch 120/200\n",
      "34/34 [==============================] - 0s 8ms/step - loss: 3838.1733 - mae: 3838.1733\n",
      "Epoch 121/200\n",
      "34/34 [==============================] - 0s 6ms/step - loss: 3834.0024 - mae: 3834.0024\n",
      "Epoch 122/200\n",
      "34/34 [==============================] - 0s 5ms/step - loss: 3827.2690 - mae: 3827.2690\n",
      "Epoch 123/200\n",
      "34/34 [==============================] - 0s 6ms/step - loss: 3821.7644 - mae: 3821.7644\n",
      "Epoch 124/200\n",
      "34/34 [==============================] - 0s 7ms/step - loss: 3812.5220 - mae: 3812.5220\n",
      "Epoch 125/200\n",
      "34/34 [==============================] - 0s 4ms/step - loss: 3799.2805 - mae: 3799.2805\n",
      "Epoch 126/200\n",
      "34/34 [==============================] - 0s 4ms/step - loss: 3812.2253 - mae: 3812.2253\n",
      "Epoch 127/200\n",
      "34/34 [==============================] - 0s 4ms/step - loss: 3801.6370 - mae: 3801.6370\n",
      "Epoch 128/200\n",
      "34/34 [==============================] - 0s 7ms/step - loss: 3796.6113 - mae: 3796.6113\n",
      "Epoch 129/200\n",
      "34/34 [==============================] - 0s 5ms/step - loss: 3804.7864 - mae: 3804.7864\n",
      "Epoch 130/200\n",
      "34/34 [==============================] - 0s 5ms/step - loss: 3789.8428 - mae: 3789.8428\n",
      "Epoch 131/200\n",
      "34/34 [==============================] - 0s 5ms/step - loss: 3784.1172 - mae: 3784.1172\n",
      "Epoch 132/200\n",
      "34/34 [==============================] - 0s 12ms/step - loss: 3778.0112 - mae: 3778.0112\n",
      "Epoch 133/200\n",
      "34/34 [==============================] - 0s 8ms/step - loss: 3773.2183 - mae: 3773.2183\n",
      "Epoch 134/200\n",
      "34/34 [==============================] - 0s 6ms/step - loss: 3774.0295 - mae: 3774.0295\n",
      "Epoch 135/200\n",
      "34/34 [==============================] - 0s 6ms/step - loss: 3770.3560 - mae: 3770.3560\n",
      "Epoch 136/200\n",
      "34/34 [==============================] - 0s 5ms/step - loss: 3768.9702 - mae: 3768.9702\n",
      "Epoch 137/200\n",
      "34/34 [==============================] - 0s 5ms/step - loss: 3777.6780 - mae: 3777.6780\n",
      "Epoch 138/200\n",
      "34/34 [==============================] - 0s 7ms/step - loss: 3782.3699 - mae: 3782.3699\n",
      "Epoch 139/200\n",
      "34/34 [==============================] - 0s 14ms/step - loss: 3764.6367 - mae: 3764.6367\n",
      "Epoch 140/200\n",
      "34/34 [==============================] - 0s 5ms/step - loss: 3765.9961 - mae: 3765.9961\n",
      "Epoch 141/200\n",
      "34/34 [==============================] - 0s 12ms/step - loss: 3766.2197 - mae: 3766.2197\n",
      "Epoch 142/200\n",
      "34/34 [==============================] - 0s 7ms/step - loss: 3769.4871 - mae: 3769.4871\n",
      "Epoch 143/200\n",
      "34/34 [==============================] - 0s 5ms/step - loss: 3756.9231 - mae: 3756.9231\n",
      "Epoch 144/200\n",
      "34/34 [==============================] - 0s 5ms/step - loss: 3753.3293 - mae: 3753.3293\n",
      "Epoch 145/200\n",
      "34/34 [==============================] - 0s 4ms/step - loss: 3755.1489 - mae: 3755.1489\n",
      "Epoch 146/200\n",
      "34/34 [==============================] - 0s 7ms/step - loss: 3760.4155 - mae: 3760.4155\n",
      "Epoch 147/200\n",
      "34/34 [==============================] - 0s 12ms/step - loss: 3754.5527 - mae: 3754.5527\n",
      "Epoch 148/200\n",
      "34/34 [==============================] - 0s 4ms/step - loss: 3760.0063 - mae: 3760.0063\n",
      "Epoch 149/200\n",
      "34/34 [==============================] - 0s 4ms/step - loss: 3746.2612 - mae: 3746.2612\n",
      "Epoch 150/200\n",
      "34/34 [==============================] - 0s 5ms/step - loss: 3741.7534 - mae: 3741.7534\n",
      "Epoch 151/200\n",
      "34/34 [==============================] - 0s 5ms/step - loss: 3743.5420 - mae: 3743.5420\n",
      "Epoch 152/200\n",
      "34/34 [==============================] - 0s 10ms/step - loss: 3744.5679 - mae: 3744.5679\n",
      "Epoch 153/200\n",
      "34/34 [==============================] - 0s 4ms/step - loss: 3745.4114 - mae: 3745.4114\n",
      "Epoch 154/200\n",
      "34/34 [==============================] - 0s 4ms/step - loss: 3740.3303 - mae: 3740.3303\n",
      "Epoch 155/200\n",
      "34/34 [==============================] - 0s 5ms/step - loss: 3743.2244 - mae: 3743.2244\n",
      "Epoch 156/200\n",
      "34/34 [==============================] - 0s 5ms/step - loss: 3737.8779 - mae: 3737.8779\n",
      "Epoch 157/200\n",
      "34/34 [==============================] - 0s 4ms/step - loss: 3736.4011 - mae: 3736.4011\n",
      "Epoch 158/200\n",
      "34/34 [==============================] - 0s 7ms/step - loss: 3732.4612 - mae: 3732.4612\n",
      "Epoch 159/200\n",
      "34/34 [==============================] - 0s 9ms/step - loss: 3732.5476 - mae: 3732.5476\n",
      "Epoch 160/200\n",
      "34/34 [==============================] - 0s 4ms/step - loss: 3736.4158 - mae: 3736.4158\n",
      "Epoch 161/200\n",
      "34/34 [==============================] - 0s 4ms/step - loss: 3731.0730 - mae: 3731.0730\n",
      "Epoch 162/200\n",
      "34/34 [==============================] - 0s 5ms/step - loss: 3725.8958 - mae: 3725.8958\n",
      "Epoch 163/200\n",
      "34/34 [==============================] - 0s 4ms/step - loss: 3724.8997 - mae: 3724.8997\n",
      "Epoch 164/200\n",
      "34/34 [==============================] - 0s 12ms/step - loss: 3730.5315 - mae: 3730.5315\n",
      "Epoch 165/200\n",
      "34/34 [==============================] - 0s 5ms/step - loss: 3720.1172 - mae: 3720.1172\n",
      "Epoch 166/200\n",
      "34/34 [==============================] - 0s 5ms/step - loss: 3724.5066 - mae: 3724.5066\n",
      "Epoch 167/200\n",
      "34/34 [==============================] - 0s 5ms/step - loss: 3722.8792 - mae: 3722.8792\n",
      "Epoch 168/200\n",
      "34/34 [==============================] - 0s 4ms/step - loss: 3717.0530 - mae: 3717.0530\n",
      "Epoch 169/200\n",
      "34/34 [==============================] - 0s 14ms/step - loss: 3715.7332 - mae: 3715.7332\n",
      "Epoch 170/200\n",
      "34/34 [==============================] - 0s 7ms/step - loss: 3711.3872 - mae: 3711.3872\n",
      "Epoch 171/200\n",
      "34/34 [==============================] - 0s 6ms/step - loss: 3710.7996 - mae: 3710.7996\n",
      "Epoch 172/200\n",
      "34/34 [==============================] - 0s 4ms/step - loss: 3713.0405 - mae: 3713.0405\n",
      "Epoch 173/200\n",
      "34/34 [==============================] - 0s 4ms/step - loss: 3709.1021 - mae: 3709.1021\n",
      "Epoch 174/200\n",
      "34/34 [==============================] - 0s 5ms/step - loss: 3713.1821 - mae: 3713.1821\n",
      "Epoch 175/200\n",
      "34/34 [==============================] - 0s 4ms/step - loss: 3713.1846 - mae: 3713.1846\n",
      "Epoch 176/200\n",
      "34/34 [==============================] - 0s 4ms/step - loss: 3710.3027 - mae: 3710.3027\n",
      "Epoch 177/200\n",
      "34/34 [==============================] - 0s 4ms/step - loss: 3703.6260 - mae: 3703.6260\n",
      "Epoch 178/200\n",
      "34/34 [==============================] - 0s 4ms/step - loss: 3700.3474 - mae: 3700.3474\n",
      "Epoch 179/200\n",
      "34/34 [==============================] - 0s 5ms/step - loss: 3708.9141 - mae: 3708.9141\n",
      "Epoch 180/200\n",
      "34/34 [==============================] - 0s 4ms/step - loss: 3716.9990 - mae: 3716.9990\n",
      "Epoch 181/200\n",
      "34/34 [==============================] - 0s 5ms/step - loss: 3699.9614 - mae: 3699.9614\n",
      "Epoch 182/200\n",
      "34/34 [==============================] - 0s 5ms/step - loss: 3697.2039 - mae: 3697.2039\n",
      "Epoch 183/200\n",
      "34/34 [==============================] - 0s 5ms/step - loss: 3695.4619 - mae: 3695.4619\n",
      "Epoch 184/200\n",
      "34/34 [==============================] - 0s 4ms/step - loss: 3702.7351 - mae: 3702.7351\n",
      "Epoch 185/200\n",
      "34/34 [==============================] - 0s 4ms/step - loss: 3697.5066 - mae: 3697.5066\n",
      "Epoch 186/200\n",
      "34/34 [==============================] - 0s 4ms/step - loss: 3700.5435 - mae: 3700.5435\n",
      "Epoch 187/200\n",
      "34/34 [==============================] - 0s 4ms/step - loss: 3690.0674 - mae: 3690.0674\n",
      "Epoch 188/200\n",
      "34/34 [==============================] - 0s 8ms/step - loss: 3699.0154 - mae: 3699.0154\n",
      "Epoch 189/200\n",
      "34/34 [==============================] - 0s 5ms/step - loss: 3688.1768 - mae: 3688.1768\n",
      "Epoch 190/200\n",
      "34/34 [==============================] - 0s 7ms/step - loss: 3686.0408 - mae: 3686.0408\n",
      "Epoch 191/200\n",
      "34/34 [==============================] - 0s 7ms/step - loss: 3702.6079 - mae: 3702.6079\n",
      "Epoch 192/200\n",
      "34/34 [==============================] - 0s 6ms/step - loss: 3688.2957 - mae: 3688.2957\n",
      "Epoch 193/200\n",
      "34/34 [==============================] - 0s 5ms/step - loss: 3678.5637 - mae: 3678.5637\n",
      "Epoch 194/200\n",
      "34/34 [==============================] - 0s 4ms/step - loss: 3680.1624 - mae: 3680.1624\n",
      "Epoch 195/200\n",
      "34/34 [==============================] - 0s 4ms/step - loss: 3676.7668 - mae: 3676.7668\n",
      "Epoch 196/200\n",
      "34/34 [==============================] - 0s 3ms/step - loss: 3686.4058 - mae: 3686.4058\n",
      "Epoch 197/200\n",
      "34/34 [==============================] - 0s 4ms/step - loss: 3670.2214 - mae: 3670.2214\n",
      "Epoch 198/200\n",
      "34/34 [==============================] - 0s 4ms/step - loss: 3675.9963 - mae: 3675.9963\n",
      "Epoch 199/200\n",
      "34/34 [==============================] - 0s 3ms/step - loss: 3684.9136 - mae: 3684.9136\n",
      "Epoch 200/200\n",
      "34/34 [==============================] - 0s 4ms/step - loss: 3669.9348 - mae: 3669.9348\n"
     ]
    }
   ],
   "source": [
    "# Set random seed\n",
    "tf.random.set_seed(42)\n",
    "\n",
    "# 1. Create a model\n",
    "model_1 = tf.keras.Sequential([\n",
    "    tf.keras.layers.Dense(100),\n",
    "    tf.keras.layers.Dense(10),\n",
    "    tf.keras.layers.Dense(1)\n",
    "])\n",
    "\n",
    "# 2. Compile the model\n",
    "model_1.compile(loss=tf.keras.losses.MAE,\n",
    "                optimizer=tf.keras.optimizers.Adam(),\n",
    "                metrics=['mae'])\n",
    "\n",
    "# 3. Fit the model\n",
    "history = model_1.fit(X_train, y_train, epochs=200, verbose=1)"
   ],
   "metadata": {
    "collapsed": false,
    "ExecuteTime": {
     "end_time": "2024-03-05T01:19:34.578313200Z",
     "start_time": "2024-03-05T01:18:55.363288500Z"
    }
   },
   "id": "b14dbcc717693b4a",
   "execution_count": 110
  },
  {
   "cell_type": "code",
   "outputs": [
    {
     "name": "stdout",
     "output_type": "stream",
     "text": [
      "9/9 [==============================] - 1s 9ms/step - loss: 3489.9094 - mae: 3489.9094\n"
     ]
    },
    {
     "data": {
      "text/plain": "[3489.909423828125, 3489.909423828125]"
     },
     "execution_count": 103,
     "metadata": {},
     "output_type": "execute_result"
    }
   ],
   "source": [
    "model_1.evaluate(X_test, y_test)"
   ],
   "metadata": {
    "collapsed": false,
    "ExecuteTime": {
     "end_time": "2024-03-05T01:12:58.484748700Z",
     "start_time": "2024-03-05T01:12:57.478723300Z"
    }
   },
   "id": "b29499a48636d19",
   "execution_count": 103
  },
  {
   "cell_type": "code",
   "outputs": [
    {
     "name": "stdout",
     "output_type": "stream",
     "text": [
      "Model: \"sequential_36\"\n",
      "_________________________________________________________________\n",
      " Layer (type)                Output Shape              Param #   \n",
      "=================================================================\n",
      " dense_76 (Dense)            (None, 100)               1200      \n",
      "                                                                 \n",
      " dense_77 (Dense)            (None, 10)                1010      \n",
      "                                                                 \n",
      " dense_78 (Dense)            (None, 1)                 11        \n",
      "                                                                 \n",
      "=================================================================\n",
      "Total params: 2221 (8.68 KB)\n",
      "Trainable params: 2221 (8.68 KB)\n",
      "Non-trainable params: 0 (0.00 Byte)\n",
      "_________________________________________________________________\n"
     ]
    }
   ],
   "source": [
    "model_1.summary()"
   ],
   "metadata": {
    "collapsed": false,
    "ExecuteTime": {
     "end_time": "2024-03-05T01:13:05.276010Z",
     "start_time": "2024-03-05T01:13:05.142944400Z"
    }
   },
   "id": "c348131eb5b1488e",
   "execution_count": 104
  },
  {
   "cell_type": "code",
   "outputs": [
    {
     "data": {
      "text/plain": "Text(0.5, 0, 'epochs')"
     },
     "execution_count": 107,
     "metadata": {},
     "output_type": "execute_result"
    },
    {
     "data": {
      "text/plain": "<Figure size 640x480 with 1 Axes>",
      "image/png": "[encoded data removed]"
     },
     "metadata": {},
     "output_type": "display_data"
    }
   ],
   "source": [
    "# Plot history (also know as a loss curve or a training curve)\n",
    "pd.DataFrame(history.history).plot()\n",
    "plt.ylabel(\"loss\")\n",
    "plt.xlabel(\"epochs\")"
   ],
   "metadata": {
    "collapsed": false,
    "ExecuteTime": {
     "end_time": "2024-03-05T01:14:51.335996300Z",
     "start_time": "2024-03-05T01:14:50.558896500Z"
    }
   },
   "id": "395e138184884afa",
   "execution_count": 107
  }
 ],
 "metadata": {
  "kernelspec": {
   "display_name": "Python 3",
   "language": "python",
   "name": "python3"
  },
  "language_info": {
   "codemirror_mode": {
    "name": "ipython",
    "version": 2
   },
   "file_extension": ".py",
   "mimetype": "text/x-python",
   "name": "python",
   "nbconvert_exporter": "python",
   "pygments_lexer": "ipython2",
   "version": "2.7.6"
  }
 },
 "nbformat": 4,
 "nbformat_minor": 5
}
