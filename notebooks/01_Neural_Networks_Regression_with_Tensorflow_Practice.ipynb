{
 "cells": [
  {
   "cell_type": "markdown",
   "source": [
    "#### Neural Network Regression with TensorFlow"
   ],
   "metadata": {
    "collapsed": false
   },
   "id": "45aedd628cb99878"
  },
  {
   "cell_type": "code",
   "outputs": [],
   "source": [
    "import numpy as np\n",
    "import pandas as pd\n",
    "import tensorflow as tf\n",
    "from sklearn.datasets import make_regression\n",
    "from sklearn.model_selection import train_test_split"
   ],
   "metadata": {
    "collapsed": false
   },
   "id": "a0b1af3217c349a2",
   "execution_count": null
  },
  {
   "cell_type": "code",
   "outputs": [],
   "source": [
    "X, y = make_regression(n_samples=100000, n_features=50, n_informative=30,noise=0.7)"
   ],
   "metadata": {
    "collapsed": false
   },
   "id": "d86cba54c0154665",
   "execution_count": null
  },
  {
   "cell_type": "code",
   "outputs": [],
   "source": [
    "X[:5]"
   ],
   "metadata": {
    "collapsed": false
   },
   "id": "4d9bca9e3e3ba929",
   "execution_count": null
  },
  {
   "cell_type": "code",
   "outputs": [],
   "source": [
    "y[:5]"
   ],
   "metadata": {
    "collapsed": false
   },
   "id": "7d3cff12aee8ff7f",
   "execution_count": null
  },
  {
   "cell_type": "code",
   "outputs": [],
   "source": [
    "X_train, X_test, y_train, y_test = train_test_split(X, y, test_size=0.2, random_state=42)"
   ],
   "metadata": {
    "collapsed": false
   },
   "id": "a762ae593777925c",
   "execution_count": null
  },
  {
   "cell_type": "code",
   "outputs": [],
   "source": [
    "(X_train.shape, y_train.shape), (X_test.shape, y_test.shape)"
   ],
   "metadata": {
    "collapsed": false
   },
   "id": "1ce0ea9be2e4b298",
   "execution_count": null
  },
  {
   "cell_type": "code",
   "outputs": [],
   "source": [
    "from sklearn.linear_model import LinearRegression\n",
    "from sklearn.metrics import mean_absolute_error, mean_squared_error, r2_score"
   ],
   "metadata": {
    "collapsed": false
   },
   "id": "9c68f5ab1068ba00",
   "execution_count": null
  },
  {
   "cell_type": "code",
   "outputs": [],
   "source": [
    "model = LinearRegression()\n",
    "model.fit(X_train, y_train)\n",
    "y_pred = model.predict(X_test)"
   ],
   "metadata": {
    "collapsed": false
   },
   "id": "642e2270d4137873",
   "execution_count": null
  },
  {
   "cell_type": "code",
   "outputs": [],
   "source": [
    "y_pred"
   ],
   "metadata": {
    "collapsed": false
   },
   "id": "aea3afe338705608",
   "execution_count": null
  },
  {
   "cell_type": "code",
   "outputs": [],
   "source": [
    "model.coef_, model.intercept_, model.n_features_in_"
   ],
   "metadata": {
    "collapsed": false
   },
   "id": "256012a34b80b1e6",
   "execution_count": null
  },
  {
   "cell_type": "code",
   "outputs": [],
   "source": [
    "mae = mean_absolute_error(y_test, y_pred)\n",
    "mae"
   ],
   "metadata": {
    "collapsed": false
   },
   "id": "6c5fccb9ae9cd8bb",
   "execution_count": null
  },
  {
   "cell_type": "code",
   "outputs": [],
   "source": [
    "model.score(X_test, y_test)"
   ],
   "metadata": {
    "collapsed": false
   },
   "id": "de4ae03f63e664b4",
   "execution_count": null
  },
  {
   "cell_type": "code",
   "outputs": [],
   "source": [
    "from matplotlib import pyplot as plt"
   ],
   "metadata": {
    "collapsed": false
   },
   "id": "63f965ee29be0a4e",
   "execution_count": null
  },
  {
   "cell_type": "code",
   "outputs": [],
   "source": [
    "tf.random.set_seed(42)\n",
    "\n",
    "tensor_X_train = tf.constant(X_train)\n",
    "tensor_X_test = tf.constant(X_test)\n",
    "tensor_y_train = tf.constant(y_train)\n",
    "tensor_y_test = tf.constant(y_test)\n",
    "\n",
    "model_nn = tf.keras.Sequential([\n",
    "    tf.keras.layers.Dense(10),\n",
    "    tf.keras.layers.Dense(1)\n",
    "])\n",
    "\n",
    "model_nn.compile(loss=tf.keras.losses.mean_absolute_error,\n",
    "                 optimizer=tf.keras.optimizers.Adam(),\n",
    "                 metrics=[\"mae\"])\n",
    "\n",
    "model_nn.fit(tensor_X_train, tensor_y_train, epochs=10)"
   ],
   "metadata": {
    "collapsed": false
   },
   "id": "e3b95fa08bb6bbe4",
   "execution_count": null
  },
  {
   "cell_type": "code",
   "outputs": [],
   "source": [
    "score = model_nn.evaluate(tensor_X_test, tensor_y_test)\n",
    "\n",
    "print(\"Test loss:\", score[0])\n",
    "print(\"Test accuracy:\", score[1])"
   ],
   "metadata": {
    "collapsed": false
   },
   "id": "9548aee0b177ce3d",
   "execution_count": null
  },
  {
   "cell_type": "code",
   "outputs": [],
   "source": [],
   "metadata": {
    "collapsed": false
   },
   "id": "8c8abe8381be1729"
  }
 ],
 "metadata": {
  "kernelspec": {
   "display_name": "Python 3",
   "language": "python",
   "name": "python3"
  },
  "language_info": {
   "codemirror_mode": {
    "name": "ipython",
    "version": 2
   },
   "file_extension": ".py",
   "mimetype": "text/x-python",
   "name": "python",
   "nbconvert_exporter": "python",
   "pygments_lexer": "ipython2",
   "version": "2.7.6"
  }
 },
 "nbformat": 4,
 "nbformat_minor": 5
}
