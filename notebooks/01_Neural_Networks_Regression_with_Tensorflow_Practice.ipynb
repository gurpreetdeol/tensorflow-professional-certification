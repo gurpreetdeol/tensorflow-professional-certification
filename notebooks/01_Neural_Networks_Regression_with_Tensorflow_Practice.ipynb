{
 "cells": [
  {
   "cell_type": "markdown",
   "source": [
    "#### Neural Network Regression with TensorFlow"
   ],
   "metadata": {
    "collapsed": false
   },
   "id": "45aedd628cb99878"
  },
  {
   "cell_type": "code",
   "outputs": [],
   "source": [
    "import numpy as np\n",
    "import pandas as pd\n",
    "import tensorflow as tf\n",
    "from sklearn.datasets import make_regression\n",
    "from sklearn.model_selection import train_test_split"
   ],
   "metadata": {
    "collapsed": false,
    "ExecuteTime": {
     "end_time": "2024-03-06T21:05:08.390687Z",
     "start_time": "2024-03-06T21:05:08.384454Z"
    }
   },
   "id": "a0b1af3217c349a2",
   "execution_count": 2
  },
  {
   "cell_type": "code",
   "outputs": [],
   "source": [
    "X, y = make_regression(n_samples=10000, n_features=50, n_informative=30,noise=0.7)"
   ],
   "metadata": {
    "collapsed": false,
    "ExecuteTime": {
     "end_time": "2024-03-06T21:05:17.588196Z",
     "start_time": "2024-03-06T21:05:17.542368Z"
    }
   },
   "id": "d86cba54c0154665",
   "execution_count": 5
  },
  {
   "cell_type": "code",
   "outputs": [
    {
     "data": {
      "text/plain": "array([[-0.51438075, -0.23113387,  0.65580451, -0.62152889,  0.77361985,\n         1.19406007, -0.71401346, -0.63280107, -0.08549832, -0.40664865,\n         0.5822853 , -0.16124928, -0.74014077, -0.52410781,  1.45826776,\n         0.86035429, -0.5399465 , -0.76592893,  1.07074445,  0.04178777,\n         0.32756218,  0.64360272,  0.08456866,  1.73796461,  0.25487326,\n        -1.63178313,  0.53907527,  0.07895046, -1.00508884, -0.06214507,\n        -0.20757306,  1.60189738, -1.89897807, -1.24764655, -1.1662605 ,\n        -1.22622689,  0.17112392,  0.33879022,  0.95441592,  2.50320246,\n         1.13778112, -1.2005709 , -1.21794931,  0.87024935, -1.30294165,\n        -0.16531908, -2.0793547 , -0.50942747,  0.13724961, -0.80817195],\n       [ 0.0767694 , -1.04550526,  1.41297352,  0.01819008,  0.19143866,\n         1.11868206, -0.3575357 ,  0.07079856,  1.38448139,  0.76876156,\n         0.8953198 ,  0.11637117, -0.21083618, -0.45079203, -0.13745562,\n         0.47764345, -0.23333334,  0.66918109, -0.05627272,  0.39844011,\n        -0.12990386,  0.89007634,  0.08720661, -1.0835056 , -1.0301038 ,\n         0.21626466, -0.67872497,  0.20310476,  0.06370563, -0.29732094,\n        -0.06320121,  0.52433534, -1.28386834, -1.99716933,  0.28711172,\n        -0.19450052,  0.21996161,  1.78534961, -0.40425725,  0.16950848,\n        -1.64044342, -1.66234862, -0.24723999, -1.26479036,  0.54796033,\n        -1.09336714, -0.80721062, -0.30773736, -1.22975017, -1.40932033],\n       [-0.26847952,  0.60186949,  1.04667837, -0.18739763,  0.69414277,\n         0.54626574, -0.01390807,  0.16002898, -2.05228118,  0.78830306,\n         0.58466357,  0.13122958,  0.83828182, -1.90646483,  1.58584499,\n        -0.67133555,  0.93549232,  0.65338918,  1.30987514,  0.52426315,\n        -0.76352653,  0.0435332 , -1.25609252,  1.33785265, -0.90416629,\n         1.27436355,  0.84552955,  0.60637639, -0.11651407,  0.24727811,\n         0.43541016,  0.24193023,  0.9726461 , -1.9520488 , -0.59896417,\n         0.77512851,  0.02278053, -0.81133689,  0.12947881, -0.02936228,\n         0.7496004 ,  0.93194109,  0.51574998, -1.65617951, -0.38753924,\n        -0.15982191, -0.65455021, -1.70577526,  0.03075011,  0.4879946 ],\n       [-0.18675082,  0.44674139,  0.87033942,  0.5607092 ,  1.447289  ,\n         1.21707416, -1.02998609, -0.29185996, -0.91976074,  0.69984052,\n        -0.05580408,  0.30708139,  0.57814504, -1.75645429,  0.032644  ,\n         0.07105471, -0.1793783 , -1.48993173, -1.77109172,  1.4086506 ,\n        -0.02119255, -0.68995741, -0.28704945, -0.88399035,  0.84379905,\n        -1.26664575,  0.96611396,  0.4565122 ,  0.2340879 ,  0.96439971,\n        -0.48367941, -1.36660763,  0.40672301,  0.4144052 ,  0.75829323,\n        -0.37064653,  1.94203656,  1.09750187,  0.09771549, -1.64951434,\n         0.52740218,  1.63968462,  0.85158344, -0.53959991,  0.05709054,\n         0.07061088, -1.24877074, -1.10645426, -1.86082045, -1.93264786],\n       [-0.36741827, -2.00400013,  0.25051979,  0.92433271,  0.17879475,\n        -0.49361145, -0.90620941, -0.98894691, -0.50795018, -0.77983191,\n         0.79369729, -0.4252174 , -2.40396261,  0.2998332 ,  1.01640411,\n         0.64322334, -0.1787217 , -1.71362322,  0.30249565, -0.10975982,\n         0.41453668,  0.53564196, -0.42510583,  1.33068738, -0.52633475,\n         0.29056861,  0.92008744, -1.09474694,  0.14131622,  0.31618566,\n        -1.12175403,  0.82198668, -1.2925778 ,  0.63376164, -2.26143688,\n         0.66188871, -0.60298792,  0.39180668, -0.54686766, -0.14432582,\n         0.27912841, -0.13826533,  0.54227844,  2.07454894,  1.56771074,\n        -0.3703303 ,  0.86677925, -0.42351353,  0.60050202,  0.07733368]])"
     },
     "execution_count": 6,
     "metadata": {},
     "output_type": "execute_result"
    }
   ],
   "source": [
    "X[:5]"
   ],
   "metadata": {
    "collapsed": false,
    "ExecuteTime": {
     "end_time": "2024-03-06T21:05:18.393089Z",
     "start_time": "2024-03-06T21:05:18.381808Z"
    }
   },
   "id": "4d9bca9e3e3ba929",
   "execution_count": 6
  },
  {
   "cell_type": "code",
   "outputs": [
    {
     "data": {
      "text/plain": "array([ -84.09335673,    7.00991213,  137.85660778,  149.07586059,\n       -365.67879205])"
     },
     "execution_count": 7,
     "metadata": {},
     "output_type": "execute_result"
    }
   ],
   "source": [
    "y[:5]"
   ],
   "metadata": {
    "collapsed": false,
    "ExecuteTime": {
     "end_time": "2024-03-06T21:05:19.666575Z",
     "start_time": "2024-03-06T21:05:19.657594Z"
    }
   },
   "id": "7d3cff12aee8ff7f",
   "execution_count": 7
  },
  {
   "cell_type": "code",
   "outputs": [],
   "source": [
    "X_train, X_test, y_train, y_test = train_test_split(X, y, test_size=0.2, random_state=42)"
   ],
   "metadata": {
    "collapsed": false,
    "ExecuteTime": {
     "end_time": "2024-03-06T21:05:20.653774Z",
     "start_time": "2024-03-06T21:05:20.645271Z"
    }
   },
   "id": "a762ae593777925c",
   "execution_count": 8
  },
  {
   "cell_type": "code",
   "outputs": [
    {
     "data": {
      "text/plain": "(((8000, 50), (8000,)), ((2000, 50), (2000,)))"
     },
     "execution_count": 9,
     "metadata": {},
     "output_type": "execute_result"
    }
   ],
   "source": [
    "(X_train.shape, y_train.shape), (X_test.shape, y_test.shape)"
   ],
   "metadata": {
    "collapsed": false,
    "ExecuteTime": {
     "end_time": "2024-03-06T21:05:21.524915Z",
     "start_time": "2024-03-06T21:05:21.514687Z"
    }
   },
   "id": "1ce0ea9be2e4b298",
   "execution_count": 9
  },
  {
   "cell_type": "code",
   "outputs": [],
   "source": [
    "from sklearn.linear_model import LinearRegression\n",
    "from sklearn.metrics import mean_absolute_error, mean_squared_error, r2_score"
   ],
   "metadata": {
    "collapsed": false,
    "ExecuteTime": {
     "end_time": "2024-03-06T21:05:22.522620Z",
     "start_time": "2024-03-06T21:05:22.227030Z"
    }
   },
   "id": "9c68f5ab1068ba00",
   "execution_count": 10
  },
  {
   "cell_type": "code",
   "outputs": [],
   "source": [
    "model = LinearRegression()\n",
    "model.fit(X_train, y_train)\n",
    "y_pred = model.predict(X_test)"
   ],
   "metadata": {
    "collapsed": false,
    "ExecuteTime": {
     "end_time": "2024-03-06T21:05:23.904342Z",
     "start_time": "2024-03-06T21:05:23.849706Z"
    }
   },
   "id": "642e2270d4137873",
   "execution_count": 11
  },
  {
   "cell_type": "code",
   "outputs": [
    {
     "data": {
      "text/plain": "array([-480.6270218 ,    6.23984107,  751.60777085, ..., -276.79268512,\n        500.17650641,  118.46356716])"
     },
     "execution_count": 12,
     "metadata": {},
     "output_type": "execute_result"
    }
   ],
   "source": [
    "y_pred"
   ],
   "metadata": {
    "collapsed": false,
    "ExecuteTime": {
     "end_time": "2024-03-06T21:05:24.671023Z",
     "start_time": "2024-03-06T21:05:24.662362Z"
    }
   },
   "id": "aea3afe338705608",
   "execution_count": 12
  },
  {
   "cell_type": "code",
   "outputs": [
    {
     "data": {
      "text/plain": "(array([ 5.47241878e+01,  3.84480715e+01,  1.29240212e+01,  2.50848845e+01,\n         9.28718071e+01,  8.30680906e-04, -8.08994709e-04,  6.10801522e+01,\n         5.26033639e+01,  1.23123855e+00,  9.53751996e+01,  3.98014818e+01,\n         9.03865700e+01, -1.68686553e-02,  1.13501230e-02,  6.23636485e-03,\n        -1.62018981e-03, -1.23329644e-02,  1.58866108e+01,  8.40872453e+01,\n         2.78059262e-03,  5.17797630e+01, -5.49132310e-03,  1.07233665e-02,\n         9.79363874e+01, -3.45234830e-03,  1.08687822e-02,  9.23943676e+01,\n         1.31776098e+00,  1.06007160e+01,  7.54129248e+01, -6.10125929e-03,\n        -2.02200457e-03, -3.77604499e-03,  1.06213456e+01,  7.46431627e-03,\n         4.76398557e-03,  6.01239723e+01,  8.17381571e+01,  7.90919184e+01,\n         5.03583815e-03,  5.74445060e+01,  2.41865205e+01,  2.27641245e-03,\n         6.72911382e+01,  8.13303999e-03,  8.83916157e+01,  5.58788451e+00,\n         2.17701099e+01,  4.05639744e+01]),\n -0.005929600066027607,\n 50)"
     },
     "execution_count": 13,
     "metadata": {},
     "output_type": "execute_result"
    }
   ],
   "source": [
    "model.coef_, model.intercept_, model.n_features_in_"
   ],
   "metadata": {
    "collapsed": false,
    "ExecuteTime": {
     "end_time": "2024-03-06T21:05:25.142424Z",
     "start_time": "2024-03-06T21:05:25.129791Z"
    }
   },
   "id": "256012a34b80b1e6",
   "execution_count": 13
  },
  {
   "cell_type": "code",
   "outputs": [
    {
     "data": {
      "text/plain": "0.561498304718784"
     },
     "execution_count": 14,
     "metadata": {},
     "output_type": "execute_result"
    }
   ],
   "source": [
    "mae = mean_absolute_error(y_test, y_pred)\n",
    "mae"
   ],
   "metadata": {
    "collapsed": false,
    "ExecuteTime": {
     "end_time": "2024-03-06T21:05:26.126638Z",
     "start_time": "2024-03-06T21:05:26.114307Z"
    }
   },
   "id": "6c5fccb9ae9cd8bb",
   "execution_count": 14
  },
  {
   "cell_type": "code",
   "outputs": [
    {
     "data": {
      "text/plain": "0.9999950725031818"
     },
     "execution_count": 15,
     "metadata": {},
     "output_type": "execute_result"
    }
   ],
   "source": [
    "model.score(X_test, y_test)"
   ],
   "metadata": {
    "collapsed": false,
    "ExecuteTime": {
     "end_time": "2024-03-06T21:05:27.766934Z",
     "start_time": "2024-03-06T21:05:27.752751Z"
    }
   },
   "id": "de4ae03f63e664b4",
   "execution_count": 15
  },
  {
   "cell_type": "code",
   "outputs": [],
   "source": [
    "from matplotlib import pyplot as plt"
   ],
   "metadata": {
    "collapsed": false,
    "ExecuteTime": {
     "end_time": "2024-03-06T21:05:30.653405Z",
     "start_time": "2024-03-06T21:05:29.120518Z"
    }
   },
   "id": "63f965ee29be0a4e",
   "execution_count": 16
  },
  {
   "cell_type": "code",
   "outputs": [
    {
     "name": "stdout",
     "output_type": "stream",
     "text": [
      "Epoch 1/50\n",
      "250/250 [==============================] - 4s 6ms/step - loss: 261.1961 - mae: 261.1961\n",
      "Epoch 2/50\n",
      "250/250 [==============================] - 2s 6ms/step - loss: 254.2050 - mae: 254.2050\n",
      "Epoch 3/50\n",
      "250/250 [==============================] - 1s 6ms/step - loss: 239.1964 - mae: 239.1964\n",
      "Epoch 4/50\n",
      "250/250 [==============================] - 2s 7ms/step - loss: 216.7298 - mae: 216.7298\n",
      "Epoch 5/50\n",
      "250/250 [==============================] - 2s 7ms/step - loss: 187.7547 - mae: 187.7547\n",
      "Epoch 6/50\n",
      "250/250 [==============================] - 2s 9ms/step - loss: 153.0790 - mae: 153.0790\n",
      "Epoch 7/50\n",
      "250/250 [==============================] - 2s 9ms/step - loss: 113.6072 - mae: 113.6072\n",
      "Epoch 8/50\n",
      "250/250 [==============================] - 3s 10ms/step - loss: 70.8328 - mae: 70.8328\n",
      "Epoch 9/50\n",
      "250/250 [==============================] - 3s 13ms/step - loss: 28.2987 - mae: 28.2987\n",
      "Epoch 10/50\n",
      "250/250 [==============================] - 5s 18ms/step - loss: 2.2198 - mae: 2.2198\n",
      "Epoch 11/50\n",
      "250/250 [==============================] - 5s 20ms/step - loss: 0.6529 - mae: 0.6529\n",
      "Epoch 12/50\n",
      "250/250 [==============================] - 6s 22ms/step - loss: 0.6434 - mae: 0.6434\n",
      "Epoch 13/50\n",
      "250/250 [==============================] - 5s 20ms/step - loss: 0.6351 - mae: 0.6351\n",
      "Epoch 14/50\n",
      "250/250 [==============================] - 6s 24ms/step - loss: 0.6375 - mae: 0.6375\n",
      "Epoch 15/50\n",
      "250/250 [==============================] - 8s 31ms/step - loss: 0.6334 - mae: 0.6334\n",
      "Epoch 16/50\n",
      "250/250 [==============================] - 8s 32ms/step - loss: 0.6406 - mae: 0.6406\n",
      "Epoch 17/50\n",
      "250/250 [==============================] - 9s 35ms/step - loss: 0.6355 - mae: 0.6355\n",
      "Epoch 18/50\n",
      "250/250 [==============================] - 15s 59ms/step - loss: 0.6361 - mae: 0.6361\n",
      "Epoch 19/50\n",
      "250/250 [==============================] - 7s 28ms/step - loss: 0.6376 - mae: 0.6376\n",
      "Epoch 20/50\n",
      "250/250 [==============================] - 7s 27ms/step - loss: 0.6340 - mae: 0.6340\n",
      "Epoch 21/50\n",
      "250/250 [==============================] - 7s 28ms/step - loss: 0.6363 - mae: 0.6363\n",
      "Epoch 22/50\n",
      "250/250 [==============================] - 7s 28ms/step - loss: 0.6356 - mae: 0.6356\n",
      "Epoch 23/50\n",
      "250/250 [==============================] - 6s 25ms/step - loss: 0.6337 - mae: 0.6337\n",
      "Epoch 24/50\n",
      "250/250 [==============================] - 6s 24ms/step - loss: 0.6366 - mae: 0.6366\n",
      "Epoch 25/50\n",
      "250/250 [==============================] - 6s 23ms/step - loss: 0.6376 - mae: 0.6376\n",
      "Epoch 26/50\n",
      "250/250 [==============================] - 6s 23ms/step - loss: 0.6339 - mae: 0.6339\n",
      "Epoch 27/50\n",
      "250/250 [==============================] - 6s 25ms/step - loss: 0.6411 - mae: 0.6411\n",
      "Epoch 28/50\n",
      "250/250 [==============================] - 5s 22ms/step - loss: 0.6351 - mae: 0.6351\n",
      "Epoch 29/50\n",
      "250/250 [==============================] - 5s 21ms/step - loss: 0.6450 - mae: 0.6450\n",
      "Epoch 30/50\n",
      "250/250 [==============================] - 4s 17ms/step - loss: 0.6404 - mae: 0.6404\n",
      "Epoch 31/50\n",
      "250/250 [==============================] - 4s 16ms/step - loss: 0.6413 - mae: 0.6413\n",
      "Epoch 32/50\n",
      "250/250 [==============================] - 4s 16ms/step - loss: 0.6298 - mae: 0.6298\n",
      "Epoch 33/50\n",
      "250/250 [==============================] - 4s 15ms/step - loss: 0.6393 - mae: 0.6393\n",
      "Epoch 34/50\n",
      "250/250 [==============================] - 4s 16ms/step - loss: 0.6334 - mae: 0.6334\n",
      "Epoch 35/50\n",
      "250/250 [==============================] - 4s 18ms/step - loss: 0.6405 - mae: 0.6405\n",
      "Epoch 36/50\n",
      "250/250 [==============================] - 4s 15ms/step - loss: 0.6351 - mae: 0.6351\n",
      "Epoch 37/50\n",
      "250/250 [==============================] - 4s 17ms/step - loss: 0.6360 - mae: 0.6360\n",
      "Epoch 38/50\n",
      "250/250 [==============================] - 4s 17ms/step - loss: 0.6295 - mae: 0.6295\n",
      "Epoch 39/50\n",
      "250/250 [==============================] - 4s 17ms/step - loss: 0.6347 - mae: 0.6347\n",
      "Epoch 40/50\n",
      "250/250 [==============================] - 4s 16ms/step - loss: 0.6375 - mae: 0.6375\n",
      "Epoch 41/50\n",
      "250/250 [==============================] - 4s 15ms/step - loss: 0.6394 - mae: 0.6394\n",
      "Epoch 42/50\n",
      "250/250 [==============================] - 4s 17ms/step - loss: 0.6400 - mae: 0.6400\n",
      "Epoch 43/50\n",
      "250/250 [==============================] - 5s 22ms/step - loss: 0.6346 - mae: 0.6346\n",
      "Epoch 44/50\n",
      "250/250 [==============================] - 5s 19ms/step - loss: 0.6303 - mae: 0.6303\n",
      "Epoch 45/50\n",
      "250/250 [==============================] - 5s 21ms/step - loss: 0.6368 - mae: 0.6368\n",
      "Epoch 46/50\n",
      "250/250 [==============================] - 5s 19ms/step - loss: 0.6391 - mae: 0.6391\n",
      "Epoch 47/50\n",
      "250/250 [==============================] - 5s 20ms/step - loss: 0.6361 - mae: 0.6361\n",
      "Epoch 48/50\n",
      "250/250 [==============================] - 5s 21ms/step - loss: 0.6371 - mae: 0.6371\n",
      "Epoch 49/50\n",
      "250/250 [==============================] - 5s 20ms/step - loss: 0.6370 - mae: 0.6370\n",
      "Epoch 50/50\n",
      "250/250 [==============================] - 5s 20ms/step - loss: 0.6413 - mae: 0.6413\n"
     ]
    },
    {
     "data": {
      "text/plain": "<keras.src.callbacks.History at 0x7fe22817aaf0>"
     },
     "execution_count": 19,
     "metadata": {},
     "output_type": "execute_result"
    }
   ],
   "source": [
    "tf.random.set_seed(42)\n",
    "\n",
    "tensor_X_train = tf.constant(X_train)\n",
    "tensor_X_test = tf.constant(X_test)\n",
    "tensor_y_train = tf.constant(y_train)\n",
    "tensor_y_test = tf.constant(y_test)\n",
    "\n",
    "model_nn = tf.keras.Sequential([\n",
    "    tf.keras.layers.Dense(10),\n",
    "    tf.keras.layers.Dense(1)\n",
    "])\n",
    "\n",
    "model_nn.compile(loss=tf.keras.losses.mean_absolute_error,\n",
    "                 optimizer=tf.keras.optimizers.Adam(),\n",
    "                 metrics=[\"mae\"])\n",
    "\n",
    "model_nn.fit(tensor_X_train, tensor_y_train, epochs=50)"
   ],
   "metadata": {
    "collapsed": false,
    "ExecuteTime": {
     "end_time": "2024-03-06T21:10:06.033245Z",
     "start_time": "2024-03-06T21:05:55.501387Z"
    }
   },
   "id": "e3b95fa08bb6bbe4",
   "execution_count": 19
  },
  {
   "cell_type": "code",
   "outputs": [
    {
     "name": "stdout",
     "output_type": "stream",
     "text": [
      "63/63 [==============================] - 4s 19ms/step - loss: 0.6573 - mae: 0.6573\n",
      "Test loss: 0.6572561860084534\n",
      "Test accuracy: 0.6572561860084534\n"
     ]
    }
   ],
   "source": [
    "score = model_nn.evaluate(tensor_X_test, tensor_y_test)\n",
    "\n",
    "print(\"Test loss:\", score[0])\n",
    "print(\"Test accuracy:\", score[1])"
   ],
   "metadata": {
    "collapsed": false,
    "ExecuteTime": {
     "end_time": "2024-03-06T21:10:15.354782Z",
     "start_time": "2024-03-06T21:10:10.740335Z"
    }
   },
   "id": "9548aee0b177ce3d",
   "execution_count": 20
  },
  {
   "cell_type": "code",
   "outputs": [],
   "source": [],
   "metadata": {
    "collapsed": false
   },
   "id": "8c8abe8381be1729"
  }
 ],
 "metadata": {
  "kernelspec": {
   "display_name": "Python 3",
   "language": "python",
   "name": "python3"
  },
  "language_info": {
   "codemirror_mode": {
    "name": "ipython",
    "version": 2
   },
   "file_extension": ".py",
   "mimetype": "text/x-python",
   "name": "python",
   "nbconvert_exporter": "python",
   "pygments_lexer": "ipython2",
   "version": "2.7.6"
  }
 },
 "nbformat": 4,
 "nbformat_minor": 5
}
