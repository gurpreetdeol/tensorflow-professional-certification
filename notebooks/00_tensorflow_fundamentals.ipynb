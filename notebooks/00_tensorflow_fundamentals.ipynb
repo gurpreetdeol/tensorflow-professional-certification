{
 "cells": [
  {
   "cell_type": "code",
   "outputs": [],
   "source": [],
   "metadata": {
    "collapsed": false,
    "ExecuteTime": {
     "end_time": "2024-03-02T20:41:40.253777100Z",
     "start_time": "2024-03-02T20:41:40.137842100Z"
    }
   },
   "id": "52f2d3223d013d2f",
   "execution_count": 1
  },
  {
   "cell_type": "markdown",
   "source": [
    "# In this notebook, we're going to cover some of the most fundamental concepts of tensors using TensorFlow.\n",
    "\n",
    "##### Most specifically, we're going to cover:\n",
    "* Introduction to tensors\n",
    "* Getting information from tensors\n",
    "* Manipulating tensors\n",
    "* Tensors & NumPy\n",
    "* Using @tf.function (a way to speed up your regular Python functions)\n",
    "* Using GPUs with TensorFlow (or TPUs)\n",
    "* Exercises to try for yourself! "
   ],
   "metadata": {
    "collapsed": false
   },
   "id": "86fe72ffbb279978"
  },
  {
   "cell_type": "markdown",
   "source": [
    "# Introduction to Tensors"
   ],
   "metadata": {
    "collapsed": false
   },
   "id": "143aa13e3772e00e"
  },
  {
   "cell_type": "code",
   "outputs": [
    {
     "name": "stdout",
     "output_type": "stream",
     "text": [
      "2.13.0\n"
     ]
    }
   ],
   "source": [
    "# Import TensforFlow\n",
    "import tensorflow as tf\n",
    "\n",
    "print(tf.__version__)"
   ],
   "metadata": {
    "collapsed": false,
    "ExecuteTime": {
     "end_time": "2024-03-02T20:41:52.233882400Z",
     "start_time": "2024-03-02T20:41:42.685259700Z"
    }
   },
   "id": "a0b83e6df1bdfe2",
   "execution_count": 2
  },
  {
   "cell_type": "code",
   "outputs": [],
   "source": [
    "# Create tensors with tf.constant()\n",
    "scaler = tf.constant(7)"
   ],
   "metadata": {
    "collapsed": false,
    "ExecuteTime": {
     "end_time": "2024-03-02T20:41:52.352879900Z",
     "start_time": "2024-03-02T20:41:52.230360700Z"
    }
   },
   "id": "515531c953c7aed7",
   "execution_count": 3
  },
  {
   "cell_type": "code",
   "outputs": [
    {
     "data": {
      "text/plain": "<tf.Tensor: shape=(), dtype=int32, numpy=7>"
     },
     "execution_count": 4,
     "metadata": {},
     "output_type": "execute_result"
    }
   ],
   "source": [
    "scaler"
   ],
   "metadata": {
    "collapsed": false,
    "ExecuteTime": {
     "end_time": "2024-03-02T20:41:52.406876500Z",
     "start_time": "2024-03-02T20:41:52.275877800Z"
    }
   },
   "id": "13e9b05afcdaffb3",
   "execution_count": 4
  },
  {
   "cell_type": "code",
   "outputs": [
    {
     "data": {
      "text/plain": "0"
     },
     "execution_count": 5,
     "metadata": {},
     "output_type": "execute_result"
    }
   ],
   "source": [
    "# Check the number of dimensions\n",
    "scaler.ndim"
   ],
   "metadata": {
    "collapsed": false,
    "ExecuteTime": {
     "end_time": "2024-03-02T20:41:52.478912600Z",
     "start_time": "2024-03-02T20:41:52.295880200Z"
    }
   },
   "id": "5f93e9fc4e7e6874",
   "execution_count": 5
  },
  {
   "cell_type": "code",
   "outputs": [
    {
     "data": {
      "text/plain": "<tf.Tensor: shape=(2,), dtype=int32, numpy=array([1, 2])>"
     },
     "execution_count": 6,
     "metadata": {},
     "output_type": "execute_result"
    }
   ],
   "source": [
    "# Create vector\n",
    "vector = tf.constant([1, 2])\n",
    "vector"
   ],
   "metadata": {
    "collapsed": false,
    "ExecuteTime": {
     "end_time": "2024-03-02T20:41:52.527883500Z",
     "start_time": "2024-03-02T20:41:52.310880100Z"
    }
   },
   "id": "17e1bedde83da6d",
   "execution_count": 6
  },
  {
   "cell_type": "code",
   "outputs": [
    {
     "data": {
      "text/plain": "1"
     },
     "execution_count": 7,
     "metadata": {},
     "output_type": "execute_result"
    }
   ],
   "source": [
    "vector.ndim"
   ],
   "metadata": {
    "collapsed": false,
    "ExecuteTime": {
     "end_time": "2024-03-02T20:41:52.672877300Z",
     "start_time": "2024-03-02T20:41:52.325885200Z"
    }
   },
   "id": "37cea24270fec9fd",
   "execution_count": 7
  },
  {
   "cell_type": "code",
   "outputs": [
    {
     "data": {
      "text/plain": "<tf.Tensor: shape=(2, 2), dtype=int32, numpy=\narray([[1, 2],\n       [3, 4]])>"
     },
     "execution_count": 8,
     "metadata": {},
     "output_type": "execute_result"
    }
   ],
   "source": [
    "# Create a matrix\n",
    "matrix = tf.constant([[1, 2], [3, 4]])\n",
    "matrix"
   ],
   "metadata": {
    "collapsed": false,
    "ExecuteTime": {
     "end_time": "2024-03-02T20:41:52.727877500Z",
     "start_time": "2024-03-02T20:41:52.339884700Z"
    }
   },
   "id": "5585d3daf77c9c0f",
   "execution_count": 8
  },
  {
   "cell_type": "code",
   "outputs": [
    {
     "data": {
      "text/plain": "2"
     },
     "execution_count": 9,
     "metadata": {},
     "output_type": "execute_result"
    }
   ],
   "source": [
    "matrix.ndim"
   ],
   "metadata": {
    "collapsed": false,
    "ExecuteTime": {
     "end_time": "2024-03-02T20:41:52.818878900Z",
     "start_time": "2024-03-02T20:41:52.356882300Z"
    }
   },
   "id": "be40794a4ac2952f",
   "execution_count": 9
  },
  {
   "cell_type": "code",
   "outputs": [],
   "source": [],
   "metadata": {
    "collapsed": false,
    "ExecuteTime": {
     "end_time": "2024-03-02T20:41:52.845913Z",
     "start_time": "2024-03-02T20:41:52.371877100Z"
    }
   },
   "id": "c1bfa904cfbaa83c",
   "execution_count": 9
  },
  {
   "cell_type": "code",
   "outputs": [
    {
     "data": {
      "text/plain": "<tf.Tensor: shape=(3, 2), dtype=float16, numpy=\narray([[1., 2.],\n       [3., 4.],\n       [5., 6.]], dtype=float16)>"
     },
     "execution_count": 10,
     "metadata": {},
     "output_type": "execute_result"
    }
   ],
   "source": [
    "matrix2 = tf.constant([[1, 2], [3, 4], [5, 6]], dtype=tf.float16)\n",
    "matrix2"
   ],
   "metadata": {
    "collapsed": false,
    "ExecuteTime": {
     "end_time": "2024-03-02T20:41:52.888880800Z",
     "start_time": "2024-03-02T20:41:52.394877800Z"
    }
   },
   "id": "a08016ca877436cc",
   "execution_count": 10
  },
  {
   "cell_type": "code",
   "outputs": [
    {
     "data": {
      "text/plain": "2"
     },
     "execution_count": 11,
     "metadata": {},
     "output_type": "execute_result"
    }
   ],
   "source": [
    "matrix.ndim"
   ],
   "metadata": {
    "collapsed": false,
    "ExecuteTime": {
     "end_time": "2024-03-02T20:41:52.918913100Z",
     "start_time": "2024-03-02T20:41:52.422885900Z"
    }
   },
   "id": "3609fce134c0f229",
   "execution_count": 11
  },
  {
   "cell_type": "code",
   "outputs": [
    {
     "data": {
      "text/plain": "tensorflow.python.framework.ops.EagerTensor"
     },
     "execution_count": 12,
     "metadata": {},
     "output_type": "execute_result"
    }
   ],
   "source": [
    "type(matrix)"
   ],
   "metadata": {
    "collapsed": false,
    "ExecuteTime": {
     "end_time": "2024-03-02T20:41:52.953879900Z",
     "start_time": "2024-03-02T20:41:52.434889100Z"
    }
   },
   "id": "fe9aebce889665a1",
   "execution_count": 12
  },
  {
   "cell_type": "code",
   "outputs": [
    {
     "data": {
      "text/plain": "<tf.Tensor: shape=(2, 2, 2), dtype=int32, numpy=\narray([[[1, 2],\n        [3, 4]],\n\n       [[5, 6],\n        [7, 8]]])>"
     },
     "execution_count": 13,
     "metadata": {},
     "output_type": "execute_result"
    }
   ],
   "source": [
    "tensor = tf.constant([[[1, 2], [3, 4]], [[5, 6], [7, 8]]])\n",
    "tensor"
   ],
   "metadata": {
    "collapsed": false,
    "ExecuteTime": {
     "end_time": "2024-03-02T20:41:53.043879200Z",
     "start_time": "2024-03-02T20:41:52.454893700Z"
    }
   },
   "id": "5854f44b9e3c8af3",
   "execution_count": 13
  },
  {
   "cell_type": "code",
   "outputs": [
    {
     "data": {
      "text/plain": "3"
     },
     "execution_count": 14,
     "metadata": {},
     "output_type": "execute_result"
    }
   ],
   "source": [
    "tensor.ndim"
   ],
   "metadata": {
    "collapsed": false,
    "ExecuteTime": {
     "end_time": "2024-03-02T20:41:53.109910100Z",
     "start_time": "2024-03-02T20:41:52.482878Z"
    }
   },
   "id": "1092eb8e1af6de8a",
   "execution_count": 14
  },
  {
   "cell_type": "code",
   "outputs": [
    {
     "data": {
      "text/plain": "tensorflow.python.framework.ops.EagerTensor"
     },
     "execution_count": 15,
     "metadata": {},
     "output_type": "execute_result"
    }
   ],
   "source": [
    "type(tensor)"
   ],
   "metadata": {
    "collapsed": false,
    "ExecuteTime": {
     "end_time": "2024-03-02T20:41:53.117946100Z",
     "start_time": "2024-03-02T20:41:52.498882300Z"
    }
   },
   "id": "10639376611b9c32",
   "execution_count": 15
  },
  {
   "cell_type": "code",
   "outputs": [
    {
     "data": {
      "text/plain": "<tf.Tensor: shape=(2, 2, 2, 2), dtype=int32, numpy=\narray([[[[ 1,  2],\n         [ 3,  4]],\n\n        [[ 5,  6],\n         [ 7,  8]]],\n\n\n       [[[11, 12],\n         [13, 14]],\n\n        [[15, 16],\n         [17, 18]]]])>"
     },
     "execution_count": 16,
     "metadata": {},
     "output_type": "execute_result"
    }
   ],
   "source": [
    "tensor2 = tf.constant([[[[1, 2], [3, 4]], [[5, 6], [7, 8]]], [[[11, 12], [13, 14]], [[15, 16], [17, 18]]]])\n",
    "tensor2"
   ],
   "metadata": {
    "collapsed": false,
    "ExecuteTime": {
     "end_time": "2024-03-02T20:41:53.178876700Z",
     "start_time": "2024-03-02T20:41:52.512879500Z"
    }
   },
   "id": "fbe0895ea8cf66b8",
   "execution_count": 16
  },
  {
   "cell_type": "code",
   "outputs": [
    {
     "data": {
      "text/plain": "4"
     },
     "execution_count": 17,
     "metadata": {},
     "output_type": "execute_result"
    }
   ],
   "source": [
    "tensor2.ndim"
   ],
   "metadata": {
    "collapsed": false,
    "ExecuteTime": {
     "end_time": "2024-03-02T20:41:53.205911600Z",
     "start_time": "2024-03-02T20:41:52.547880500Z"
    }
   },
   "id": "a45fe573d046c41d",
   "execution_count": 17
  },
  {
   "cell_type": "code",
   "outputs": [
    {
     "data": {
      "text/plain": "<tf.Tensor: shape=(2, 2), dtype=int32, numpy=\narray([[1, 2],\n       [3, 4]])>"
     },
     "execution_count": 18,
     "metadata": {},
     "output_type": "execute_result"
    }
   ],
   "source": [
    "tensor[0]"
   ],
   "metadata": {
    "collapsed": false,
    "ExecuteTime": {
     "end_time": "2024-03-02T20:41:53.243875700Z",
     "start_time": "2024-03-02T20:41:52.560885100Z"
    }
   },
   "id": "9f549d91e661fa70",
   "execution_count": 18
  },
  {
   "cell_type": "code",
   "outputs": [
    {
     "data": {
      "text/plain": "<tf.Tensor: shape=(2, 2), dtype=int32, numpy=\narray([[5, 6],\n       [7, 8]])>"
     },
     "execution_count": 19,
     "metadata": {},
     "output_type": "execute_result"
    }
   ],
   "source": [
    "tensor[1]"
   ],
   "metadata": {
    "collapsed": false,
    "ExecuteTime": {
     "end_time": "2024-03-02T20:41:59.291240Z",
     "start_time": "2024-03-02T20:41:59.183200400Z"
    }
   },
   "id": "24137fe9da20bbc5",
   "execution_count": 19
  },
  {
   "cell_type": "code",
   "outputs": [],
   "source": [],
   "metadata": {
    "collapsed": false,
    "ExecuteTime": {
     "end_time": "2024-03-02T20:42:00.167868300Z",
     "start_time": "2024-03-02T20:41:59.731207200Z"
    }
   },
   "id": "c84f41c6b6b16fe9",
   "execution_count": 19
  },
  {
   "cell_type": "markdown",
   "source": [
    "### Creating tensors with `tf.Variable`"
   ],
   "metadata": {
    "collapsed": false
   },
   "id": "a94e9ee4d68c1277"
  },
  {
   "cell_type": "code",
   "outputs": [
    {
     "data": {
      "text/plain": "(<tf.Variable 'Variable:0' shape=(2,) dtype=int32, numpy=array([1, 2])>,\n <tf.Tensor: shape=(2,), dtype=int32, numpy=array([1, 2])>)"
     },
     "execution_count": 20,
     "metadata": {},
     "output_type": "execute_result"
    }
   ],
   "source": [
    "# Create the same tensor with tf.Variable() as above\n",
    "changeable_tensor = tf.Variable([1, 2])\n",
    "unchangeable_tensor = tf.constant([1, 2])\n",
    "changeable_tensor, unchangeable_tensor"
   ],
   "metadata": {
    "collapsed": false,
    "ExecuteTime": {
     "end_time": "2024-03-02T20:42:00.598900600Z",
     "start_time": "2024-03-02T20:42:00.178864700Z"
    }
   },
   "id": "4cc48f561a43a79b",
   "execution_count": 20
  },
  {
   "cell_type": "code",
   "outputs": [
    {
     "ename": "TypeError",
     "evalue": "'ResourceVariable' object does not support item assignment",
     "output_type": "error",
     "traceback": [
      "\u001B[1;31m---------------------------------------------------------------------------\u001B[0m",
      "\u001B[1;31mTypeError\u001B[0m                                 Traceback (most recent call last)",
      "Cell \u001B[1;32mIn[21], line 2\u001B[0m\n\u001B[0;32m      1\u001B[0m \u001B[38;5;66;03m# Let's try to change one element in changeable_tensor\u001B[39;00m\n\u001B[1;32m----> 2\u001B[0m \u001B[43mchangeable_tensor\u001B[49m\u001B[43m[\u001B[49m\u001B[38;5;241;43m0\u001B[39;49m\u001B[43m]\u001B[49m \u001B[38;5;241m=\u001B[39m \u001B[38;5;241m7\u001B[39m\n\u001B[0;32m      3\u001B[0m changeable_tensor\n",
      "\u001B[1;31mTypeError\u001B[0m: 'ResourceVariable' object does not support item assignment"
     ]
    }
   ],
   "source": [
    "# Let's try to change one element in changeable_tensor\n",
    "changeable_tensor[0] = 7\n",
    "changeable_tensor"
   ],
   "metadata": {
    "collapsed": false,
    "ExecuteTime": {
     "end_time": "2024-03-02T20:42:02.725854700Z",
     "start_time": "2024-03-02T20:42:00.572875700Z"
    }
   },
   "id": "69d4916d4ef770d6",
   "execution_count": 21
  },
  {
   "cell_type": "code",
   "outputs": [],
   "source": [
    "# How abou twe try .assign\n",
    "changeable_tensor[0].assign(7)\n",
    "changeable_tensor"
   ],
   "metadata": {
    "collapsed": false,
    "ExecuteTime": {
     "start_time": "2024-03-02T20:42:02.710851800Z"
    }
   },
   "id": "40d70bfe76407cb5",
   "execution_count": null
  },
  {
   "cell_type": "code",
   "outputs": [],
   "source": [
    "# Let's try to change in unchangeable\n",
    "unchangeable_tensor[0].asign(7)"
   ],
   "metadata": {
    "collapsed": false,
    "ExecuteTime": {
     "start_time": "2024-03-02T20:42:02.718852500Z"
    }
   },
   "id": "ff53883da198eac0",
   "execution_count": null
  },
  {
   "cell_type": "markdown",
   "source": [
    "*Note:* Rarely in practice will you need to decide where to use tf.constant or tf.Variable to create tensors, as TensorFlow does this for us. However, if in doubt, use tf.constant and change it later if needed."
   ],
   "metadata": {
    "collapsed": false
   },
   "id": "1072e7f21b24e595"
  },
  {
   "cell_type": "code",
   "outputs": [],
   "source": [],
   "metadata": {
    "collapsed": false,
    "ExecuteTime": {
     "end_time": "2024-03-02T20:42:03.806074Z",
     "start_time": "2024-03-02T20:42:03.485141100Z"
    }
   },
   "id": "744187b23a7da160",
   "execution_count": 21
  },
  {
   "cell_type": "markdown",
   "source": [
    "### Creating random tensors\n",
    "\n",
    "Random tensors are tensors of some arbitrary size which contain random numbers\n"
   ],
   "metadata": {
    "collapsed": false
   },
   "id": "308616693d8ef636"
  },
  {
   "cell_type": "code",
   "outputs": [],
   "source": [
    "# Create two random (but the same) tensors\n",
    "random_1 = tf.random.Generator.from_seed(42)  # Set seed for reproducibility\n",
    "random_1 = random_1.normal(shape=[3, 2])"
   ],
   "metadata": {
    "collapsed": false,
    "ExecuteTime": {
     "end_time": "2024-03-02T20:42:04.635853700Z",
     "start_time": "2024-03-02T20:42:04.432829Z"
    }
   },
   "id": "b9126799138d1e05",
   "execution_count": 22
  },
  {
   "cell_type": "code",
   "outputs": [],
   "source": [
    "random_2 = tf.random.Generator.from_seed(42)\n",
    "random_2 = random_2.normal(shape=[3, 2])"
   ],
   "metadata": {
    "collapsed": false,
    "ExecuteTime": {
     "end_time": "2024-03-02T20:42:05.184933600Z",
     "start_time": "2024-03-02T20:42:04.696821500Z"
    }
   },
   "id": "9e9307f9f356c64c",
   "execution_count": 23
  },
  {
   "cell_type": "code",
   "outputs": [
    {
     "data": {
      "text/plain": "(<tf.Tensor: shape=(3, 2), dtype=float32, numpy=\n array([[-0.7565803 , -0.06854702],\n        [ 0.07595026, -1.2573844 ],\n        [-0.23193763, -1.8107855 ]], dtype=float32)>,\n <tf.Tensor: shape=(3, 2), dtype=float32, numpy=\n array([[-0.7565803 , -0.06854702],\n        [ 0.07595026, -1.2573844 ],\n        [-0.23193763, -1.8107855 ]], dtype=float32)>,\n <tf.Tensor: shape=(3, 2), dtype=bool, numpy=\n array([[ True,  True],\n        [ True,  True],\n        [ True,  True]])>)"
     },
     "execution_count": 24,
     "metadata": {},
     "output_type": "execute_result"
    }
   ],
   "source": [
    "# Are they equal? Yes\n",
    "random_1, random_2, random_1 == random_2"
   ],
   "metadata": {
    "collapsed": false,
    "ExecuteTime": {
     "end_time": "2024-03-02T20:42:05.709495400Z",
     "start_time": "2024-03-02T20:42:05.432500100Z"
    }
   },
   "id": "61b40dca52bf7804",
   "execution_count": 24
  },
  {
   "cell_type": "code",
   "outputs": [],
   "source": [],
   "metadata": {
    "collapsed": false,
    "ExecuteTime": {
     "end_time": "2024-03-02T20:42:05.795494200Z",
     "start_time": "2024-03-02T20:42:05.643493800Z"
    }
   },
   "id": "2a822bdfdcf77af6",
   "execution_count": 24
  },
  {
   "cell_type": "markdown",
   "source": [
    "### Shuffle the order of elements in tensor"
   ],
   "metadata": {
    "collapsed": false
   },
   "id": "c4d26dfce60631f5"
  },
  {
   "cell_type": "code",
   "outputs": [
    {
     "data": {
      "text/plain": "<tf.Tensor: shape=(3, 2), dtype=int32, numpy=\narray([[1, 2],\n       [3, 4],\n       [5, 6]])>"
     },
     "execution_count": 25,
     "metadata": {},
     "output_type": "execute_result"
    }
   ],
   "source": [
    "# Shuffle a tensor\n",
    "not_shuffled = tf.constant([[1, 2], [3, 4], [5, 6]])\n",
    "not_shuffled"
   ],
   "metadata": {
    "collapsed": false,
    "ExecuteTime": {
     "end_time": "2024-03-02T20:42:06.205025500Z",
     "start_time": "2024-03-02T20:42:05.795494200Z"
    }
   },
   "id": "9a7570819658a36c",
   "execution_count": 25
  },
  {
   "cell_type": "code",
   "outputs": [
    {
     "data": {
      "text/plain": "<tf.Tensor: shape=(3, 2), dtype=int32, numpy=\narray([[3, 4],\n       [1, 2],\n       [5, 6]])>"
     },
     "execution_count": 26,
     "metadata": {},
     "output_type": "execute_result"
    }
   ],
   "source": [
    "tf.random.shuffle(not_shuffled)"
   ],
   "metadata": {
    "collapsed": false,
    "ExecuteTime": {
     "end_time": "2024-03-02T20:42:06.617057300Z",
     "start_time": "2024-03-02T20:42:06.174032Z"
    }
   },
   "id": "352d9b6d2abd9782",
   "execution_count": 26
  },
  {
   "cell_type": "code",
   "outputs": [
    {
     "data": {
      "text/plain": "<tf.Tensor: shape=(3, 2), dtype=int32, numpy=\narray([[3, 4],\n       [5, 6],\n       [1, 2]])>"
     },
     "execution_count": 27,
     "metadata": {},
     "output_type": "execute_result"
    }
   ],
   "source": [
    "tf.random.set_seed(42)\n",
    "tf.random.shuffle(not_shuffled)"
   ],
   "metadata": {
    "collapsed": false,
    "ExecuteTime": {
     "end_time": "2024-03-02T20:42:07.013785800Z",
     "start_time": "2024-03-02T20:42:06.587027600Z"
    }
   },
   "id": "2c27c7ed6e5b3bc7",
   "execution_count": 27
  },
  {
   "cell_type": "code",
   "outputs": [],
   "source": [],
   "metadata": {
    "collapsed": false,
    "ExecuteTime": {
     "end_time": "2024-03-02T20:42:07.315296600Z",
     "start_time": "2024-03-02T20:42:06.897057100Z"
    }
   },
   "id": "b5c5b98339294a87",
   "execution_count": 27
  },
  {
   "cell_type": "code",
   "outputs": [
    {
     "data": {
      "text/plain": "<tf.Tensor: shape=(3, 2), dtype=int32, numpy=\narray([[1, 2],\n       [3, 4],\n       [5, 6]])>"
     },
     "execution_count": 28,
     "metadata": {},
     "output_type": "execute_result"
    }
   ],
   "source": [
    "tf.random.set_seed(42)  # Global level seed\n",
    "tf.random.shuffle(not_shuffled, seed=42)  # Operation level seed"
   ],
   "metadata": {
    "collapsed": false,
    "ExecuteTime": {
     "end_time": "2024-03-02T20:42:07.638304600Z",
     "start_time": "2024-03-02T20:42:07.221812600Z"
    }
   },
   "id": "d5ea3630075d88c7",
   "execution_count": 28
  },
  {
   "cell_type": "markdown",
   "source": [
    "### Other ways to make tensors"
   ],
   "metadata": {
    "collapsed": false
   },
   "id": "5163ad00fbf07b7b"
  },
  {
   "cell_type": "code",
   "outputs": [
    {
     "data": {
      "text/plain": "<tf.Tensor: shape=(3, 2), dtype=float32, numpy=\narray([[1., 1.],\n       [1., 1.],\n       [1., 1.]], dtype=float32)>"
     },
     "execution_count": 29,
     "metadata": {},
     "output_type": "execute_result"
    }
   ],
   "source": [
    "tf.ones(shape=[3, 2])"
   ],
   "metadata": {
    "collapsed": false,
    "ExecuteTime": {
     "end_time": "2024-03-02T20:42:08.365675700Z",
     "start_time": "2024-03-02T20:42:07.941921200Z"
    }
   },
   "id": "43923a3a377e0461",
   "execution_count": 29
  },
  {
   "cell_type": "code",
   "outputs": [
    {
     "data": {
      "text/plain": "<tf.Tensor: shape=(3, 2), dtype=float32, numpy=\narray([[0., 0.],\n       [0., 0.],\n       [0., 0.]], dtype=float32)>"
     },
     "execution_count": 30,
     "metadata": {},
     "output_type": "execute_result"
    }
   ],
   "source": [
    "tf.zeros(shape=(3, 2))"
   ],
   "metadata": {
    "collapsed": false,
    "ExecuteTime": {
     "end_time": "2024-03-02T20:42:08.572673600Z",
     "start_time": "2024-03-02T20:42:08.269920100Z"
    }
   },
   "id": "454d1d19705cb636",
   "execution_count": 30
  },
  {
   "cell_type": "markdown",
   "source": [
    "### Turn NumPy arrays into tensors"
   ],
   "metadata": {
    "collapsed": false
   },
   "id": "f30bd3523f59e89f"
  },
  {
   "cell_type": "code",
   "outputs": [
    {
     "data": {
      "text/plain": "array([ 1,  2,  3,  4,  5,  6,  7,  8,  9, 10, 11, 12, 13, 14, 15, 16, 17,\n       18, 19, 20, 21, 22, 23, 24])"
     },
     "execution_count": 31,
     "metadata": {},
     "output_type": "execute_result"
    }
   ],
   "source": [
    "import numpy as np\n",
    "\n",
    "numpy_A = np.arange(1, 25, dtype=np.int32)\n",
    "numpy_A\n",
    "\n",
    "# X = tf.constant([[1,2],[3,4]]) # Capital for matrix and tensors\n",
    "# y = tf.constant([1,2]) # non-capital for vector"
   ],
   "metadata": {
    "collapsed": false,
    "ExecuteTime": {
     "end_time": "2024-03-02T20:42:09.645824600Z",
     "start_time": "2024-03-02T20:42:08.575703400Z"
    }
   },
   "id": "3084510748ddfdb9",
   "execution_count": 31
  },
  {
   "cell_type": "code",
   "outputs": [
    {
     "data": {
      "text/plain": "(<tf.Tensor: shape=(2, 3, 4), dtype=int32, numpy=\n array([[[ 1,  2,  3,  4],\n         [ 5,  6,  7,  8],\n         [ 9, 10, 11, 12]],\n \n        [[13, 14, 15, 16],\n         [17, 18, 19, 20],\n         [21, 22, 23, 24]]])>,\n <tf.Tensor: shape=(24,), dtype=int32, numpy=\n array([ 1,  2,  3,  4,  5,  6,  7,  8,  9, 10, 11, 12, 13, 14, 15, 16, 17,\n        18, 19, 20, 21, 22, 23, 24])>)"
     },
     "execution_count": 32,
     "metadata": {},
     "output_type": "execute_result"
    }
   ],
   "source": [
    "A = tf.constant(numpy_A, shape=(2, 3, 4))\n",
    "B = tf.constant(numpy_A)\n",
    "A, B"
   ],
   "metadata": {
    "collapsed": false,
    "ExecuteTime": {
     "end_time": "2024-03-02T20:42:10.145854100Z",
     "start_time": "2024-03-02T20:42:09.422823800Z"
    }
   },
   "id": "eb43c4e5b0464375",
   "execution_count": 32
  },
  {
   "cell_type": "code",
   "outputs": [
    {
     "data": {
      "text/plain": "24"
     },
     "execution_count": 33,
     "metadata": {},
     "output_type": "execute_result"
    }
   ],
   "source": [
    "2 * 3 * 4"
   ],
   "metadata": {
    "collapsed": false,
    "ExecuteTime": {
     "end_time": "2024-03-02T20:42:10.767492700Z",
     "start_time": "2024-03-02T20:42:10.097820800Z"
    }
   },
   "id": "812a4f3e68b029b3",
   "execution_count": 33
  },
  {
   "cell_type": "code",
   "outputs": [
    {
     "data": {
      "text/plain": "3"
     },
     "execution_count": 34,
     "metadata": {},
     "output_type": "execute_result"
    }
   ],
   "source": [
    "A.ndim"
   ],
   "metadata": {
    "collapsed": false,
    "ExecuteTime": {
     "end_time": "2024-03-02T20:42:11.212495400Z",
     "start_time": "2024-03-02T20:42:10.682498700Z"
    }
   },
   "id": "3701c50a1d537b66",
   "execution_count": 34
  },
  {
   "cell_type": "markdown",
   "source": [
    "### Getting information from tensors\n",
    "\n",
    "While dealing with tensors you probably want to be aware or the following attributes:\n",
    "* Shape\n",
    "* Rank\n",
    "* Axis or Dimensions\n",
    "* Size "
   ],
   "metadata": {
    "collapsed": false
   },
   "id": "f4ec6a5e196dd487"
  },
  {
   "cell_type": "code",
   "outputs": [],
   "source": [
    "# Create a tensor rank 4 (4 Dimensions)\n",
    "rank_4_tensor = tf.zeros(shape=(2, 3, 4, 5), dtype=tf.int32)"
   ],
   "metadata": {
    "collapsed": false,
    "ExecuteTime": {
     "end_time": "2024-03-02T20:42:11.600402600Z",
     "start_time": "2024-03-02T20:42:11.172492800Z"
    }
   },
   "id": "bfc0bc28bcf5d714",
   "execution_count": 35
  },
  {
   "cell_type": "code",
   "outputs": [
    {
     "data": {
      "text/plain": "<tf.Tensor: shape=(2, 3, 4, 5), dtype=int32, numpy=\narray([[[[0, 0, 0, 0, 0],\n         [0, 0, 0, 0, 0],\n         [0, 0, 0, 0, 0],\n         [0, 0, 0, 0, 0]],\n\n        [[0, 0, 0, 0, 0],\n         [0, 0, 0, 0, 0],\n         [0, 0, 0, 0, 0],\n         [0, 0, 0, 0, 0]],\n\n        [[0, 0, 0, 0, 0],\n         [0, 0, 0, 0, 0],\n         [0, 0, 0, 0, 0],\n         [0, 0, 0, 0, 0]]],\n\n\n       [[[0, 0, 0, 0, 0],\n         [0, 0, 0, 0, 0],\n         [0, 0, 0, 0, 0],\n         [0, 0, 0, 0, 0]],\n\n        [[0, 0, 0, 0, 0],\n         [0, 0, 0, 0, 0],\n         [0, 0, 0, 0, 0],\n         [0, 0, 0, 0, 0]],\n\n        [[0, 0, 0, 0, 0],\n         [0, 0, 0, 0, 0],\n         [0, 0, 0, 0, 0],\n         [0, 0, 0, 0, 0]]]])>"
     },
     "execution_count": 36,
     "metadata": {},
     "output_type": "execute_result"
    }
   ],
   "source": [
    "rank_4_tensor"
   ],
   "metadata": {
    "collapsed": false,
    "ExecuteTime": {
     "end_time": "2024-03-02T20:42:11.736923700Z",
     "start_time": "2024-03-02T20:42:11.448493500Z"
    }
   },
   "id": "9c2ee60edb2381a",
   "execution_count": 36
  },
  {
   "cell_type": "code",
   "outputs": [
    {
     "data": {
      "text/plain": "TensorShape([2, 3, 4, 5])"
     },
     "execution_count": 37,
     "metadata": {},
     "output_type": "execute_result"
    }
   ],
   "source": [
    "rank_4_tensor.shape"
   ],
   "metadata": {
    "collapsed": false,
    "ExecuteTime": {
     "end_time": "2024-03-02T20:42:11.972945200Z",
     "start_time": "2024-03-02T20:42:11.709398900Z"
    }
   },
   "id": "1a8ab61c2776f977",
   "execution_count": 37
  },
  {
   "cell_type": "code",
   "outputs": [
    {
     "data": {
      "text/plain": "4"
     },
     "execution_count": 38,
     "metadata": {},
     "output_type": "execute_result"
    }
   ],
   "source": [
    "rank_4_tensor.ndim"
   ],
   "metadata": {
    "collapsed": false,
    "ExecuteTime": {
     "end_time": "2024-03-02T20:42:12.134949200Z",
     "start_time": "2024-03-02T20:42:11.948935100Z"
    }
   },
   "id": "f9e93aaf405f1bda",
   "execution_count": 38
  },
  {
   "cell_type": "code",
   "outputs": [
    {
     "data": {
      "text/plain": "<tf.Tensor: shape=(1, 3, 4, 5), dtype=int32, numpy=\narray([[[[0, 0, 0, 0, 0],\n         [0, 0, 0, 0, 0],\n         [0, 0, 0, 0, 0],\n         [0, 0, 0, 0, 0]],\n\n        [[0, 0, 0, 0, 0],\n         [0, 0, 0, 0, 0],\n         [0, 0, 0, 0, 0],\n         [0, 0, 0, 0, 0]],\n\n        [[0, 0, 0, 0, 0],\n         [0, 0, 0, 0, 0],\n         [0, 0, 0, 0, 0],\n         [0, 0, 0, 0, 0]]]])>"
     },
     "execution_count": 39,
     "metadata": {},
     "output_type": "execute_result"
    }
   ],
   "source": [
    "rank_4_tensor[:1]"
   ],
   "metadata": {
    "collapsed": false,
    "ExecuteTime": {
     "end_time": "2024-03-02T20:42:12.428945200Z",
     "start_time": "2024-03-02T20:42:12.108950800Z"
    }
   },
   "id": "17a08952b8a8a4df",
   "execution_count": 39
  },
  {
   "cell_type": "code",
   "outputs": [
    {
     "data": {
      "text/plain": "<tf.Tensor: shape=(3, 4, 5), dtype=int32, numpy=\narray([[[0, 0, 0, 0, 0],\n        [0, 0, 0, 0, 0],\n        [0, 0, 0, 0, 0],\n        [0, 0, 0, 0, 0]],\n\n       [[0, 0, 0, 0, 0],\n        [0, 0, 0, 0, 0],\n        [0, 0, 0, 0, 0],\n        [0, 0, 0, 0, 0]],\n\n       [[0, 0, 0, 0, 0],\n        [0, 0, 0, 0, 0],\n        [0, 0, 0, 0, 0],\n        [0, 0, 0, 0, 0]]])>"
     },
     "execution_count": 40,
     "metadata": {},
     "output_type": "execute_result"
    }
   ],
   "source": [
    "rank_4_tensor[0]"
   ],
   "metadata": {
    "collapsed": false,
    "ExecuteTime": {
     "end_time": "2024-03-02T20:42:12.819729100Z",
     "start_time": "2024-03-02T20:42:12.373991500Z"
    }
   },
   "id": "3b38ce81fdcf80b6",
   "execution_count": 40
  },
  {
   "cell_type": "code",
   "outputs": [
    {
     "data": {
      "text/plain": "<tf.Tensor: shape=(), dtype=int32, numpy=120>"
     },
     "execution_count": 41,
     "metadata": {},
     "output_type": "execute_result"
    }
   ],
   "source": [
    "tf.size(rank_4_tensor)"
   ],
   "metadata": {
    "collapsed": false,
    "ExecuteTime": {
     "end_time": "2024-03-02T20:42:13.199728100Z",
     "start_time": "2024-03-02T20:42:12.793719200Z"
    }
   },
   "id": "2536fb506c249a0",
   "execution_count": 41
  },
  {
   "cell_type": "code",
   "outputs": [
    {
     "data": {
      "text/plain": "120"
     },
     "execution_count": 42,
     "metadata": {},
     "output_type": "execute_result"
    }
   ],
   "source": [
    "2 * 3 * 4 * 5"
   ],
   "metadata": {
    "collapsed": false,
    "ExecuteTime": {
     "end_time": "2024-03-02T20:42:13.385505800Z",
     "start_time": "2024-03-02T20:42:13.084735800Z"
    }
   },
   "id": "af20a7793b73b79c",
   "execution_count": 42
  },
  {
   "cell_type": "code",
   "outputs": [
    {
     "name": "stdout",
     "output_type": "stream",
     "text": [
      "Datatype of every element:  <dtype: 'int32'>\n",
      "Number of dimensions (rank):  4\n",
      "Shape of the tensor:  (2, 3, 4, 5)\n",
      "Elements along with 0 axis:  2\n",
      "Elements along last axis:  5\n",
      "Total number of Elements:  tf.Tensor(120, shape=(), dtype=int32)\n",
      "Total number of Elements (numpy):  120\n"
     ]
    }
   ],
   "source": [
    "# Get various attributes of tensor\n",
    "print(\"Datatype of every element: \", rank_4_tensor.dtype)\n",
    "print(\"Number of dimensions (rank): \", rank_4_tensor.ndim)\n",
    "print(\"Shape of the tensor: \", rank_4_tensor.shape)\n",
    "print(\"Elements along with 0 axis: \", rank_4_tensor.shape[0])\n",
    "print(\"Elements along last axis: \", rank_4_tensor.shape[-1])\n",
    "print(\"Total number of Elements: \", tf.size(rank_4_tensor))\n",
    "print(\"Total number of Elements (numpy): \", tf.size(rank_4_tensor).numpy())"
   ],
   "metadata": {
    "collapsed": false,
    "ExecuteTime": {
     "end_time": "2024-03-02T20:42:13.744543600Z",
     "start_time": "2024-03-02T20:42:13.382729200Z"
    }
   },
   "id": "7393d0503f0fc3d3",
   "execution_count": 43
  },
  {
   "cell_type": "code",
   "outputs": [
    {
     "data": {
      "text/plain": "120"
     },
     "execution_count": 44,
     "metadata": {},
     "output_type": "execute_result"
    }
   ],
   "source": [
    "tf.size(rank_4_tensor).numpy()"
   ],
   "metadata": {
    "collapsed": false,
    "ExecuteTime": {
     "end_time": "2024-03-02T20:42:13.826536100Z",
     "start_time": "2024-03-02T20:42:13.652503200Z"
    }
   },
   "id": "3ba4dd1a4800eff0",
   "execution_count": 44
  },
  {
   "cell_type": "code",
   "outputs": [
    {
     "data": {
      "text/plain": "<tf.Tensor: shape=(), dtype=int32, numpy=120>"
     },
     "execution_count": 45,
     "metadata": {},
     "output_type": "execute_result"
    }
   ],
   "source": [
    "tf.size(rank_4_tensor)"
   ],
   "metadata": {
    "collapsed": false,
    "ExecuteTime": {
     "end_time": "2024-03-02T20:42:14.020507600Z",
     "start_time": "2024-03-02T20:42:13.800505400Z"
    }
   },
   "id": "d602f4c93279bc5a",
   "execution_count": 45
  },
  {
   "cell_type": "code",
   "outputs": [],
   "source": [],
   "metadata": {
    "collapsed": false,
    "ExecuteTime": {
     "end_time": "2024-03-02T20:42:14.256498300Z",
     "start_time": "2024-03-02T20:42:14.018503500Z"
    }
   },
   "id": "7d877458d56d0ea9",
   "execution_count": 45
  },
  {
   "cell_type": "markdown",
   "source": [
    "### Indexing tensors"
   ],
   "metadata": {
    "collapsed": false
   },
   "id": "22f2b36b97b13ba1"
  },
  {
   "cell_type": "code",
   "outputs": [
    {
     "data": {
      "text/plain": "[1, 2]"
     },
     "execution_count": 46,
     "metadata": {},
     "output_type": "execute_result"
    }
   ],
   "source": [
    "some_list = [1, 2, 3, 4]\n",
    "some_list[:2]"
   ],
   "metadata": {
    "collapsed": false,
    "ExecuteTime": {
     "end_time": "2024-03-02T20:42:14.821498100Z",
     "start_time": "2024-03-02T20:42:14.425494800Z"
    }
   },
   "id": "1ea934cb48af8a67",
   "execution_count": 46
  },
  {
   "cell_type": "code",
   "outputs": [
    {
     "data": {
      "text/plain": "<tf.Tensor: shape=(2, 2, 2, 2), dtype=int32, numpy=\narray([[[[0, 0],\n         [0, 0]],\n\n        [[0, 0],\n         [0, 0]]],\n\n\n       [[[0, 0],\n         [0, 0]],\n\n        [[0, 0],\n         [0, 0]]]])>"
     },
     "execution_count": 47,
     "metadata": {},
     "output_type": "execute_result"
    }
   ],
   "source": [
    "# Get the first 2 elements of each dimensions\n",
    "rank_4_tensor[:2, :2, :2, :2]"
   ],
   "metadata": {
    "collapsed": false,
    "ExecuteTime": {
     "end_time": "2024-03-02T20:42:15.399495900Z",
     "start_time": "2024-03-02T20:42:14.640496700Z"
    }
   },
   "id": "eb529a4d872e09a4",
   "execution_count": 47
  },
  {
   "cell_type": "code",
   "outputs": [
    {
     "data": {
      "text/plain": "[1]"
     },
     "execution_count": 48,
     "metadata": {},
     "output_type": "execute_result"
    }
   ],
   "source": [
    "# Get the first element from each dimension\n",
    "some_list[:1]"
   ],
   "metadata": {
    "collapsed": false,
    "ExecuteTime": {
     "end_time": "2024-03-02T20:42:16.079568500Z",
     "start_time": "2024-03-02T20:42:14.942495700Z"
    }
   },
   "id": "92ce7d405ff41381",
   "execution_count": 48
  },
  {
   "cell_type": "code",
   "outputs": [
    {
     "data": {
      "text/plain": "<tf.Tensor: shape=(1, 1, 1, 5), dtype=int32, numpy=array([[[[0, 0, 0, 0, 0]]]])>"
     },
     "execution_count": 49,
     "metadata": {},
     "output_type": "execute_result"
    }
   ],
   "source": [
    "rank_4_tensor[:1, :1, :1, :]"
   ],
   "metadata": {
    "collapsed": false,
    "ExecuteTime": {
     "end_time": "2024-03-02T20:42:16.849286Z",
     "start_time": "2024-03-02T20:42:16.034498200Z"
    }
   },
   "id": "32e4b495d893962a",
   "execution_count": 49
  },
  {
   "cell_type": "code",
   "outputs": [
    {
     "data": {
      "text/plain": "TensorShape([2, 3, 4, 5])"
     },
     "execution_count": 50,
     "metadata": {},
     "output_type": "execute_result"
    }
   ],
   "source": [
    "rank_4_tensor.shape"
   ],
   "metadata": {
    "collapsed": false,
    "ExecuteTime": {
     "end_time": "2024-03-02T20:42:17.697276500Z",
     "start_time": "2024-03-02T20:42:16.817566200Z"
    }
   },
   "id": "c9cad99297c3611f",
   "execution_count": 50
  },
  {
   "cell_type": "markdown",
   "source": [
    "### Tensor expanding"
   ],
   "metadata": {
    "collapsed": false
   },
   "id": "370d6845c08f9d91"
  },
  {
   "cell_type": "code",
   "outputs": [
    {
     "data": {
      "text/plain": "(TensorShape([2, 2]), 2)"
     },
     "execution_count": 51,
     "metadata": {},
     "output_type": "execute_result"
    }
   ],
   "source": [
    "# Create a rank 2 tensor (2 dim)\n",
    "rank_2_tensor = tf.constant([[10, 7], [3, 4]])\n",
    "rank_2_tensor.shape, rank_2_tensor.ndim"
   ],
   "metadata": {
    "collapsed": false,
    "ExecuteTime": {
     "end_time": "2024-03-02T20:42:18.672341100Z",
     "start_time": "2024-03-02T20:42:17.694261200Z"
    }
   },
   "id": "e04ccf1f984bd585",
   "execution_count": 51
  },
  {
   "cell_type": "code",
   "outputs": [
    {
     "data": {
      "text/plain": "([1, 2, 3, 4], 4)"
     },
     "execution_count": 52,
     "metadata": {},
     "output_type": "execute_result"
    }
   ],
   "source": [
    "some_list, some_list[-1]"
   ],
   "metadata": {
    "collapsed": false,
    "ExecuteTime": {
     "end_time": "2024-03-02T20:42:19.230688Z",
     "start_time": "2024-03-02T20:42:18.425321Z"
    }
   },
   "id": "9c72c129eae927b1",
   "execution_count": 52
  },
  {
   "cell_type": "code",
   "outputs": [
    {
     "data": {
      "text/plain": "<tf.Tensor: shape=(2,), dtype=int32, numpy=array([7, 4])>"
     },
     "execution_count": 53,
     "metadata": {},
     "output_type": "execute_result"
    }
   ],
   "source": [
    "rank_2_tensor[:, -1]"
   ],
   "metadata": {
    "collapsed": false,
    "ExecuteTime": {
     "end_time": "2024-03-02T20:42:19.705166200Z",
     "start_time": "2024-03-02T20:42:19.166677500Z"
    }
   },
   "id": "54016b0fdeab5025",
   "execution_count": 53
  },
  {
   "cell_type": "code",
   "outputs": [
    {
     "data": {
      "text/plain": "<tf.Tensor: shape=(2, 2), dtype=int32, numpy=\narray([[10,  7],\n       [ 3,  4]])>"
     },
     "execution_count": 54,
     "metadata": {},
     "output_type": "execute_result"
    }
   ],
   "source": [
    "rank_2_tensor"
   ],
   "metadata": {
    "collapsed": false,
    "ExecuteTime": {
     "end_time": "2024-03-02T20:42:20.121829400Z",
     "start_time": "2024-03-02T20:42:19.639171300Z"
    }
   },
   "id": "4adaf63f1b7d2363",
   "execution_count": 54
  },
  {
   "cell_type": "code",
   "outputs": [
    {
     "data": {
      "text/plain": "<tf.Tensor: shape=(2, 2, 1), dtype=int32, numpy=\narray([[[10],\n        [ 7]],\n\n       [[ 3],\n        [ 4]]])>"
     },
     "execution_count": 55,
     "metadata": {},
     "output_type": "execute_result"
    }
   ],
   "source": [
    "# Add in extra dimension to our rank 2 tensor\n",
    "rank_3_tensor = rank_2_tensor[..., tf.newaxis]\n",
    "rank_3_tensor"
   ],
   "metadata": {
    "collapsed": false,
    "ExecuteTime": {
     "end_time": "2024-03-02T20:42:20.571433300Z",
     "start_time": "2024-03-02T20:42:20.094806800Z"
    }
   },
   "id": "15772e538c6939a1",
   "execution_count": 55
  },
  {
   "cell_type": "code",
   "outputs": [
    {
     "data": {
      "text/plain": "<tf.Tensor: shape=(2, 1, 2), dtype=int32, numpy=\narray([[[10,  7]],\n\n       [[ 3,  4]]])>"
     },
     "execution_count": 56,
     "metadata": {},
     "output_type": "execute_result"
    }
   ],
   "source": [
    "# Alternative to expand dimension\n",
    "tf.expand_dims(rank_2_tensor, axis=1)"
   ],
   "metadata": {
    "collapsed": false,
    "ExecuteTime": {
     "end_time": "2024-03-02T20:42:21.043459600Z",
     "start_time": "2024-03-02T20:42:20.547409Z"
    }
   },
   "id": "ae68b6ff1e6a81f4",
   "execution_count": 56
  },
  {
   "cell_type": "code",
   "outputs": [
    {
     "data": {
      "text/plain": "<tf.Tensor: shape=(2, 2, 1), dtype=int32, numpy=\narray([[[10],\n        [ 7]],\n\n       [[ 3],\n        [ 4]]])>"
     },
     "execution_count": 57,
     "metadata": {},
     "output_type": "execute_result"
    }
   ],
   "source": [
    "tf.expand_dims(rank_2_tensor, axis=-1)"
   ],
   "metadata": {
    "collapsed": false,
    "ExecuteTime": {
     "end_time": "2024-03-02T20:42:21.476213800Z",
     "start_time": "2024-03-02T20:42:21.015460600Z"
    }
   },
   "id": "14744eeba1a572e2",
   "execution_count": 57
  },
  {
   "cell_type": "code",
   "outputs": [
    {
     "data": {
      "text/plain": "<tf.Tensor: shape=(1, 2, 2), dtype=int32, numpy=\narray([[[10,  7],\n        [ 3,  4]]])>"
     },
     "execution_count": 58,
     "metadata": {},
     "output_type": "execute_result"
    }
   ],
   "source": [
    "tf.expand_dims(rank_2_tensor, axis=0)"
   ],
   "metadata": {
    "collapsed": false,
    "ExecuteTime": {
     "end_time": "2024-03-02T20:42:21.662215600Z",
     "start_time": "2024-03-02T20:42:21.451205200Z"
    }
   },
   "id": "e4ce65b567f3a9a",
   "execution_count": 58
  },
  {
   "cell_type": "code",
   "outputs": [
    {
     "data": {
      "text/plain": "<tf.Tensor: shape=(2, 2), dtype=int32, numpy=\narray([[10,  7],\n       [ 3,  4]])>"
     },
     "execution_count": 59,
     "metadata": {},
     "output_type": "execute_result"
    }
   ],
   "source": [
    "rank_2_tensor"
   ],
   "metadata": {
    "collapsed": false,
    "ExecuteTime": {
     "end_time": "2024-03-02T20:42:22.041256800Z",
     "start_time": "2024-03-02T20:42:21.659216700Z"
    }
   },
   "id": "dc8700a361bad3c6",
   "execution_count": 59
  },
  {
   "cell_type": "markdown",
   "source": [
    "### Manipulating tensors (tensor operations)\n",
    "\n",
    "* Basic Operations\n"
   ],
   "metadata": {
    "collapsed": false
   },
   "id": "22cb4fbe35f86611"
  },
  {
   "cell_type": "code",
   "outputs": [
    {
     "data": {
      "text/plain": "<tf.Tensor: shape=(2, 2), dtype=int32, numpy=\narray([[20, 17],\n       [13, 14]])>"
     },
     "execution_count": 60,
     "metadata": {},
     "output_type": "execute_result"
    }
   ],
   "source": [
    "tensor = tf.constant([[10, 7], [3, 4]])\n",
    "tensor + 10"
   ],
   "metadata": {
    "collapsed": false,
    "ExecuteTime": {
     "end_time": "2024-03-02T20:42:22.283355700Z",
     "start_time": "2024-03-02T20:42:21.972250400Z"
    }
   },
   "id": "f5911d11ae1508f9",
   "execution_count": 60
  },
  {
   "cell_type": "code",
   "outputs": [
    {
     "data": {
      "text/plain": "<tf.Tensor: shape=(2, 2), dtype=int32, numpy=\narray([[10,  7],\n       [ 3,  4]])>"
     },
     "execution_count": 61,
     "metadata": {},
     "output_type": "execute_result"
    }
   ],
   "source": [
    "# Original tensor is unchanged\n",
    "tensor"
   ],
   "metadata": {
    "collapsed": false,
    "ExecuteTime": {
     "end_time": "2024-03-02T20:42:22.494086400Z",
     "start_time": "2024-03-02T20:42:22.186256300Z"
    }
   },
   "id": "89ac5eee53321d64",
   "execution_count": 61
  },
  {
   "cell_type": "code",
   "outputs": [
    {
     "data": {
      "text/plain": "<tf.Tensor: shape=(2, 2), dtype=int32, numpy=\narray([[100,  70],\n       [ 30,  40]])>"
     },
     "execution_count": 62,
     "metadata": {},
     "output_type": "execute_result"
    }
   ],
   "source": [
    "tensor * 10"
   ],
   "metadata": {
    "collapsed": false,
    "ExecuteTime": {
     "end_time": "2024-03-02T20:42:22.742599200Z",
     "start_time": "2024-03-02T20:42:22.457322200Z"
    }
   },
   "id": "2f5af328913cfd1e",
   "execution_count": 62
  },
  {
   "cell_type": "code",
   "outputs": [
    {
     "data": {
      "text/plain": "<tf.Tensor: shape=(2, 2), dtype=float64, numpy=\narray([[1. , 0.7],\n       [0.3, 0.4]])>"
     },
     "execution_count": 63,
     "metadata": {},
     "output_type": "execute_result"
    }
   ],
   "source": [
    "tensor / 10"
   ],
   "metadata": {
    "collapsed": false,
    "ExecuteTime": {
     "end_time": "2024-03-02T20:42:23.021843900Z",
     "start_time": "2024-03-02T20:42:22.741601300Z"
    }
   },
   "id": "ae8755dd01614733",
   "execution_count": 63
  },
  {
   "cell_type": "code",
   "outputs": [
    {
     "data": {
      "text/plain": "<tf.Tensor: shape=(2, 2), dtype=int32, numpy=\narray([[ 0, -3],\n       [-7, -6]])>"
     },
     "execution_count": 64,
     "metadata": {},
     "output_type": "execute_result"
    }
   ],
   "source": [
    "tensor - 10"
   ],
   "metadata": {
    "collapsed": false,
    "ExecuteTime": {
     "end_time": "2024-03-02T20:42:23.184607Z",
     "start_time": "2024-03-02T20:42:22.892811300Z"
    }
   },
   "id": "780483011267351a",
   "execution_count": 64
  },
  {
   "cell_type": "code",
   "outputs": [
    {
     "data": {
      "text/plain": "<tf.Tensor: shape=(2, 2), dtype=int32, numpy=\narray([[100,  49],\n       [  9,  16]])>"
     },
     "execution_count": 65,
     "metadata": {},
     "output_type": "execute_result"
    }
   ],
   "source": [
    "tf.multiply(tensor, tensor)"
   ],
   "metadata": {
    "collapsed": false,
    "ExecuteTime": {
     "end_time": "2024-03-02T20:42:23.448592400Z",
     "start_time": "2024-03-02T20:42:23.162581300Z"
    }
   },
   "id": "6737bb3a4555a736",
   "execution_count": 65
  },
  {
   "cell_type": "code",
   "outputs": [
    {
     "data": {
      "text/plain": "<tf.Tensor: shape=(2, 2), dtype=int32, numpy=\narray([[ 0, -3],\n       [-7, -6]])>"
     },
     "execution_count": 66,
     "metadata": {},
     "output_type": "execute_result"
    }
   ],
   "source": [
    "tf.subtract(tensor, 10)"
   ],
   "metadata": {
    "collapsed": false,
    "ExecuteTime": {
     "end_time": "2024-03-02T20:42:23.645630400Z",
     "start_time": "2024-03-02T20:42:23.384590300Z"
    }
   },
   "id": "3ca315c2804c6744",
   "execution_count": 66
  },
  {
   "cell_type": "code",
   "outputs": [
    {
     "data": {
      "text/plain": "<tf.Tensor: shape=(2, 2), dtype=int32, numpy=\narray([[20, 14],\n       [ 6,  8]])>"
     },
     "execution_count": 67,
     "metadata": {},
     "output_type": "execute_result"
    }
   ],
   "source": [
    "tf.add(tensor, tensor)"
   ],
   "metadata": {
    "collapsed": false,
    "ExecuteTime": {
     "end_time": "2024-03-02T20:42:23.824791700Z",
     "start_time": "2024-03-02T20:42:23.521591300Z"
    }
   },
   "id": "24783788811de310",
   "execution_count": 67
  },
  {
   "cell_type": "code",
   "outputs": [
    {
     "data": {
      "text/plain": "<tf.Tensor: shape=(2, 2), dtype=float64, numpy=\narray([[1. , 0.7],\n       [0.3, 0.4]])>"
     },
     "execution_count": 68,
     "metadata": {},
     "output_type": "execute_result"
    }
   ],
   "source": [
    "tf.divide(tensor, 10)"
   ],
   "metadata": {
    "collapsed": false,
    "ExecuteTime": {
     "end_time": "2024-03-02T20:42:24.170618900Z",
     "start_time": "2024-03-02T20:42:23.822596Z"
    }
   },
   "id": "d7f94532b0270ea2",
   "execution_count": 68
  },
  {
   "cell_type": "code",
   "outputs": [
    {
     "data": {
      "text/plain": "<module 'tensorflow._api.v2.math' from 'C:\\\\Users\\\\deolg\\\\Projects\\\\tensorflow-professional-certification\\\\.venv\\\\lib\\\\site-packages\\\\tensorflow\\\\_api\\\\v2\\\\math\\\\__init__.py'>"
     },
     "execution_count": 69,
     "metadata": {},
     "output_type": "execute_result"
    }
   ],
   "source": [
    "tf.math"
   ],
   "metadata": {
    "collapsed": false,
    "ExecuteTime": {
     "end_time": "2024-03-02T20:42:24.418619500Z",
     "start_time": "2024-03-02T20:42:24.127620Z"
    }
   },
   "id": "f43242fbd120e956",
   "execution_count": 69
  },
  {
   "cell_type": "code",
   "outputs": [
    {
     "data": {
      "text/plain": "<tf.Tensor: shape=(2, 2), dtype=int32, numpy=\narray([[100,  49],\n       [  9,  16]])>"
     },
     "execution_count": 70,
     "metadata": {},
     "output_type": "execute_result"
    }
   ],
   "source": [
    "tf.math.multiply(tensor, tensor)"
   ],
   "metadata": {
    "collapsed": false,
    "ExecuteTime": {
     "end_time": "2024-03-02T20:42:24.574426300Z",
     "start_time": "2024-03-02T20:42:24.274625700Z"
    }
   },
   "id": "bd2493e23d298248",
   "execution_count": 70
  },
  {
   "cell_type": "code",
   "outputs": [
    {
     "data": {
      "text/plain": "<tf.Tensor: shape=(2, 2), dtype=int32, numpy=\narray([[10,  7],\n       [ 3,  4]])>"
     },
     "execution_count": 71,
     "metadata": {},
     "output_type": "execute_result"
    }
   ],
   "source": [
    "tensor"
   ],
   "metadata": {
    "collapsed": false,
    "ExecuteTime": {
     "end_time": "2024-03-02T20:42:24.802436100Z",
     "start_time": "2024-03-02T20:42:24.548651400Z"
    }
   },
   "id": "222cdd4bbe9213eb",
   "execution_count": 71
  },
  {
   "cell_type": "code",
   "outputs": [],
   "source": [],
   "metadata": {
    "collapsed": false,
    "ExecuteTime": {
     "end_time": "2024-03-02T20:42:25.424376800Z",
     "start_time": "2024-03-02T20:42:25.073394300Z"
    }
   },
   "id": "e8aaed3e160f505b",
   "execution_count": 71
  },
  {
   "cell_type": "markdown",
   "source": [
    "### Matrix Multiplication"
   ],
   "metadata": {
    "collapsed": false
   },
   "id": "f3d61f75df0c76da"
  },
  {
   "cell_type": "markdown",
   "source": [
    "##### In machine learning, matrix multiplicatio is one of the most common tensor operations "
   ],
   "metadata": {
    "collapsed": false
   },
   "id": "df06983ca0c99b1c"
  },
  {
   "cell_type": "code",
   "outputs": [],
   "source": [
    "# Matrix multiplication in tensorflow"
   ],
   "metadata": {
    "collapsed": false,
    "ExecuteTime": {
     "end_time": "2024-03-02T20:42:26.069371700Z",
     "start_time": "2024-03-02T20:42:25.849374100Z"
    }
   },
   "id": "69fb28103df116c",
   "execution_count": 72
  },
  {
   "cell_type": "code",
   "outputs": [
    {
     "data": {
      "text/plain": "<tf.Tensor: shape=(2, 2), dtype=int32, numpy=\narray([[121,  98],\n       [ 42,  37]])>"
     },
     "execution_count": 73,
     "metadata": {},
     "output_type": "execute_result"
    }
   ],
   "source": [
    "tf.linalg.matmul(tensor, tensor)"
   ],
   "metadata": {
    "collapsed": false,
    "ExecuteTime": {
     "end_time": "2024-03-02T20:42:26.578373400Z",
     "start_time": "2024-03-02T20:42:26.273377600Z"
    }
   },
   "id": "ce416eb7ef5a4eba",
   "execution_count": 73
  },
  {
   "cell_type": "code",
   "outputs": [
    {
     "data": {
      "text/plain": "<tf.Tensor: shape=(2, 2), dtype=int32, numpy=\narray([[10,  7],\n       [ 3,  4]])>"
     },
     "execution_count": 74,
     "metadata": {},
     "output_type": "execute_result"
    }
   ],
   "source": [
    "tensor"
   ],
   "metadata": {
    "collapsed": false,
    "ExecuteTime": {
     "end_time": "2024-03-02T20:42:26.815889300Z",
     "start_time": "2024-03-02T20:42:26.394369Z"
    }
   },
   "id": "297d882485bf4e17",
   "execution_count": 74
  },
  {
   "cell_type": "code",
   "outputs": [
    {
     "data": {
      "text/plain": "<tf.Tensor: shape=(2, 2), dtype=int32, numpy=\narray([[121,  98],\n       [ 42,  37]])>"
     },
     "execution_count": 75,
     "metadata": {},
     "output_type": "execute_result"
    }
   ],
   "source": [
    "# Matrix multiplication in Python\n",
    "# tensor * tensor # Wrong multiplication (because element to element)\n",
    "tensor @ tensor  # Correct (because Matrix to Matrix)"
   ],
   "metadata": {
    "collapsed": false,
    "ExecuteTime": {
     "end_time": "2024-03-02T20:42:28.113012600Z",
     "start_time": "2024-03-02T20:42:26.990910200Z"
    }
   },
   "id": "2bcd6bb6c2ffee79",
   "execution_count": 75
  },
  {
   "cell_type": "code",
   "outputs": [
    {
     "data": {
      "text/plain": "(<tf.Tensor: shape=(3, 2), dtype=int32, numpy=\n array([[1, 2],\n        [3, 4],\n        [5, 6]])>,\n <tf.Tensor: shape=(3, 2), dtype=int32, numpy=\n array([[ 7,  8],\n        [ 9, 10],\n        [11, 12]])>)"
     },
     "execution_count": 76,
     "metadata": {},
     "output_type": "execute_result"
    }
   ],
   "source": [
    "# Create a tensor (3, 2) tensor\n",
    "X = tf.constant([[1, 2],\n",
    "                 [3, 4],\n",
    "                 [5, 6]])\n",
    "\n",
    "y = tf.constant([[7, 8],\n",
    "                 [9, 10],\n",
    "                 [11, 12]])\n",
    "\n",
    "X, y"
   ],
   "metadata": {
    "collapsed": false,
    "ExecuteTime": {
     "end_time": "2024-03-02T20:42:28.312036800Z",
     "start_time": "2024-03-02T20:42:27.956025300Z"
    }
   },
   "id": "edc4262acfe3aff5",
   "execution_count": 76
  },
  {
   "cell_type": "code",
   "outputs": [
    {
     "ename": "InvalidArgumentError",
     "evalue": "{{function_node __wrapped__MatMul_device_/job:localhost/replica:0/task:0/device:CPU:0}} Matrix size-incompatible: In[0]: [3,2], In[1]: [3,2] [Op:MatMul] name: ",
     "output_type": "error",
     "traceback": [
      "\u001B[1;31m---------------------------------------------------------------------------\u001B[0m",
      "\u001B[1;31mInvalidArgumentError\u001B[0m                      Traceback (most recent call last)",
      "Cell \u001B[1;32mIn[77], line 2\u001B[0m\n\u001B[0;32m      1\u001B[0m \u001B[38;5;66;03m# Try to matrix multiply tensors of same shape\u001B[39;00m\n\u001B[1;32m----> 2\u001B[0m \u001B[43mX\u001B[49m\u001B[43m \u001B[49m\u001B[38;5;241;43m@\u001B[39;49m\u001B[43m \u001B[49m\u001B[43my\u001B[49m\n",
      "File \u001B[1;32m~\\Projects\\tensorflow-professional-certification\\.venv\\lib\\site-packages\\tensorflow\\python\\util\\traceback_utils.py:153\u001B[0m, in \u001B[0;36mfilter_traceback.<locals>.error_handler\u001B[1;34m(*args, **kwargs)\u001B[0m\n\u001B[0;32m    151\u001B[0m \u001B[38;5;28;01mexcept\u001B[39;00m \u001B[38;5;167;01mException\u001B[39;00m \u001B[38;5;28;01mas\u001B[39;00m e:\n\u001B[0;32m    152\u001B[0m   filtered_tb \u001B[38;5;241m=\u001B[39m _process_traceback_frames(e\u001B[38;5;241m.\u001B[39m__traceback__)\n\u001B[1;32m--> 153\u001B[0m   \u001B[38;5;28;01mraise\u001B[39;00m e\u001B[38;5;241m.\u001B[39mwith_traceback(filtered_tb) \u001B[38;5;28;01mfrom\u001B[39;00m \u001B[38;5;28;01mNone\u001B[39;00m\n\u001B[0;32m    154\u001B[0m \u001B[38;5;28;01mfinally\u001B[39;00m:\n\u001B[0;32m    155\u001B[0m   \u001B[38;5;28;01mdel\u001B[39;00m filtered_tb\n",
      "File \u001B[1;32m~\\Projects\\tensorflow-professional-certification\\.venv\\lib\\site-packages\\tensorflow\\python\\framework\\ops.py:6656\u001B[0m, in \u001B[0;36mraise_from_not_ok_status\u001B[1;34m(e, name)\u001B[0m\n\u001B[0;32m   6654\u001B[0m \u001B[38;5;28;01mdef\u001B[39;00m \u001B[38;5;21mraise_from_not_ok_status\u001B[39m(e, name):\n\u001B[0;32m   6655\u001B[0m   e\u001B[38;5;241m.\u001B[39mmessage \u001B[38;5;241m+\u001B[39m\u001B[38;5;241m=\u001B[39m (\u001B[38;5;124m\"\u001B[39m\u001B[38;5;124m name: \u001B[39m\u001B[38;5;124m\"\u001B[39m \u001B[38;5;241m+\u001B[39m \u001B[38;5;28mstr\u001B[39m(name \u001B[38;5;28;01mif\u001B[39;00m name \u001B[38;5;129;01mis\u001B[39;00m \u001B[38;5;129;01mnot\u001B[39;00m \u001B[38;5;28;01mNone\u001B[39;00m \u001B[38;5;28;01melse\u001B[39;00m \u001B[38;5;124m\"\u001B[39m\u001B[38;5;124m\"\u001B[39m))\n\u001B[1;32m-> 6656\u001B[0m   \u001B[38;5;28;01mraise\u001B[39;00m core\u001B[38;5;241m.\u001B[39m_status_to_exception(e) \u001B[38;5;28;01mfrom\u001B[39;00m \u001B[38;5;28;01mNone\u001B[39;00m\n",
      "\u001B[1;31mInvalidArgumentError\u001B[0m: {{function_node __wrapped__MatMul_device_/job:localhost/replica:0/task:0/device:CPU:0}} Matrix size-incompatible: In[0]: [3,2], In[1]: [3,2] [Op:MatMul] name: "
     ]
    }
   ],
   "source": [
    "# Try to matrix multiply tensors of same shape\n",
    "X @ y"
   ],
   "metadata": {
    "collapsed": false,
    "ExecuteTime": {
     "end_time": "2024-03-02T20:42:29.093806600Z",
     "start_time": "2024-03-02T20:42:28.279016900Z"
    }
   },
   "id": "a9f394761f067798",
   "execution_count": 77
  },
  {
   "cell_type": "markdown",
   "source": [
    "## Resource Info or Matrix Multiplication"
   ],
   "metadata": {
    "collapsed": false
   },
   "id": "1d7cbf83573a047b"
  },
  {
   "cell_type": "markdown",
   "source": [
    "### There are two rules of tensor multiplication:\n",
    "\n",
    "* The resulting matrix has the shape of the outer dimensions.\n",
    "* The inner dimensions of the matrices must match\n"
   ],
   "metadata": {
    "collapsed": false
   },
   "id": "5cadab2e20f143e0"
  },
  {
   "cell_type": "code",
   "outputs": [],
   "source": [
    "# Let's change the shape of matrix y\n",
    "\n",
    "y_reshaped = tf.reshape(y, shape=(2, 3))"
   ],
   "metadata": {
    "collapsed": false,
    "ExecuteTime": {
     "start_time": "2024-03-02T20:42:28.773804800Z"
    }
   },
   "id": "54f672ef5bddb8e6",
   "execution_count": null
  },
  {
   "cell_type": "code",
   "outputs": [
    {
     "ename": "NameError",
     "evalue": "name 'y_reshaped' is not defined",
     "output_type": "error",
     "traceback": [
      "\u001B[1;31m---------------------------------------------------------------------------\u001B[0m",
      "\u001B[1;31mNameError\u001B[0m                                 Traceback (most recent call last)",
      "Cell \u001B[1;32mIn[78], line 1\u001B[0m\n\u001B[1;32m----> 1\u001B[0m X \u001B[38;5;241m@\u001B[39m \u001B[43my_reshaped\u001B[49m\n",
      "\u001B[1;31mNameError\u001B[0m: name 'y_reshaped' is not defined"
     ]
    }
   ],
   "source": [
    "X @ y_reshaped"
   ],
   "metadata": {
    "collapsed": false,
    "ExecuteTime": {
     "end_time": "2024-03-02T20:42:29.681865800Z",
     "start_time": "2024-03-02T20:42:29.101823100Z"
    }
   },
   "id": "ee2fd5fa53288331",
   "execution_count": 78
  },
  {
   "cell_type": "code",
   "outputs": [
    {
     "data": {
      "text/plain": "<tf.Tensor: shape=(2, 2), dtype=int32, numpy=\narray([[ 58,  64],\n       [139, 154]])>"
     },
     "execution_count": 79,
     "metadata": {},
     "output_type": "execute_result"
    }
   ],
   "source": [
    "tf.reshape(X, shape=(2, 3)) @ y"
   ],
   "metadata": {
    "collapsed": false,
    "ExecuteTime": {
     "end_time": "2024-03-02T20:42:30.012866Z",
     "start_time": "2024-03-02T20:42:29.520834400Z"
    }
   },
   "id": "79d569bdc452307b",
   "execution_count": 79
  },
  {
   "cell_type": "code",
   "outputs": [
    {
     "data": {
      "text/plain": "<tf.Tensor: shape=(3, 3), dtype=int32, numpy=\narray([[ 39,  54,  69],\n       [ 49,  68,  87],\n       [ 59,  82, 105]])>"
     },
     "execution_count": 80,
     "metadata": {},
     "output_type": "execute_result"
    }
   ],
   "source": [
    "y @ tf.reshape(X, shape=(2, 3))"
   ],
   "metadata": {
    "collapsed": false,
    "ExecuteTime": {
     "end_time": "2024-03-02T20:42:30.245902500Z",
     "start_time": "2024-03-02T20:42:29.992343100Z"
    }
   },
   "id": "121ee574ca8e691",
   "execution_count": 80
  },
  {
   "cell_type": "code",
   "outputs": [
    {
     "data": {
      "text/plain": "<tf.Tensor: shape=(3, 3), dtype=int32, numpy=\narray([[ 27,  30,  33],\n       [ 61,  68,  75],\n       [ 95, 106, 117]])>"
     },
     "execution_count": 81,
     "metadata": {},
     "output_type": "execute_result"
    }
   ],
   "source": [
    "tf.matmul(X, tf.reshape(y, shape=(2, 3)))"
   ],
   "metadata": {
    "collapsed": false,
    "ExecuteTime": {
     "end_time": "2024-03-02T20:42:30.483868500Z",
     "start_time": "2024-03-02T20:42:30.215898900Z"
    }
   },
   "id": "b9e3d8b9ab81d1f8",
   "execution_count": 81
  },
  {
   "cell_type": "code",
   "outputs": [
    {
     "data": {
      "text/plain": "<tf.Tensor: shape=(2, 3), dtype=int32, numpy=\narray([[ 7,  9, 11],\n       [ 8, 10, 12]])>"
     },
     "execution_count": 82,
     "metadata": {},
     "output_type": "execute_result"
    }
   ],
   "source": [
    "tf.transpose(y)"
   ],
   "metadata": {
    "collapsed": false,
    "ExecuteTime": {
     "end_time": "2024-03-02T20:42:30.807981Z",
     "start_time": "2024-03-02T20:42:30.452867300Z"
    }
   },
   "id": "134b7575570a3715",
   "execution_count": 82
  },
  {
   "cell_type": "code",
   "outputs": [
    {
     "ename": "NameError",
     "evalue": "name 'y_reshaped' is not defined",
     "output_type": "error",
     "traceback": [
      "\u001B[1;31m---------------------------------------------------------------------------\u001B[0m",
      "\u001B[1;31mNameError\u001B[0m                                 Traceback (most recent call last)",
      "Cell \u001B[1;32mIn[83], line 1\u001B[0m\n\u001B[1;32m----> 1\u001B[0m \u001B[43my_reshaped\u001B[49m\n",
      "\u001B[1;31mNameError\u001B[0m: name 'y_reshaped' is not defined"
     ]
    }
   ],
   "source": [
    "y_reshaped"
   ],
   "metadata": {
    "collapsed": false,
    "ExecuteTime": {
     "end_time": "2024-03-02T20:42:31.040904200Z",
     "start_time": "2024-03-02T20:42:30.705867700Z"
    }
   },
   "id": "66c7263c410e40f9",
   "execution_count": 83
  },
  {
   "cell_type": "code",
   "outputs": [
    {
     "data": {
      "text/plain": "(<tf.Tensor: shape=(3, 2), dtype=int32, numpy=\n array([[1, 2],\n        [3, 4],\n        [5, 6]])>,\n <tf.Tensor: shape=(2, 3), dtype=int32, numpy=\n array([[1, 3, 5],\n        [2, 4, 6]])>,\n <tf.Tensor: shape=(2, 3), dtype=int32, numpy=\n array([[1, 2, 3],\n        [4, 5, 6]])>)"
     },
     "execution_count": 84,
     "metadata": {},
     "output_type": "execute_result"
    }
   ],
   "source": [
    "# Can do with the same with tf.transpose()\n",
    "X, tf.transpose(X), tf.reshape(X, shape=(2, 3))"
   ],
   "metadata": {
    "collapsed": false,
    "ExecuteTime": {
     "end_time": "2024-03-02T20:42:31.293920300Z",
     "start_time": "2024-03-02T20:42:30.979386500Z"
    }
   },
   "id": "eff9b05d77c5a565",
   "execution_count": 84
  },
  {
   "cell_type": "code",
   "outputs": [
    {
     "data": {
      "text/plain": "<tf.Tensor: shape=(2, 2), dtype=int32, numpy=\narray([[ 89,  98],\n       [116, 128]])>"
     },
     "execution_count": 85,
     "metadata": {},
     "output_type": "execute_result"
    }
   ],
   "source": [
    "# Try matrix multiplication rather reshape\n",
    "tf.matmul(tf.transpose(X), y)"
   ],
   "metadata": {
    "collapsed": false,
    "ExecuteTime": {
     "end_time": "2024-03-02T20:42:31.556971100Z",
     "start_time": "2024-03-02T20:42:31.293920300Z"
    }
   },
   "id": "f5f11d73a2f1fa45",
   "execution_count": 85
  },
  {
   "cell_type": "markdown",
   "source": [
    "## The dot product\n",
    "\n",
    "#### Matrix multiplication is also referred to as the dot product\n",
    "#### You can perform matrix multiplication using:\n",
    "* tf.matmul()\n",
    "* tf.tensordot() \n",
    "* python X @ y"
   ],
   "metadata": {
    "collapsed": false
   },
   "id": "78283a08efb4242d"
  },
  {
   "cell_type": "code",
   "outputs": [
    {
     "data": {
      "text/plain": "(<tf.Tensor: shape=(3, 2), dtype=int32, numpy=\n array([[1, 2],\n        [3, 4],\n        [5, 6]])>,\n <tf.Tensor: shape=(3, 2), dtype=int32, numpy=\n array([[ 7,  8],\n        [ 9, 10],\n        [11, 12]])>)"
     },
     "execution_count": 86,
     "metadata": {},
     "output_type": "execute_result"
    }
   ],
   "source": [
    "X, y"
   ],
   "metadata": {
    "collapsed": false,
    "ExecuteTime": {
     "end_time": "2024-03-02T20:42:35.094583300Z",
     "start_time": "2024-03-02T20:42:34.847537600Z"
    }
   },
   "id": "f6df4b3350f41651",
   "execution_count": 86
  },
  {
   "cell_type": "code",
   "outputs": [
    {
     "data": {
      "text/plain": "<tf.Tensor: shape=(2, 2), dtype=int32, numpy=\narray([[ 89,  98],\n       [116, 128]])>"
     },
     "execution_count": 87,
     "metadata": {},
     "output_type": "execute_result"
    }
   ],
   "source": [
    "# Perform the dot product on X and y (requires X or y to be transposed)\n",
    "tf.tensordot(tf.transpose(X), y, axes=1)"
   ],
   "metadata": {
    "collapsed": false,
    "ExecuteTime": {
     "end_time": "2024-03-02T20:42:36.000029100Z",
     "start_time": "2024-03-02T20:42:35.819023600Z"
    }
   },
   "id": "a9ffac4fa768b72c",
   "execution_count": 87
  },
  {
   "cell_type": "code",
   "outputs": [
    {
     "data": {
      "text/plain": "<tf.Tensor: shape=(3, 3), dtype=int32, numpy=\narray([[ 23,  29,  35],\n       [ 53,  67,  81],\n       [ 83, 105, 127]])>"
     },
     "execution_count": 88,
     "metadata": {},
     "output_type": "execute_result"
    }
   ],
   "source": [
    "# Perform matrix multiplication between X and y (transposed)\n",
    "tf.matmul(X, tf.transpose(y))"
   ],
   "metadata": {
    "collapsed": false,
    "ExecuteTime": {
     "end_time": "2024-03-02T20:42:36.653262Z",
     "start_time": "2024-03-02T20:42:36.384250200Z"
    }
   },
   "id": "4f115b920e6495f0",
   "execution_count": 88
  },
  {
   "cell_type": "code",
   "outputs": [
    {
     "data": {
      "text/plain": "<tf.Tensor: shape=(3, 3), dtype=int32, numpy=\narray([[ 27,  30,  33],\n       [ 61,  68,  75],\n       [ 95, 106, 117]])>"
     },
     "execution_count": 89,
     "metadata": {},
     "output_type": "execute_result"
    }
   ],
   "source": [
    "tf.matmul(X, tf.reshape(y, shape=(2, 3)))"
   ],
   "metadata": {
    "collapsed": false,
    "ExecuteTime": {
     "end_time": "2024-03-02T20:42:37.217259500Z",
     "start_time": "2024-03-02T20:42:36.631260600Z"
    }
   },
   "id": "33f0c41888b83554",
   "execution_count": 89
  },
  {
   "cell_type": "code",
   "outputs": [
    {
     "name": "stdout",
     "output_type": "stream",
     "text": [
      "Normal Y: \n",
      "\n",
      "tf.Tensor(\n",
      "[[ 7  8]\n",
      " [ 9 10]\n",
      " [11 12]], shape=(3, 2), dtype=int32) \n",
      "\n",
      "Y reshaped to (2, 3): \n",
      "tf.Tensor(\n",
      "[[ 7  8  9]\n",
      " [10 11 12]], shape=(2, 3), dtype=int32)\n",
      "Y transposed: \n",
      "tf.Tensor(\n",
      "[[ 7  9 11]\n",
      " [ 8 10 12]], shape=(2, 3), dtype=int32)\n"
     ]
    }
   ],
   "source": [
    "# Check the values of Y, reshape Y and transposed Y\n",
    "print(\"Normal Y: \\n\")\n",
    "print(y, \"\\n\")\n",
    "\n",
    "print(\"Y reshaped to (2, 3): \")\n",
    "print(tf.reshape(y, shape=(2, 3)))\n",
    "\n",
    "print(\"Y transposed: \")\n",
    "print(tf.transpose(y))"
   ],
   "metadata": {
    "collapsed": false,
    "ExecuteTime": {
     "end_time": "2024-03-02T20:42:37.593314800Z",
     "start_time": "2024-03-02T20:42:37.123280600Z"
    }
   },
   "id": "bf561c90f7e0f525",
   "execution_count": 90
  },
  {
   "cell_type": "code",
   "outputs": [
    {
     "data": {
      "text/plain": "<tf.Tensor: shape=(3, 3), dtype=int32, numpy=\narray([[ 23,  29,  35],\n       [ 53,  67,  81],\n       [ 83, 105, 127]])>"
     },
     "execution_count": 91,
     "metadata": {},
     "output_type": "execute_result"
    }
   ],
   "source": [
    "tf.matmul(X, tf.transpose(y))"
   ],
   "metadata": {
    "collapsed": false,
    "ExecuteTime": {
     "end_time": "2024-03-02T20:42:37.733324600Z",
     "start_time": "2024-03-02T20:42:37.408262100Z"
    }
   },
   "id": "f3855b6f3a64555d",
   "execution_count": 91
  },
  {
   "cell_type": "markdown",
   "source": [
    "#### Generally, when performing matrix multiplication on two tensors and one of the axes does not line up, you will transpose (rather than reshape) one of the tensors to get satisfy the matrix multiplication rules."
   ],
   "metadata": {
    "collapsed": false
   },
   "id": "61e784c5bd77aa06"
  },
  {
   "cell_type": "markdown",
   "source": [
    "# Changing the datatype of a tensor"
   ],
   "metadata": {
    "collapsed": false
   },
   "id": "c0d523b0789b544"
  },
  {
   "cell_type": "code",
   "outputs": [
    {
     "data": {
      "text/plain": "(<tf.Tensor: shape=(2,), dtype=float32, numpy=array([1.7, 7.4], dtype=float32)>,\n tf.float32)"
     },
     "execution_count": 92,
     "metadata": {},
     "output_type": "execute_result"
    }
   ],
   "source": [
    "# Create a new tensor with default datatype (float32) \n",
    "B = tf.constant([1.7, 7.4])\n",
    "B, B.dtype"
   ],
   "metadata": {
    "collapsed": false,
    "ExecuteTime": {
     "end_time": "2024-03-02T20:42:38.047971400Z",
     "start_time": "2024-03-02T20:42:37.764291800Z"
    }
   },
   "id": "7feff8a36ef31a26",
   "execution_count": 92
  },
  {
   "cell_type": "code",
   "outputs": [
    {
     "data": {
      "text/plain": "(<tf.Tensor: shape=(2,), dtype=int32, numpy=array([ 7, 10])>, tf.int32)"
     },
     "execution_count": 93,
     "metadata": {},
     "output_type": "execute_result"
    }
   ],
   "source": [
    "C = tf.constant([7, 10])\n",
    "C, C.dtype"
   ],
   "metadata": {
    "collapsed": false,
    "ExecuteTime": {
     "end_time": "2024-03-02T20:42:49.803368300Z",
     "start_time": "2024-03-02T20:42:49.676336200Z"
    }
   },
   "id": "36227da868fa29e2",
   "execution_count": 93
  },
  {
   "cell_type": "code",
   "outputs": [
    {
     "data": {
      "text/plain": "(<tf.Tensor: shape=(2,), dtype=float16, numpy=array([1.7, 7.4], dtype=float16)>,\n tf.float16)"
     },
     "execution_count": 94,
     "metadata": {},
     "output_type": "execute_result"
    }
   ],
   "source": [
    "# Change from float32 to float16 (reduced precision)\n",
    "D = tf.cast(B, dtype=tf.float16)\n",
    "D, D.dtype"
   ],
   "metadata": {
    "collapsed": false,
    "ExecuteTime": {
     "end_time": "2024-03-02T20:42:50.333269600Z",
     "start_time": "2024-03-02T20:42:50.209272200Z"
    }
   },
   "id": "e3be7a6b46d87f46",
   "execution_count": 94
  },
  {
   "cell_type": "code",
   "outputs": [
    {
     "data": {
      "text/plain": "(<tf.Tensor: shape=(2,), dtype=float32, numpy=array([ 7., 10.], dtype=float32)>,\n tf.float32)"
     },
     "execution_count": 95,
     "metadata": {},
     "output_type": "execute_result"
    }
   ],
   "source": [
    "# Change from int32 to float32 (reduced precision)\n",
    "E = tf.cast(C, dtype=tf.float32)\n",
    "E, E.dtype"
   ],
   "metadata": {
    "collapsed": false,
    "ExecuteTime": {
     "end_time": "2024-03-02T20:42:50.783263600Z",
     "start_time": "2024-03-02T20:42:50.546278600Z"
    }
   },
   "id": "bbe89af622a9242d",
   "execution_count": 95
  },
  {
   "cell_type": "code",
   "outputs": [
    {
     "data": {
      "text/plain": "(<tf.Tensor: shape=(2,), dtype=float16, numpy=array([ 7., 10.], dtype=float16)>,\n tf.float16)"
     },
     "execution_count": 96,
     "metadata": {},
     "output_type": "execute_result"
    }
   ],
   "source": [
    "# Change from int32 to float32 (reduced precision)\n",
    "E_float16 = tf.cast(E, dtype=tf.float16)\n",
    "E_float16, E_float16.dtype"
   ],
   "metadata": {
    "collapsed": false,
    "ExecuteTime": {
     "end_time": "2024-03-02T20:42:51.203301800Z",
     "start_time": "2024-03-02T20:42:50.919269800Z"
    }
   },
   "id": "458ac08236a442b8",
   "execution_count": 96
  },
  {
   "cell_type": "markdown",
   "source": [
    "# Aggregating Tesnors\n",
    "Aggregating tensors = condensing them from multiple values down to a smaller amount of values.\n",
    "\n",
    "* Absolute values"
   ],
   "metadata": {
    "collapsed": false
   },
   "id": "e8a7446301461b54"
  },
  {
   "cell_type": "code",
   "outputs": [
    {
     "data": {
      "text/plain": "(<tf.Tensor: shape=(2,), dtype=int32, numpy=array([ -7, -10])>,\n <tf.Tensor: shape=(2,), dtype=int32, numpy=array([ 7, 10])>)"
     },
     "execution_count": 97,
     "metadata": {},
     "output_type": "execute_result"
    }
   ],
   "source": [
    "# Get the absolute values\n",
    "D = tf.constant([-7, -10])\n",
    "D, tf.abs(D)"
   ],
   "metadata": {
    "collapsed": false,
    "ExecuteTime": {
     "end_time": "2024-03-02T20:42:51.501308400Z",
     "start_time": "2024-03-02T20:42:51.329271100Z"
    }
   },
   "id": "912a52f05ced4e0a",
   "execution_count": 97
  },
  {
   "cell_type": "markdown",
   "source": [
    "# Let's go through the following forms of aggregation:\n",
    "* Get the minimum\n",
    "* Get the maximum\n",
    "* Get he mean\n",
    "* Get the sum of a tensor\n"
   ],
   "metadata": {
    "collapsed": false
   },
   "id": "fd0d0587dd1e180e"
  },
  {
   "cell_type": "code",
   "outputs": [
    {
     "data": {
      "text/plain": "<tf.Tensor: shape=(50,), dtype=int32, numpy=\narray([ 7, 40, 38, 20,  5, 81, 57,  2, 19, 31,  1, 59, 69, 12,  3, 25, 92,\n       86, 29, 19, 70, 90, 91, 39, 35, 17, 24, 47, 90, 48, 14, 46, 21, 30,\n        5, 27, 27, 88,  6, 91, 63, 26, 94, 37, 17, 25, 40, 45, 95, 81])>"
     },
     "execution_count": 98,
     "metadata": {},
     "output_type": "execute_result"
    }
   ],
   "source": [
    "# Create a random tensor with values between 0 and 100 of size 50\n",
    "E = tf.constant(np.random.randint(0, 100, size=50))\n",
    "E"
   ],
   "metadata": {
    "collapsed": false,
    "ExecuteTime": {
     "end_time": "2024-03-02T20:42:52.326866700Z",
     "start_time": "2024-03-02T20:42:52.185831200Z"
    }
   },
   "id": "f807d78df8bad10f",
   "execution_count": 98
  },
  {
   "cell_type": "code",
   "outputs": [
    {
     "data": {
      "text/plain": "(<tf.Tensor: shape=(), dtype=int32, numpy=50>, TensorShape([50]), 1)"
     },
     "execution_count": 99,
     "metadata": {},
     "output_type": "execute_result"
    }
   ],
   "source": [
    "tf.size(E), E.shape, E.ndim"
   ],
   "metadata": {
    "collapsed": false,
    "ExecuteTime": {
     "end_time": "2024-03-02T20:42:54.280653200Z",
     "start_time": "2024-03-02T20:42:53.857130Z"
    }
   },
   "id": "8bd8e7765071c202",
   "execution_count": 99
  },
  {
   "cell_type": "code",
   "outputs": [
    {
     "data": {
      "text/plain": "(<tf.Tensor: shape=(), dtype=int32, numpy=1>,\n <tf.Tensor: shape=(), dtype=int32, numpy=95>,\n <tf.Tensor: shape=(), dtype=int32, numpy=42>)"
     },
     "execution_count": 100,
     "metadata": {},
     "output_type": "execute_result"
    }
   ],
   "source": [
    "# Find the minimum value\n",
    "tf.reduce_min(E), tf.reduce_max(E), tf.reduce_mean(E)"
   ],
   "metadata": {
    "collapsed": false,
    "ExecuteTime": {
     "end_time": "2024-03-02T20:42:55.218338600Z",
     "start_time": "2024-03-02T20:42:54.815305900Z"
    }
   },
   "id": "200138534446d227",
   "execution_count": 100
  },
  {
   "cell_type": "code",
   "outputs": [
    {
     "data": {
      "text/plain": "<tf.Tensor: shape=(), dtype=int32, numpy=2124>"
     },
     "execution_count": 101,
     "metadata": {},
     "output_type": "execute_result"
    }
   ],
   "source": [
    "# Sum of all the values (matrix)\n",
    "tf.reduce_sum(E)"
   ],
   "metadata": {
    "collapsed": false,
    "ExecuteTime": {
     "end_time": "2024-03-02T20:42:55.445308500Z",
     "start_time": "2024-03-02T20:42:55.082303300Z"
    }
   },
   "id": "8d6d82ce966778e6",
   "execution_count": 101
  },
  {
   "cell_type": "code",
   "outputs": [
    {
     "data": {
      "text/plain": "<tf.Tensor: shape=(), dtype=int32, numpy=883>"
     },
     "execution_count": 102,
     "metadata": {},
     "output_type": "execute_result"
    }
   ],
   "source": [
    "# Find the variance\n",
    "import tensorflow_probability as tfp\n",
    "\n",
    "tfp.stats.variance(E)"
   ],
   "metadata": {
    "collapsed": false,
    "ExecuteTime": {
     "end_time": "2024-03-02T20:42:57.853373100Z",
     "start_time": "2024-03-02T20:42:55.440303100Z"
    }
   },
   "id": "7d255ee203e7ede2",
   "execution_count": 102
  },
  {
   "cell_type": "markdown",
   "source": [],
   "metadata": {
    "collapsed": false
   },
   "id": "16ba89c73433db6e"
  },
  {
   "cell_type": "code",
   "outputs": [
    {
     "data": {
      "text/plain": "<tf.Tensor: shape=(), dtype=float32, numpy=29.72759>"
     },
     "execution_count": 103,
     "metadata": {},
     "output_type": "execute_result"
    }
   ],
   "source": [
    "# Standard Deviation\n",
    "tf.math.reduce_std(tf.cast(E, dtype=tf.float32))"
   ],
   "metadata": {
    "collapsed": false,
    "ExecuteTime": {
     "end_time": "2024-03-02T20:42:58.079361800Z",
     "start_time": "2024-03-02T20:42:57.840373200Z"
    }
   },
   "id": "b583ad7d433d9cc4",
   "execution_count": 103
  },
  {
   "cell_type": "code",
   "outputs": [],
   "source": [],
   "metadata": {
    "collapsed": false,
    "ExecuteTime": {
     "end_time": "2024-03-02T20:42:58.118364500Z",
     "start_time": "2024-03-02T20:42:57.868370Z"
    }
   },
   "id": "f47bd8447e5a11f2",
   "execution_count": 103
  },
  {
   "cell_type": "markdown",
   "source": [
    "# Find the variance"
   ],
   "metadata": {
    "collapsed": false
   },
   "id": "fc2c1441f76972e3"
  },
  {
   "cell_type": "code",
   "outputs": [
    {
     "data": {
      "text/plain": "<tf.Tensor: shape=(), dtype=float32, numpy=883.7296>"
     },
     "execution_count": 104,
     "metadata": {},
     "output_type": "execute_result"
    }
   ],
   "source": [
    "tf.math.reduce_variance(tf.cast(E, dtype=tf.float32))"
   ],
   "metadata": {
    "collapsed": false,
    "ExecuteTime": {
     "end_time": "2024-03-02T20:42:59.145896400Z",
     "start_time": "2024-03-02T20:42:59.003891100Z"
    }
   },
   "id": "9c85284901b6efe1",
   "execution_count": 104
  },
  {
   "cell_type": "code",
   "outputs": [],
   "source": [],
   "metadata": {
    "collapsed": false,
    "ExecuteTime": {
     "end_time": "2024-03-02T20:43:09.378936800Z",
     "start_time": "2024-03-02T20:43:09.314974800Z"
    }
   },
   "id": "d2122c989d13aed2",
   "execution_count": 104
  },
  {
   "cell_type": "markdown",
   "source": [
    "# Find the positional minimum and maxmimum"
   ],
   "metadata": {
    "collapsed": false
   },
   "id": "75d38ec406311d02"
  },
  {
   "cell_type": "code",
   "outputs": [
    {
     "data": {
      "text/plain": "<tf.Tensor: shape=(50,), dtype=float32, numpy=\narray([0.6645621 , 0.44100678, 0.3528825 , 0.46448255, 0.03366041,\n       0.68467236, 0.74011743, 0.8724445 , 0.22632635, 0.22319686,\n       0.3103881 , 0.7223358 , 0.13318717, 0.5480639 , 0.5746088 ,\n       0.8996835 , 0.00946367, 0.5212307 , 0.6345445 , 0.1993283 ,\n       0.72942245, 0.54583454, 0.10756552, 0.6767061 , 0.6602763 ,\n       0.33695042, 0.60141766, 0.21062577, 0.8527372 , 0.44062173,\n       0.9485276 , 0.23752594, 0.81179297, 0.5263394 , 0.494308  ,\n       0.21612847, 0.8457197 , 0.8718841 , 0.3083862 , 0.6868038 ,\n       0.23764038, 0.7817228 , 0.9671384 , 0.06870162, 0.79873943,\n       0.66028714, 0.5871513 , 0.16461694, 0.7381023 , 0.32054043],\n      dtype=float32)>"
     },
     "execution_count": 106,
     "metadata": {},
     "output_type": "execute_result"
    }
   ],
   "source": [
    "# Create new tensor\n",
    "tf.random.set_seed(42)\n",
    "F = tf.random.uniform(shape=[50])\n",
    "F"
   ],
   "metadata": {
    "collapsed": false,
    "ExecuteTime": {
     "end_time": "2024-03-02T20:46:30.805668200Z",
     "start_time": "2024-03-02T20:46:30.340590200Z"
    }
   },
   "id": "dd540af7c1b47162",
   "execution_count": 106
  },
  {
   "cell_type": "code",
   "outputs": [],
   "source": [],
   "metadata": {
    "collapsed": false
   },
   "id": "75647912c79d9d14"
  },
  {
   "cell_type": "code",
   "outputs": [
    {
     "data": {
      "text/plain": "(<tf.Tensor: shape=(), dtype=int64, numpy=16>,\n <tf.Tensor: shape=(), dtype=int64, numpy=42>)"
     },
     "execution_count": 107,
     "metadata": {},
     "output_type": "execute_result"
    }
   ],
   "source": [
    "tf.argmin(F), tf.argmax(F)"
   ],
   "metadata": {
    "collapsed": false,
    "ExecuteTime": {
     "end_time": "2024-03-02T20:46:44.033386300Z",
     "start_time": "2024-03-02T20:46:43.798737500Z"
    }
   },
   "id": "ce67f2ac9dbf4976",
   "execution_count": 107
  },
  {
   "cell_type": "code",
   "outputs": [
    {
     "data": {
      "text/plain": "(<tf.Tensor: shape=(), dtype=float32, numpy=0.009463668>,\n <tf.Tensor: shape=(), dtype=float32, numpy=0.9671384>)"
     },
     "execution_count": 108,
     "metadata": {},
     "output_type": "execute_result"
    }
   ],
   "source": [
    "F[tf.argmin(F)], F[tf.argmax(F)]"
   ],
   "metadata": {
    "collapsed": false,
    "ExecuteTime": {
     "end_time": "2024-03-02T20:48:02.139560800Z",
     "start_time": "2024-03-02T20:48:01.877066800Z"
    }
   },
   "id": "90dcd5ca368e4071",
   "execution_count": 108
  },
  {
   "cell_type": "code",
   "outputs": [],
   "source": [
    "# Check for equality\n",
    "assert F[tf.argmax(F)] == tf.reduce_max(F)"
   ],
   "metadata": {
    "collapsed": false,
    "ExecuteTime": {
     "end_time": "2024-03-02T20:49:04.781502500Z",
     "start_time": "2024-03-02T20:49:04.466267400Z"
    }
   },
   "id": "38eca1b915caed3b",
   "execution_count": 110
  },
  {
   "cell_type": "code",
   "outputs": [
    {
     "data": {
      "text/plain": "<tf.Tensor: shape=(), dtype=bool, numpy=True>"
     },
     "execution_count": 111,
     "metadata": {},
     "output_type": "execute_result"
    }
   ],
   "source": [
    "F[tf.argmax(F)] == tf.reduce_max(F)"
   ],
   "metadata": {
    "collapsed": false,
    "ExecuteTime": {
     "end_time": "2024-03-02T20:49:19.451241800Z",
     "start_time": "2024-03-02T20:49:19.282830Z"
    }
   },
   "id": "490820234df0a8ff",
   "execution_count": 111
  },
  {
   "cell_type": "code",
   "outputs": [],
   "source": [],
   "metadata": {
    "collapsed": false,
    "ExecuteTime": {
     "end_time": "2024-03-02T20:51:28.428528300Z",
     "start_time": "2024-03-02T20:51:28.235138800Z"
    }
   },
   "id": "bdb76fbf57ca234f",
   "execution_count": 111
  },
  {
   "cell_type": "markdown",
   "source": [
    "# Squeezing a tensor (removing all single-dimensions)"
   ],
   "metadata": {
    "collapsed": false
   },
   "id": "be6cfc341432e1d5"
  },
  {
   "cell_type": "code",
   "outputs": [
    {
     "data": {
      "text/plain": "<tf.Tensor: shape=(1, 1, 1, 1, 50), dtype=float32, numpy=\narray([[[[[0.7413678 , 0.62854624, 0.01738465, 0.3431449 , 0.51063764,\n           0.3777541 , 0.07321596, 0.02137029, 0.2871771 , 0.4710616 ,\n           0.6936141 , 0.07321334, 0.93251204, 0.20843053, 0.70105827,\n           0.45856392, 0.8596262 , 0.92934334, 0.20291913, 0.76865506,\n           0.60016024, 0.27039742, 0.88180614, 0.05365038, 0.42274463,\n           0.89037776, 0.7887033 , 0.10165584, 0.19408834, 0.27896714,\n           0.39512634, 0.12235212, 0.38412368, 0.9455296 , 0.77594674,\n           0.94442344, 0.04296565, 0.4746096 , 0.6548251 , 0.5657116 ,\n           0.13858628, 0.3004663 , 0.3311677 , 0.12907016, 0.6435652 ,\n           0.45473957, 0.68881893, 0.30203617, 0.49152803, 0.26529062]]]]],\n      dtype=float32)>"
     },
     "execution_count": 113,
     "metadata": {},
     "output_type": "execute_result"
    }
   ],
   "source": [
    "G = tf.constant(tf.random.uniform(shape=[50]), shape=(1, 1, 1, 1, 50))\n",
    "G"
   ],
   "metadata": {
    "collapsed": false,
    "ExecuteTime": {
     "end_time": "2024-03-02T20:52:15.934666500Z",
     "start_time": "2024-03-02T20:52:15.706291500Z"
    }
   },
   "id": "c03ea41a54fdec6a",
   "execution_count": 113
  },
  {
   "cell_type": "code",
   "outputs": [
    {
     "data": {
      "text/plain": "TensorShape([1, 1, 1, 1, 50])"
     },
     "execution_count": 114,
     "metadata": {},
     "output_type": "execute_result"
    }
   ],
   "source": [
    "G.shape"
   ],
   "metadata": {
    "collapsed": false,
    "ExecuteTime": {
     "end_time": "2024-03-02T20:52:43.033188300Z",
     "start_time": "2024-03-02T20:52:42.725322300Z"
    }
   },
   "id": "e2c5787b5c57c5e2",
   "execution_count": 114
  },
  {
   "cell_type": "code",
   "outputs": [
    {
     "data": {
      "text/plain": "(<tf.Tensor: shape=(50,), dtype=float32, numpy=\n array([0.7413678 , 0.62854624, 0.01738465, 0.3431449 , 0.51063764,\n        0.3777541 , 0.07321596, 0.02137029, 0.2871771 , 0.4710616 ,\n        0.6936141 , 0.07321334, 0.93251204, 0.20843053, 0.70105827,\n        0.45856392, 0.8596262 , 0.92934334, 0.20291913, 0.76865506,\n        0.60016024, 0.27039742, 0.88180614, 0.05365038, 0.42274463,\n        0.89037776, 0.7887033 , 0.10165584, 0.19408834, 0.27896714,\n        0.39512634, 0.12235212, 0.38412368, 0.9455296 , 0.77594674,\n        0.94442344, 0.04296565, 0.4746096 , 0.6548251 , 0.5657116 ,\n        0.13858628, 0.3004663 , 0.3311677 , 0.12907016, 0.6435652 ,\n        0.45473957, 0.68881893, 0.30203617, 0.49152803, 0.26529062],\n       dtype=float32)>,\n TensorShape([50]))"
     },
     "execution_count": 115,
     "metadata": {},
     "output_type": "execute_result"
    }
   ],
   "source": [
    "G_squeezed = tf.squeeze(G)\n",
    "G_squeezed, G_squeezed.shape"
   ],
   "metadata": {
    "collapsed": false,
    "ExecuteTime": {
     "end_time": "2024-03-02T20:53:15.525937100Z",
     "start_time": "2024-03-02T20:53:15.264934800Z"
    }
   },
   "id": "5ad40f8d65c0ac31",
   "execution_count": 115
  },
  {
   "cell_type": "code",
   "outputs": [
    {
     "data": {
      "text/plain": "<tf.Tensor: shape=(4, 4), dtype=float32, numpy=\narray([[1., 0., 0., 0.],\n       [0., 1., 0., 0.],\n       [0., 0., 1., 0.],\n       [0., 0., 0., 1.]], dtype=float32)>"
     },
     "execution_count": 117,
     "metadata": {},
     "output_type": "execute_result"
    }
   ],
   "source": [
    "# Create a list of indices\n",
    "some_list = [0,1,2,3]\n",
    "## One-hot encoding\n",
    "tf.one_hot(some_list, depth=tf.size(some_list).numpy())"
   ],
   "metadata": {
    "collapsed": false,
    "ExecuteTime": {
     "end_time": "2024-03-02T20:58:31.686639800Z",
     "start_time": "2024-03-02T20:58:30.947555400Z"
    }
   },
   "id": "135c505c36cb93a2",
   "execution_count": 117
  },
  {
   "cell_type": "code",
   "outputs": [
    {
     "data": {
      "text/plain": "<tf.Tensor: shape=(4, 4), dtype=string, numpy=\narray([[b'On', b'Off', b'Off', b'Off'],\n       [b'Off', b'On', b'Off', b'Off'],\n       [b'Off', b'Off', b'On', b'Off'],\n       [b'Off', b'Off', b'Off', b'On']], dtype=object)>"
     },
     "execution_count": 118,
     "metadata": {},
     "output_type": "execute_result"
    }
   ],
   "source": [
    "# Specify custom value for one-hot encoding\n",
    "tf.one_hot(some_list, depth=tf.size(some_list).numpy(), on_value='On', off_value='Off')"
   ],
   "metadata": {
    "collapsed": false,
    "ExecuteTime": {
     "end_time": "2024-03-02T21:00:54.524807700Z",
     "start_time": "2024-03-02T21:00:54.297595200Z"
    }
   },
   "id": "85a0b65792b3d6cf",
   "execution_count": 118
  },
  {
   "cell_type": "code",
   "outputs": [
    {
     "data": {
      "text/plain": "<tf.Tensor: shape=(9,), dtype=int32, numpy=array([1, 2, 3, 4, 5, 6, 7, 8, 9])>"
     },
     "execution_count": 119,
     "metadata": {},
     "output_type": "execute_result"
    }
   ],
   "source": [
    "## Few more tf methods\n",
    "H = tf.range(1, 10)\n",
    "H"
   ],
   "metadata": {
    "collapsed": false,
    "ExecuteTime": {
     "end_time": "2024-03-02T21:02:40.817504300Z",
     "start_time": "2024-03-02T21:02:40.602625400Z"
    }
   },
   "id": "2740906df2c0f6e4",
   "execution_count": 119
  },
  {
   "cell_type": "code",
   "outputs": [
    {
     "data": {
      "text/plain": "<tf.Tensor: shape=(9,), dtype=int32, numpy=array([ 1,  4,  9, 16, 25, 36, 49, 64, 81])>"
     },
     "execution_count": 120,
     "metadata": {},
     "output_type": "execute_result"
    }
   ],
   "source": [
    "# Square it\n",
    "tf.square(H)"
   ],
   "metadata": {
    "collapsed": false,
    "ExecuteTime": {
     "end_time": "2024-03-02T21:02:53.146853500Z",
     "start_time": "2024-03-02T21:02:52.970477200Z"
    }
   },
   "id": "bcc7bfc7523019c7",
   "execution_count": 120
  },
  {
   "cell_type": "code",
   "outputs": [
    {
     "data": {
      "text/plain": "<tf.Tensor: shape=(9,), dtype=float32, numpy=array([1., 2., 3., 4., 5., 6., 7., 8., 9.], dtype=float32)>"
     },
     "execution_count": 125,
     "metadata": {},
     "output_type": "execute_result"
    }
   ],
   "source": [
    "# Find the squareRoot (required to cast to float32)\n",
    "tf.sqrt(tf.cast(tf.square(H), dtype=tf.float32))"
   ],
   "metadata": {
    "collapsed": false,
    "ExecuteTime": {
     "end_time": "2024-03-02T21:04:40.453548Z",
     "start_time": "2024-03-02T21:04:39.710843800Z"
    }
   },
   "id": "ef87dd3966c8082a",
   "execution_count": 125
  },
  {
   "cell_type": "code",
   "outputs": [
    {
     "data": {
      "text/plain": "<tf.Tensor: shape=(9,), dtype=float32, numpy=\narray([0.       , 0.6931472, 1.0986123, 1.3862944, 1.609438 , 1.7917595,\n       1.9459102, 2.0794415, 2.1972246], dtype=float32)>"
     },
     "execution_count": 127,
     "metadata": {},
     "output_type": "execute_result"
    }
   ],
   "source": [
    "# Find the log\n",
    "tf.math.log(tf.cast(H, dtype=tf.float32))"
   ],
   "metadata": {
    "collapsed": false,
    "ExecuteTime": {
     "end_time": "2024-03-02T21:05:30.887106600Z",
     "start_time": "2024-03-02T21:05:30.480971Z"
    }
   },
   "id": "b578d4031744f526",
   "execution_count": 127
  },
  {
   "cell_type": "markdown",
   "source": [
    "## Tensors and NumPy\n",
    "\n",
    "TensorFlow interacts beautifully with NumPY array.\n",
    "\n",
    "##### Note: One of the main difference between a TensorFlow tensor and a NumPy array is that a TensorFlow tensor can be run on a GPU or TPU (for faster numerical processing)."
   ],
   "metadata": {
    "collapsed": false
   },
   "id": "51918ea470bca5f"
  },
  {
   "cell_type": "code",
   "outputs": [
    {
     "data": {
      "text/plain": "<tf.Tensor: shape=(3,), dtype=float64, numpy=array([ 3.,  7., 10.])>"
     },
     "execution_count": 129,
     "metadata": {},
     "output_type": "execute_result"
    }
   ],
   "source": [
    "# Create a tensor directly from numpy array\n",
    "J = tf.constant(np.array([3., 7., 10.]))\n",
    "J"
   ],
   "metadata": {
    "collapsed": false,
    "ExecuteTime": {
     "end_time": "2024-03-02T21:08:13.572072Z",
     "start_time": "2024-03-02T21:08:13.266620800Z"
    }
   },
   "id": "648dd08113bc879c",
   "execution_count": 129
  },
  {
   "cell_type": "code",
   "outputs": [
    {
     "data": {
      "text/plain": "(array([ 3.,  7., 10.]), numpy.ndarray)"
     },
     "execution_count": 131,
     "metadata": {},
     "output_type": "execute_result"
    }
   ],
   "source": [
    "np.array((J)), type(np.array(J))"
   ],
   "metadata": {
    "collapsed": false,
    "ExecuteTime": {
     "end_time": "2024-03-02T21:08:44.167811400Z",
     "start_time": "2024-03-02T21:08:43.929247500Z"
    }
   },
   "id": "4a6a7b4f6781dc74",
   "execution_count": 131
  },
  {
   "cell_type": "code",
   "outputs": [
    {
     "data": {
      "text/plain": "(array([ 3.,  7., 10.]), numpy.ndarray)"
     },
     "execution_count": 132,
     "metadata": {},
     "output_type": "execute_result"
    }
   ],
   "source": [
    "# Convert tensor J to a NumPy array\n",
    "J.numpy(), type(J.numpy())"
   ],
   "metadata": {
    "collapsed": false,
    "ExecuteTime": {
     "end_time": "2024-03-02T21:09:22.671730400Z",
     "start_time": "2024-03-02T21:09:22.378242400Z"
    }
   },
   "id": "bc0e2d058944e67a",
   "execution_count": 132
  },
  {
   "cell_type": "code",
   "outputs": [
    {
     "data": {
      "text/plain": "3.0"
     },
     "execution_count": 135,
     "metadata": {},
     "output_type": "execute_result"
    }
   ],
   "source": [
    "J = tf.constant([3.])\n",
    "J.numpy()[0]"
   ],
   "metadata": {
    "collapsed": false,
    "ExecuteTime": {
     "end_time": "2024-03-02T21:09:59.511451500Z",
     "start_time": "2024-03-02T21:09:59.203002500Z"
    }
   },
   "id": "baf4cde16d0a2f92",
   "execution_count": 135
  },
  {
   "cell_type": "code",
   "outputs": [
    {
     "data": {
      "text/plain": "(tf.float64, tf.float32)"
     },
     "execution_count": 136,
     "metadata": {},
     "output_type": "execute_result"
    }
   ],
   "source": [
    "# The default types of each are slightly different\n",
    "numpy_J = tf.constant(np.array([3., 7., 10.]))\n",
    "tensor_J = tf.constant([3., 7., 10.])\n",
    "# Check the datatypes\n",
    "numpy_J.dtype, tensor_J.dtype"
   ],
   "metadata": {
    "collapsed": false,
    "ExecuteTime": {
     "end_time": "2024-03-02T21:11:32.836374400Z",
     "start_time": "2024-03-02T21:11:32.638110800Z"
    }
   },
   "id": "caffcdbd362b7ba9",
   "execution_count": 136
  },
  {
   "cell_type": "code",
   "outputs": [],
   "source": [],
   "metadata": {
    "collapsed": false
   },
   "id": "150bb5c297a3e40a"
  },
  {
   "cell_type": "code",
   "outputs": [],
   "source": [
    "import tensorflow as tf"
   ],
   "metadata": {
    "collapsed": false,
    "ExecuteTime": {
     "end_time": "2024-03-02T23:07:35.257319100Z",
     "start_time": "2024-03-02T23:07:35.161280900Z"
    }
   },
   "id": "fb023f673d3ba3c",
   "execution_count": 8
  },
  {
   "cell_type": "code",
   "outputs": [
    {
     "data": {
      "text/plain": "False"
     },
     "execution_count": 9,
     "metadata": {},
     "output_type": "execute_result"
    }
   ],
   "source": [
    "# Finding access to GPU\n",
    "\n",
    "tf.test.is_gpu_available()"
   ],
   "metadata": {
    "collapsed": false,
    "ExecuteTime": {
     "end_time": "2024-03-02T23:07:42.686371200Z",
     "start_time": "2024-03-02T23:07:42.466891100Z"
    }
   },
   "id": "4b7ac4df44891375",
   "execution_count": 9
  },
  {
   "cell_type": "code",
   "outputs": [
    {
     "data": {
      "text/plain": "False"
     },
     "execution_count": 10,
     "metadata": {},
     "output_type": "execute_result"
    }
   ],
   "source": [
    "tf.test.is_built_with_gpu_support()"
   ],
   "metadata": {
    "collapsed": false,
    "ExecuteTime": {
     "end_time": "2024-03-02T23:07:45.589558100Z",
     "start_time": "2024-03-02T23:07:45.426554800Z"
    }
   },
   "id": "79b584e35edffcb1",
   "execution_count": 10
  },
  {
   "cell_type": "code",
   "outputs": [
    {
     "data": {
      "text/plain": "[PhysicalDevice(name='/physical_device:CPU:0', device_type='CPU')]"
     },
     "execution_count": 11,
     "metadata": {},
     "output_type": "execute_result"
    }
   ],
   "source": [
    "tf.config.list_physical_devices()"
   ],
   "metadata": {
    "collapsed": false,
    "ExecuteTime": {
     "end_time": "2024-03-02T23:07:47.800375100Z",
     "start_time": "2024-03-02T23:07:47.674370100Z"
    }
   },
   "id": "872f7343400ad237",
   "execution_count": 11
  },
  {
   "cell_type": "code",
   "outputs": [
    {
     "data": {
      "text/plain": "[PhysicalDevice(name='/physical_device:CPU:0', device_type='CPU')]"
     },
     "execution_count": 12,
     "metadata": {},
     "output_type": "execute_result"
    }
   ],
   "source": [
    "tf.config.list_physical_devices(\"CPU\")"
   ],
   "metadata": {
    "collapsed": false,
    "ExecuteTime": {
     "end_time": "2024-03-02T23:07:49.838484100Z",
     "start_time": "2024-03-02T23:07:49.499746100Z"
    }
   },
   "id": "45943cf5a5a8c3b",
   "execution_count": 12
  },
  {
   "cell_type": "code",
   "outputs": [
    {
     "data": {
      "text/plain": "[]"
     },
     "execution_count": 13,
     "metadata": {},
     "output_type": "execute_result"
    }
   ],
   "source": [
    "tf.config.list_physical_devices(\"GPU\")"
   ],
   "metadata": {
    "collapsed": false,
    "ExecuteTime": {
     "end_time": "2024-03-02T23:07:52.612696400Z",
     "start_time": "2024-03-02T23:07:52.158176Z"
    }
   },
   "id": "13fd679e5c9e3576",
   "execution_count": 13
  },
  {
   "cell_type": "code",
   "outputs": [
    {
     "name": "stdout",
     "output_type": "stream",
     "text": [
      "Sat Mar  2 15:07:56 2024       \n",
      "+---------------------------------------------------------------------------------------+\n",
      "| NVIDIA-SMI 546.33                 Driver Version: 546.33       CUDA Version: 12.3     |\n",
      "|-----------------------------------------+----------------------+----------------------+\n",
      "| GPU  Name                     TCC/WDDM  | Bus-Id        Disp.A | Volatile Uncorr. ECC |\n",
      "| Fan  Temp   Perf          Pwr:Usage/Cap |         Memory-Usage | GPU-Util  Compute M. |\n",
      "|                                         |                      |               MIG M. |\n",
      "|=========================================+======================+======================|\n",
      "|   0  NVIDIA GeForce GTX 1060      WDDM  | 00000000:02:00.0 Off |                  N/A |\n",
      "| N/A   44C    P8               5W /  24W |      0MiB /  6144MiB |      0%      Default |\n",
      "|                                         |                      |                  N/A |\n",
      "+-----------------------------------------+----------------------+----------------------+\n",
      "                                                                                         \n",
      "+---------------------------------------------------------------------------------------+\n",
      "| Processes:                                                                            |\n",
      "|  GPU   GI   CI        PID   Type   Process name                            GPU Memory |\n",
      "|        ID   ID                                                             Usage      |\n",
      "|=======================================================================================|\n",
      "|    0   N/A  N/A     12136    C+G   ...nt.CBS_cw5n1h2txyewy\\SearchHost.exe    N/A      |\n",
      "+---------------------------------------------------------------------------------------+\n"
     ]
    }
   ],
   "source": [
    "!nvidia-smi"
   ],
   "metadata": {
    "collapsed": false,
    "ExecuteTime": {
     "end_time": "2024-03-02T23:07:57.017718100Z",
     "start_time": "2024-03-02T23:07:54.018792100Z"
    }
   },
   "id": "d22383997ca63a64",
   "execution_count": 14
  },
  {
   "cell_type": "markdown",
   "source": [
    "\n",
    "## *Note:* If you have access to a CUDA-enabled GPU, TensorFlow will automatically use GPU whenever possible."
   ],
   "metadata": {
    "collapsed": false
   },
   "id": "afb1498e42adb6ad"
  },
  {
   "cell_type": "code",
   "outputs": [],
   "source": [],
   "metadata": {
    "collapsed": false,
    "ExecuteTime": {
     "end_time": "2024-03-02T22:25:25.531458300Z",
     "start_time": "2024-03-02T22:25:24.977938800Z"
    }
   },
   "id": "4a5595159e3fc7a6",
   "execution_count": 7
  },
  {
   "cell_type": "code",
   "outputs": [],
   "source": [],
   "metadata": {
    "collapsed": false
   },
   "id": "45334b1c94c7b760"
  }
 ],
 "metadata": {
  "kernelspec": {
   "display_name": "Python 3",
   "language": "python",
   "name": "python3"
  },
  "language_info": {
   "codemirror_mode": {
    "name": "ipython",
    "version": 2
   },
   "file_extension": ".py",
   "mimetype": "text/x-python",
   "name": "python",
   "nbconvert_exporter": "python",
   "pygments_lexer": "ipython2",
   "version": "2.7.6"
  }
 },
 "nbformat": 4,
 "nbformat_minor": 5
}
