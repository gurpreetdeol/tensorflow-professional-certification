{
 "cells": [
  {
   "cell_type": "markdown",
   "source": [
    "# TensorFlow Fundamentals Exercises\n",
    "\n",
    "1. Create a vector, scalar, matrix and tensor with values of your choosing using tf.constant().\n",
    "2. Find the shape, rank and size of the tensors you created in 1.\n",
    "3. Create two tensors containing random values between 0 and 1 with shape [5, 300].\n",
    "4. Multiply the two tensors you created in 3 using matrix multiplication.\n",
    "5. Multiply the two tensors you created in 3 using dot product.\n",
    "6. Create a tensor with random values between 0 and 1 with shape [224, 224, 3].\n",
    "7. Find the min and max values of the tensor you created in 6 along the first axis.\n",
    "8. Created a tensor with random values of shape [1, 224, 224, 3] then squeeze it to change the shape to [224, 224, 3].\n",
    "9. Create a tensor with shape [10] using your own choice of values, then find the index which has the maximum value.\n",
    "10. One-hot encode the tensor you created in 9."
   ],
   "metadata": {
    "collapsed": false
   },
   "id": "cbe7c1c301b4150a"
  },
  {
   "cell_type": "code",
   "outputs": [],
   "source": [
    "import tensorflow as tf"
   ],
   "metadata": {
    "collapsed": false,
    "ExecuteTime": {
     "end_time": "2024-03-02T22:45:10.637511900Z",
     "start_time": "2024-03-02T22:44:53.105224700Z"
    }
   },
   "id": "ab48f354f7268163",
   "execution_count": 5
  },
  {
   "cell_type": "markdown",
   "source": [
    "#### 1. Create a vector, scalar, matrix and tensor with values of your choice using tf.constant()."
   ],
   "metadata": {
    "collapsed": false
   },
   "id": "4eb746391b6c2cae"
  },
  {
   "cell_type": "code",
   "outputs": [],
   "source": [
    "s = tf.constant(10)\n",
    "v = tf.constant([7, 10])\n",
    "m = tf.constant([[7, 10],\n",
    "                 [5, 3]])\n",
    "t = tf.constant([[[7, 10],\n",
    "                 [5, 3]],\n",
    "                 [[6, 9],\n",
    "                 [4, 2]]])"
   ],
   "metadata": {
    "collapsed": false,
    "ExecuteTime": {
     "end_time": "2024-03-02T22:46:35.606117400Z",
     "start_time": "2024-03-02T22:46:35.438333200Z"
    }
   },
   "id": "c2a90ee77931917f",
   "execution_count": 6
  },
  {
   "cell_type": "code",
   "outputs": [],
   "source": [
    "def info(ob):\n",
    "    print(f\"DType: {ob.dtype}\\nDimensions: {ob.ndim}\\nType: {type(ob)}\\nShape: {ob.shape}\")"
   ],
   "metadata": {
    "collapsed": false,
    "ExecuteTime": {
     "end_time": "2024-03-02T22:48:55.669448400Z",
     "start_time": "2024-03-02T22:48:55.638449300Z"
    }
   },
   "id": "481a37315ac831f1",
   "execution_count": 9
  },
  {
   "cell_type": "code",
   "outputs": [
    {
     "name": "stdout",
     "output_type": "stream",
     "text": [
      "DType: <dtype: 'int32'>\n",
      "Dimensions: 0\n",
      "Type: <class 'tensorflow.python.framework.ops.EagerTensor'>\n",
      "Shape: ()\n"
     ]
    }
   ],
   "source": [
    "info(s)"
   ],
   "metadata": {
    "collapsed": false,
    "ExecuteTime": {
     "end_time": "2024-03-02T22:48:56.297595300Z",
     "start_time": "2024-03-02T22:48:56.276597600Z"
    }
   },
   "id": "4fdb84280ba30f57",
   "execution_count": 10
  },
  {
   "cell_type": "code",
   "outputs": [
    {
     "name": "stdout",
     "output_type": "stream",
     "text": [
      "DType: <dtype: 'int32'>\n",
      "Dimensions: 1\n",
      "Type: <class 'tensorflow.python.framework.ops.EagerTensor'>\n",
      "Shape: (2,)\n"
     ]
    }
   ],
   "source": [
    "info(v)"
   ],
   "metadata": {
    "collapsed": false,
    "ExecuteTime": {
     "end_time": "2024-03-02T22:49:21.367997800Z",
     "start_time": "2024-03-02T22:49:21.310000700Z"
    }
   },
   "id": "eb83ac2f78fcfbf7",
   "execution_count": 11
  },
  {
   "cell_type": "code",
   "outputs": [
    {
     "name": "stdout",
     "output_type": "stream",
     "text": [
      "DType: <dtype: 'int32'>\n",
      "Dimensions: 2\n",
      "Type: <class 'tensorflow.python.framework.ops.EagerTensor'>\n",
      "Shape: (2, 2)\n"
     ]
    }
   ],
   "source": [
    "info(m)"
   ],
   "metadata": {
    "collapsed": false,
    "ExecuteTime": {
     "end_time": "2024-03-02T22:49:28.777872400Z",
     "start_time": "2024-03-02T22:49:28.721867700Z"
    }
   },
   "id": "29d01022d299b198",
   "execution_count": 12
  },
  {
   "cell_type": "code",
   "outputs": [
    {
     "name": "stdout",
     "output_type": "stream",
     "text": [
      "DType: <dtype: 'int32'>\n",
      "Dimensions: 3\n",
      "Type: <class 'tensorflow.python.framework.ops.EagerTensor'>\n",
      "Shape: (2, 2, 2)\n"
     ]
    }
   ],
   "source": [
    "info(t)"
   ],
   "metadata": {
    "collapsed": false,
    "ExecuteTime": {
     "end_time": "2024-03-02T22:49:35.783119700Z",
     "start_time": "2024-03-02T22:49:35.737079900Z"
    }
   },
   "id": "38de16e59eb526e9",
   "execution_count": 13
  },
  {
   "cell_type": "code",
   "outputs": [],
   "source": [],
   "metadata": {
    "collapsed": false
   },
   "id": "f5a750c0cdd81b0c"
  },
  {
   "cell_type": "markdown",
   "source": [
    "#### 2. Find the shape, rank and size of the tensors you created in 1."
   ],
   "metadata": {
    "collapsed": false
   },
   "id": "65c1efbbdbadf602"
  },
  {
   "cell_type": "code",
   "outputs": [
    {
     "data": {
      "text/plain": "<tf.Tensor: shape=(3,), dtype=int32, numpy=array([2, 2, 2])>"
     },
     "execution_count": 14,
     "metadata": {},
     "output_type": "execute_result"
    }
   ],
   "source": [
    "tf.shape(t)"
   ],
   "metadata": {
    "collapsed": false,
    "ExecuteTime": {
     "end_time": "2024-03-02T23:09:23.602101200Z",
     "start_time": "2024-03-02T23:09:23.531104Z"
    }
   },
   "id": "1d467b422e340e20",
   "execution_count": 14
  },
  {
   "cell_type": "code",
   "outputs": [
    {
     "data": {
      "text/plain": "<tf.Tensor: shape=(), dtype=int32, numpy=3>"
     },
     "execution_count": 15,
     "metadata": {},
     "output_type": "execute_result"
    }
   ],
   "source": [
    "tf.rank(t)"
   ],
   "metadata": {
    "collapsed": false,
    "ExecuteTime": {
     "end_time": "2024-03-02T23:09:32.391926900Z",
     "start_time": "2024-03-02T23:09:32.359931900Z"
    }
   },
   "id": "1bd49c9b27b9fcea",
   "execution_count": 15
  },
  {
   "cell_type": "code",
   "outputs": [
    {
     "data": {
      "text/plain": "<tf.Tensor: shape=(), dtype=int32, numpy=8>"
     },
     "execution_count": 16,
     "metadata": {},
     "output_type": "execute_result"
    }
   ],
   "source": [
    "tf.size(t)"
   ],
   "metadata": {
    "collapsed": false,
    "ExecuteTime": {
     "end_time": "2024-03-02T23:09:39.219466300Z",
     "start_time": "2024-03-02T23:09:39.188421500Z"
    }
   },
   "id": "d505f04a0c6ae05b",
   "execution_count": 16
  },
  {
   "cell_type": "code",
   "outputs": [],
   "source": [],
   "metadata": {
    "collapsed": false
   },
   "id": "5709fd00d901a4b3"
  },
  {
   "cell_type": "code",
   "outputs": [],
   "source": [],
   "metadata": {
    "collapsed": false
   },
   "id": "cc061970a8f5f82b"
  },
  {
   "cell_type": "markdown",
   "source": [
    "#### 3. Create two tensors containing random values between 0 and 1 with shape [5, 300]."
   ],
   "metadata": {
    "collapsed": false
   },
   "id": "13629609b39143d1"
  },
  {
   "cell_type": "code",
   "outputs": [
    {
     "data": {
      "text/plain": "<tf.Tensor: shape=(5, 300), dtype=int32, numpy=\narray([[0, 0, 0, ..., 0, 0, 0],\n       [0, 0, 0, ..., 0, 0, 0],\n       [0, 0, 0, ..., 0, 0, 0],\n       [0, 0, 0, ..., 0, 0, 0],\n       [0, 0, 0, ..., 0, 0, 0]])>"
     },
     "execution_count": 23,
     "metadata": {},
     "output_type": "execute_result"
    }
   ],
   "source": [
    "import numpy as np\n",
    "a = np.arange(0, 1, dtype=np.int32)\n",
    "t1 = tf.constant(a, shape=[5,300])\n",
    "t1"
   ],
   "metadata": {
    "collapsed": false,
    "ExecuteTime": {
     "end_time": "2024-03-02T23:16:33.866261900Z",
     "start_time": "2024-03-02T23:16:33.826262100Z"
    }
   },
   "id": "5b999bcf6e18d22c",
   "execution_count": 23
  },
  {
   "cell_type": "code",
   "outputs": [
    {
     "data": {
      "text/plain": "<tf.Tensor: shape=(5, 300), dtype=int32, numpy=\narray([[0, 0, 0, ..., 0, 0, 0],\n       [0, 0, 0, ..., 0, 0, 0],\n       [0, 0, 0, ..., 0, 0, 0],\n       [0, 0, 0, ..., 0, 0, 0],\n       [0, 0, 0, ..., 0, 0, 0]])>"
     },
     "execution_count": 25,
     "metadata": {},
     "output_type": "execute_result"
    }
   ],
   "source": [
    "b = np.arange(0, 1, dtype=np.int32)\n",
    "t2 = tf.constant(b, shape=[5, 300])\n",
    "t2"
   ],
   "metadata": {
    "collapsed": false,
    "ExecuteTime": {
     "end_time": "2024-03-02T23:17:15.614095200Z",
     "start_time": "2024-03-02T23:17:15.550061900Z"
    }
   },
   "id": "32bd05851dc0d5d",
   "execution_count": 25
  },
  {
   "cell_type": "code",
   "outputs": [],
   "source": [],
   "metadata": {
    "collapsed": false
   },
   "id": "ccf2094c1e59464e"
  },
  {
   "cell_type": "code",
   "outputs": [],
   "source": [],
   "metadata": {
    "collapsed": false
   },
   "id": "df384d37e8d41350"
  },
  {
   "cell_type": "markdown",
   "source": [
    "#### 4. Multiply the two tensors you created in 3 using matrix multiplication."
   ],
   "metadata": {
    "collapsed": false
   },
   "id": "862e3c8869c6f9a9"
  },
  {
   "cell_type": "code",
   "outputs": [
    {
     "data": {
      "text/plain": "<tf.Tensor: shape=(5, 5), dtype=int32, numpy=\narray([[0, 0, 0, 0, 0],\n       [0, 0, 0, 0, 0],\n       [0, 0, 0, 0, 0],\n       [0, 0, 0, 0, 0],\n       [0, 0, 0, 0, 0]])>"
     },
     "execution_count": 27,
     "metadata": {},
     "output_type": "execute_result"
    }
   ],
   "source": [
    "tf.matmul(t1,tf.transpose(t2))"
   ],
   "metadata": {
    "collapsed": false,
    "ExecuteTime": {
     "end_time": "2024-03-02T23:18:04.472454Z",
     "start_time": "2024-03-02T23:18:04.434453500Z"
    }
   },
   "id": "caade505956d6a30",
   "execution_count": 27
  },
  {
   "cell_type": "code",
   "outputs": [
    {
     "data": {
      "text/plain": "<tf.Tensor: shape=(5, 5), dtype=int32, numpy=\narray([[0, 0, 0, 0, 0],\n       [0, 0, 0, 0, 0],\n       [0, 0, 0, 0, 0],\n       [0, 0, 0, 0, 0],\n       [0, 0, 0, 0, 0]])>"
     },
     "execution_count": 28,
     "metadata": {},
     "output_type": "execute_result"
    }
   ],
   "source": [
    "tf.matmul(t1,t2, transpose_a=False, transpose_b=True)"
   ],
   "metadata": {
    "collapsed": false,
    "ExecuteTime": {
     "end_time": "2024-03-02T23:18:46.673189800Z",
     "start_time": "2024-03-02T23:18:46.538055200Z"
    }
   },
   "id": "9a41f1cc5f77f8ce",
   "execution_count": 28
  },
  {
   "cell_type": "code",
   "outputs": [],
   "source": [],
   "metadata": {
    "collapsed": false
   },
   "id": "52bf63a9f3e411af"
  },
  {
   "cell_type": "markdown",
   "source": [
    "#### 5. Multiply the two tensors you created in 3 using dot product."
   ],
   "metadata": {
    "collapsed": false
   },
   "id": "89de2bf9dc417d7a"
  },
  {
   "cell_type": "code",
   "outputs": [
    {
     "data": {
      "text/plain": "<tf.Tensor: shape=(5, 5), dtype=int32, numpy=\narray([[0, 0, 0, 0, 0],\n       [0, 0, 0, 0, 0],\n       [0, 0, 0, 0, 0],\n       [0, 0, 0, 0, 0],\n       [0, 0, 0, 0, 0]])>"
     },
     "execution_count": 33,
     "metadata": {},
     "output_type": "execute_result"
    }
   ],
   "source": [
    "tf.tensordot(t1, tf.transpose(t2), axes=1)"
   ],
   "metadata": {
    "collapsed": false,
    "ExecuteTime": {
     "end_time": "2024-03-02T23:20:39.311012100Z",
     "start_time": "2024-03-02T23:20:39.265017200Z"
    }
   },
   "id": "3617fe294c78ffac",
   "execution_count": 33
  },
  {
   "cell_type": "markdown",
   "source": [
    "#### 6. Create a tensor with random values between 0 and 1 with shape [224, 224, 3]."
   ],
   "metadata": {
    "collapsed": false
   },
   "id": "3b9d602965283cfc"
  },
  {
   "cell_type": "code",
   "outputs": [
    {
     "data": {
      "text/plain": "<tf.Tensor: shape=(224, 224, 4), dtype=int32, numpy=\narray([[[0, 0, 0, 0],\n        [0, 0, 0, 0],\n        [0, 0, 0, 0],\n        ...,\n        [0, 0, 0, 0],\n        [0, 0, 0, 0],\n        [0, 0, 0, 0]],\n\n       [[0, 0, 0, 0],\n        [0, 0, 0, 0],\n        [0, 0, 0, 0],\n        ...,\n        [0, 0, 0, 0],\n        [0, 0, 0, 0],\n        [0, 0, 0, 0]],\n\n       [[0, 0, 0, 0],\n        [0, 0, 0, 0],\n        [0, 0, 0, 0],\n        ...,\n        [0, 0, 0, 0],\n        [0, 0, 0, 0],\n        [0, 0, 0, 0]],\n\n       ...,\n\n       [[0, 0, 0, 0],\n        [0, 0, 0, 0],\n        [0, 0, 0, 0],\n        ...,\n        [0, 0, 0, 0],\n        [0, 0, 0, 0],\n        [0, 0, 0, 0]],\n\n       [[0, 0, 0, 0],\n        [0, 0, 0, 0],\n        [0, 0, 0, 0],\n        ...,\n        [0, 0, 0, 0],\n        [0, 0, 0, 0],\n        [0, 0, 0, 0]],\n\n       [[0, 0, 0, 0],\n        [0, 0, 0, 0],\n        [0, 0, 0, 0],\n        ...,\n        [0, 0, 0, 0],\n        [0, 0, 0, 0],\n        [0, 0, 0, 0]]])>"
     },
     "execution_count": 34,
     "metadata": {},
     "output_type": "execute_result"
    }
   ],
   "source": [
    "x = np.arange(0, 1)\n",
    "t3 = tf.constant(x, shape=[224, 224, 4])\n",
    "t3"
   ],
   "metadata": {
    "collapsed": false,
    "ExecuteTime": {
     "end_time": "2024-03-02T23:27:05.872107400Z",
     "start_time": "2024-03-02T23:27:05.823069200Z"
    }
   },
   "id": "2d3727720076010b",
   "execution_count": 34
  },
  {
   "cell_type": "markdown",
   "source": [
    "#### 7. Find the min and max values of the tensor you created in 6 along the first axis."
   ],
   "metadata": {
    "collapsed": false
   },
   "id": "283aa3e26c859b6d"
  },
  {
   "cell_type": "code",
   "outputs": [
    {
     "data": {
      "text/plain": "(<tf.Tensor: shape=(), dtype=int32, numpy=0>,\n <tf.Tensor: shape=(), dtype=int32, numpy=0>)"
     },
     "execution_count": 36,
     "metadata": {},
     "output_type": "execute_result"
    }
   ],
   "source": [
    "tf.reduce_min(t3), tf.reduce_max(t3)"
   ],
   "metadata": {
    "collapsed": false,
    "ExecuteTime": {
     "end_time": "2024-03-02T23:28:45.904733600Z",
     "start_time": "2024-03-02T23:28:45.859734Z"
    }
   },
   "id": "2179907a42926f93",
   "execution_count": 36
  },
  {
   "cell_type": "markdown",
   "source": [
    "#### 8. Create\n",
    " a tensor with random values of shape [1, 224, 224, 3] then squeeze it to change the shape to [224, 224, 3]."
   ],
   "metadata": {
    "collapsed": false
   },
   "id": "f12eefd9b39413d4"
  },
  {
   "cell_type": "code",
   "outputs": [],
   "source": [
    "y = np.arange(0, 1, dtype=np.float32)\n",
    "t4 = tf.constant(y, shape=[1, 224, 224, 3])"
   ],
   "metadata": {
    "collapsed": false,
    "ExecuteTime": {
     "end_time": "2024-03-02T23:29:56.250455500Z",
     "start_time": "2024-03-02T23:29:56.218417Z"
    }
   },
   "id": "be7ab7496646555e",
   "execution_count": 37
  },
  {
   "cell_type": "code",
   "outputs": [
    {
     "data": {
      "text/plain": "<tf.Tensor: shape=(1, 224, 224, 3), dtype=float32, numpy=\narray([[[[0., 0., 0.],\n         [0., 0., 0.],\n         [0., 0., 0.],\n         ...,\n         [0., 0., 0.],\n         [0., 0., 0.],\n         [0., 0., 0.]],\n\n        [[0., 0., 0.],\n         [0., 0., 0.],\n         [0., 0., 0.],\n         ...,\n         [0., 0., 0.],\n         [0., 0., 0.],\n         [0., 0., 0.]],\n\n        [[0., 0., 0.],\n         [0., 0., 0.],\n         [0., 0., 0.],\n         ...,\n         [0., 0., 0.],\n         [0., 0., 0.],\n         [0., 0., 0.]],\n\n        ...,\n\n        [[0., 0., 0.],\n         [0., 0., 0.],\n         [0., 0., 0.],\n         ...,\n         [0., 0., 0.],\n         [0., 0., 0.],\n         [0., 0., 0.]],\n\n        [[0., 0., 0.],\n         [0., 0., 0.],\n         [0., 0., 0.],\n         ...,\n         [0., 0., 0.],\n         [0., 0., 0.],\n         [0., 0., 0.]],\n\n        [[0., 0., 0.],\n         [0., 0., 0.],\n         [0., 0., 0.],\n         ...,\n         [0., 0., 0.],\n         [0., 0., 0.],\n         [0., 0., 0.]]]], dtype=float32)>"
     },
     "execution_count": 38,
     "metadata": {},
     "output_type": "execute_result"
    }
   ],
   "source": [
    "t4"
   ],
   "metadata": {
    "collapsed": false,
    "ExecuteTime": {
     "end_time": "2024-03-02T23:29:59.016852300Z",
     "start_time": "2024-03-02T23:29:58.990854800Z"
    }
   },
   "id": "9829e7229fe0548c",
   "execution_count": 38
  },
  {
   "cell_type": "code",
   "outputs": [
    {
     "data": {
      "text/plain": "array([[[0., 0., 0.],\n        [0., 0., 0.],\n        [0., 0., 0.],\n        ...,\n        [0., 0., 0.],\n        [0., 0., 0.],\n        [0., 0., 0.]],\n\n       [[0., 0., 0.],\n        [0., 0., 0.],\n        [0., 0., 0.],\n        ...,\n        [0., 0., 0.],\n        [0., 0., 0.],\n        [0., 0., 0.]],\n\n       [[0., 0., 0.],\n        [0., 0., 0.],\n        [0., 0., 0.],\n        ...,\n        [0., 0., 0.],\n        [0., 0., 0.],\n        [0., 0., 0.]],\n\n       ...,\n\n       [[0., 0., 0.],\n        [0., 0., 0.],\n        [0., 0., 0.],\n        ...,\n        [0., 0., 0.],\n        [0., 0., 0.],\n        [0., 0., 0.]],\n\n       [[0., 0., 0.],\n        [0., 0., 0.],\n        [0., 0., 0.],\n        ...,\n        [0., 0., 0.],\n        [0., 0., 0.],\n        [0., 0., 0.]],\n\n       [[0., 0., 0.],\n        [0., 0., 0.],\n        [0., 0., 0.],\n        ...,\n        [0., 0., 0.],\n        [0., 0., 0.],\n        [0., 0., 0.]]], dtype=float32)"
     },
     "execution_count": 39,
     "metadata": {},
     "output_type": "execute_result"
    }
   ],
   "source": [
    "t4_squeezed = tf.squeeze(t4)\n",
    "t4_squeezed.numpy()"
   ],
   "metadata": {
    "collapsed": false,
    "ExecuteTime": {
     "end_time": "2024-03-02T23:31:10.840187200Z",
     "start_time": "2024-03-02T23:31:10.768203900Z"
    }
   },
   "id": "8d4be004f2844b9d",
   "execution_count": 39
  },
  {
   "cell_type": "code",
   "outputs": [
    {
     "data": {
      "text/plain": "(TensorShape([1, 224, 224, 3]), TensorShape([224, 224, 3]))"
     },
     "execution_count": 40,
     "metadata": {},
     "output_type": "execute_result"
    }
   ],
   "source": [
    "t4.shape, t4_squeezed.shape"
   ],
   "metadata": {
    "collapsed": false,
    "ExecuteTime": {
     "end_time": "2024-03-02T23:31:22.918061100Z",
     "start_time": "2024-03-02T23:31:22.863980200Z"
    }
   },
   "id": "f17ca6daf2bab57d",
   "execution_count": 40
  },
  {
   "cell_type": "markdown",
   "source": [
    "#### 9. Create a tensor with shape [10] using your own choice of values, then find the index which has the maximum value."
   ],
   "metadata": {
    "collapsed": false
   },
   "id": "a61669e31e82b0af"
  },
  {
   "cell_type": "code",
   "outputs": [
    {
     "data": {
      "text/plain": "<tf.Tensor: shape=(10,), dtype=float32, numpy=\narray([0.6645621 , 0.44100678, 0.3528825 , 0.46448255, 0.03366041,\n       0.68467236, 0.74011743, 0.8724445 , 0.22632635, 0.22319686],\n      dtype=float32)>"
     },
     "execution_count": 42,
     "metadata": {},
     "output_type": "execute_result"
    }
   ],
   "source": [
    "tf.random.set_seed(42)\n",
    "t5 = tf.random.uniform(shape=[10])\n",
    "t5"
   ],
   "metadata": {
    "collapsed": false,
    "ExecuteTime": {
     "end_time": "2024-03-02T23:34:00.837094700Z",
     "start_time": "2024-03-02T23:34:00.788048300Z"
    }
   },
   "id": "ef65f665f4a73fc9",
   "execution_count": 42
  },
  {
   "cell_type": "code",
   "outputs": [
    {
     "data": {
      "text/plain": "(<tf.Tensor: shape=(), dtype=int64, numpy=4>,\n <tf.Tensor: shape=(), dtype=int64, numpy=7>)"
     },
     "execution_count": 43,
     "metadata": {},
     "output_type": "execute_result"
    }
   ],
   "source": [
    "tf.argmin(t5), tf.argmax(t5)"
   ],
   "metadata": {
    "collapsed": false,
    "ExecuteTime": {
     "end_time": "2024-03-02T23:34:16.057266700Z",
     "start_time": "2024-03-02T23:34:15.991264600Z"
    }
   },
   "id": "9cf63f6feab69690",
   "execution_count": 43
  },
  {
   "cell_type": "code",
   "outputs": [
    {
     "data": {
      "text/plain": "<tf.Tensor: shape=(), dtype=float32, numpy=0.8724445>"
     },
     "execution_count": 45,
     "metadata": {},
     "output_type": "execute_result"
    }
   ],
   "source": [
    "t5[tf.argmax(t5)]"
   ],
   "metadata": {
    "collapsed": false,
    "ExecuteTime": {
     "end_time": "2024-03-02T23:34:42.788880800Z",
     "start_time": "2024-03-02T23:34:42.742847600Z"
    }
   },
   "id": "f94b460ebecd00d8",
   "execution_count": 45
  },
  {
   "cell_type": "markdown",
   "source": [
    "#### 10. One-hot encode the tensor you created in 9."
   ],
   "metadata": {
    "collapsed": false
   },
   "id": "74b87469fc341c6f"
  },
  {
   "cell_type": "code",
   "outputs": [
    {
     "data": {
      "text/plain": "<tf.Tensor: shape=(7, 7), dtype=string, numpy=\narray([[b'ON', b'OFF', b'OFF', b'OFF', b'OFF', b'OFF', b'OFF'],\n       [b'OFF', b'ON', b'OFF', b'OFF', b'OFF', b'OFF', b'OFF'],\n       [b'OFF', b'OFF', b'ON', b'OFF', b'OFF', b'OFF', b'OFF'],\n       [b'OFF', b'OFF', b'OFF', b'ON', b'OFF', b'OFF', b'OFF'],\n       [b'OFF', b'OFF', b'OFF', b'OFF', b'ON', b'OFF', b'OFF'],\n       [b'OFF', b'OFF', b'OFF', b'OFF', b'OFF', b'ON', b'OFF'],\n       [b'OFF', b'OFF', b'OFF', b'OFF', b'OFF', b'OFF', b'ON']],\n      dtype=object)>"
     },
     "execution_count": 51,
     "metadata": {},
     "output_type": "execute_result"
    }
   ],
   "source": [
    "z = tf.range(0, 7)\n",
    "tf.one_hot(z, depth=tf.size(z).numpy(), on_value='ON', off_value='OFF')"
   ],
   "metadata": {
    "collapsed": false,
    "ExecuteTime": {
     "end_time": "2024-03-02T23:38:50.224630Z",
     "start_time": "2024-03-02T23:38:50.193631100Z"
    }
   },
   "id": "d3e7d1655bd332a5",
   "execution_count": 51
  },
  {
   "cell_type": "code",
   "outputs": [
    {
     "data": {
      "text/plain": "<tf.Tensor: shape=(7,), dtype=int32, numpy=array([0, 1, 2, 3, 4, 5, 6])>"
     },
     "execution_count": 52,
     "metadata": {},
     "output_type": "execute_result"
    }
   ],
   "source": [
    "z"
   ],
   "metadata": {
    "collapsed": false,
    "ExecuteTime": {
     "end_time": "2024-03-02T23:38:51.665363200Z",
     "start_time": "2024-03-02T23:38:51.611369500Z"
    }
   },
   "id": "57a47466d71217c2",
   "execution_count": 52
  },
  {
   "cell_type": "code",
   "outputs": [
    {
     "data": {
      "text/plain": "<tf.Variable 'Variable:0' shape=(7,) dtype=int32, numpy=array([3, 4, 5, 6, 7, 8, 9])>"
     },
     "execution_count": 54,
     "metadata": {},
     "output_type": "execute_result"
    }
   ],
   "source": [
    "v1 = tf.Variable(tf.range(3, 10))\n",
    "v1"
   ],
   "metadata": {
    "collapsed": false,
    "ExecuteTime": {
     "end_time": "2024-03-02T23:39:59.778819Z",
     "start_time": "2024-03-02T23:39:59.738823Z"
    }
   },
   "id": "569a97907b0445d1",
   "execution_count": 54
  },
  {
   "cell_type": "code",
   "outputs": [
    {
     "data": {
      "text/plain": "<tf.Tensor: shape=(), dtype=int32, numpy=3>"
     },
     "execution_count": 55,
     "metadata": {},
     "output_type": "execute_result"
    }
   ],
   "source": [
    "v1[0]"
   ],
   "metadata": {
    "collapsed": false,
    "ExecuteTime": {
     "end_time": "2024-03-02T23:40:05.282719300Z",
     "start_time": "2024-03-02T23:40:05.246720100Z"
    }
   },
   "id": "66e21c803f446d86",
   "execution_count": 55
  },
  {
   "cell_type": "code",
   "outputs": [],
   "source": [],
   "metadata": {
    "collapsed": false
   },
   "id": "c7723e08aa25374a"
  }
 ],
 "metadata": {
  "kernelspec": {
   "display_name": "Python 3",
   "language": "python",
   "name": "python3"
  },
  "language_info": {
   "codemirror_mode": {
    "name": "ipython",
    "version": 2
   },
   "file_extension": ".py",
   "mimetype": "text/x-python",
   "name": "python",
   "nbconvert_exporter": "python",
   "pygments_lexer": "ipython2",
   "version": "2.7.6"
  }
 },
 "nbformat": 4,
 "nbformat_minor": 5
}
