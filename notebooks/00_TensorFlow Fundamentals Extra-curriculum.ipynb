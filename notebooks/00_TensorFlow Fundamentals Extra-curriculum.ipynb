{
 "cells": [
  {
   "cell_type": "markdown",
   "source": [
    "# TensorFlow Fundamentals Extra-curriculum"
   ],
   "metadata": {
    "collapsed": false
   },
   "id": "39bf590fc737825c"
  },
  {
   "cell_type": "code",
   "execution_count": 1,
   "id": "initial_id",
   "metadata": {
    "collapsed": true,
    "ExecuteTime": {
     "end_time": "2024-03-02T23:41:56.680712900Z",
     "start_time": "2024-03-02T23:41:51.058010500Z"
    }
   },
   "outputs": [],
   "source": [
    "import tensorflow as tf"
   ]
  },
  {
   "cell_type": "code",
   "outputs": [],
   "source": [
    "minst = tf.keras.datasets.mnist\n",
    "\n",
    "(X_train, y_train), (X_test, y_test) = minst.load_data()\n",
    "X_train, X_test = X_train / 255.0, X_test / 255.0"
   ],
   "metadata": {
    "collapsed": false,
    "ExecuteTime": {
     "end_time": "2024-03-02T23:43:12.240812200Z",
     "start_time": "2024-03-02T23:43:11.523250200Z"
    }
   },
   "id": "c65b6b3bf1b7902d",
   "execution_count": 2
  },
  {
   "cell_type": "code",
   "outputs": [
    {
     "data": {
      "text/plain": "((60000, 28, 28), (60000,), (10000, 28, 28), (10000,))"
     },
     "execution_count": 3,
     "metadata": {},
     "output_type": "execute_result"
    }
   ],
   "source": [
    "X_train.shape, y_train.shape, X_test.shape, y_test.shape"
   ],
   "metadata": {
    "collapsed": false,
    "ExecuteTime": {
     "end_time": "2024-03-02T23:43:26.794245100Z",
     "start_time": "2024-03-02T23:43:26.737249100Z"
    }
   },
   "id": "53ecefc362e92088",
   "execution_count": 3
  },
  {
   "cell_type": "markdown",
   "source": [
    "# Building a machine learning model"
   ],
   "metadata": {
    "collapsed": false
   },
   "id": "d6a2c334f4652bb2"
  },
  {
   "cell_type": "code",
   "outputs": [],
   "source": [
    "model = tf.keras.Sequential([\n",
    "    tf.keras.layers.Flatten(input_shape=(28, 28)),\n",
    "    tf.keras.layers.Dense(128, activation='relu'),\n",
    "    tf.keras.layers.Dropout(0.2),\n",
    "    tf.keras.layers.Dense(10)\n",
    "])"
   ],
   "metadata": {
    "collapsed": false,
    "ExecuteTime": {
     "end_time": "2024-03-02T23:46:08.394301200Z",
     "start_time": "2024-03-02T23:46:08.161304400Z"
    }
   },
   "id": "7038481050c30da",
   "execution_count": 4
  },
  {
   "cell_type": "code",
   "outputs": [
    {
     "data": {
      "text/plain": "array([[-0.09921435, -0.03838586,  0.21896097, -0.11241025,  0.2091459 ,\n        -0.11129639,  0.09896585, -0.696967  , -0.04697626,  0.80599   ]],\n      dtype=float32)"
     },
     "execution_count": 5,
     "metadata": {},
     "output_type": "execute_result"
    }
   ],
   "source": [
    "predictions = model(X_train[:1]).numpy()\n",
    "predictions"
   ],
   "metadata": {
    "collapsed": false,
    "ExecuteTime": {
     "end_time": "2024-03-02T23:46:31.348876500Z",
     "start_time": "2024-03-02T23:46:31.292878700Z"
    }
   },
   "id": "92bb5d7d9f399807",
   "execution_count": 5
  },
  {
   "cell_type": "code",
   "outputs": [
    {
     "data": {
      "text/plain": "array([[0.08285897, 0.0880556 , 0.11389937, 0.08177276, 0.11278692,\n        0.08186389, 0.10102017, 0.04557628, 0.08730241, 0.2048636 ]],\n      dtype=float32)"
     },
     "execution_count": 6,
     "metadata": {},
     "output_type": "execute_result"
    }
   ],
   "source": [
    "tf.nn.softmax(predictions).numpy()"
   ],
   "metadata": {
    "collapsed": false,
    "ExecuteTime": {
     "end_time": "2024-03-02T23:46:54.670347400Z",
     "start_time": "2024-03-02T23:46:54.638351200Z"
    }
   },
   "id": "af055cbebe91e7ad",
   "execution_count": 6
  },
  {
   "cell_type": "code",
   "outputs": [],
   "source": [
    "loss_fn = tf.keras.losses.SparseCategoricalCrossentropy(from_logits=True)"
   ],
   "metadata": {
    "collapsed": false,
    "ExecuteTime": {
     "end_time": "2024-03-02T23:47:58.443260100Z",
     "start_time": "2024-03-02T23:47:58.406260300Z"
    }
   },
   "id": "24932c5e041eab69",
   "execution_count": 7
  },
  {
   "cell_type": "code",
   "outputs": [
    {
     "data": {
      "text/plain": "2.5026972"
     },
     "execution_count": 9,
     "metadata": {},
     "output_type": "execute_result"
    }
   ],
   "source": [
    "loss_fn(y_train[:1], predictions).numpy()"
   ],
   "metadata": {
    "collapsed": false,
    "ExecuteTime": {
     "end_time": "2024-03-02T23:48:37.890026500Z",
     "start_time": "2024-03-02T23:48:37.849024100Z"
    }
   },
   "id": "43698b6228b3682d",
   "execution_count": 9
  },
  {
   "cell_type": "code",
   "outputs": [],
   "source": [
    "model.compile(optimizer='adam',\n",
    "              loss=loss_fn,\n",
    "              metrics=['accuracy'])"
   ],
   "metadata": {
    "collapsed": false,
    "ExecuteTime": {
     "end_time": "2024-03-02T23:49:03.287118Z",
     "start_time": "2024-03-02T23:49:03.232527700Z"
    }
   },
   "id": "75eaaaad0637baad",
   "execution_count": 10
  },
  {
   "cell_type": "code",
   "outputs": [
    {
     "name": "stdout",
     "output_type": "stream",
     "text": [
      "Epoch 1/5\n",
      "1875/1875 [==============================] - 7s 4ms/step - loss: 0.3022 - accuracy: 0.9126\n",
      "Epoch 2/5\n",
      "1875/1875 [==============================] - 6s 3ms/step - loss: 0.1479 - accuracy: 0.9557\n",
      "Epoch 3/5\n",
      "1875/1875 [==============================] - 7s 4ms/step - loss: 0.1113 - accuracy: 0.9665\n",
      "Epoch 4/5\n",
      "1875/1875 [==============================] - 6s 3ms/step - loss: 0.0910 - accuracy: 0.9719\n",
      "Epoch 5/5\n",
      "1875/1875 [==============================] - 6s 3ms/step - loss: 0.0787 - accuracy: 0.9759\n"
     ]
    },
    {
     "data": {
      "text/plain": "<keras.src.callbacks.History at 0x14dcd21b640>"
     },
     "execution_count": 11,
     "metadata": {},
     "output_type": "execute_result"
    }
   ],
   "source": [
    "model.fit(X_train, y_train, epochs=5)"
   ],
   "metadata": {
    "collapsed": false,
    "ExecuteTime": {
     "end_time": "2024-03-02T23:49:49.451749Z",
     "start_time": "2024-03-02T23:49:16.060208200Z"
    }
   },
   "id": "242afc99d08e7776",
   "execution_count": 11
  },
  {
   "cell_type": "code",
   "outputs": [
    {
     "name": "stdout",
     "output_type": "stream",
     "text": [
      "313/313 - 1s - loss: 0.0737 - accuracy: 0.9775 - 901ms/epoch - 3ms/step\n"
     ]
    },
    {
     "data": {
      "text/plain": "[0.07367762178182602, 0.9775000214576721]"
     },
     "execution_count": 12,
     "metadata": {},
     "output_type": "execute_result"
    }
   ],
   "source": [
    "model.evaluate(X_test, y_test, verbose=2)"
   ],
   "metadata": {
    "collapsed": false,
    "ExecuteTime": {
     "end_time": "2024-03-02T23:49:52.134144700Z",
     "start_time": "2024-03-02T23:49:51.057139Z"
    }
   },
   "id": "9346ab1ba46559d7",
   "execution_count": 12
  },
  {
   "cell_type": "code",
   "outputs": [],
   "source": [
    "probability_model = tf.keras.Sequential([\n",
    "    model,\n",
    "    tf.keras.layers.Softmax()\n",
    "])"
   ],
   "metadata": {
    "collapsed": false,
    "ExecuteTime": {
     "end_time": "2024-03-02T23:50:37.760334700Z",
     "start_time": "2024-03-02T23:50:37.709331500Z"
    }
   },
   "id": "7467492bf56f3a99",
   "execution_count": 14
  },
  {
   "cell_type": "code",
   "outputs": [
    {
     "data": {
      "text/plain": "<tf.Tensor: shape=(5, 10), dtype=float32, numpy=\narray([[5.12368032e-08, 5.89867843e-09, 9.93826598e-06, 3.32095602e-04,\n        5.64038469e-11, 2.08784442e-07, 7.22210445e-15, 9.99657035e-01,\n        1.00595003e-07, 4.89636477e-07],\n       [2.24657235e-08, 2.91865988e-04, 9.99705970e-01, 1.85977262e-06,\n        2.43035617e-16, 1.36286658e-07, 6.44418208e-08, 1.80324082e-12,\n        5.71040193e-09, 4.84800207e-16],\n       [1.07747121e-06, 9.99609649e-01, 6.60552905e-05, 1.02946706e-05,\n        9.86460691e-06, 8.30688975e-07, 2.56518324e-05, 1.84586490e-04,\n        9.10745293e-05, 1.07198787e-06],\n       [9.99873042e-01, 1.16582344e-08, 1.11967165e-05, 1.62100875e-07,\n        9.04655124e-08, 9.11805273e-06, 1.03532897e-04, 1.64324092e-06,\n        4.42809078e-09, 1.07026074e-06],\n       [2.07487960e-06, 7.49181073e-09, 3.58161401e-07, 1.25317072e-07,\n        9.98538256e-01, 8.58767066e-08, 3.44436194e-05, 4.86780445e-05,\n        5.06371180e-06, 1.37092348e-03]], dtype=float32)>"
     },
     "execution_count": 15,
     "metadata": {},
     "output_type": "execute_result"
    }
   ],
   "source": [
    "probability_model(X_test[:5])"
   ],
   "metadata": {
    "collapsed": false,
    "ExecuteTime": {
     "end_time": "2024-03-02T23:50:57.087874900Z",
     "start_time": "2024-03-02T23:50:57.036862500Z"
    }
   },
   "id": "8a539e75ab884284",
   "execution_count": 15
  },
  {
   "cell_type": "code",
   "outputs": [],
   "source": [],
   "metadata": {
    "collapsed": false
   },
   "id": "1617e7cee3ec6adb"
  }
 ],
 "metadata": {
  "kernelspec": {
   "display_name": "Python 3",
   "language": "python",
   "name": "python3"
  },
  "language_info": {
   "codemirror_mode": {
    "name": "ipython",
    "version": 2
   },
   "file_extension": ".py",
   "mimetype": "text/x-python",
   "name": "python",
   "nbconvert_exporter": "python",
   "pygments_lexer": "ipython2",
   "version": "2.7.6"
  }
 },
 "nbformat": 4,
 "nbformat_minor": 5
}
