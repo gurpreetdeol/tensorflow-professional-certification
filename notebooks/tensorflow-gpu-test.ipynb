{
 "cells": [
  {
   "cell_type": "code",
   "outputs": [],
   "source": [
    "import os"
   ],
   "metadata": {
    "collapsed": false,
    "ExecuteTime": {
     "end_time": "2024-03-04T00:52:48.212366900Z",
     "start_time": "2024-03-04T00:52:48.152368Z"
    }
   },
   "id": "d862599f05582d57",
   "execution_count": 1
  },
  {
   "cell_type": "code",
   "execution_count": 2,
   "id": "initial_id",
   "metadata": {
    "collapsed": true,
    "ExecuteTime": {
     "end_time": "2024-03-04T00:53:01.683523800Z",
     "start_time": "2024-03-04T00:52:50.334156200Z"
    }
   },
   "outputs": [],
   "source": [
    "import sys\n",
    "import tensorflow as tf\n",
    "import numpy as np\n",
    "import tensorflow"
   ]
  },
  {
   "cell_type": "markdown",
   "source": [
    "# https://machinelearningmastery.com/tensorflow-tutorial-deep-learning-with-tf-keras/"
   ],
   "metadata": {
    "collapsed": false
   },
   "id": "731922e1aa7a94ae"
  },
  {
   "cell_type": "code",
   "outputs": [
    {
     "name": "stdout",
     "output_type": "stream",
     "text": [
      "Tensor Flow Version: 2.13.0\n"
     ]
    }
   ],
   "source": [
    "print(f\"Tensor Flow Version: {tf.__version__}\")"
   ],
   "metadata": {
    "collapsed": false,
    "ExecuteTime": {
     "end_time": "2024-03-04T00:53:03.066893200Z",
     "start_time": "2024-03-04T00:53:02.950888300Z"
    }
   },
   "id": "40033982e730f7a1",
   "execution_count": 3
  },
  {
   "cell_type": "code",
   "outputs": [],
   "source": [
    "# print(f\"Keras Version: {tensorflow.keras.__version__}\")"
   ],
   "metadata": {
    "collapsed": false,
    "ExecuteTime": {
     "end_time": "2024-03-04T00:53:04.390677500Z",
     "start_time": "2024-03-04T00:53:04.302679Z"
    }
   },
   "id": "f387dc5e95bf6619",
   "execution_count": 4
  },
  {
   "cell_type": "code",
   "outputs": [
    {
     "name": "stdout",
     "output_type": "stream",
     "text": [
      "Python 3.9.2 (tags/v3.9.2:1a79785, Feb 19 2021, 13:44:55) [MSC v.1928 64 bit (AMD64)]\n"
     ]
    }
   ],
   "source": [
    "print(f\"Python {sys.version}\")"
   ],
   "metadata": {
    "collapsed": false,
    "ExecuteTime": {
     "end_time": "2024-03-04T00:53:05.680091800Z",
     "start_time": "2024-03-04T00:53:05.634097900Z"
    }
   },
   "id": "a6a07eafc2093b88",
   "execution_count": 5
  },
  {
   "cell_type": "code",
   "outputs": [
    {
     "name": "stdout",
     "output_type": "stream",
     "text": [
      "GPU is NOT AVAILABLE\n"
     ]
    }
   ],
   "source": [
    "gpu = len(tf.config.list_physical_devices('GPU'))>0\n",
    "print(\"GPU is\", \"available\" if gpu else \"NOT AVAILABLE\")"
   ],
   "metadata": {
    "collapsed": false,
    "ExecuteTime": {
     "end_time": "2024-03-04T00:53:08.867954100Z",
     "start_time": "2024-03-04T00:53:08.778940100Z"
    }
   },
   "id": "7dec4951e114a329",
   "execution_count": 6
  },
  {
   "cell_type": "code",
   "outputs": [
    {
     "data": {
      "text/plain": "[]"
     },
     "execution_count": 7,
     "metadata": {},
     "output_type": "execute_result"
    }
   ],
   "source": [
    "tf.config.list_physical_devices('GPU')"
   ],
   "metadata": {
    "collapsed": false,
    "ExecuteTime": {
     "end_time": "2024-03-04T00:53:10.698135600Z",
     "start_time": "2024-03-04T00:53:10.606135400Z"
    }
   },
   "id": "b4c3255567690efd",
   "execution_count": 7
  },
  {
   "cell_type": "code",
   "outputs": [
    {
     "data": {
      "text/plain": "''"
     },
     "execution_count": 8,
     "metadata": {},
     "output_type": "execute_result"
    }
   ],
   "source": [
    "tf.test.gpu_device_name()"
   ],
   "metadata": {
    "collapsed": false,
    "ExecuteTime": {
     "end_time": "2024-03-04T00:53:11.938472300Z",
     "start_time": "2024-03-04T00:53:11.778468300Z"
    }
   },
   "id": "6f68d2d1ff5ecb94",
   "execution_count": 8
  },
  {
   "cell_type": "code",
   "outputs": [
    {
     "data": {
      "text/plain": "[]"
     },
     "execution_count": 9,
     "metadata": {},
     "output_type": "execute_result"
    }
   ],
   "source": [
    "tf.config.list_physical_devices('GPU')"
   ],
   "metadata": {
    "collapsed": false,
    "ExecuteTime": {
     "end_time": "2024-03-04T00:53:12.745468500Z",
     "start_time": "2024-03-04T00:53:12.612468300Z"
    }
   },
   "id": "472d44477cca36c6",
   "execution_count": 9
  },
  {
   "cell_type": "code",
   "outputs": [
    {
     "data": {
      "text/plain": "0"
     },
     "execution_count": 10,
     "metadata": {},
     "output_type": "execute_result"
    }
   ],
   "source": [
    "len(tf.config.list_physical_devices('GPU'))"
   ],
   "metadata": {
    "collapsed": false,
    "ExecuteTime": {
     "end_time": "2024-03-04T00:53:13.614515400Z",
     "start_time": "2024-03-04T00:53:13.515514300Z"
    }
   },
   "id": "d3efa738d6001d15",
   "execution_count": 10
  },
  {
   "cell_type": "code",
   "outputs": [
    {
     "name": "stdout",
     "output_type": "stream",
     "text": [
      "Executing op _EagerConst in device /job:localhost/replica:0/task:0/device:CPU:0\n",
      "Executing op _EagerConst in device /job:localhost/replica:0/task:0/device:CPU:0\n",
      "Executing op MatMul in device /job:localhost/replica:0/task:0/device:CPU:0\n",
      "tf.Tensor(\n",
      "[[22. 28.]\n",
      " [49. 64.]], shape=(2, 2), dtype=float32)\n"
     ]
    }
   ],
   "source": [
    "tf.debugging.set_log_device_placement(True)\n",
    "# Create some tensors\n",
    "a = tf.constant([[1.0, 2.0, 3.0], [4.0, 5.0, 6.0]])\n",
    "b = tf.constant([[1.0, 2.0], [3.0, 4.0], [5.0, 6.0]])\n",
    "c = tf.matmul(a, b)\n",
    "print(c)"
   ],
   "metadata": {
    "collapsed": false,
    "ExecuteTime": {
     "end_time": "2024-03-04T00:53:14.714135Z",
     "start_time": "2024-03-04T00:53:14.433131800Z"
    }
   },
   "id": "683972b9e96c77a1",
   "execution_count": 11
  },
  {
   "cell_type": "code",
   "outputs": [
    {
     "name": "stdout",
     "output_type": "stream",
     "text": [
      "Executing op MatMul in device /job:localhost/replica:0/task:0/device:CPU:0\n"
     ]
    }
   ],
   "source": [
    "tf.debugging.set_log_device_placement(True)\n",
    "# Place tensors on the CPU\n",
    "with tf.device('/device:CPU:0'):\n",
    "  a = tf.constant([[1.0, 2.0, 3.0], [4.0, 5.0, 6.0]])\n",
    "  b = tf.constant([[1.0, 2.0], [3.0, 4.0], [5.0, 6.0]])\n",
    "# Run on the GPU (default)\n",
    "c = tf.matmul(a, b)"
   ],
   "metadata": {
    "collapsed": false,
    "ExecuteTime": {
     "end_time": "2024-03-04T00:53:16.975200300Z",
     "start_time": "2024-03-04T00:53:16.877204Z"
    }
   },
   "id": "39adbc1749c2ad96",
   "execution_count": 12
  },
  {
   "cell_type": "code",
   "outputs": [],
   "source": [
    "# !pip install --upgrade pip"
   ],
   "metadata": {
    "collapsed": false,
    "ExecuteTime": {
     "end_time": "2024-03-04T00:53:23.786086400Z",
     "start_time": "2024-03-04T00:53:23.759094Z"
    }
   },
   "id": "ec3eaf47bafe6f5d",
   "execution_count": 14
  },
  {
   "cell_type": "code",
   "outputs": [],
   "source": [
    "import pandas"
   ],
   "metadata": {
    "collapsed": false,
    "ExecuteTime": {
     "end_time": "2024-03-02T00:13:04.398648800Z",
     "start_time": "2024-03-02T00:13:04.350651Z"
    }
   },
   "id": "4f9abff3037a8532",
   "execution_count": 24
  },
  {
   "cell_type": "code",
   "outputs": [],
   "source": [
    "# # mlp for binary classification\n",
    "# from pandas import read_csv\n",
    "# from sklearn.model_selection import train_test_split\n",
    "# from sklearn.preprocessing import LabelEncoder\n",
    "# from tensorflow.keras import Sequential\n",
    "# from tensorflow.keras.layers import Dense\n",
    "# # load the dataset\n",
    "# path = 'https://raw.githubusercontent.com/jbrownlee/Datasets/master/ionosphere.csv'\n",
    "# df = read_csv(path, header=None)\n",
    "# # split into input and output columns\n",
    "# X, y = df.values[:, :-1], df.values[:, -1]\n",
    "# # ensure all data are floating point values\n",
    "# X = X.astype('float32')\n",
    "# # encode strings to integer\n",
    "# y = LabelEncoder().fit_transform(y)\n",
    "# # split into train and test datasets\n",
    "# X_train, X_test, y_train, y_test = train_test_split(X, y, test_size=0.33)\n",
    "# print(X_train.shape, X_test.shape, y_train.shape, y_test.shape)\n",
    "# # determine the number of input features\n",
    "# n_features = X_train.shape[1]\n",
    "# # define model\n",
    "# model = Sequential()\n",
    "# model.add(Dense(10, activation='relu', kernel_initializer='he_normal', input_shape=(n_features,)))\n",
    "# model.add(Dense(8, activation='relu', kernel_initializer='he_normal'))\n",
    "# model.add(Dense(1, activation='sigmoid'))\n",
    "# # compile the model\n",
    "# model.compile(optimizer='adam', loss='binary_crossentropy', metrics=['accuracy'])\n",
    "# # fit the model\n",
    "# model.fit(X_train, y_train, epochs=150, batch_size=32, verbose=0)\n",
    "# # evaluate the model\n",
    "# loss, acc = model.evaluate(X_test, y_test, verbose=0)\n",
    "# print('Test Accuracy: %.3f' % acc)\n",
    "# # make a prediction\n",
    "# row = [1,0,0.99539,-0.05889,0.85243,0.02306,0.83398,-0.37708,1,0.03760,0.85243,-0.17755,0.59755,-0.44945,0.60536,-0.38223,0.84356,-0.38542,0.58212,-0.32192,0.56971,-0.29674,0.36946,-0.47357,0.56811,-0.51171,0.41078,-0.46168,0.21266,-0.34090,0.42267,-0.54487,0.18641,-0.45300]\n",
    "# yhat = model.predict([row])\n",
    "# print('Predicted: %.3f' % yhat)"
   ],
   "metadata": {
    "collapsed": false,
    "ExecuteTime": {
     "end_time": "2024-03-01T05:36:09.720670500Z",
     "start_time": "2024-03-01T05:36:09.662666900Z"
    }
   },
   "id": "fdb63970271bf9ca",
   "execution_count": 19
  },
  {
   "cell_type": "code",
   "outputs": [],
   "source": [],
   "metadata": {
    "collapsed": false
   },
   "id": "64f3d22a595ed666"
  }
 ],
 "metadata": {
  "kernelspec": {
   "display_name": "Python 3",
   "language": "python",
   "name": "python3"
  },
  "language_info": {
   "codemirror_mode": {
    "name": "ipython",
    "version": 2
   },
   "file_extension": ".py",
   "mimetype": "text/x-python",
   "name": "python",
   "nbconvert_exporter": "python",
   "pygments_lexer": "ipython2",
   "version": "2.7.6"
  }
 },
 "nbformat": 4,
 "nbformat_minor": 5
}
