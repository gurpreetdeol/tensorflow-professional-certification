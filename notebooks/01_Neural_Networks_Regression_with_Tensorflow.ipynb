{
 "cells": [
  {
   "cell_type": "markdown",
   "source": [
    "# Neural Network Regression with TensorFlow"
   ],
   "metadata": {
    "collapsed": false
   },
   "id": "46b8c5cbf8045762"
  },
  {
   "cell_type": "code",
   "outputs": [],
   "source": [
    "import tensorflow as tf"
   ],
   "metadata": {
    "collapsed": false
   },
   "id": "4a93052f7d76dbeb",
   "execution_count": null
  },
  {
   "cell_type": "code",
   "outputs": [],
   "source": [
    "# Import libraries\n",
    "import numpy as np\n",
    "import matplotlib.pyplot as plt"
   ],
   "metadata": {
    "collapsed": false
   },
   "id": "3072a87bffea6154",
   "execution_count": null
  },
  {
   "cell_type": "code",
   "outputs": [],
   "source": [
    "# Create features\n",
    "X = np.array(np.arange(-7.0, 15.0, 3.0))\n",
    "# Create labels\n",
    "y = np.array(np.arange(3.0, 25.0, 3.0))"
   ],
   "metadata": {
    "collapsed": false
   },
   "id": "2ab5174a67156a50",
   "execution_count": null
  },
  {
   "cell_type": "code",
   "outputs": [],
   "source": [
    "X"
   ],
   "metadata": {
    "collapsed": false
   },
   "id": "371bb148bba95223",
   "execution_count": null
  },
  {
   "cell_type": "code",
   "outputs": [],
   "source": [
    "y"
   ],
   "metadata": {
    "collapsed": false
   },
   "id": "f0898a8613ccf9f7",
   "execution_count": null
  },
  {
   "cell_type": "code",
   "outputs": [],
   "source": [
    "plt.scatter(X, y)\n",
    "plt.show()"
   ],
   "metadata": {
    "collapsed": false
   },
   "id": "48f7b01563325049",
   "execution_count": null
  },
  {
   "cell_type": "code",
   "outputs": [],
   "source": [
    "y == X + 10"
   ],
   "metadata": {
    "collapsed": false
   },
   "id": "b9a2d5912a4a3254",
   "execution_count": null
  },
  {
   "cell_type": "code",
   "outputs": [],
   "source": [
    "# Create a demo tensor for our housing price prediction problem\n",
    "house_info = tf.constant(['bedroom', 'bathroom', 'garage'])\n",
    "house_price = tf.constant([939700])\n",
    "house_info, house_price"
   ],
   "metadata": {
    "collapsed": false
   },
   "id": "a3288dff770f0c72",
   "execution_count": null
  },
  {
   "cell_type": "code",
   "outputs": [],
   "source": [
    "X[0], y[0]"
   ],
   "metadata": {
    "collapsed": false
   },
   "id": "e8328f6e8d6a23c4",
   "execution_count": null
  },
  {
   "cell_type": "code",
   "outputs": [],
   "source": [
    "X[1], y[1]"
   ],
   "metadata": {
    "collapsed": false
   },
   "id": "6204c6cbf4645a57",
   "execution_count": null
  },
  {
   "cell_type": "code",
   "outputs": [],
   "source": [
    "input_shape = X[0].shape\n",
    "output_shape = y[0].shape\n",
    "input_shape, output_shape"
   ],
   "metadata": {
    "collapsed": false
   },
   "id": "d45f8390e3d4b725",
   "execution_count": null
  },
  {
   "cell_type": "code",
   "outputs": [],
   "source": [
    "X[0].ndim, y[0].ndim"
   ],
   "metadata": {
    "collapsed": false
   },
   "id": "c7f291a107ad4945",
   "execution_count": null
  },
  {
   "cell_type": "code",
   "outputs": [],
   "source": [
    "# Turn our Numpy arrays into tensors with dtype float32\n",
    "X = tf.cast(tf.constant(X), dtype=tf.float32)\n",
    "y = tf.cast(tf.constant(y), dtype=tf.float32)\n",
    "X, y"
   ],
   "metadata": {
    "collapsed": false
   },
   "id": "86357c257d0424b0",
   "execution_count": null
  },
  {
   "cell_type": "code",
   "outputs": [],
   "source": [
    "input_shape = X[0].shape\n",
    "output_shape = y[0].shape\n",
    "input_shape, output_shape"
   ],
   "metadata": {
    "collapsed": false
   },
   "id": "5c5efc68345fd2a5",
   "execution_count": null
  },
  {
   "cell_type": "code",
   "outputs": [],
   "source": [
    "plt.scatter(X, y)"
   ],
   "metadata": {
    "collapsed": false
   },
   "id": "80b1f29d920f5782",
   "execution_count": null
  },
  {
   "cell_type": "markdown",
   "source": [
    "## Steps in modeling with TensorFlow\n",
    "\n",
    "1. Create a model - define the input and output layers, as well as the hidden layers of a deep learning model.\n",
    "2. Compiling a model - define the \n",
    "    *loss function* (in other words, the function which tells the our model how wrong it is), the\n",
    "    *optimizer* (tells our model how to improve the patterns its learning) and \n",
    "    *evaluation metrics* (what we can use to interpret the performance of our model). \n",
    "3. Fitting a model - letting the model try to find patterns between X and y (features and labels)."
   ],
   "metadata": {
    "collapsed": false
   },
   "id": "68789c9d3b4e36c6"
  },
  {
   "cell_type": "markdown",
   "source": [
    "### 1. Creating a model"
   ],
   "metadata": {
    "collapsed": false
   },
   "id": "1daa8feccdffa2c7"
  },
  {
   "cell_type": "code",
   "outputs": [],
   "source": [
    "# Set random seed\n",
    "tf.random.set_seed(42)\n",
    "\n",
    "# Create a model using the Sequential API\n",
    "model = tf.keras.Sequential([\n",
    "    tf.keras.layers.Dense(1)\n",
    "])\n",
    "\n",
    "# Compile the model\n",
    "model.compile(loss=tf.keras.losses.mae,\n",
    "              optimizer=tf.keras.optimizers.SGD(),\n",
    "              metrics=['mae'])\n",
    "\n",
    "# Fit the model\n",
    "model.fit(tf.expand_dims(X, axis=-1), y, epochs=5)"
   ],
   "metadata": {
    "collapsed": false
   },
   "id": "79ec371ef44470dd",
   "execution_count": null
  },
  {
   "cell_type": "code",
   "outputs": [],
   "source": [
    "# Check X and Y\n",
    "X, y"
   ],
   "metadata": {
    "collapsed": false
   },
   "id": "85e3fb8201877b5b",
   "execution_count": null
  },
  {
   "cell_type": "code",
   "outputs": [],
   "source": [
    "# # Set random seed\n",
    "# tf.random.set_seed(42)\n",
    "# \n",
    "# # Create a model using the Sequential API\n",
    "# model = tf.keras.Sequential([\n",
    "#         tf.keras.layers.Dense(1)\n",
    "# ])\n",
    "# \n",
    "# # Compile the model\n",
    "# model.compile(loss=tf.keras.losses.mae,\n",
    "#               optimizer=tf.keras.optimizers.SGD(),\n",
    "#               metrics=['mae'])\n",
    "# \n",
    "# # Fit the model\n",
    "# model.fit(tf.expand_dims(X, axis=-1), y, epochs=1360)"
   ],
   "metadata": {
    "collapsed": false
   },
   "id": "da241acf879099da",
   "execution_count": null
  },
  {
   "cell_type": "code",
   "outputs": [],
   "source": [
    "# Try and make prediction using our model\n",
    "model.predict([17.0])"
   ],
   "metadata": {
    "collapsed": false
   },
   "id": "50ac232281225b50",
   "execution_count": null
  },
  {
   "cell_type": "code",
   "outputs": [],
   "source": [],
   "metadata": {
    "collapsed": false
   },
   "id": "b8e0c7edd06aaeab",
   "execution_count": null
  },
  {
   "cell_type": "markdown",
   "source": [
    "## Improve the model\n",
    "\n",
    "##### We can improve our model, by altering the steps we took to create a model\n",
    "1. **Creating a model** - Here we might add more layers, increase the number of hidden units (all called neurons) within each of the hidden layers, change the activation function of each layer.\n",
    "2. **Compile a model** - Here we might change the optimization function or perhaps the **learning rate** of the optimization function.\n",
    "3. **Fitting a model** - Here we might fit a model for more epochs (leave it training for longer) or on more data (give the model more examples to learn from)."
   ],
   "metadata": {
    "collapsed": false
   },
   "id": "5a21ce0bf653840a"
  },
  {
   "cell_type": "code",
   "outputs": [],
   "source": [
    "# Let's rebuild the model\n",
    "\n",
    "# 1. Create the model\n",
    "model = tf.keras.Sequential([\n",
    "    tf.keras.layers.Dense(1)\n",
    "])\n",
    "\n",
    "# 2 Compile the model\n",
    "model.compile(loss=tf.keras.losses.mae,\n",
    "              optimizer=tf.keras.optimizers.SGD(),\n",
    "              metrics=[\"mae\"])\n",
    "\n",
    "model.fit(tf.expand_dims(X, axis=1), y, epochs=100)"
   ],
   "metadata": {
    "collapsed": false
   },
   "id": "7917286e74cb4062",
   "execution_count": null
  },
  {
   "cell_type": "code",
   "outputs": [],
   "source": [],
   "metadata": {
    "collapsed": false
   },
   "id": "ea506859626e63a5",
   "execution_count": null
  },
  {
   "cell_type": "code",
   "outputs": [],
   "source": [
    "X, y"
   ],
   "metadata": {
    "collapsed": false
   },
   "id": "ffbb9b246db96d38",
   "execution_count": null
  },
  {
   "cell_type": "code",
   "outputs": [],
   "source": [
    "# Let's see if our model prediction has improved\n",
    "model.predict([17.0])"
   ],
   "metadata": {
    "collapsed": false
   },
   "id": "f9b09f65a261427f",
   "execution_count": null
  },
  {
   "cell_type": "code",
   "outputs": [],
   "source": [],
   "metadata": {
    "collapsed": false
   },
   "id": "ef703b5d2376aae0",
   "execution_count": null
  },
  {
   "cell_type": "code",
   "outputs": [],
   "source": [
    "# Create a model (specified to your problem\n",
    "model = tf.keras.Sequential([\n",
    "    tf.keras.layers.Dense(50, activation=None),  # 3.6542\n",
    "    # tf.keras.layers.Dense(100, activation=tf.keras.activations.relu), # 3.4733\n",
    "    # tf.keras.layers.Dense(100, activation=tf.keras.activations.relu), # 3.1661\n",
    "    # tf.keras.layers.Dense(100, activation=tf.keras.activations.relu), # 3.7882 \n",
    "    tf.keras.layers.Dense(1)\n",
    "])\n",
    "\n",
    "# Compile the model\n",
    "model.compile(loss=tf.keras.losses.mae,\n",
    "              optimizer=tf.keras.optimizers.Adam(learning_rate=0.01),\n",
    "              metrics=[\"mae\"])\n",
    "\n",
    "model.fit(tf.expand_dims(X, axis=1), y, epochs=500)"
   ],
   "metadata": {
    "collapsed": false
   },
   "id": "daf3481f6f52e49e",
   "execution_count": null
  },
  {
   "cell_type": "code",
   "outputs": [],
   "source": [
    "# Let's remind X and y\n",
    "X, y"
   ],
   "metadata": {
    "collapsed": false
   },
   "id": "d6339c36161d8b39",
   "execution_count": null
  },
  {
   "cell_type": "code",
   "outputs": [],
   "source": [
    "model.predict([17.0])"
   ],
   "metadata": {
    "collapsed": false
   },
   "id": "f64ed9bbfaaf2ca8",
   "execution_count": null
  },
  {
   "cell_type": "code",
   "outputs": [],
   "source": [],
   "metadata": {
    "collapsed": false
   },
   "id": "be0d08d53e99f8a6",
   "execution_count": null
  },
  {
   "cell_type": "markdown",
   "source": [
    "## Evaluating the model\n",
    "\n",
    "In practice, a typical workflow you will gop through when building neural networks is:\n",
    "\n",
    "##### Build a model -> fit it -> evaluate it -> tweak a model -> fit it -> evaluate it -> tweak a model -> fit it -> evaluate it."
   ],
   "metadata": {
    "collapsed": false
   },
   "id": "7636d8e8959e724a"
  },
  {
   "cell_type": "markdown",
   "source": [
    "##### When it comes to evaluation... There are 3 words you should memorize :\n",
    "\n",
    "> \"Visualize, visualize, visualize\"\n",
    "\n",
    "It's a good idea to visualize:\n",
    "* The data - What data are we working with? What does it look like?\n",
    "* The model itself - What does our model look like?\n",
    "* The training of a model - How does a model perform while it learns?\n",
    "* The predictions of the model - How do the predictions of a model line up against the ground truth (the original labels)?"
   ],
   "metadata": {
    "collapsed": false
   },
   "id": "1becfcaf4d66d34b"
  },
  {
   "cell_type": "code",
   "outputs": [],
   "source": [
    "# Make a bigger dataset\n",
    "X = tf.range(-100, 100, 4)\n",
    "X"
   ],
   "metadata": {
    "collapsed": false
   },
   "id": "59eb7697bb09a76c",
   "execution_count": null
  },
  {
   "cell_type": "code",
   "outputs": [],
   "source": [
    "# Make labels for the dataset\n",
    "y = X + 10\n",
    "y"
   ],
   "metadata": {
    "collapsed": false
   },
   "id": "cde202a04ceb67da",
   "execution_count": null
  },
  {
   "cell_type": "code",
   "outputs": [],
   "source": [
    "# Visualize the data\n",
    "import matplotlib.pyplot as plt\n",
    "\n",
    "plt.scatter(X, y)\n",
    "plt.show()"
   ],
   "metadata": {
    "collapsed": false
   },
   "id": "fe5009c6b8448068",
   "execution_count": null
  },
  {
   "cell_type": "markdown",
   "source": [
    "## The 3 sets...\n",
    "\n",
    "###### * **Training set** - The model learns from this data, which is typically 70-80% of the total data available.\n",
    "###### * **Validation set** - The mmodel gets tuned on this data, which is typically 10-15% of the total data available.\n",
    "###### * **Test set** - The model gets evaluated on this data to test what it has learned, this set is typically 10-15% of the total data available\n"
   ],
   "metadata": {
    "collapsed": false
   },
   "id": "21a15f486c144c92"
  },
  {
   "cell_type": "code",
   "outputs": [],
   "source": [
    "# Check the length of how many samples we have\n",
    "len(X)"
   ],
   "metadata": {
    "collapsed": false
   },
   "id": "efcf5165ef57caa7",
   "execution_count": null
  },
  {
   "cell_type": "code",
   "outputs": [],
   "source": [
    "# Split the data into train and test sets\n",
    "X_train = X[:40]  # first 40 train samples (80% of the data)\n",
    "y_train = y[:40]\n",
    "X_test = X[40:]  # last 10 are testing samples (20% of the data)\n",
    "y_test = y[40:]\n",
    "\n",
    "len(X_train), len(X_test), len(y_train), len(y_test)"
   ],
   "metadata": {
    "collapsed": false
   },
   "id": "1b8186bdea610ea3",
   "execution_count": null
  },
  {
   "cell_type": "markdown",
   "source": [
    "### Visualizing the data\n",
    "\n",
    "##### Now we've got out data in training and test tests... let's visualize it again!"
   ],
   "metadata": {
    "collapsed": false
   },
   "id": "7606039fface1aba"
  },
  {
   "cell_type": "code",
   "outputs": [],
   "source": [
    "plt.figure(figsize=(10, 7))\n",
    "# Plot training data in blue\n",
    "plt.scatter(X_train, y_train, c='b', label=\"Training data\")  # out model will learn on this data\n",
    "# Plot test data in green\n",
    "plt.scatter(X_test, y_test, c='g',\n",
    "            label=\"Testing data\")  # we want our model to be able to predict this (given X, what's y?)\n",
    "# Show legend\n",
    "plt.legend()\n",
    "plt.show()"
   ],
   "metadata": {
    "collapsed": false
   },
   "id": "2600a9e9d00522e1",
   "execution_count": null
  },
  {
   "cell_type": "code",
   "outputs": [],
   "source": [
    "# Let's have a look at how to build a neural network for our data\n",
    "\n",
    "# 1. Create a model\n",
    "model = tf.keras.Sequential([\n",
    "    tf.keras.layers.Dense(100, activation=tf.keras.activations.relu),\n",
    "    # tf.keras.layers.Dense(100, activation=tf.keras.activations.relu),\n",
    "    tf.keras.layers.Dense(1)\n",
    "])\n",
    "\n",
    "# 2. Compile the model\n",
    "model.compile(loss=tf.keras.losses.mean_absolute_error,\n",
    "              optimizer=tf.keras.optimizers.Adam(learning_rate=0.01),\n",
    "              metrics=[\"mean_absolute_error\"])\n",
    "\n",
    "# 3. fit the model\n",
    "# model.fit(tf.expand_dims(X_train, axis=1), y_train, epochs=100)"
   ],
   "metadata": {
    "collapsed": false
   },
   "id": "76b8973e66d79e46",
   "execution_count": null
  },
  {
   "cell_type": "code",
   "outputs": [],
   "source": [],
   "metadata": {
    "collapsed": false
   },
   "id": "c019587b94948204",
   "execution_count": null
  },
  {
   "cell_type": "code",
   "outputs": [],
   "source": [
    "# Let's create a model which builds automatically by defining the input_shape argument in the first layer.\n",
    "\n",
    "tf.random.set_seed(42)\n",
    "\n",
    "# Create the model**\n",
    "model = tf.keras.Sequential([\n",
    "    tf.keras.layers.Dense(10, input_shape=[1], name=\"input_layer\"),\n",
    "    tf.keras.layers.Dense(1, name=\"output_layer\")\n",
    "], name=\"model_1\")\n",
    "\n",
    "model.compile(loss=tf.keras.losses.mae,\n",
    "              optimizer=tf.keras.optimizers.SGD(),\n",
    "              metrics=[\"mae\"])"
   ],
   "metadata": {
    "collapsed": false
   },
   "id": "c64f02710f8dceb0",
   "execution_count": null
  },
  {
   "cell_type": "markdown",
   "source": [
    "## Visualize a data"
   ],
   "metadata": {
    "collapsed": false
   },
   "id": "8eca4cf1e1a5d83f"
  },
  {
   "cell_type": "code",
   "outputs": [],
   "source": [
    "model.summary()"
   ],
   "metadata": {
    "collapsed": false
   },
   "id": "cb305f807f1b2003",
   "execution_count": null
  },
  {
   "cell_type": "markdown",
   "source": [
    "**Total params:** Total number of parameters in the model.\n",
    "**Trainable params:** These are the parameters (patterns) the model can update as it trains.\n",
    "**Non-trainable params:** These parameters aren't updated during training (this is typical when you bring in aready learn patterns or parameters from other models during **transfer learning**).\n",
    "\n",
    "\n",
    "### Resource\n",
    "\n",
    "**Resource:** For more in-depth overview of the trainable parameters within a layer, check out MIT's introduction to deep learning video.\n",
    "\n",
    "\n",
    "### Excercise\n",
    "\n",
    "**Excercise:** Try playing around with the number of hidden units in the dense layer, see how that effects the number of parameters (total and trainable) by calling `model.summary()`."
   ],
   "metadata": {
    "collapsed": false
   },
   "id": "a45fda4a57e81fde"
  },
  {
   "cell_type": "code",
   "outputs": [],
   "source": [
    "# Let's fit our model to the training data\n",
    "model.fit(X_train, y_train, epochs=100, verbose=1)"
   ],
   "metadata": {
    "collapsed": false
   },
   "id": "4cdb1234e6a45416",
   "execution_count": null
  },
  {
   "cell_type": "code",
   "outputs": [],
   "source": [
    "X_train, y_train"
   ],
   "metadata": {
    "collapsed": false
   },
   "id": "6d2da00923fd5a6b",
   "execution_count": null
  },
  {
   "cell_type": "code",
   "outputs": [],
   "source": [
    "model.summary()"
   ],
   "metadata": {
    "collapsed": false
   },
   "id": "e9008e7dee602396",
   "execution_count": null
  },
  {
   "cell_type": "code",
   "outputs": [],
   "source": [
    "from tensorflow.keras.utils import plot_model\n",
    "\n",
    "try:\n",
    "    plot_model(model=model)\n",
    "except Exception as e:\n",
    "    print(str(e))"
   ],
   "metadata": {
    "collapsed": false
   },
   "id": "fa4fd044fe2c5c8",
   "execution_count": null
  },
  {
   "cell_type": "markdown",
   "source": [
    "### Visualizing our model's predictions\n",
    "\n",
    "To visualize predictions, it's a good idea to plot them against the ground truth labels.\n",
    "\n",
    "Often you'll see this in the form og `y_test` or `y_true` versus `y_pred` (ground truth versus your model's predictions)."
   ],
   "metadata": {
    "collapsed": false
   },
   "id": "6187455c96e1f7fb"
  },
  {
   "cell_type": "code",
   "outputs": [],
   "source": [
    "# Make some predictions\n",
    "y_pred = model.predict(X_test)\n",
    "y_pred"
   ],
   "metadata": {
    "collapsed": false
   },
   "id": "d8e52d846f851e03",
   "execution_count": null
  },
  {
   "cell_type": "code",
   "outputs": [],
   "source": [
    "y_test"
   ],
   "metadata": {
    "collapsed": false
   },
   "id": "8e7f0a7729178e6e",
   "execution_count": null
  },
  {
   "cell_type": "code",
   "outputs": [],
   "source": [],
   "metadata": {
    "collapsed": false
   },
   "id": "b13fbc3a90c2c955",
   "execution_count": null
  },
  {
   "cell_type": "markdown",
   "source": [
    "**Note** If you feel like you're going to reuse some kind of functionality in future, it's good idea to turn into a function"
   ],
   "metadata": {
    "collapsed": false
   },
   "id": "b17129b5d32b8862"
  },
  {
   "cell_type": "code",
   "outputs": [],
   "source": [
    "# Let's create a plotting function\n",
    "def plot_predictions(train_data=X_train, train_labels=y_train, test_data=X_test, test_labels=y_test,\n",
    "                     predictions=y_pred):\n",
    "    \"\"\"Plots training data, test data and compares predictions\"\"\"\n",
    "    plt.figure(figsize=(10, 7))\n",
    "    # Plot training data in blue\n",
    "    plt.scatter(train_data, train_labels, c='b', label=\"Training data\")  # out model will learn on this data\n",
    "    # Plot test data in green\n",
    "    plt.scatter(test_data, test_labels, c='g',\n",
    "                label=\"Testing data\")  # we want our model to be able to predict this (given X, what's y?)\n",
    "    # Plot model's prediction in red\n",
    "    plt.scatter(test_data, predictions, c='r', label=\"Predictions\")\n",
    "    # Show legend\n",
    "    plt.legend()\n",
    "    plt.show()\n"
   ],
   "metadata": {
    "collapsed": false
   },
   "id": "387bed6b99ad83ab",
   "execution_count": null
  },
  {
   "cell_type": "code",
   "outputs": [],
   "source": [
    "plot_predictions(train_data=X_train, \n",
    "                 train_labels=y_train, \n",
    "                 test_data=X_test, \n",
    "                 test_labels=y_test, \n",
    "                 predictions=y_pred)"
   ],
   "metadata": {
    "collapsed": false
   },
   "id": "640f79b4ee04ad1e",
   "execution_count": null
  },
  {
   "cell_type": "markdown",
   "source": [
    "### Evaluating our model's predictions with regression evaluation metrics\n",
    "\n",
    "Depending on the problem you are working on, there will be different evaluation metrics to evaluate your model's performance\n",
    "\n",
    "Since we're working on a regression, two of the main metrics:\n",
    "* **MAE - mean absolute error**, \"on average, how wrong is each of the models' predictions\".\n",
    "* **MSE - mean squared error**, \"square the average errors\""
   ],
   "metadata": {
    "collapsed": false
   },
   "id": "d0a1598615ba28e2"
  },
  {
   "cell_type": "code",
   "outputs": [],
   "source": [
    "# Evaluate the model on the test set\n",
    "model.evaluate(X_test, y_test)"
   ],
   "metadata": {
    "collapsed": false
   },
   "id": "a7db6b9a6dd2e616",
   "execution_count": null
  },
  {
   "cell_type": "code",
   "outputs": [],
   "source": [
    "# Calculate the mean absolute error\n",
    "tf.math.reduce_mean(tf.abs(y_test - y_pred)).numpy()"
   ],
   "metadata": {
    "collapsed": false
   },
   "id": "7c47466012cde7af",
   "execution_count": null
  },
  {
   "cell_type": "code",
   "outputs": [],
   "source": [
    "tf.losses.mean_absolute_error(y_test, y_pred)"
   ],
   "metadata": {
    "collapsed": false
   },
   "id": "ef1de526ea4f5903",
   "execution_count": null
  },
  {
   "cell_type": "code",
   "outputs": [],
   "source": [
    "mae = tf.metrics.mean_absolute_error(y_true=y_test, \n",
    "                                     y_pred=y_pred)\n",
    "mae"
   ],
   "metadata": {
    "collapsed": false
   },
   "id": "2e5e0b2b3a36760f",
   "execution_count": null
  },
  {
   "cell_type": "code",
   "outputs": [],
   "source": [
    "y_test"
   ],
   "metadata": {
    "collapsed": false
   },
   "id": "d65365c94220bb0e",
   "execution_count": null
  },
  {
   "cell_type": "code",
   "outputs": [],
   "source": [
    "y_pred"
   ],
   "metadata": {
    "collapsed": false
   },
   "id": "129736d00caf839d",
   "execution_count": null
  },
  {
   "cell_type": "code",
   "outputs": [],
   "source": [
    "tf.squeeze(y_pred)"
   ],
   "metadata": {
    "collapsed": false
   },
   "id": "709272959a7bd712",
   "execution_count": null
  },
  {
   "cell_type": "code",
   "outputs": [],
   "source": [
    "mae = tf.metrics.mean_absolute_error(y_true=y_test, \n",
    "                                     y_pred=tf.squeeze(y_pred))\n",
    "mae"
   ],
   "metadata": {
    "collapsed": false
   },
   "id": "35d20ec371fe0b9e",
   "execution_count": null
  },
  {
   "cell_type": "markdown",
   "source": [
    "## Calculate the MSE"
   ],
   "metadata": {
    "collapsed": false
   },
   "id": "6603ec1d7424dc92"
  },
  {
   "cell_type": "code",
   "outputs": [],
   "source": [
    "mse = tf.metrics.mean_squared_error(y_true=y_test, y_pred=tf.squeeze(y_pred))\n",
    "mse"
   ],
   "metadata": {
    "collapsed": false
   },
   "id": "ac58f1eac1c38682",
   "execution_count": null
  },
  {
   "cell_type": "code",
   "outputs": [],
   "source": [
    "# Make some functions to reuse MAE and MSE\n",
    "def mae(y_true, y_pred):\n",
    "    return tf.metrics.mean_absolute_error(y_true=y_true, \n",
    "                                          y_pred=tf.squeeze(y_pred))\n",
    "\n",
    "def mse(y_true, y_pred):\n",
    "    return tf.metrics.mean_squared_error(y_true=y_true, \n",
    "                                         y_pred=tf.squeeze(y_pred))"
   ],
   "metadata": {
    "collapsed": false
   },
   "id": "147936ddb4ca7d14",
   "execution_count": null
  },
  {
   "cell_type": "code",
   "outputs": [],
   "source": [],
   "metadata": {
    "collapsed": false
   },
   "id": "1645b357d795be88",
   "execution_count": null
  },
  {
   "cell_type": "markdown",
   "source": [
    "## Running experiments to improve our model\n",
    "\n",
    "##### Build a model -> fit it -> evaluate it -> tweak a model -> fit it -> evaluate it -> tweak a model -> fit it -> evaluate it.\n",
    "\n",
    "1. Get more data - get more examples for your model to train on (more opportunities to learn patterns or relationships between features and labels).\n",
    "2. Make you model larger (using a more complex model) - this might come in the form of more hidden layers or more units in each layer.\n",
    "3. Train for longer - give your model more of a chance to find patterns in the data.  \n",
    "\n",
    "\n",
    "#### Let's do 3 modeling experiments:\n",
    "1. **model_1** - same as the original model, 1 layer, trained for 100 epochs.\n",
    "2. **model_2** - 2 layers, trained for 100 epochs.\n",
    "3. **model_3** - 2 layers, trained for 500 epochs."
   ],
   "metadata": {
    "collapsed": false
   },
   "id": "fe1d0884c6a455e6"
  },
  {
   "cell_type": "code",
   "outputs": [],
   "source": [
    "X_train, y_train"
   ],
   "metadata": {
    "collapsed": false
   },
   "id": "1bfac2297efc0094",
   "execution_count": null
  },
  {
   "cell_type": "markdown",
   "source": [
    "### Build model_1"
   ],
   "metadata": {
    "collapsed": false
   },
   "id": "de6f95a65d7b90ef"
  },
  {
   "cell_type": "code",
   "outputs": [],
   "source": [
    "X_train"
   ],
   "metadata": {
    "collapsed": false
   },
   "id": "dbec6485c93b061",
   "execution_count": null
  },
  {
   "cell_type": "code",
   "outputs": [],
   "source": [
    "y_train"
   ],
   "metadata": {
    "collapsed": false
   },
   "id": "eb8d63804fb005a9",
   "execution_count": null
  },
  {
   "cell_type": "code",
   "outputs": [],
   "source": [
    "# Set random seed\n",
    "tf.random.set_seed(42)\n",
    "\n",
    "# 1. Create the model\n",
    "model_1 = tf.keras.Sequential([\n",
    "    tf.keras.layers.Dense(1)\n",
    "])\n",
    "\n",
    "# 2. Compile the model\n",
    "model_1.compile(loss=tf.keras.losses.mae,\n",
    "                optimizer=tf.keras.optimizers.SGD(),\n",
    "                metrics=['mae'])\n",
    "\n",
    "# 3. Fit the model\n",
    "model_1.fit(tf.expand_dims(X_train, axis=-1), y_train, epochs=100)"
   ],
   "metadata": {
    "collapsed": false
   },
   "id": "e50a4195fd7740ed",
   "execution_count": null
  },
  {
   "cell_type": "code",
   "outputs": [],
   "source": [
    "# Make and plot predictions for model_1\n",
    "y_pred_1 = model_1.predict(X_test)\n",
    "plot_predictions(predictions=y_pred_1)"
   ],
   "metadata": {
    "collapsed": false
   },
   "id": "5aa7b56a434fa34e",
   "execution_count": null
  },
  {
   "cell_type": "code",
   "outputs": [],
   "source": [
    "tf.constant(y_pred_1), tf.squeeze(y_pred_1)"
   ],
   "metadata": {
    "collapsed": false
   },
   "id": "cec8f8353f83de90",
   "execution_count": null
  },
  {
   "cell_type": "code",
   "outputs": [],
   "source": [
    "mae_1 = mae(y_test, y_pred_1)\n",
    "mse_1 = mse(y_test, y_pred_1)\n",
    "mae_1, mse_1"
   ],
   "metadata": {
    "collapsed": false
   },
   "id": "3a23335a0a3eb5c2",
   "execution_count": null
  },
  {
   "cell_type": "markdown",
   "source": [
    "### Build **model_2**"
   ],
   "metadata": {
    "collapsed": false
   },
   "id": "ac06f3cb6185cb66"
  },
  {
   "cell_type": "code",
   "outputs": [],
   "source": [
    "# Model_2 with 2 hidden layers and 100 epochs\n",
    "\n",
    "# Set random seed\n",
    "tf.random.set_seed(42)\n",
    "\n",
    "# 1. Create the model\n",
    "model_2 = tf.keras.Sequential([\n",
    "    tf.keras.layers.Dense(10),\n",
    "    tf.keras.layers.Dense(1)\n",
    "])\n",
    "\n",
    "# 2. Compile the model\n",
    "model_2.compile(loss=tf.keras.losses.mae,\n",
    "                optimizer=tf.keras.optimizers.SGD(),\n",
    "                metrics=['mse'])\n",
    "\n",
    "# 3. Fit the model\n",
    "model_2.fit(tf.expand_dims(X_train, axis=-1), y_train, epochs=100)"
   ],
   "metadata": {
    "collapsed": false
   },
   "id": "822e4681f09f7865",
   "execution_count": null
  },
  {
   "cell_type": "code",
   "outputs": [],
   "source": [
    "y_pred_2 = model_2.predict(X_test)"
   ],
   "metadata": {
    "collapsed": false
   },
   "id": "1257e70cfc5c37ab",
   "execution_count": null
  },
  {
   "cell_type": "code",
   "outputs": [],
   "source": [
    "y_pred_2"
   ],
   "metadata": {
    "collapsed": false
   },
   "id": "498c387b9937c7e1",
   "execution_count": null
  },
  {
   "cell_type": "code",
   "outputs": [],
   "source": [
    "plot_predictions(predictions=y_pred_2)"
   ],
   "metadata": {
    "collapsed": false
   },
   "id": "2d3f4f90033a670",
   "execution_count": null
  },
  {
   "cell_type": "code",
   "outputs": [],
   "source": [
    "# Evaluate model_2\n",
    "mae_2 = mae(y_test, y_pred_2)\n",
    "mse_2 = mse(y_test, y_pred_2)\n",
    "mae_2, mse_2"
   ],
   "metadata": {
    "collapsed": false
   },
   "id": "a062d2cac64a9d65",
   "execution_count": null
  },
  {
   "cell_type": "markdown",
   "source": [
    "## Build model_3 with 2 hidden layers and 500 epochs"
   ],
   "metadata": {
    "collapsed": false
   },
   "id": "c97ca1907cea514b"
  },
  {
   "cell_type": "code",
   "outputs": [],
   "source": [
    "# Set seed\n",
    "tf.random.set_seed(42)\n",
    "\n",
    "# 1. Create a model\n",
    "model_3 = tf.keras.Sequential([\n",
    "    tf.keras.layers.Dense(10),\n",
    "    tf.keras.layers.Dense(1)\n",
    "])\n",
    "\n",
    "model_3.compile(loss=tf.keras.losses.mae,\n",
    "                optimizer=tf.keras.optimizers.SGD(),\n",
    "                metrics=['mae'])\n",
    "\n",
    "model_3.fit(tf.expand_dims(X_train, axis=-1), y_train, epochs=500)"
   ],
   "metadata": {
    "collapsed": false
   },
   "id": "ba9921d4f4c85d49",
   "execution_count": null
  },
  {
   "cell_type": "code",
   "outputs": [],
   "source": [
    "y_pred_3 = model_3.predict(X_test)"
   ],
   "metadata": {
    "collapsed": false
   },
   "id": "39c776bf84b6a6ab",
   "execution_count": null
  },
  {
   "cell_type": "code",
   "outputs": [],
   "source": [
    "plot_predictions(predictions=y_pred_3)"
   ],
   "metadata": {
    "collapsed": false
   },
   "id": "5f62f9d5bf406f4",
   "execution_count": null
  },
  {
   "cell_type": "code",
   "outputs": [],
   "source": [
    "mae_3 = mae(y_test, y_pred_3)\n",
    "mse_3 = mse(y_test, y_pred_3)\n",
    "mae_3, mse_3"
   ],
   "metadata": {
    "collapsed": false
   },
   "id": "e5d2becff9045bd6",
   "execution_count": null
  },
  {
   "cell_type": "markdown",
   "source": [
    "## Comparing the results of our Experiments"
   ],
   "metadata": {
    "collapsed": false
   },
   "id": "55e2c31c6038d5c0"
  },
  {
   "cell_type": "code",
   "outputs": [],
   "source": [
    "# Let's compare our models results using a pandas dataframe\n",
    "import pandas as pd\n",
    "\n",
    "model_results = [['model_1', mae_1.numpy(), mse_1.numpy()],\n",
    "                 ['model_2', mae_2.numpy(), mse_2.numpy()],\n",
    "                 ['model_3', mae_3.numpy(), mse_3.numpy()]]\n",
    "\n",
    "all_results = pd.DataFrame(model_results, columns=[\"Model\",\"MAE\",\"MSE\"])\n",
    "all_results"
   ],
   "metadata": {
    "collapsed": false
   },
   "id": "64333ed99380a4f1",
   "execution_count": null
  },
  {
   "cell_type": "markdown",
   "source": [
    "### Looks like model_2 performed best"
   ],
   "metadata": {
    "collapsed": false
   },
   "id": "b4307abdea870d99"
  },
  {
   "cell_type": "code",
   "outputs": [],
   "source": [
    "model_2.summary()"
   ],
   "metadata": {
    "collapsed": false
   },
   "id": "d49007546abecd59",
   "execution_count": null
  },
  {
   "cell_type": "markdown",
   "source": [
    "#### > Note: One of your main goals should be to minimize the time between your experiments. The more experiments you do, the more things you'll figure out which don't work and in turn, get closer to figuring out what does work. Remember the machine learning practitioner's motto\" \"experiments, experiments, experiments\".\n"
   ],
   "metadata": {
    "collapsed": false
   },
   "id": "fceae79b532df268"
  },
  {
   "cell_type": "markdown",
   "source": [
    "### Resources:\n",
    "\n",
    "**Resource:** As you build more models, you'll want to look into using:\n",
    "* **TensorBoard** - a component of the TensorFlow library to help track modeling experiments.\n",
    "* **Weights & Biases** - a tool for tracking all kind of machine learning experiments (plug straight into TensorBoard) "
   ],
   "metadata": {
    "collapsed": false
   },
   "id": "a9234a41160f20f3"
  },
  {
   "cell_type": "markdown",
   "source": [
    "## Saving our models\n",
    "\n",
    "Saving a model allows us to use them outside of Dev environment ( or wherever they were trained) such as in a web application or mobile app.\n",
    "\n",
    "1. The SaveModel format\n",
    "2. The HDF5 format "
   ],
   "metadata": {
    "collapsed": false
   },
   "id": "34f4620e154546c6"
  },
  {
   "cell_type": "markdown",
   "source": [
    "#### 1. Save model"
   ],
   "metadata": {
    "collapsed": false
   },
   "id": "f853dded5914425f"
  },
  {
   "cell_type": "code",
   "outputs": [],
   "source": [
    "model_2.save(\"model_2_SaveModel_format\")"
   ],
   "metadata": {
    "collapsed": false
   },
   "id": "b280de8782f3ff3",
   "execution_count": null
  },
  {
   "cell_type": "code",
   "outputs": [],
   "source": [
    "### 2. HDF5 (.h5) model file format"
   ],
   "metadata": {
    "collapsed": false
   },
   "id": "7484431972a87289",
   "execution_count": null
  },
  {
   "cell_type": "code",
   "outputs": [],
   "source": [
    "model_2.save(\"model_2_hdf5_format.h5\")"
   ],
   "metadata": {
    "collapsed": false
   },
   "id": "eca49d2ab2427f44",
   "execution_count": null
  },
  {
   "cell_type": "markdown",
   "source": [
    "## Loading the saved model"
   ],
   "metadata": {
    "collapsed": false
   },
   "id": "d13dda9a800c984c"
  },
  {
   "cell_type": "code",
   "outputs": [],
   "source": [
    "model_saved_model = tf.keras.models.load_model(\"model_2_SaveModel_format\")"
   ],
   "metadata": {
    "collapsed": false
   },
   "id": "8581a835e8104221",
   "execution_count": null
  },
  {
   "cell_type": "code",
   "outputs": [],
   "source": [
    "model_saved_model.summary()"
   ],
   "metadata": {
    "collapsed": false
   },
   "id": "2ba0e8b0ea95d44a",
   "execution_count": null
  },
  {
   "cell_type": "code",
   "outputs": [],
   "source": [
    "model_hdf5_model = tf.keras.models.load_model(\"model_2_hdf5_format.h5\")\n",
    "model_hdf5_model.summary()"
   ],
   "metadata": {
    "collapsed": false
   },
   "id": "26b95a96fdd08222",
   "execution_count": null
  },
  {
   "cell_type": "code",
   "outputs": [],
   "source": [],
   "metadata": {
    "collapsed": false
   },
   "id": "9d0df8af12d835f4"
  },
  {
   "cell_type": "code",
   "outputs": [],
   "source": [],
   "metadata": {
    "collapsed": false
   },
   "id": "424649fb777f594d"
  },
  {
   "cell_type": "code",
   "outputs": [],
   "source": [],
   "metadata": {
    "collapsed": false
   },
   "id": "a3efc9e750c1ae2d"
  },
  {
   "cell_type": "code",
   "outputs": [],
   "source": [],
   "metadata": {
    "collapsed": false
   },
   "id": "5213d5a077d37499"
  },
  {
   "cell_type": "code",
   "outputs": [],
   "source": [],
   "metadata": {
    "collapsed": false
   },
   "id": "8d5f9a64b14fcd26"
  }
 ],
 "metadata": {
  "kernelspec": {
   "display_name": "Python 3",
   "language": "python",
   "name": "python3"
  },
  "language_info": {
   "codemirror_mode": {
    "name": "ipython",
    "version": 2
   },
   "file_extension": ".py",
   "mimetype": "text/x-python",
   "name": "python",
   "nbconvert_exporter": "python",
   "pygments_lexer": "ipython2",
   "version": "2.7.6"
  }
 },
 "nbformat": 4,
 "nbformat_minor": 5
}
